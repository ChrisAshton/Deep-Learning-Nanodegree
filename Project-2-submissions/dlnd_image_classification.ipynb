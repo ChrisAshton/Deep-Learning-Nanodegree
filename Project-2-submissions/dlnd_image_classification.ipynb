{
 "cells": [
  {
   "cell_type": "markdown",
   "metadata": {
    "collapsed": true
   },
   "source": [
    "# Image Classification\n",
    "In this project, you'll classify images from the [CIFAR-10 dataset](https://www.cs.toronto.edu/~kriz/cifar.html).  The dataset consists of airplanes, dogs, cats, and other objects. You'll preprocess the images, then train a convolutional neural network on all the samples. The images need to be normalized and the labels need to be one-hot encoded.  You'll get to apply what you learned and build a convolutional, max pooling, dropout, and fully connected layers.  At the end, you'll get to see your neural network's predictions on the sample images.\n",
    "## Get the Data\n",
    "Run the following cell to download the [CIFAR-10 dataset for python](https://www.cs.toronto.edu/~kriz/cifar-10-python.tar.gz)."
   ]
  },
  {
   "cell_type": "code",
   "execution_count": 1,
   "metadata": {},
   "outputs": [
    {
     "name": "stdout",
     "output_type": "stream",
     "text": [
      "All files found!\n"
     ]
    }
   ],
   "source": [
    "\"\"\"\n",
    "DON'T MODIFY ANYTHING IN THIS CELL THAT IS BELOW THIS LINE\n",
    "\"\"\"\n",
    "from urllib.request import urlretrieve\n",
    "from os.path import isfile, isdir\n",
    "from tqdm import tqdm\n",
    "import problem_unittests as tests\n",
    "import tarfile\n",
    "\n",
    "cifar10_dataset_folder_path = 'cifar-10-batches-py'\n",
    "\n",
    "# Use Floyd's cifar-10 dataset if present\n",
    "floyd_cifar10_location = '/input/cifar-10/python.tar.gz'\n",
    "if isfile(floyd_cifar10_location):\n",
    "    tar_gz_path = floyd_cifar10_location\n",
    "else:\n",
    "    tar_gz_path = 'cifar-10-python.tar.gz'\n",
    "\n",
    "class DLProgress(tqdm):\n",
    "    last_block = 0\n",
    "\n",
    "    def hook(self, block_num=1, block_size=1, total_size=None):\n",
    "        self.total = total_size\n",
    "        self.update((block_num - self.last_block) * block_size)\n",
    "        self.last_block = block_num\n",
    "\n",
    "if not isfile(tar_gz_path):\n",
    "    with DLProgress(unit='B', unit_scale=True, miniters=1, desc='CIFAR-10 Dataset') as pbar:\n",
    "        urlretrieve(\n",
    "            'https://www.cs.toronto.edu/~kriz/cifar-10-python.tar.gz',\n",
    "            tar_gz_path,\n",
    "            pbar.hook)\n",
    "\n",
    "if not isdir(cifar10_dataset_folder_path):\n",
    "    with tarfile.open(tar_gz_path) as tar:\n",
    "        tar.extractall()\n",
    "        tar.close()\n",
    "\n",
    "\n",
    "tests.test_folder_path(cifar10_dataset_folder_path)"
   ]
  },
  {
   "cell_type": "markdown",
   "metadata": {},
   "source": [
    "## Explore the Data\n",
    "The dataset is broken into batches to prevent your machine from running out of memory.  The CIFAR-10 dataset consists of 5 batches, named `data_batch_1`, `data_batch_2`, etc.. Each batch contains the labels and images that are one of the following:\n",
    "* airplane\n",
    "* automobile\n",
    "* bird\n",
    "* cat\n",
    "* deer\n",
    "* dog\n",
    "* frog\n",
    "* horse\n",
    "* ship\n",
    "* truck\n",
    "\n",
    "Understanding a dataset is part of making predictions on the data.  Play around with the code cell below by changing the `batch_id` and `sample_id`. The `batch_id` is the id for a batch (1-5). The `sample_id` is the id for a image and label pair in the batch.\n",
    "\n",
    "Ask yourself \"What are all possible labels?\", \"What is the range of values for the image data?\", \"Are the labels in order or random?\".  Answers to questions like these will help you preprocess the data and end up with better predictions."
   ]
  },
  {
   "cell_type": "code",
   "execution_count": 2,
   "metadata": {},
   "outputs": [
    {
     "name": "stdout",
     "output_type": "stream",
     "text": [
      "\n",
      "Stats of batch 1:\n",
      "Samples: 10000\n",
      "Label Counts: {0: 1005, 1: 974, 2: 1032, 3: 1016, 4: 999, 5: 937, 6: 1030, 7: 1001, 8: 1025, 9: 981}\n",
      "First 20 Labels: [6, 9, 9, 4, 1, 1, 2, 7, 8, 3, 4, 7, 7, 2, 9, 9, 9, 3, 2, 6]\n",
      "\n",
      "Example of Image 5:\n",
      "Image - Min Value: 0 Max Value: 252\n",
      "Image - Shape: (32, 32, 3)\n",
      "Label - Label Id: 1 Name: automobile\n"
     ]
    },
    {
     "data": {
      "image/png": "[encoded data removed]",
      "text/plain": [
       "<matplotlib.figure.Figure at 0x7f5ea0f3fcf8>"
      ]
     },
     "metadata": {
      "image/png": {
       "height": 250,
       "width": 253
      }
     },
     "output_type": "display_data"
    }
   ],
   "source": [
    "%matplotlib inline\n",
    "%config InlineBackend.figure_format = 'retina'\n",
    "\n",
    "import helper\n",
    "import numpy as np\n",
    "\n",
    "# Explore the dataset\n",
    "batch_id = 1\n",
    "sample_id = 5\n",
    "helper.display_stats(cifar10_dataset_folder_path, batch_id, sample_id)"
   ]
  },
  {
   "cell_type": "markdown",
   "metadata": {},
   "source": [
    "## Implement Preprocess Functions\n",
    "### Normalize\n",
    "In the cell below, implement the `normalize` function to take in image data, `x`, and return it as a normalized Numpy array. The values should be in the range of 0 to 1, inclusive.  The return object should be the same shape as `x`."
   ]
  },
  {
   "cell_type": "code",
   "execution_count": 3,
   "metadata": {},
   "outputs": [
    {
     "name": "stdout",
     "output_type": "stream",
     "text": [
      "Tests Passed\n"
     ]
    }
   ],
   "source": [
    "def normalize(x):\n",
    "    \"\"\"\n",
    "    Normalize a list of sample image data in the range of 0 to 1\n",
    "    : x: List of image data.  The image shape is (32, 32, 3)\n",
    "    : return: Numpy array of normalize data\n",
    "    \"\"\"\n",
    "    a = 0.1\n",
    "    b = 0.9\n",
    "    Xmin = 0\n",
    "    Xmax = 255\n",
    "    X = x\n",
    "    \n",
    "    return a + (((X - Xmin) * (b - a))/(Xmax - Xmin))\n",
    "\n",
    "\n",
    "\"\"\"\n",
    "DON'T MODIFY ANYTHING IN THIS CELL THAT IS BELOW THIS LINE\n",
    "\"\"\"\n",
    "tests.test_normalize(normalize)"
   ]
  },
  {
   "cell_type": "markdown",
   "metadata": {},
   "source": [
    "### One-hot encode\n",
    "Just like the previous code cell, you'll be implementing a function for preprocessing.  This time, you'll implement the `one_hot_encode` function. The input, `x`, are a list of labels.  Implement the function to return the list of labels as One-Hot encoded Numpy array.  The possible values for labels are 0 to 9. The one-hot encoding function should return the same encoding for each value between each call to `one_hot_encode`.  Make sure to save the map of encodings outside the function.\n",
    "\n",
    "Hint: Don't reinvent the wheel."
   ]
  },
  {
   "cell_type": "code",
   "execution_count": 4,
   "metadata": {},
   "outputs": [
    {
     "name": "stdout",
     "output_type": "stream",
     "text": [
      "[3 0 3 5 4 5 1 0 9 3 6 0 9 2 3 0 6 0 9 4 1 3 8 2 9 7 9 7 3 7 7 5 5 7 6 4 7\n",
      " 9 1 3 9 9 3 6 0 1 4 3 8 3 4 3 6 2 4 6 0 8 2 1 0 6 4 1 2 6 7 4 1 8 6 4 2 5\n",
      " 9 5 2 1 4 6 8 7 8 5 9 4 0 9 6 3 6 2 4 3 5 2 9 5 1 3 3 0 8 6 5 4 0 1 3 3 4\n",
      " 7 5 6 2 1 0 4 2 5 6 5 9 4 1 2 5 8 9 8 8 4 7 8 7 9 9 0 8 2 1 4 8 3 9 7 3 9\n",
      " 7 1 4 0 8 0 6 6 6 7 8 4 1 5 9 6 1 2 5 3 0 8 4 9 2 9 1 4 5 6 0 5 8 1 5 1 0\n",
      " 8 8 2 0 8 6 6 2 0 5 2 4 7 3 9 3 0 1 3 6 5 0 0 1 0 2 3 8 1 4 8 4 7 7 2 8 1\n",
      " 1 1 0 0 8 5 3 9 1 1 8 9 5 9 4 9 3 4 9 3 6 3 8 8 3 3 2 5 3 2 2 7 0 6 4 9 7\n",
      " 9 7 5 7 2 1 9 9 3 6 4 0 6 0 5 5 5 8 9 5 2 0 6 3 5 7 1 9 7 3 1 3 1 7 9 1 1\n",
      " 0 5 4 3 6 7 9 9 6 5 1 8 5 5 3 5 3 3 4 4 2 0 1 6 5 1 0 9 9 4 7 7 1 6 5 4 5\n",
      " 4 8 8 2 5 7 0 0 1 0 3 4 1 6 7 9 8 6 9 4 6 7 6 6 9 8 0 2 0 7 6 0 6 1 2 3 1\n",
      " 3 1 9 6 3 4 9 4 5 4 0 6 8 4 8 9 7 7 4 6 8 1 8 1 4 7 5 0 2 9 7 0 8 0 5 4 0\n",
      " 8 0 2 9 5 1 6 4 3 3 6 1 9 7 9 5 8 6 7 0 7 4 2 9 9 1 2 2 9 2 0 5 3 1 3 2 4\n",
      " 3 1 8 8 5 5 5 7 5 8 4 4 7 6 6 0 6 3 6 5 0 1 6 0 7 8 4 4 1 4 0 0 1 6 6 4 5\n",
      " 9 1 9 5 7 6 6 9 4 7 5 3 2 6 4 2 2 4 2 7 8 7 8 0 9 8 2 5 3 5 6 7 8 2 7 3 3\n",
      " 9 0 7 5 5 7 1 0 5 2 4 4 1 3 9 5 8 8 1 8 1 2 3 4 2 3 6 4 8 5 2 7 2 6 7 2 8\n",
      " 7 3 2 7 7 1 3 4 2 7 3 0 9 3 7 2 0 7 5 8 9 5 2 1 2 2 7 3 7 9 0 7 8 7 4 6 4\n",
      " 6 1 9 5 1 0 7 5 2 3 5 9 9 6 4 2 8 4 3 1 4 2 8 4 9 8 0 5 4 1 9 9 0 2 9 8 3\n",
      " 4 3 2 0 6 9 1 1 7 8 4 1 6 2 2 9 6 2 7 0 7 7 5 8 5 4 2 1 9 4 5 8 0 2 9 3 5\n",
      " 9 8 0 6 3 4 4]\n",
      "[[ 0.  0.  0. ...,  0.  0.  0.]\n",
      " [ 1.  0.  0. ...,  0.  0.  0.]\n",
      " [ 0.  0.  0. ...,  0.  0.  0.]\n",
      " ..., \n",
      " [ 0.  0.  0. ...,  0.  0.  0.]\n",
      " [ 0.  0.  0. ...,  0.  0.  0.]\n",
      " [ 0.  0.  0. ...,  0.  0.  0.]]\n",
      "[0, 9, 2, 7, 7]\n",
      "[[ 1.  0.  0.  0.  0.  0.  0.  0.  0.  0.]\n",
      " [ 0.  0.  0.  0.  0.  0.  0.  0.  0.  1.]\n",
      " [ 0.  0.  1.  0.  0.  0.  0.  0.  0.  0.]\n",
      " [ 0.  0.  0.  0.  0.  0.  0.  1.  0.  0.]\n",
      " [ 0.  0.  0.  0.  0.  0.  0.  1.  0.  0.]]\n",
      "Tests Passed\n"
     ]
    }
   ],
   "source": [
    "# from sklearn.preprocessing import LabelBinarizer\n",
    "\n",
    "def one_hot_encode(x):\n",
    "    \"\"\"\n",
    "    One hot encode a list of sample labels. Return a one-hot encoded vector for each label.\n",
    "    : x: List of sample Labels\n",
    "    : return: Numpy array of one-hot encoded labels\n",
    "    https://discussions.udacity.com/t/about-one-hot-encoding-error/243124/2\n",
    "    Has to be shape(len(x), 10) no matter what\n",
    "    \"\"\"\n",
    "    labels = np.zeros([len(x), 10])\n",
    "    \n",
    "    for i in range(len(x)):\n",
    "        labels[i, x[i]] = 1\n",
    "    print(x)    \n",
    "    print(labels)\n",
    "\n",
    "    return labels\n",
    "\n",
    "\n",
    "\"\"\"\n",
    "DON'T MODIFY ANYTHING IN THIS CELL THAT IS BELOW THIS LINE\n",
    "\"\"\"\n",
    "tests.test_one_hot_encode(one_hot_encode)"
   ]
  },
  {
   "cell_type": "markdown",
   "metadata": {},
   "source": [
    "### Randomize Data\n",
    "As you saw from exploring the data above, the order of the samples are randomized.  It doesn't hurt to randomize it again, but you don't need to for this dataset."
   ]
  },
  {
   "cell_type": "markdown",
   "metadata": {},
   "source": [
    "## Preprocess all the data and save it\n",
    "Running the code cell below will preprocess all the CIFAR-10 data and save it to file. The code below also uses 10% of the training data for validation."
   ]
  },
  {
   "cell_type": "code",
   "execution_count": 5,
   "metadata": {},
   "outputs": [
    {
     "name": "stdout",
     "output_type": "stream",
     "text": [
      "[6, 9, 9, 4, 1, 1, 2, 7, 8, 3, 4, 7, 7, 2, 9, 9, 9, 3, 2, 6, 4, 3, 6, 6, 2, 6, 3, 5, 4, 0, 0, 9, 1, 3, 4, 0, 3, 7, 3, 3, 5, 2, 2, 7, 1, 1, 1, 2, 2, 0, 9, 5, 7, 9, 2, 2, 5, 2, 4, 3, 1, 1, 8, 2, 1, 1, 4, 9, 7, 8, 5, 9, 6, 7, 3, 1, 9, 0, 3, 1, 3, 5, 4, 5, 7, 7, 4, 7, 9, 4, 2, 3, 8, 0, 1, 6, 1, 1, 4, 1, 8, 3, 9, 6, 6, 1, 8, 5, 2, 9, 9, 8, 1, 7, 7, 0, 0, 6, 9, 1, 2, 2, 9, 2, 6, 6, 1, 9, 5, 0, 4, 7, 6, 7, 1, 8, 1, 1, 2, 8, 1, 3, 3, 6, 2, 4, 9, 9, 5, 4, 3, 6, 7, 4, 6, 8, 5, 5, 4, 3, 1, 8, 4, 7, 6, 0, 9, 5, 1, 3, 8, 2, 7, 5, 3, 4, 1, 5, 7, 0, 4, 7, 5, 5, 1, 0, 9, 6, 9, 0, 8, 7, 8, 8, 2, 5, 2, 3, 5, 0, 6, 1, 9, 3, 6, 9, 1, 3, 9, 6, 6, 7, 1, 0, 9, 5, 8, 5, 2, 9, 0, 8, 8, 0, 6, 9, 1, 1, 6, 3, 7, 6, 6, 0, 6, 6, 1, 7, 1, 5, 8, 3, 6, 6, 8, 6, 8, 4, 6, 6, 1, 3, 8, 3, 4, 1, 7, 1, 3, 8, 5, 1, 1, 4, 0, 9, 3, 7, 4, 9, 9, 2, 4, 9, 9, 1, 0, 5, 9, 0, 8, 2, 1, 2, 0, 5, 6, 3, 2, 7, 8, 8, 6, 0, 7, 9, 4, 5, 6, 4, 2, 1, 1, 2, 1, 5, 9, 9, 0, 8, 4, 1, 1, 6, 3, 3, 9, 0, 7, 9, 7, 7, 9, 1, 5, 1, 6, 6, 8, 7, 1, 3, 0, 3, 3, 2, 4, 5, 7, 5, 9, 0, 3, 4, 0, 4, 4, 6, 0, 0, 6, 6, 0, 8, 1, 6, 2, 9, 2, 5, 9, 6, 7, 4, 1, 8, 7, 3, 6, 9, 3, 0, 4, 0, 5, 1, 0, 3, 4, 8, 5, 4, 7, 2, 3, 9, 7, 6, 7, 1, 4, 7, 0, 1, 7, 3, 1, 8, 4, 4, 2, 0, 2, 2, 0, 0, 9, 0, 9, 6, 8, 2, 7, 7, 4, 0, 3, 0, 8, 9, 4, 2, 7, 2, 5, 2, 5, 1, 9, 4, 8, 5, 1, 7, 4, 4, 0, 6, 9, 0, 7, 8, 8, 9, 9, 3, 3, 4, 0, 4, 5, 6, 6, 0, 1, 0, 8, 0, 4, 8, 8, 1, 5, 2, 6, 8, 1, 0, 0, 7, 7, 5, 9, 6, 2, 8, 3, 4, 7, 3, 9, 0, 1, 2, 4, 8, 1, 8, 6, 4, 4, 5, 7, 1, 3, 9, 8, 0, 1, 7, 5, 8, 2, 8, 0, 4, 1, 8, 9, 8, 2, 9, 9, 2, 7, 5, 7, 3, 8, 8, 4, 4, 2, 7, 1, 6, 4, 0, 4, 6, 9, 7, 6, 2, 5, 5, 1, 7, 2, 2, 2, 9, 5, 4, 2, 7, 8, 1, 3, 4, 3, 7, 6, 9, 8, 0, 6, 0, 2, 2, 2, 1, 8, 4, 0, 1, 8, 8, 1, 5, 7, 6, 4, 5, 8, 7, 1, 9, 1, 9, 8, 4, 7, 3, 8, 8, 2, 6, 6, 7, 1, 6, 8, 1, 9, 7, 8, 3, 0, 1, 0, 8, 8, 3, 0, 0, 1, 5, 0, 8, 8, 7, 9, 9, 0, 9, 4, 1, 3, 6, 6, 4, 4, 7, 5, 6, 0, 8, 0, 3, 2, 8, 4, 6, 9, 9, 7, 0, 3, 3, 6, 7, 4, 9, 1, 6, 2, 7, 2, 2, 0, 6, 7, 5, 7, 6, 8, 9, 0, 9, 4, 4, 7, 0, 9, 4, 9, 6, 9, 4, 5, 7, 9, 2, 4, 5, 1, 4, 3, 9, 6, 5, 6, 9, 3, 3, 5, 0, 7, 2, 1, 3, 6, 4, 0, 0, 2, 5, 0, 1, 0, 2, 3, 9, 8, 4, 9, 8, 0, 2, 6, 4, 4, 0, 1, 8, 8, 3, 6, 9, 6, 6, 7, 8, 2, 4, 5, 7, 6, 5, 3, 0, 5, 0, 5, 0, 8, 2, 6, 7, 3, 8, 2, 1, 7, 6, 7, 1, 0, 9, 5, 5, 0, 1, 7, 6, 9, 0, 4, 7, 7, 1, 5, 9, 4, 0, 8, 5, 9, 9, 6, 7, 1, 8, 3, 2, 3, 8, 2, 2, 4, 6, 0, 0, 5, 3, 8, 2, 3, 7, 2, 9, 3, 8, 7, 8, 2, 7, 9, 0, 2, 3, 2, 2, 2, 3, 3, 6, 2, 3, 2, 8, 0, 5, 5, 1, 4, 5, 6, 6, 2, 7, 0, 1, 7, 7, 8, 2, 9, 2, 2, 4, 2, 1, 1, 1, 6, 6, 6, 5, 1, 1, 7, 0, 4, 3, 3, 7, 1, 2, 3, 5, 5, 5, 6, 1, 4, 3, 7, 8, 8, 3, 6, 6, 2, 3, 0, 9, 4, 3, 8, 0, 0, 1, 1, 5, 4, 9, 3, 1, 8, 9, 3, 9, 9, 2, 9, 4, 8, 2, 9, 8, 8, 1, 5, 3, 6, 8, 7, 6, 9, 8, 0, 6, 4, 0, 0, 2, 5, 8, 2, 0, 2, 7, 6, 9, 7, 1, 5, 5, 6, 6, 3, 6, 2, 4, 7, 0, 5, 6, 4, 6, 5, 2, 4, 6, 1, 6, 0, 4, 0, 3, 1, 8, 5, 4, 4, 1, 7, 3, 9, 4, 7, 9, 7, 3, 7, 2, 8, 4, 6, 6, 1, 2, 9, 0, 4, 8, 7, 3, 9, 8, 7, 7, 0, 2, 4, 1, 1, 4, 1, 5, 4, 0, 5, 6, 2, 8, 5, 0, 2, 1, 3, 5, 7, 3, 5, 1, 3, 5, 9, 4, 3, 2, 4, 4, 1, 4, 2, 2, 3, 8, 0, 6, 8, 5, 6, 6, 4, 7, 1, 1, 4, 6, 2, 3, 9, 6, 9, 1, 3, 6, 8, 5, 9, 6, 8, 1, 6, 0, 2, 3, 7, 9, 0, 9, 7, 6, 3, 9, 2, 6, 1, 6, 7, 3, 8, 3, 8, 3, 8, 5, 9, 6, 1, 2, 5, 2, 1, 4, 3, 7, 5, 9, 3, 9, 3, 2, 9, 1, 8, 5, 9, 7, 2, 6, 0, 8, 5, 7, 1, 5, 8, 5, 7, 1, 5, 0, 3, 9, 3, 6, 9, 1, 3, 9, 8, 2, 2, 3, 2, 5, 9, 7, 9, 9, 8, 9, 7, 0, 3, 3, 2, 0, 3, 7, 6, 3, 3, 2, 0, 6, 6, 5, 5, 7, 5, 9, 8, 2, 9, 8, 0, 4, 0, 1, 2, 0, 4, 7, 3, 8, 5, 1, 6, 6, 5, 5, 4, 6, 3, 6, 8, 2, 3, 7, 0, 7, 0, 4, 1, 9, 5, 7, 8, 6, 6, 8, 0, 7, 2, 8, 4, 8, 2, 0, 9, 0, 0, 2, 9, 6, 6, 5, 6, 0, 3, 7, 5, 5, 7, 9, 3, 4, 5, 0, 5, 2, 3, 2, 6, 0, 4, 9, 0, 7, 0, 9, 7, 2, 6, 4, 6, 9, 5, 4, 7, 0, 6, 8, 8, 9, 9, 9, 0, 9, 8, 6, 4, 8, 1, 9, 1, 0, 5, 8, 6, 9, 6, 0, 8, 1, 3, 9, 4, 8, 4, 3, 2, 6, 0, 8, 9, 9, 4, 3, 0, 2, 4, 4, 0, 3, 5, 7, 5, 7, 7, 9, 0, 9, 5, 3, 8, 2, 4, 2, 3, 1, 2, 8, 9, 2, 8, 1, 4, 2, 0, 4, 5, 4, 8, 1, 7, 4, 1, 1, 0, 2, 7, 7, 4, 4, 4, 4, 8, 4, 3, 6, 6, 0, 1, 3, 9, 8, 4, 8, 9, 6, 2, 0, 5, 5, 9, 4, 2, 0, 8, 8, 0, 4, 0, 7, 6, 9, 5, 3, 5, 4, 4, 4, 4, 3, 7, 9, 2, 5, 1, 8, 3, 2, 6, 9, 6, 3, 1, 7, 4, 6, 3, 7, 8, 6, 2, 4, 6, 8, 0, 1, 9, 9, 1, 0, 0, 8, 9, 4, 7, 4, 4, 1, 9, 8, 8, 6, 1, 7, 4, 8, 8, 8, 0, 5, 6, 6, 8, 3, 4, 4, 1, 2, 1, 5, 7, 1, 7, 2, 8, 5, 9, 5, 6, 1, 9, 5, 0, 4, 3, 3, 0, 8, 2, 8, 0, 9, 0, 4, 6, 9, 2, 8, 2, 7, 7, 2, 2, 7, 1, 6, 1, 3, 4, 4, 8, 6, 0, 1, 9, 4, 2, 7, 5, 3, 9, 0, 1, 9, 0, 9, 8, 7, 0, 4, 9, 0, 5, 2, 1, 0, 2, 8, 8, 0, 5, 7, 6, 6, 5, 3, 7, 7, 7, 4, 2, 0, 1, 7, 3, 2, 7, 3, 2, 2, 1, 5, 9, 9, 8, 0, 8, 4, 3, 3, 8, 5, 0, 8, 4, 5, 7, 5, 1, 5, 0, 2, 0, 5, 4, 2, 3, 6, 2, 6, 2, 2, 3, 4, 6, 6, 5, 3, 0, 1, 2, 7, 7, 5, 3, 1, 1, 7, 6, 1, 6, 3, 3, 3, 3, 4, 8, 1, 0, 7, 7, 6, 8, 1, 2, 5, 3, 4, 1, 1, 9, 3, 1, 4, 2, 7, 1, 6, 5, 7, 7, 7, 6, 6, 1, 9, 5, 0, 9, 5, 7, 0, 0, 4, 6, 8, 0, 1, 5, 0, 9, 3, 1, 1, 2, 0, 3, 2, 9, 1, 9, 6, 2, 4, 8, 8, 5, 9, 2, 1, 9, 4, 4, 3, 0, 6, 6, 0, 4, 1, 0, 9, 5, 6, 5, 6, 9, 4, 4, 2, 6, 8, 4, 7, 6, 5, 9, 8, 7, 1, 9, 5, 4, 3, 5, 4, 3, 4, 1, 5, 5, 4, 0, 8, 4, 4, 0, 9, 2, 8, 9, 8, 0, 2, 2, 2, 6, 7, 8, 1, 9, 8, 0, 3, 8, 6, 8, 1, 6, 5, 4, 2, 1, 4, 3, 9, 7, 8, 3, 0, 8, 3, 4, 2, 9, 1, 0, 0, 3, 0, 4, 5, 9, 0, 7, 5, 9, 5, 8, 8, 6, 3, 1, 9, 5, 2, 4, 7, 6, 1, 8, 6, 9, 3, 1, 3, 7, 4, 0, 6, 7, 6, 9, 2, 4, 1, 9, 8, 5, 8, 2, 2, 5, 0, 2, 0, 7, 0, 6, 6, 4, 8, 7, 9, 6, 9, 2, 3, 8, 8, 3, 9, 9, 8, 7, 2, 3, 5, 5, 1, 8, 7, 4, 3, 5, 2, 2, 2, 1, 4, 2, 2, 8, 4, 9, 8, 2, 1, 2, 5, 6, 3, 4, 5, 7, 6, 7, 6, 5, 0, 2, 4, 4, 3, 0, 4, 2, 6, 1, 8, 8, 3, 0, 7, 4, 9, 7, 9, 2, 0, 4, 7, 3, 7, 6, 6, 2, 3, 7, 3, 6, 8, 2, 3, 3, 5, 5, 5, 2, 4, 2, 8, 7, 4, 3, 7, 7, 8, 5, 2, 8, 4, 3, 5, 4, 2, 9, 1, 4, 0, 0, 5, 6, 5, 6, 8, 0, 3, 4, 4, 4, 2, 2, 0, 5, 0, 3, 4, 7, 7, 3, 9, 7, 3, 7, 3, 7, 7, 7, 1, 7, 4, 4, 7, 9, 1, 7, 7, 4, 5, 9, 0, 8, 7, 3, 6, 2, 3, 8, 2, 5, 4, 8, 4, 0, 7, 5, 2, 7, 7, 2, 6, 4, 0, 2, 4, 3, 8, 9, 4, 5, 5, 6, 7, 1, 9, 6, 5, 0, 3, 4, 4, 0, 6, 6, 8, 3, 6, 0, 3, 3, 3, 8, 3, 3, 8, 4, 3, 8, 2, 9, 1, 4, 9, 5, 0, 6, 5, 0, 2, 6, 5, 4, 1, 5, 9, 0, 6, 2, 5, 4, 5, 8, 2, 8, 7, 5, 0, 7, 9, 9, 8, 2, 1, 0, 2, 7, 5, 0, 3, 8, 5, 0, 7, 9, 5, 8, 6, 9, 0, 7, 1, 9, 3, 5, 0, 5, 1, 7, 8, 9, 2, 0, 0, 8, 1, 1, 1, 6, 2, 3, 6, 2, 7, 1, 9, 3, 7, 6, 3, 1, 0, 5, 9, 4, 3, 9, 5, 0, 9, 2, 7, 5, 8, 0, 1, 3, 4, 8, 5, 1, 5, 7, 7, 2, 8, 4, 2, 2, 5, 3, 3, 1, 4, 9, 2, 4, 5, 2, 2, 3, 2, 1, 5, 8, 9, 2, 6, 6, 1, 7, 7, 5, 4, 4, 0, 5, 8, 8, 6, 6, 7, 2, 6, 4, 5, 1, 7, 5, 2, 4, 4, 6, 5, 2, 3, 8, 9, 3, 4, 3, 2, 6, 7, 2, 3, 2, 7, 7, 3, 0, 1, 4, 0, 6, 5, 5, 1, 6, 7, 6, 1, 3, 4, 0, 9, 9, 6, 8, 8, 3, 2, 3, 3, 8, 5, 3, 0, 9, 0, 8, 1, 3, 4, 8, 2, 4, 6, 1, 3, 5, 5, 1, 1, 1, 9, 5, 0, 4, 2, 9, 2, 5, 7, 4, 3, 3, 9, 1, 7, 2, 6, 1, 2, 9, 7, 9, 0, 4, 7, 8, 4, 9, 9, 4, 2, 9, 9, 8, 8, 6, 3, 2, 4, 6, 1, 7, 8, 2, 5, 8, 0, 4, 4, 5, 2, 4, 6, 5, 6, 5, 7, 7, 4, 5, 2, 0, 1, 1, 9, 6, 4, 3, 8, 7, 4, 0, 1, 5, 5, 0, 7, 0, 8, 5, 6, 1, 2, 3, 5, 8, 9, 6, 7, 6, 0, 7, 3, 1, 9, 4, 1, 8, 8, 1, 0, 6, 1, 7, 2, 5, 4, 5, 6, 6, 4, 8, 6, 4, 7, 9, 9, 4, 5, 1, 3, 9, 8, 6, 7, 3, 9, 5, 2, 5, 2, 1, 7, 1, 7, 0, 8, 3, 8, 3, 4, 1, 4, 0, 7, 9, 8, 5, 5, 6, 3, 9, 1, 2, 0, 0, 2, 8, 0, 2, 9, 3, 2, 0, 9, 9, 3, 2, 0, 6, 9, 7, 3, 7, 5, 1, 4, 6, 0, 7, 5, 8, 6, 7, 5, 2, 5, 5, 3, 3, 2, 2, 9, 9, 8, 8, 3, 5, 4, 3, 2, 8, 1, 1, 0, 7, 2, 1, 8, 7, 7, 5, 7, 6, 0, 4, 0, 3, 7, 3, 6, 2, 6, 5, 6, 3, 0, 3, 4, 5, 8, 4, 4, 0, 0, 1, 0, 6, 3, 8, 0, 1, 0, 7, 1, 3, 1, 8, 0, 2, 9, 8, 6, 5, 8, 4, 3, 4, 1, 0, 3, 9, 7, 4, 0, 3, 0, 8, 1, 1, 5, 7, 0, 0, 4, 8, 8, 8, 4, 1, 2, 9, 1, 2, 8, 7, 0, 7, 6, 2, 9, 0, 6, 7, 7, 5, 8, 2, 4, 4, 8, 4, 8, 0, 2, 7, 7, 6, 9, 1, 9, 9, 7, 5, 3, 7, 6, 0, 3, 9, 2, 9, 5, 6, 1, 0, 0, 2, 4, 5, 6, 3, 6, 4, 3, 5, 8, 9, 3, 9, 3, 4, 9, 3, 9, 5, 2, 8, 2, 6, 2, 2, 7, 2, 7, 6, 2, 4, 1, 2, 9, 9, 5, 2, 9, 8, 7, 7, 5, 6, 2, 8, 3, 7, 2, 3, 7, 3, 3, 6, 2, 1, 1, 1, 6, 9, 4, 0, 2, 4, 8, 0, 5, 4, 3, 1, 6, 1, 9, 8, 1, 1, 2, 8, 4, 8, 8, 3, 2, 6, 1, 0, 8, 1, 7, 6, 8, 5, 6, 3, 6, 7, 9, 2, 7, 7, 0, 7, 1, 7, 0, 6, 2, 7, 5, 0, 6, 9, 6, 2, 3, 1, 4, 1, 6, 9, 0, 5, 8, 9, 9, 6, 0, 8, 2, 0, 8, 9, 9, 8, 4, 3, 3, 6, 7, 0, 6, 4, 9, 1, 5, 8, 0, 0, 1, 0, 8, 9, 3, 8, 9, 3, 7, 8, 9, 4, 4, 6, 0, 9, 7, 2, 8, 0, 6, 2, 0, 6, 5, 5, 8, 5, 8, 6, 4, 0, 2, 6, 4, 3, 6, 2, 3, 7, 7, 2, 4, 2, 4, 9, 0, 2, 5, 4, 5, 4, 6, 0, 7, 7, 5, 0, 2, 0, 8, 5, 3, 7, 4, 5, 1, 9, 6, 5, 1, 8, 5, 4, 8, 5, 2, 3, 3, 8, 2, 2, 8, 2, 5, 7, 5, 5, 8, 7, 6, 1, 1, 8, 5, 1, 9, 9, 2, 2, 9, 1, 5, 2, 1, 3, 9, 9, 1, 3, 1, 2, 0, 6, 1, 7, 6, 8, 4, 0, 3, 3, 7, 2, 3, 6, 4, 5, 2, 7, 2, 4, 9, 5, 1, 6, 8, 8, 2, 1, 7, 1, 8, 0, 8, 5, 7, 0, 3, 6, 4, 2, 7, 7, 8, 2, 8, 9, 8, 8, 4, 6, 7, 0, 1, 2, 1, 1, 9, 4, 6, 4, 2, 7, 4, 6, 1, 9, 4, 9, 1, 4, 5, 1, 9, 2, 8, 0, 1, 5, 1, 7, 9, 2, 0, 4, 8, 4, 0, 2, 0, 1, 0, 5, 3, 6, 2, 2, 2, 2, 6, 6, 8, 6, 2, 3, 5, 2, 8, 9, 8, 0, 1, 5, 0, 9, 1, 6, 7, 9, 7, 3, 6, 2, 0, 4, 7, 6, 4, 4, 5, 2, 3, 4, 4, 5, 2, 9, 6, 1, 4, 7, 4, 8, 6, 5, 9, 8, 9, 9, 4, 4, 8, 6, 6, 4, 2, 1, 8, 3, 3, 0, 3, 8, 9, 2, 6, 2, 6, 5, 6, 8, 4, 3, 5, 0, 3, 2, 0, 0, 4, 8, 9, 8, 6, 9, 2, 1, 0, 7, 9, 0, 5, 0, 6, 2, 0, 6, 7, 6, 2, 6, 7, 8, 2, 4, 7, 6, 8, 7, 7, 3, 2, 5, 9, 3, 8, 2, 6, 4, 9, 6, 2, 1, 4, 0, 6, 6, 4, 3, 4, 5, 3, 6, 5, 9, 9, 5, 1, 6, 0, 2, 7, 9, 5, 3, 5, 6, 2, 1, 5, 5, 9, 0, 1, 3, 4, 5, 7, 4, 5, 9, 6, 1, 7, 4, 2, 8, 8, 5, 6, 0, 3, 4, 9, 4, 5, 6, 0, 7, 0, 3, 0, 7, 5, 8, 3, 8, 1, 5, 9, 1, 0, 1, 8, 0, 8, 2, 5, 6, 7, 1, 0, 2, 9, 0, 4, 1, 9, 5, 3, 5, 7, 3, 1, 9, 3, 9, 4, 9, 6, 0, 8, 8, 6, 6, 9, 6, 9, 3, 2, 0, 1, 7, 3, 6, 5, 3, 3, 3, 6, 4, 0, 0, 8, 4, 2, 2, 2, 1, 8, 6, 8, 5, 3, 9, 9, 0, 9, 8, 1, 5, 4, 3, 7, 0, 9, 7, 6, 0, 4, 1, 9, 8, 4, 7, 7, 5, 9, 7, 7, 5, 5, 6, 8, 5, 7, 5, 8, 8, 2, 5, 5, 2, 8, 4, 5, 6, 8, 8, 5, 3, 5, 5, 9, 4, 3, 3, 9, 0, 2, 4, 1, 0, 2, 7, 5, 3, 4, 3, 7, 6, 2, 3, 5, 2, 0, 5, 9, 6, 3, 9, 6, 0, 2, 5, 6, 7, 7, 2, 0, 1, 7, 0, 8, 9, 4, 3, 4, 3, 5, 3, 6, 0, 4, 2, 6, 9, 5, 1, 1, 9, 1, 9, 2, 4, 9, 1, 9, 8, 6, 3, 6, 8, 2, 0, 9, 3, 5, 8, 7, 4, 2, 2, 7, 9, 1, 8, 2, 4, 7, 6, 0, 5, 5, 6, 9, 8, 8, 5, 5, 7, 1, 2, 7, 9, 0, 5, 7, 5, 2, 5, 4, 7, 1, 3, 3, 4, 3, 6, 2, 0, 5, 8, 0, 4, 2, 9, 2, 4, 2, 3, 8, 0, 8, 4, 6, 4, 2, 8, 6, 9, 8, 4, 1, 9, 7, 0, 8, 3, 2, 4, 6, 8, 2, 4, 1, 3, 0, 8, 2, 0, 8, 0, 0, 0, 0, 2, 2, 3, 6, 9, 7, 0, 9, 1, 0, 7, 2, 8, 3, 0, 8, 4, 3, 5, 8, 7, 8, 4, 0, 0, 9, 7, 3, 1, 5, 2, 6, 5, 3, 2, 3, 7, 0, 3, 4, 1, 1, 8, 9, 0, 4, 8, 3, 1, 1, 5, 7, 2, 3, 9, 4, 5, 2, 5, 4, 7, 1, 7, 6, 2, 6, 1, 8, 8, 9, 4, 9, 5, 6, 6, 7, 1, 1, 2, 2, 4, 8, 5, 5, 9, 2, 9, 8, 5, 7, 2, 3, 8, 5, 7, 4, 7, 6, 2, 6, 0, 6, 2, 0, 4, 0, 1, 4, 2, 3, 5, 8, 7, 5, 1, 5, 2, 2, 5, 3, 6, 5, 4, 3, 2, 9, 4, 4, 0, 1, 8, 8, 6, 5, 3, 7, 2, 3, 2, 9, 0, 9, 2, 7, 8, 1, 2, 1, 3, 7, 2, 9, 3, 5, 5, 8, 4, 5, 5, 8, 5, 5, 6, 9, 5, 8, 6, 1, 2, 4, 2, 4, 9, 2, 1, 9, 3, 0, 8, 2, 8, 4, 2, 6, 4, 1, 3, 6, 9, 4, 6, 8, 6, 9, 6, 4, 7, 2, 0, 9, 4, 4, 4, 8, 9, 7, 7, 9, 3, 5, 0, 0, 3, 3, 3, 7, 6, 1, 4, 5, 2, 4, 4, 8, 5, 6, 0, 3, 4, 6, 3, 2, 0, 3, 5, 7, 0, 3, 5, 4, 7, 8, 5, 7, 0, 2, 8, 0, 2, 4, 6, 6, 6, 3, 7, 6, 3, 5, 9, 9, 7, 4, 9, 1, 9, 6, 5, 1, 7, 0, 2, 0, 2, 7, 4, 9, 8, 3, 5, 3, 0, 5, 1, 6, 7, 7, 8, 8, 2, 7, 9, 2, 4, 6, 5, 9, 8, 4, 6, 7, 8, 2, 8, 5, 8, 9, 0, 2, 3, 0, 9, 7, 3, 7, 9, 5, 3, 6, 6, 9, 9, 1, 5, 1, 2, 2, 4, 0, 9, 5, 4, 2, 8, 9, 9, 2, 0, 2, 6, 9, 1, 3, 8, 8, 6, 6, 4, 9, 6, 4, 4, 0, 4, 9, 2, 2, 0, 4, 0, 9, 6, 7, 9, 0, 9, 3, 9, 9, 9, 6, 2, 3, 6, 7, 6, 0, 5, 7, 6, 4, 4, 9, 8, 0, 9, 4, 6, 0, 7, 1, 3, 6, 6, 0, 4, 7, 1, 1, 4, 9, 8, 6, 8, 0, 6, 1, 1, 8, 5, 5, 5, 3, 4, 5, 5, 8, 6, 9, 3, 4, 3, 4, 2, 4, 3, 3, 8, 8, 9, 5, 7, 2, 8, 2, 3, 1, 9, 6, 4, 8, 5, 1, 6, 1, 7, 6, 4, 3, 2, 3, 9, 0, 5, 2, 3, 9, 5, 3, 2, 4, 4, 5, 8, 3, 4, 5, 6, 6, 7, 3, 1, 6, 5, 9, 8, 3, 2, 0, 4, 7, 3, 9, 9, 4, 1, 6, 7, 6, 6, 1, 5, 8, 1, 0, 8, 6, 3, 7, 1, 5, 9, 4, 1, 6, 0, 3, 7, 2, 9, 2, 2, 6, 9, 1, 0, 5, 7, 4, 2, 8, 9, 0, 8, 6, 4, 3, 3, 6, 4, 5, 4, 2, 3, 1, 4, 6, 8, 3, 9, 7, 9, 4, 0, 8, 9, 8, 0, 8, 1, 9, 3, 2, 7, 0, 6, 0, 5, 9, 5, 4, 8, 1, 0, 2, 5, 0, 8, 3, 0, 1, 4, 0, 3, 1, 6, 4, 7, 9, 5, 5, 0, 4, 7, 9, 1, 9, 1, 4, 6, 3, 9, 9, 9, 8, 9, 7, 1, 1, 4, 1, 0, 7, 0, 9, 6, 6, 2, 4, 7, 6, 4, 5, 8, 0, 4, 7, 1, 7, 3, 4, 7, 5, 5, 2, 0, 2, 0, 5, 5, 8, 5, 8, 4, 0, 8, 4, 9, 7, 6, 9, 8, 0, 8, 4, 2, 9, 1, 4, 6, 0, 7, 7, 1, 6, 1, 5, 6, 5, 7, 3, 8, 4, 5, 8, 5, 8, 5, 9, 1, 3, 2, 5, 3, 1, 2, 1, 2, 6, 7, 2, 0, 5, 3, 1, 6, 2, 7, 3, 6, 0, 9, 8, 0, 6, 4, 3, 2, 6, 8, 7, 2, 1, 1, 9, 5, 4, 5, 8, 0, 1, 0, 9, 1, 8, 2, 4, 7, 4, 2, 4, 4, 7, 0, 0, 6, 4, 6, 7, 8, 5, 9, 9, 2, 9, 3, 3, 5, 7, 7, 6, 7, 0, 0, 0, 6, 3, 1, 2, 6, 3, 7, 3, 2, 2, 8, 8, 6, 6, 0, 0, 3, 1, 1, 1, 3, 4, 4, 6, 4, 7, 3, 2, 3, 9, 7, 2, 7, 9, 2, 3, 6, 7, 5, 9, 2, 6, 3, 5, 6, 5, 3, 4, 6, 9, 1, 7, 7, 5, 9, 4, 2, 3, 8, 0, 9, 6, 6, 1, 3, 6, 6, 3, 9, 3, 6, 5, 2, 0, 4, 7, 4, 8, 5, 5, 0, 0, 9, 0, 3, 6, 2, 9, 8, 1, 1, 4, 3, 4, 0, 3, 7, 3, 8, 6, 4, 2, 4, 1, 2, 7, 5, 2, 6, 8, 0, 4, 6, 4, 2, 3, 2, 4, 1, 6, 0, 5, 8, 8, 1, 8, 6, 2, 8, 2, 4, 4, 0, 9, 7, 6, 7, 4, 2, 3, 8, 9, 4, 8, 8, 4, 2, 0, 1, 4, 4, 8, 6, 6, 7, 2, 7, 0, 0, 7, 2, 3, 1, 8, 9, 7, 7, 0, 1, 7, 9, 7, 7, 5, 9, 2, 7, 5, 5, 1, 4, 4, 7, 1, 3, 6, 3, 0, 0, 0, 8, 0, 8, 5, 6, 8, 6, 6, 4, 0, 0, 8, 6, 7, 4, 8, 3, 9, 4, 9, 8, 2, 3, 0, 4, 4, 8, 1, 8, 4, 3, 8, 8, 4, 2, 4, 3, 6, 3, 0, 5, 8, 0, 7, 5, 4, 7, 5, 8, 9, 0, 4, 6, 7, 1, 1, 4, 3, 5, 7, 1, 7, 1, 9, 3, 0, 0, 8, 9, 7, 2, 8, 9, 9, 3, 5, 0, 3, 3, 2, 1, 0, 1, 5, 2, 7, 1, 4, 1, 3, 5, 1, 9, 8, 5, 2, 0, 7, 2, 9, 2, 0, 9, 2, 2, 6, 2, 1, 8, 4, 4, 8, 4, 1, 7, 0, 3, 6, 1, 6, 3, 7, 4, 4, 7, 8, 2, 7, 4, 7, 3, 6, 6, 3, 5, 9, 8, 6, 0, 0, 8, 4, 3, 6, 9, 6, 2, 5, 0, 6, 3, 1, 5, 2, 2, 7, 3, 4, 6, 2, 8, 7, 6, 3, 9, 3, 4, 3, 6, 7, 7, 1, 1, 7, 8, 4, 5, 3, 6, 5, 6, 2, 9, 2, 5, 9, 1, 1, 7, 8, 3, 5, 1, 3, 8, 5, 0, 8, 0, 2, 3, 9, 8, 3, 0, 0, 7, 5, 7, 3, 2, 3, 3, 7, 5, 5, 6, 9, 0, 2, 1, 2, 5, 5, 1, 4, 0, 7, 1, 8, 8, 4, 0, 1, 7, 8, 9, 0, 7, 2, 5, 7, 8, 3, 0, 1, 2, 3, 9, 2, 7, 0, 0, 2, 2, 4, 1, 5, 3, 3, 5, 1, 5, 5, 9, 0, 9, 8, 0, 9, 3, 0, 7, 9, 6, 5, 5, 2, 6, 8, 0, 1, 7, 7, 7, 1, 3, 0, 1, 4, 1, 0, 3, 1, 9, 0, 6, 3, 6, 0, 5, 4, 0, 8, 8, 0, 1, 5, 8, 3, 7, 2, 9, 1, 9, 9, 2, 7, 6, 1, 0, 9, 8, 8, 6, 0, 2, 0, 5, 0, 8, 9, 2, 6, 6, 1, 2, 1, 5, 8, 9, 7, 4, 1, 2, 8, 9, 0, 2, 0, 9, 9, 1, 1, 5, 5, 3, 9, 3, 1, 5, 2, 2, 5, 1, 6, 9, 5, 4, 5, 4, 9, 6, 0, 8, 2, 1, 9, 7, 0, 8, 0, 1, 0, 2, 3, 8, 6, 4, 1, 5, 6, 1, 9, 4, 9, 6, 3, 8, 7, 3, 0, 3, 9, 7, 2, 6, 2, 9, 4, 6, 0, 9, 6, 7, 4, 7, 0, 9, 9, 5, 6, 5, 4, 1, 3, 5, 5, 2, 9, 5, 2, 9, 7, 7, 4, 9, 4, 4, 8, 7, 8, 7, 4, 5, 0, 8, 2, 3, 0, 0, 8, 8, 4, 0, 2, 5, 7, 2, 6, 2, 5, 6, 9, 7, 3, 4, 1, 5, 4, 8, 8, 4, 3, 0, 7, 2, 9, 4, 6, 6, 4, 9, 2, 4, 8, 8, 0, 3, 8, 1, 4, 1, 0, 6, 6, 9, 1, 6, 2, 3, 4, 0, 1, 2, 2, 0, 8, 8, 4, 7, 9, 9, 6, 6, 0, 5, 6, 7, 3, 6, 7, 8, 7, 3, 1, 0, 3, 8, 4, 5, 1, 8, 6, 2, 8, 5, 7, 6, 2, 8, 6, 5, 8, 0, 5, 9, 2, 7, 0, 5, 8, 6, 8, 9, 3, 8, 3, 2, 6, 8, 7, 8, 3, 3, 8, 5, 4, 1, 2, 9, 6, 5, 9, 4, 3, 8, 5, 5, 8, 8, 2, 0, 3, 1, 4, 1, 0, 8, 0, 5, 8, 4, 9, 1, 8, 0, 0, 6, 7, 7, 7, 5, 6, 3, 6, 5, 8, 2, 6, 5, 7, 5, 4, 7, 3, 2, 9, 5, 8, 8, 5, 7, 2, 2, 8, 7, 6, 7, 7, 2, 7, 6, 4, 0, 6, 3, 1, 4, 6, 3, 9, 8, 3, 8, 1, 0, 0, 5, 3, 5, 8, 4, 0, 6, 1, 7, 0, 2, 2, 1, 7, 3, 0, 8, 6, 7, 7, 0, 0, 1, 4, 1, 1, 6, 6, 6, 1, 3, 6, 0, 1, 3, 8, 5, 0, 1, 6, 5, 5, 4, 3, 9, 8, 6, 0, 5, 4, 9, 2, 8, 4, 8, 8, 2, 1, 4, 8, 6, 7, 3, 1, 3, 4, 9, 4, 8, 4, 5, 0, 9, 1, 3, 8, 7, 5, 4, 6, 6, 7, 9, 0, 5, 2, 3, 3, 3, 9, 0, 9, 2, 9, 1, 0, 2, 3, 9, 6, 6, 1, 6, 3, 7, 6, 2, 7, 0, 4, 8, 9, 6, 0, 7, 7, 5, 0, 4, 5, 9, 6, 4, 5, 7, 9, 3, 7, 8, 5, 0, 4, 1, 3, 8, 6, 9, 5, 7, 6, 7, 7, 3, 4, 2, 3, 6, 4, 5, 0, 1, 9, 3, 8, 4, 4, 1, 9, 8, 9, 3, 6, 0, 9, 1, 6, 3, 2, 3, 0, 5, 8, 8, 0, 0, 6, 2, 3, 5, 1, 5, 7, 1, 0, 9, 8, 3, 3, 5, 6, 3, 2, 1, 3, 7, 0, 7, 7, 2, 4, 7, 7, 6, 2, 6, 1, 7, 2, 3, 3, 0, 2, 2, 9, 6, 5, 5, 1, 9, 7, 9, 4, 6, 4, 1, 9, 1, 3, 6, 1, 2, 2, 5, 8, 0, 8, 5, 1, 7, 6, 7, 9, 3, 0, 9, 2, 2, 6, 7, 6, 9, 1, 9, 4, 0, 5, 6, 6, 4, 4, 4, 1, 6, 3, 2, 8, 9, 4, 7, 2, 3, 9, 3, 4, 0, 1, 1, 1, 9, 9, 7, 5, 1, 9, 2, 5, 6, 1, 5, 3, 0, 1, 4, 9, 4, 2, 0, 8, 3, 2, 7, 3, 8, 6, 1, 4, 2, 4, 9, 4, 6, 9, 1, 5, 9, 9, 1, 4, 2, 7, 2, 7, 3, 1, 9, 8, 8, 1, 2, 0, 8, 8, 2, 8, 7, 8, 4, 1, 7, 4, 3, 1, 8, 6, 4, 5, 0, 5, 6, 7, 5, 9, 8, 8, 8, 9, 7, 3, 8, 7, 8, 2, 1, 8, 8, 4, 9, 1, 5, 4, 2, 6, 6, 9, 2, 7, 2, 8, 4, 2, 9, 1, 6, 5, 8, 5, 9, 7, 6, 2, 9, 1, 8, 7, 0, 9, 9, 7, 6, 3, 9, 3, 0, 0, 0, 7, 7, 0, 7, 3, 9, 0, 9, 2, 1, 5, 7, 1, 6, 8, 2, 0, 4, 2, 1, 4, 0, 4, 8, 0, 4, 9, 9, 6, 3, 6, 1, 7, 4, 6, 8, 6, 0, 7, 4, 8, 7, 5, 7, 5, 2, 0, 5, 8, 6, 6, 6, 8, 8, 5, 6, 6, 9, 9, 2, 7, 2, 1, 9, 3, 9, 0, 1, 5, 9, 9, 7, 9, 6, 5, 3, 7, 6, 7, 0, 4, 2, 3, 9, 6, 2, 5, 7, 5, 0, 2, 8, 2, 9, 6, 1, 5, 1, 3, 6, 3, 0, 8, 0, 6, 3, 5, 0, 1, 4, 6, 7, 9, 1, 5, 4, 0, 4, 6, 2, 3, 8, 7, 5, 7, 3, 4, 8, 9, 8, 3, 6, 0, 5, 1, 1, 9, 4, 8, 9, 9, 9, 5, 0, 8, 0, 2, 0, 3, 6, 3, 9, 0, 3, 3, 8, 0, 8, 8, 0, 9, 4, 8, 4, 6, 4, 4, 3, 3, 0, 4, 9, 6, 7, 9, 5, 4, 3, 5, 5, 5, 2, 3, 6, 5, 5, 9, 1, 6, 4, 1, 0, 5, 7, 9, 3, 0, 6, 8, 9, 7, 6, 2, 8, 0, 0, 2, 9, 0, 3, 2, 7, 2, 7, 3, 2, 3, 7, 7, 5, 3, 8, 5, 4, 0, 2, 9, 1, 3, 2, 5, 8, 0, 6, 1, 7, 5, 9, 7, 7, 5, 0, 1, 1, 9, 4, 2, 1, 8, 2, 2, 2, 7, 3, 7, 0, 4, 6, 6, 2, 9, 3, 0, 6, 0, 1, 9, 3, 5, 4, 9, 6, 7, 3, 6, 8, 3, 9, 2, 0, 9, 5, 4, 7, 2, 3, 9, 9, 5, 0, 3, 1, 7, 2, 4, 7, 9, 9, 0, 4, 4, 5, 1, 7, 1, 8, 4, 1, 4, 2, 1, 6, 9, 2, 2, 0, 8, 0, 8, 8, 5, 5, 2, 8, 0, 9, 5, 7, 4, 9, 5, 2, 0, 8, 0, 2, 6, 9, 1, 3, 0, 1, 8, 9, 4, 5, 9, 8, 0, 7, 8, 4, 4, 3, 6, 6, 5, 6, 1, 0, 1, 2, 8, 9, 6, 5, 9, 9, 9, 6, 5, 0, 9, 5, 0, 5, 8, 0, 0, 4, 3, 4, 2, 6, 1, 7, 6, 2, 3, 1, 2, 8, 2, 6, 0, 3, 4, 1, 6, 2, 3, 4, 2, 6, 5, 8, 9, 8, 3, 5, 7, 5, 7, 0, 4, 6, 3, 4, 0, 3, 6, 2, 1, 7, 5, 8, 5, 8, 7, 4, 5, 4, 0, 2, 1, 5, 7, 2, 6, 8, 0, 7, 7, 4, 1, 0, 7, 9, 2, 7, 0, 9, 8, 7, 7, 5, 2, 7, 9, 7, 6, 4, 8, 4, 6, 4, 1, 7, 9, 8, 8, 6, 3, 7, 3, 3, 9, 7, 0, 7, 1, 8, 8, 5, 7, 1, 1, 7, 4, 0, 4, 1, 2, 2, 9, 8, 7, 1, 3, 2, 2, 4, 1, 0, 4, 5, 1, 5, 6, 1, 8, 2, 5, 3, 9, 5, 1, 7, 0, 4, 6, 7, 2, 3, 5, 5, 9, 0, 5, 7, 8, 3, 6, 0, 3, 1, 9, 2, 7, 0, 9, 8, 2, 9, 8, 3, 2, 5, 0, 0, 8, 3, 3, 6, 6, 4, 9, 6, 0, 9, 1, 5, 7, 0, 2, 7, 8, 2, 9, 4, 1, 3, 1, 6, 5, 6, 2, 4, 2, 8, 5, 8, 6, 4, 4, 8, 8, 6, 2, 3, 3, 8, 1, 3, 4, 5, 6, 2, 9, 0, 7, 2, 7, 0, 8, 7, 4, 8, 2, 7, 7, 7, 9, 9, 1, 4, 8, 3, 7, 4, 3, 4, 1, 8, 8, 4, 1, 0, 8, 0, 0, 0, 4, 7, 1, 5, 5, 5, 3, 6, 5, 3, 2, 9, 0, 5, 1, 0, 0, 9, 1, 7, 8, 9, 2, 3, 5, 7, 1, 0, 8, 8, 8, 0, 7, 2, 7, 2, 5, 0, 7, 7, 9, 4, 8, 6, 5, 9, 6, 8, 6, 9, 4, 0, 4, 7, 2, 9, 0, 3, 0, 9, 5, 2, 2, 1, 4, 4, 2, 5, 6, 2, 4, 2, 5, 3, 1, 7, 5, 9, 6, 9, 5, 9, 4, 1, 2, 5, 9, 8, 3, 6, 5, 5, 4, 8, 7, 9, 5, 0, 8, 4, 9, 5, 7, 3, 3, 0, 2, 1, 5, 9, 0, 1, 2, 3, 3, 7, 2, 1, 0, 7, 7, 1, 3, 4, 2, 5, 9, 4, 0, 8, 9, 5, 3, 0, 5, 5, 6, 5, 6, 6, 2, 0, 8, 5, 6, 5, 4, 5, 5, 2, 6, 3, 1, 4, 9, 0, 0, 9, 4, 9, 7, 6, 7, 1, 1, 1, 8, 0, 6, 2, 6, 4, 9, 1, 5, 0, 2, 8, 3, 1, 1, 8, 8, 5, 1, 0, 8, 4, 6, 2, 7, 6, 9, 9, 3, 9, 8, 5, 5, 2, 7, 9, 8, 8, 1, 3, 9, 7, 0, 8, 3, 4, 3, 0, 9, 6, 4, 9, 4, 8, 2, 9, 6, 4, 4, 8, 9, 5, 3, 3, 0, 0, 7, 0, 1, 8, 6, 7, 9, 1, 7, 3, 3, 3, 9, 5, 4, 4, 3, 4, 3, 3, 2, 2, 4, 4, 6, 4, 5, 7, 3, 7, 8, 5, 0, 5, 3, 6, 8, 1, 2, 2, 3, 2, 1, 5, 1, 4, 7, 2, 9, 8, 7, 0, 1, 0, 4, 1, 9, 6, 8, 5, 4, 8, 4, 6, 5, 6, 7, 3, 7, 9, 5, 0, 7, 6, 3, 9, 2, 4, 6, 9, 1, 4, 7, 1, 6, 4, 9, 0, 6, 7, 5, 4, 4, 9, 7, 3, 1, 9, 7, 9, 4, 6, 7, 4, 9, 6, 1, 2, 6, 4, 7, 6, 7, 1, 4, 3, 2, 3, 7, 0, 3, 9, 4, 0, 0, 4, 2, 8, 2, 1, 3, 7, 7, 8, 2, 3, 1, 7, 2, 0, 7, 3, 4, 3, 5, 2, 7, 6, 8, 5, 4, 5, 2, 8, 3, 4, 5, 8, 1, 3, 1, 6, 3, 5, 1, 0, 5, 1, 9, 5, 2, 9, 4, 2, 7, 9, 9, 1, 6, 3, 2, 0, 1, 7, 0, 0, 1, 0, 5, 4, 8, 0, 9, 0, 1, 9, 3, 7, 4, 2, 4, 2, 6, 2, 0, 3, 6, 0, 8, 7, 0, 0, 7, 3, 8, 3, 3, 6, 8, 2, 7, 4, 1, 2, 9, 2, 4, 6, 6, 8, 5, 1, 4, 3, 7, 5, 0, 9, 2, 0, 1, 3, 9, 4, 3, 1, 8, 5, 4, 9, 9, 0, 7, 6, 5, 5, 2, 1, 6, 2, 7, 4, 6, 4, 1, 6, 5, 1, 9, 3, 8, 7, 2, 3, 6, 1, 4, 3, 2, 8, 2, 8, 6, 4, 6, 8, 4, 5, 2, 8, 0, 9, 7, 3, 5, 2, 4, 6, 7, 2, 1, 3, 3, 3, 3, 1, 1, 3, 7, 4, 2, 6, 8, 2, 0, 0, 4, 6, 3, 8, 4, 6, 3, 0, 7, 8, 1, 9, 6, 0, 5, 2, 6, 7, 6, 4, 9, 6, 4, 7, 8, 5, 9, 4, 5, 1, 4, 6, 6, 7, 9, 3, 8, 2, 0, 1, 6, 9, 2, 6, 2, 1, 6, 7, 0, 6, 3, 3, 3, 2, 1, 4, 5, 4, 0, 7, 8, 6, 3, 7, 4, 0, 9, 6, 7, 3, 5, 8, 5, 6, 9, 5, 6, 6, 2, 3, 3, 4, 9, 7, 1, 3, 4, 6, 2, 4, 3, 3, 0, 8, 6, 7, 7, 3, 4, 5, 4, 2, 3, 1, 0, 9, 4, 4, 4, 2, 5, 2, 0, 3, 3, 6, 2, 5, 1, 7, 9, 2, 8, 2, 0, 1, 8, 8, 7, 2, 3, 4, 3, 2, 1, 0, 7, 5, 9, 9, 6, 8, 6, 2, 3, 0, 8, 4, 7, 4, 7, 1, 9, 3, 1, 2, 1, 9, 0, 6, 0, 9, 8, 1, 3, 1, 9, 6, 1, 3, 5, 7, 7, 1, 8, 7, 4, 0, 1, 3, 2, 6, 0, 0, 5, 3, 2, 9, 9, 5, 7, 7, 5, 5, 7, 3, 1, 0, 1, 2, 9, 9, 5, 9, 1, 4, 0, 6, 7, 3, 7, 3, 8, 8, 0, 4, 6, 6, 5, 3, 1, 7, 9, 8, 3, 5, 1, 3, 1, 7, 0, 1, 1, 2, 7, 8, 6, 3, 0, 2, 6, 9, 6, 7, 6, 6, 1, 7, 3, 6, 6, 8, 2, 3, 7, 5, 0, 8, 7, 7, 1, 9, 3, 6, 1, 4, 5, 2, 8, 2, 8, 7, 6, 5, 1, 4, 5, 3, 3, 9, 4, 1, 3, 8, 8, 3, 8, 7, 7, 5, 6, 8, 5, 1, 2, 7, 2, 2, 8, 6, 2, 8, 5, 7, 4, 6, 9, 3, 1, 1, 5, 2, 8, 7, 1, 1, 7, 7, 8, 6, 8, 6, 7, 1, 6, 8, 1, 6, 0, 9, 9, 2, 3, 4, 7, 4, 7, 7, 2, 4, 9, 8, 3, 8, 3, 7, 1, 4, 5, 6, 3, 2, 2, 0, 6, 0, 9, 8, 4, 7, 7, 5, 0, 3, 1, 9, 1, 3, 5, 5, 4, 7, 4, 5, 4, 8, 8, 8, 3, 2, 1, 2, 9, 6, 1, 9, 4, 7, 6, 4, 1, 1, 4, 8, 1, 9, 2, 3, 9, 0, 3, 9, 4, 1, 8, 3, 4, 8, 3, 3, 1, 8, 2, 6, 0, 0, 2, 1, 0, 4, 6, 6, 2, 1, 0, 3, 1, 6, 1, 9, 6, 3, 9, 6, 7, 4, 6, 8, 4, 2, 3, 2, 0, 8, 6, 4, 9, 0, 7, 0, 1, 2, 5, 5, 1, 6, 3, 6, 2, 8, 5, 7, 1, 6, 1, 2, 1, 0, 0, 8, 8, 2, 8, 5, 7, 3, 3, 5, 4, 9, 4, 7, 6, 1, 8, 4, 9, 7, 4, 3, 8, 2, 9, 7, 7, 5, 6, 0, 6, 3, 1, 3, 8, 2, 2, 9, 7, 8, 8, 0, 0, 7, 5, 1, 1, 6, 5, 8, 7, 4, 6, 2, 7, 7, 8, 7, 5, 5, 7, 6, 4, 6, 2, 2, 8, 9, 6, 9, 4, 6, 8, 8, 2, 1, 3, 3, 8, 4, 0, 4, 7, 2, 5, 4, 4, 0, 8, 4, 3, 6, 3, 8, 8, 2, 9, 6, 9, 5, 6, 2, 3, 7, 1, 4, 7, 9, 0, 5, 8, 6, 7, 3, 1, 7, 2, 5, 6, 6, 0, 5, 0, 8, 4, 2, 4, 4, 7, 1, 5, 8, 5, 2, 3, 8, 8, 4, 9, 8, 5, 9, 5, 2, 5, 8, 4, 7, 3, 3, 3, 1, 3, 8, 9, 3, 8, 1, 8, 3, 6, 9, 2, 2, 6, 3, 5, 5, 7, 3, 6, 0, 1, 2, 1, 1, 8, 5, 2, 7, 3, 4, 4, 8, 5, 5, 6, 5, 3, 5, 4, 5, 2, 2, 9, 0, 8, 9, 3, 6, 1, 0, 6, 1, 1, 2, 0, 3, 5, 7, 0, 2, 7, 7, 0, 4, 5, 6, 7, 5, 7, 2, 5, 0, 7, 1, 9, 3, 7, 6, 0, 7, 3, 4, 4, 5, 2, 9, 2, 0, 3, 1, 6, 2, 2, 4, 7, 3, 1, 8, 7, 3, 0, 6, 5, 3, 5, 3, 8, 6, 8, 3, 3, 5, 8, 1, 6, 9, 5, 6, 0, 9, 9, 5, 6, 8, 9, 6, 0, 6, 3, 6, 1, 0, 6, 2, 3, 5, 1, 9, 0, 6, 6, 5, 6, 3, 4, 5, 1, 6, 7, 4, 2, 9, 6, 6, 2, 5, 8, 8, 4, 1, 7, 1, 8, 1, 1, 3, 7, 9, 5, 8, 4, 4, 1, 2, 0, 1, 4, 9, 2, 7, 5, 8, 3, 2, 3, 8, 0, 1, 3, 7, 6, 6, 4, 3, 5, 0, 6, 4, 7, 1, 7, 1, 0, 0, 8, 2, 7, 2, 7, 8, 6, 2, 9, 1, 6, 2, 6, 1, 3, 0, 5, 3, 0, 6, 1, 1, 5, 1, 7, 5, 3, 4, 1, 1, 4, 0, 8, 4, 2, 5, 4, 8, 3, 4, 3, 1, 1, 7, 9, 1, 1, 8, 0, 1, 1, 2, 1, 4, 4, 8, 7, 4, 8, 6, 3, 1, 9, 6, 6, 4, 4, 0, 2, 5, 9, 7, 1, 7, 6, 4, 7, 5, 4, 1, 0, 2, 3, 3, 8, 9, 9, 7, 5, 9, 9, 7, 9, 6, 0, 4, 5, 3, 3, 1, 5, 1, 8, 3, 8, 0, 5, 4, 8, 1, 3, 8, 9, 1, 8, 0, 0, 5, 8, 1, 2, 7, 8, 2, 9, 5, 8, 9, 9, 6, 4, 3, 9, 0, 7, 0, 2, 2, 3, 8, 3, 0, 9, 5, 6, 3, 1, 5, 2, 3, 9, 2, 6, 7, 3, 8, 3, 6, 3, 7, 3, 0, 6, 3, 3, 9, 1, 8, 8, 3, 8, 3, 3, 0, 1, 0, 0, 7, 8, 8, 0, 5, 0, 9, 1, 8, 5, 6, 3, 5, 3, 0, 2, 2, 8, 6, 2, 9, 0, 0, 1, 0, 4, 3, 3, 8, 8, 4, 0, 6, 3, 1, 6, 2, 0, 7, 5, 7, 0, 1, 6, 0, 3, 2, 6, 9, 2, 9, 4, 7, 4, 5, 8, 5, 4, 7, 7, 3, 3, 7, 8, 9, 9, 1, 0, 4, 6, 2, 7, 5, 1, 8, 0, 7, 9, 3, 4, 2, 1, 0, 2, 5, 6, 0, 3, 9, 4, 2, 1, 7, 0, 1, 5, 4, 3, 7, 1, 7, 1, 9, 7, 8, 7, 0, 7, 8, 3, 2, 8, 7, 4, 5, 7, 1, 4, 7, 4, 4, 8, 9, 9, 8, 0, 6, 2, 4, 2, 4, 7, 6, 8, 1, 7, 4, 0, 2, 9, 8, 0, 6, 1, 6, 3, 9, 2, 0, 0, 4, 9, 2, 1, 0, 2, 2, 0, 2, 3, 7, 3, 8, 6, 4, 3, 7, 1, 0, 6, 4, 5, 8, 5, 3, 3, 7, 1, 7, 5, 7, 9, 2, 3, 4, 9, 9, 8, 9, 8, 2, 5, 9, 5, 0, 6, 8, 9, 9, 6, 1, 1, 9, 1, 6, 9, 4, 2, 2, 6, 8, 7, 1, 3, 6, 1, 1, 1, 5, 7, 5, 0, 1, 5, 8, 0, 6, 4, 3, 1, 7, 8, 1, 2, 1, 2, 5, 4, 8, 2, 9, 0, 8, 3, 5, 4, 9, 3, 6, 5, 7, 0, 7, 9, 9, 2, 6, 9, 9, 3, 2, 4, 3, 5, 0, 3, 0, 5, 1, 4, 5, 1, 1, 5, 5, 7, 0, 2, 0, 5, 9, 4, 0, 3, 8, 9, 0, 9, 8, 6, 1, 2, 7, 6, 7, 0, 3, 3, 3, 0, 6, 2, 0, 7, 0, 4, 3, 7, 3, 5, 7, 7, 4, 7, 6, 1, 4, 6, 6, 6, 0, 1, 4, 7, 7, 7, 1, 7, 8, 3, 7, 3, 9, 3, 2, 1, 0, 6, 2, 7, 5, 0, 6, 7, 2, 4, 3, 2, 9, 4, 9, 8, 2, 0, 6, 1, 1, 7, 5, 0, 6, 6, 2, 3, 5, 8, 3, 5, 7, 1, 8, 2, 2, 1, 4, 6, 2, 0, 1, 7, 8, 1, 2, 0, 2, 9, 9, 3, 7, 7, 4, 2, 0, 6, 8, 5, 9, 4, 9, 2, 3, 0, 5, 3, 4, 6, 1, 1, 0, 1, 6, 9, 6, 2, 9, 5, 7, 7, 3, 0, 5, 6, 3, 2, 0, 3, 3, 4, 8, 5, 1, 6, 5, 7, 7, 8, 2, 9, 9, 7, 3, 8, 2, 8, 6, 2, 2, 1, 4, 7, 4, 4, 6, 6, 9, 7, 2, 4, 6, 0, 8, 6, 6, 7, 0, 0, 0, 8, 2, 6, 6, 1, 5, 0, 9, 5, 6, 1, 4, 0, 7, 3, 1, 7, 9, 0, 1, 6, 6, 8, 8, 3, 0, 3, 3, 1, 6, 9, 4, 8, 8, 8, 6, 6, 2, 3, 9, 3, 8, 6, 2, 2, 0, 2, 5, 6, 8, 0, 2, 2, 8, 8, 3, 3, 3, 8, 2, 6, 6, 1, 7, 2, 7, 5, 5, 3, 8, 2, 0, 8, 4, 4, 8, 4, 5, 5, 7, 6, 3, 2, 3, 8, 1, 1, 6, 9, 0, 6, 7, 2, 4, 3, 4, 6, 8, 6, 0, 8, 8, 9, 7, 2, 7, 0, 4, 2, 3, 0, 6, 1, 0, 9, 3, 9, 1, 6, 2, 1, 1, 1, 0, 0, 0, 0, 2, 3, 0, 9, 3, 3, 7, 1, 6, 7, 9, 8, 2, 8, 4, 7, 0, 4, 0, 1, 8, 2, 3, 8, 1, 9, 9, 1, 6, 7, 1, 4, 0, 3, 5, 1, 0, 4, 8, 3, 5, 9, 7, 4, 2, 9, 9, 0, 2, 1, 8, 3, 9, 3, 5, 0, 5, 2, 3, 9, 0, 3, 3, 8, 3, 2, 2, 5, 8, 2, 6, 6, 2, 2, 1, 1, 7, 4, 2, 3, 8, 1, 2, 3, 4, 0, 2, 7, 5, 1, 0, 1, 2, 3, 6, 2, 5, 1, 5, 0, 0, 1, 7, 7, 5, 5, 6, 0, 4, 0, 3, 8, 6, 9, 8, 6, 1, 0, 2, 2, 6, 1, 8, 5, 3, 1, 9, 1, 1, 8, 5, 6, 1, 4, 2, 8, 4, 2, 7, 5, 5, 8, 0, 5, 1, 9, 3, 4, 8, 0, 8, 3, 5, 6, 4, 3, 6, 4, 0, 3, 4, 5, 3, 4, 2, 5, 3, 8, 0, 5, 8, 4, 0, 8, 5, 2, 5, 7, 8, 4, 2, 9, 5, 8, 8, 3, 3, 5, 3, 4, 9, 5, 0, 6, 1, 9, 0, 0, 9, 7, 1, 8, 3, 9, 2, 1, 7, 1, 9, 6, 9, 7, 7, 0, 2, 7, 7, 9, 9, 3, 5, 2, 2, 9, 2, 5, 5, 9, 5, 8, 3, 4, 1, 2, 5, 6, 3, 8, 4, 1, 2, 2, 0, 7, 6, 7, 1, 2, 8, 3, 1, 7, 4, 5, 9, 0, 3, 7, 8, 0, 7, 4, 2, 6, 9, 0, 2, 7, 4, 7, 3, 1, 7, 5, 1, 4, 0, 2, 4, 4, 3, 3, 0, 0, 8, 3, 3, 0, 9, 1, 7, 7, 0, 6, 9, 2, 4, 8, 5, 8, 5, 8, 9, 4, 4, 4, 8, 5, 3, 7, 0, 2, 5, 9, 8, 4, 9, 4, 2, 1, 3, 0, 3, 4, 8, 0, 1, 1, 9, 8, 7, 6, 1, 6, 3, 9, 6, 0, 2, 9, 2, 9, 6, 0, 0, 8, 6, 4, 9, 1, 1, 0, 5, 0, 2, 8, 4, 5, 9, 2, 6, 7, 4, 5, 5, 7, 6, 3, 8, 7, 9, 8, 4, 4, 6, 1, 1, 2, 0, 9, 1, 7, 2, 8, 8, 2, 1, 4, 4, 8, 4, 4, 6, 9, 5, 8, 5, 5, 7, 7, 5, 9, 5, 3, 4, 9, 9, 3, 7, 6, 9, 5, 8, 6, 6, 0, 7, 9, 2, 8, 3, 7, 0, 4, 0, 8, 8, 6, 2, 1, 2, 8, 9, 7, 2, 0, 2, 7, 6, 9, 1, 4, 8, 2, 8, 6, 7, 1, 1, 0, 1, 4, 6, 0, 4, 7, 1, 6, 0, 1, 9, 9, 8, 1, 6, 9, 1, 9, 9, 0, 1, 1, 7, 1, 8, 9, 1, 0, 0, 5, 7, 4, 4, 6, 5, 2, 5, 9, 8, 6, 5, 5, 3, 7, 8, 7, 7, 6, 3, 3, 1, 5, 9, 6, 7, 7, 3, 1, 7, 3, 2, 6, 6, 9, 8, 7, 2, 6, 8, 7, 7, 5, 1, 0, 7, 1, 7, 2, 1, 3, 4, 4, 9, 6, 2, 3, 8, 8, 0, 4, 7, 2, 7, 7, 9, 3, 7, 6, 8, 3, 9, 6, 4, 7, 4, 0, 3, 8, 9, 7, 0, 0, 5, 0, 7, 8, 8, 1, 8, 2, 9, 5, 8, 9, 5, 5, 2, 4, 8, 6, 3, 7, 2, 5, 5, 0, 3, 7, 4, 8, 1, 5, 1, 1, 7, 0, 1, 6, 7, 6, 8, 4, 0, 6, 6, 4, 2, 8, 7, 6, 3, 3, 7, 2, 3, 8, 9, 8, 7, 7, 4, 8, 3, 8, 7, 9, 2, 9, 9, 1, 5, 5, 4, 0, 6, 1, 2, 6, 3, 3, 2, 0, 5, 9, 7, 7, 0, 5, 0, 9, 2, 7, 7, 0, 9, 5, 5, 1, 9, 0, 3, 3, 9, 6, 7, 4, 8, 2, 5, 8, 2, 1, 4, 9, 0, 8, 2, 4, 0, 1, 2, 3, 0, 9, 4, 8, 3, 8, 9, 2, 3, 1, 4, 5, 1, 5, 1, 0, 2, 5, 2, 1, 8, 6, 4, 5, 0, 9, 3, 1, 0, 9, 1, 0, 7, 6, 6, 7, 7, 2, 6, 9, 3, 4, 5, 1, 9, 6, 6, 4, 8, 8, 6, 0, 4, 9, 5, 9, 9, 3, 9, 9, 0, 2, 2, 7, 3, 5, 1, 0, 9, 5, 8, 0, 8, 1, 1, 0, 0, 7, 4, 8, 2, 3, 3, 2, 5, 6, 0, 1, 8, 2, 6, 6, 2, 1, 3, 6, 5, 8, 3, 2, 0, 8, 1, 7, 9, 7, 2, 0, 4, 6, 8, 1, 5, 7, 9, 7, 0, 4, 1, 7, 5, 8, 7, 4, 8, 7, 3, 7, 4, 4, 0, 4, 7, 4, 3, 5, 3, 8, 1, 7, 8, 5, 7, 0, 8, 7, 5, 5, 4, 7, 1, 9, 0, 5, 2, 6, 1, 4, 8, 0, 6, 3, 1, 9, 7, 3, 5, 6, 6, 9, 8, 0, 5, 9, 6, 2, 6, 9, 5, 8, 3, 0, 5, 1, 7, 2, 8, 0, 4, 0, 8, 1, 3, 9, 7, 1, 3, 6, 7, 4, 8, 6, 7, 5, 3, 4, 3, 5, 2, 6, 9, 5, 0, 1, 7, 4, 8, 9]\n",
      "[[ 0.  0.  0. ...,  0.  0.  0.]\n",
      " [ 0.  0.  0. ...,  0.  0.  1.]\n",
      " [ 0.  0.  0. ...,  0.  0.  1.]\n",
      " ..., \n",
      " [ 0.  0.  0. ...,  0.  0.  0.]\n",
      " [ 0.  0.  0. ...,  0.  1.  0.]\n",
      " [ 0.  0.  0. ...,  0.  0.  1.]]\n"
     ]
    },
    {
     "name": "stdout",
     "output_type": "stream",
     "text": [
      "[1, 6, 6, 8, 8, 3, 4, 6, 0, 6, 0, 3, 6, 6, 5, 4, 8, 3, 2, 6, 0, 3, 1, 4, 0, 6, 6, 2, 7, 6, 9, 0, 4, 5, 7, 1, 6, 7, 9, 1, 7, 7, 8, 0, 3, 7, 4, 7, 3, 1, 0, 4, 6, 6, 1, 4, 9, 2, 6, 4, 5, 0, 4, 6, 0, 8, 3, 4, 8, 8, 3, 9, 5, 7, 1, 9, 4, 7, 9, 1, 9, 7, 5, 2, 7, 3, 4, 8, 8, 2, 1, 5, 9, 2, 7, 8, 8, 6, 8, 8, 1, 3, 8, 8, 5, 4, 7, 1, 6, 6, 1, 6, 1, 6, 7, 0, 4, 6, 9, 5, 8, 7, 1, 9, 0, 3, 3, 7, 6, 9, 0, 4, 7, 1, 4, 3, 4, 3, 9, 8, 7, 0, 8, 3, 9, 1, 0, 8, 0, 9, 4, 0, 2, 1, 4, 2, 7, 1, 7, 0, 2, 9, 7, 9, 8, 6, 4, 4, 1, 1, 7, 8, 8, 6, 4, 5, 6, 3, 9, 4, 2, 5, 3, 6, 7, 7, 3, 9, 1, 3, 1, 8, 3, 3, 5, 6, 4, 0, 9, 6, 6, 5, 0, 6, 2, 0, 5, 4, 9, 3, 4, 6, 0, 6, 7, 0, 7, 2, 6, 9, 6, 5, 4, 5, 4, 7, 7, 6, 8, 1, 5, 9, 7, 8, 8, 7, 1, 4, 6, 4, 2, 2, 5, 0, 3, 8, 9, 4, 1, 1, 4, 1, 9, 6, 3, 3, 6, 9, 5, 7, 6, 9, 4, 2, 4, 0, 0, 0, 8, 7, 5, 1, 8, 6, 7, 0, 1, 7, 7, 8, 2, 7, 4, 8, 8, 9, 8, 9, 8, 2, 8, 9, 1, 3, 5, 7, 4, 0, 1, 4, 4, 0, 8, 4, 3, 7, 9, 7, 7, 9, 3, 6, 9, 8, 1, 5, 9, 8, 5, 5, 3, 3, 3, 0, 5, 1, 0, 6, 7, 3, 0, 9, 0, 7, 0, 4, 8, 8, 0, 7, 0, 3, 9, 0, 8, 6, 8, 7, 7, 6, 4, 9, 1, 0, 8, 0, 6, 6, 7, 1, 2, 8, 1, 1, 6, 0, 5, 4, 7, 8, 1, 7, 4, 9, 6, 9, 8, 1, 2, 6, 1, 8, 5, 3, 7, 4, 7, 1, 9, 2, 9, 2, 4, 1, 0, 8, 2, 5, 2, 0, 6, 0, 8, 1, 4, 9, 2, 5, 8, 2, 5, 8, 2, 5, 3, 4, 8, 2, 3, 4, 1, 9, 7, 5, 5, 0, 4, 3, 2, 5, 3, 6, 5, 2, 8, 7, 2, 8, 2, 3, 2, 3, 8, 8, 6, 8, 1, 4, 9, 7, 1, 4, 3, 1, 3, 0, 8, 2, 1, 7, 6, 2, 3, 3, 3, 7, 7, 9, 3, 2, 0, 5, 4, 9, 2, 8, 1, 4, 4, 1, 2, 7, 5, 8, 5, 4, 0, 0, 3, 4, 7, 1, 3, 0, 9, 1, 7, 9, 2, 0, 4, 3, 7, 5, 9, 2, 3, 7, 3, 5, 6, 8, 2, 0, 5, 5, 0, 6, 3, 4, 9, 5, 1, 9, 8, 4, 0, 3, 7, 7, 8, 1, 6, 9, 3, 1, 4, 8, 7, 4, 7, 5, 5, 8, 1, 0, 7, 7, 0, 5, 6, 6, 7, 0, 6, 5, 5, 3, 3, 9, 7, 4, 7, 6, 1, 3, 5, 2, 1, 1, 4, 1, 8, 7, 0, 3, 1, 0, 0, 6, 7, 9, 2, 7, 7, 8, 5, 3, 2, 0, 9, 2, 4, 4, 2, 3, 6, 5, 7, 5, 6, 0, 7, 5, 4, 4, 8, 0, 2, 4, 8, 3, 2, 8, 1, 4, 2, 0, 3, 3, 8, 7, 9, 7, 2, 8, 9, 1, 2, 4, 1, 6, 5, 4, 3, 6, 6, 0, 8, 8, 4, 4, 1, 7, 1, 8, 8, 6, 1, 6, 0, 2, 1, 3, 4, 1, 0, 5, 9, 9, 2, 4, 9, 8, 8, 6, 7, 0, 5, 5, 5, 2, 7, 8, 0, 0, 6, 8, 1, 1, 8, 0, 8, 2, 7, 7, 0, 7, 8, 0, 0, 5, 5, 1, 4, 7, 5, 4, 9, 4, 2, 4, 8, 5, 6, 3, 4, 4, 8, 5, 5, 1, 7, 0, 1, 5, 0, 9, 6, 4, 4, 8, 3, 9, 5, 2, 5, 7, 4, 0, 7, 3, 0, 6, 7, 7, 4, 5, 6, 5, 5, 0, 2, 9, 5, 3, 3, 1, 1, 3, 2, 9, 3, 3, 7, 1, 2, 6, 5, 5, 5, 0, 9, 8, 0, 4, 4, 2, 5, 9, 3, 1, 7, 8, 6, 8, 0, 0, 7, 7, 5, 9, 0, 6, 3, 8, 6, 0, 3, 7, 1, 9, 6, 9, 6, 1, 0, 1, 0, 9, 5, 2, 2, 5, 0, 8, 9, 2, 4, 3, 8, 0, 0, 7, 3, 6, 7, 8, 7, 1, 5, 6, 8, 7, 1, 3, 1, 9, 6, 9, 9, 5, 1, 2, 4, 5, 8, 6, 4, 1, 8, 6, 2, 3, 5, 9, 1, 0, 8, 4, 9, 4, 7, 9, 3, 0, 8, 3, 7, 9, 2, 4, 5, 5, 8, 4, 2, 0, 1, 3, 3, 7, 0, 7, 7, 4, 8, 4, 5, 7, 5, 9, 1, 3, 7, 2, 7, 7, 4, 6, 4, 7, 7, 0, 9, 1, 0, 5, 2, 9, 4, 2, 1, 8, 4, 7, 8, 5, 6, 6, 1, 0, 1, 4, 5, 9, 7, 8, 3, 8, 6, 5, 6, 8, 5, 4, 2, 7, 8, 3, 9, 3, 7, 2, 9, 2, 6, 3, 6, 6, 2, 9, 3, 9, 2, 5, 6, 4, 3, 3, 4, 4, 0, 1, 0, 0, 8, 7, 3, 2, 3, 6, 8, 1, 1, 8, 4, 3, 2, 1, 4, 5, 9, 4, 8, 8, 2, 1, 5, 4, 8, 3, 4, 9, 6, 6, 8, 0, 7, 0, 0, 2, 1, 3, 7, 5, 9, 8, 7, 3, 1, 8, 0, 2, 5, 8, 2, 1, 0, 6, 8, 3, 2, 8, 0, 2, 5, 2, 0, 7, 4, 4, 0, 0, 5, 3, 3, 8, 3, 0, 2, 0, 5, 4, 5, 2, 4, 1, 6, 7, 3, 6, 8, 5, 6, 4, 7, 3, 6, 8, 2, 7, 3, 7, 0, 3, 0, 7, 8, 7, 0, 5, 5, 8, 4, 7, 6, 3, 7, 8, 6, 5, 5, 0, 4, 1, 0, 5, 0, 3, 0, 4, 1, 5, 2, 9, 8, 2, 7, 2, 6, 8, 4, 6, 5, 8, 9, 5, 6, 2, 0, 6, 7, 3, 9, 3, 2, 0, 7, 1, 6, 9, 5, 6, 0, 2, 4, 8, 4, 3, 3, 5, 0, 2, 6, 4, 9, 9, 9, 4, 1, 3, 1, 1, 1, 6, 7, 2, 4, 9, 9, 8, 5, 5, 6, 5, 7, 6, 8, 8, 6, 0, 9, 5, 7, 5, 2, 9, 8, 8, 5, 4, 7, 1, 5, 5, 5, 7, 2, 0, 9, 2, 9, 9, 5, 2, 0, 8, 0, 1, 8, 6, 6, 3, 9, 5, 5, 2, 3, 5, 4, 6, 3, 2, 2, 3, 1, 2, 2, 3, 8, 5, 2, 7, 6, 3, 8, 8, 0, 4, 9, 3, 6, 9, 7, 6, 0, 5, 0, 6, 2, 2, 3, 1, 0, 9, 4, 9, 7, 0, 9, 3, 9, 6, 3, 4, 3, 0, 0, 6, 0, 2, 1, 1, 8, 5, 6, 5, 8, 4, 4, 0, 2, 8, 4, 0, 2, 3, 9, 5, 7, 8, 5, 0, 1, 8, 8, 5, 3, 5, 2, 3, 8, 6, 5, 9, 0, 8, 7, 4, 0, 7, 4, 0, 7, 5, 2, 6, 2, 7, 6, 3, 9, 3, 3, 2, 9, 0, 5, 4, 7, 1, 0, 6, 0, 0, 8, 3, 1, 8, 6, 9, 9, 2, 5, 4, 9, 5, 6, 6, 3, 7, 5, 7, 3, 0, 2, 8, 5, 7, 5, 6, 9, 3, 7, 2, 1, 3, 7, 3, 2, 5, 2, 8, 3, 8, 6, 5, 2, 2, 7, 5, 8, 3, 2, 7, 0, 3, 6, 3, 9, 1, 2, 6, 3, 5, 3, 1, 8, 6, 3, 6, 0, 9, 0, 5, 5, 7, 8, 3, 2, 6, 2, 9, 4, 2, 3, 3, 9, 3, 7, 7, 6, 7, 6, 1, 5, 6, 4, 9, 0, 4, 4, 1, 6, 5, 6, 1, 6, 3, 7, 7, 6, 8, 7, 2, 0, 7, 1, 3, 2, 1, 9, 4, 0, 0, 7, 1, 7, 6, 9, 0, 6, 2, 3, 4, 2, 5, 6, 6, 0, 5, 5, 2, 1, 6, 7, 3, 7, 3, 5, 0, 2, 9, 2, 2, 2, 9, 3, 6, 7, 8, 5, 5, 1, 5, 6, 2, 6, 7, 1, 2, 9, 1, 0, 0, 3, 3, 2, 0, 3, 4, 1, 7, 7, 9, 2, 0, 8, 6, 8, 5, 3, 5, 5, 5, 5, 1, 3, 4, 2, 8, 7, 8, 9, 8, 4, 5, 6, 0, 4, 2, 3, 5, 0, 1, 9, 9, 2, 5, 7, 4, 1, 5, 8, 5, 4, 7, 2, 8, 5, 3, 1, 9, 3, 0, 5, 6, 2, 6, 3, 9, 4, 1, 3, 2, 1, 9, 2, 9, 4, 5, 9, 7, 0, 9, 3, 9, 1, 8, 5, 7, 4, 0, 3, 4, 8, 4, 3, 8, 7, 1, 0, 4, 1, 5, 8, 8, 3, 1, 1, 7, 4, 0, 6, 1, 4, 2, 6, 9, 4, 8, 9, 8, 9, 7, 3, 9, 8, 9, 5, 9, 6, 5, 9, 7, 2, 9, 7, 6, 5, 7, 0, 8, 1, 0, 8, 3, 0, 1, 9, 7, 5, 3, 5, 3, 4, 8, 3, 2, 2, 1, 3, 0, 6, 4, 5, 5, 6, 3, 1, 2, 0, 0, 6, 1, 1, 6, 7, 4, 2, 6, 8, 3, 6, 3, 7, 6, 9, 9, 9, 0, 5, 1, 1, 8, 2, 8, 3, 7, 4, 0, 6, 8, 8, 6, 8, 9, 9, 1, 3, 9, 0, 1, 2, 9, 1, 6, 9, 0, 6, 0, 1, 8, 5, 1, 1, 7, 1, 6, 9, 5, 1, 9, 7, 2, 8, 1, 1, 0, 2, 6, 5, 2, 3, 9, 1, 9, 3, 6, 9, 0, 5, 5, 3, 5, 6, 3, 6, 6, 2, 2, 0, 6, 0, 5, 3, 5, 3, 3, 5, 7, 7, 3, 1, 2, 2, 9, 6, 7, 1, 6, 3, 5, 6, 9, 6, 4, 3, 4, 3, 7, 0, 3, 3, 4, 2, 1, 0, 4, 5, 9, 0, 9, 9, 0, 1, 9, 7, 2, 6, 7, 1, 0, 6, 4, 9, 1, 7, 2, 5, 1, 6, 8, 4, 5, 7, 9, 8, 1, 6, 9, 0, 9, 1, 3, 9, 4, 8, 3, 4, 2, 0, 2, 9, 2, 2, 1, 5, 5, 4, 6, 1, 6, 1, 2, 5, 6, 9, 1, 8, 1, 8, 6, 9, 0, 3, 7, 0, 4, 7, 7, 8, 2, 0, 4, 7, 5, 7, 0, 1, 6, 5, 5, 5, 3, 9, 1, 3, 4, 4, 5, 4, 8, 3, 9, 8, 7, 3, 4, 7, 4, 4, 2, 3, 6, 9, 7, 4, 0, 5, 7, 2, 9, 2, 2, 8, 0, 4, 9, 1, 2, 4, 5, 3, 1, 1, 0, 8, 5, 8, 9, 3, 6, 6, 5, 8, 8, 0, 7, 1, 6, 0, 0, 4, 2, 1, 6, 9, 0, 1, 2, 5, 2, 5, 4, 7, 4, 5, 3, 4, 9, 6, 5, 2, 7, 2, 0, 3, 0, 9, 9, 8, 2, 0, 4, 0, 5, 8, 5, 7, 7, 4, 5, 1, 1, 4, 4, 0, 2, 3, 2, 2, 0, 6, 8, 1, 4, 6, 3, 3, 1, 1, 2, 7, 0, 3, 8, 8, 0, 5, 6, 4, 4, 9, 2, 8, 6, 5, 0, 7, 2, 2, 8, 4, 5, 7, 4, 3, 6, 6, 9, 9, 6, 6, 5, 4, 3, 9, 0, 0, 9, 5, 3, 6, 5, 3, 6, 7, 6, 8, 2, 4, 7, 8, 1, 4, 1, 0, 0, 0, 6, 3, 3, 6, 9, 7, 0, 1, 3, 9, 8, 3, 2, 2, 3, 2, 1, 6, 1, 3, 5, 0, 5, 1, 6, 0, 6, 2, 4, 2, 9, 0, 9, 1, 8, 6, 2, 5, 5, 2, 1, 0, 0, 2, 4, 3, 6, 0, 0, 1, 6, 5, 0, 4, 9, 9, 8, 5, 5, 8, 3, 8, 8, 4, 0, 3, 7, 5, 7, 1, 6, 1, 4, 9, 3, 4, 2, 4, 2, 4, 3, 9, 3, 1, 8, 9, 4, 3, 5, 8, 0, 6, 1, 4, 8, 8, 1, 8, 0, 0, 0, 4, 0, 4, 5, 4, 2, 6, 0, 2, 2, 7, 4, 5, 3, 6, 3, 2, 0, 1, 6, 9, 8, 4, 3, 2, 7, 1, 9, 4, 2, 9, 7, 1, 0, 2, 1, 6, 1, 1, 6, 8, 2, 3, 8, 8, 5, 0, 4, 2, 0, 9, 1, 5, 1, 9, 9, 2, 8, 3, 2, 0, 6, 8, 3, 8, 8, 5, 6, 2, 8, 5, 6, 4, 5, 8, 8, 4, 0, 1, 3, 2, 4, 6, 3, 3, 4, 6, 2, 7, 6, 6, 5, 4, 3, 0, 7, 1, 7, 0, 1, 1, 8, 0, 5, 8, 3, 6, 5, 6, 3, 5, 7, 7, 9, 5, 1, 9, 8, 2, 8, 0, 4, 6, 3, 5, 0, 8, 9, 1, 4, 9, 6, 1, 0, 8, 2, 8, 7, 0, 7, 7, 6, 5, 1, 1, 8, 3, 9, 1, 5, 4, 1, 0, 4, 8, 2, 9, 3, 5, 1, 1, 6, 0, 1, 0, 0, 9, 1, 5, 4, 6, 1, 3, 6, 1, 4, 1, 4, 5, 1, 9, 4, 9, 9, 3, 2, 8, 8, 7, 6, 5, 2, 4, 0, 5, 7, 0, 3, 5, 4, 3, 4, 4, 1, 1, 6, 2, 6, 1, 5, 3, 4, 0, 0, 2, 9, 1, 5, 1, 8, 5, 8, 6, 0, 6, 5, 9, 6, 1, 2, 2, 0, 7, 7, 3, 6, 4, 6, 3, 5, 8, 1, 6, 0, 2, 3, 1, 6, 2, 7, 3, 9, 1, 9, 3, 2, 1, 1, 5, 3, 9, 0, 7, 8, 6, 7, 2, 2, 8, 8, 7, 8, 9, 9, 4, 6, 4, 0, 7, 6, 1, 9, 0, 7, 4, 4, 8, 0, 0, 2, 8, 2, 1, 3, 8, 9, 3, 0, 0, 5, 7, 6, 6, 0, 3, 7, 8, 7, 3, 6, 8, 8, 4, 6, 7, 6, 2, 3, 3, 1, 8, 4, 3, 2, 9, 8, 6, 6, 9, 0, 2, 7, 7, 2, 7, 9, 5, 0, 1, 2, 2, 2, 7, 3, 7, 0, 4, 7, 5, 8, 7, 9, 4, 5, 9, 8, 5, 4, 8, 6, 0, 0, 1, 6, 5, 9, 8, 0, 3, 2, 7, 8, 2, 4, 2, 0, 6, 0, 4, 4, 6, 8, 5, 5, 1, 3, 5, 2, 8, 1, 4, 1, 6, 6, 6, 7, 3, 7, 4, 9, 5, 2, 0, 7, 2, 1, 1, 4, 0, 9, 0, 8, 8, 5, 3, 7, 1, 2, 6, 1, 3, 0, 6, 9, 5, 8, 3, 5, 1, 6, 9, 9, 5, 7, 7, 5, 9, 5, 1, 5, 7, 5, 2, 1, 7, 4, 5, 7, 4, 5, 2, 2, 2, 8, 1, 6, 9, 2, 4, 4, 1, 5, 1, 3, 6, 6, 3, 8, 8, 3, 2, 4, 6, 8, 8, 2, 9, 6, 8, 4, 3, 9, 8, 8, 2, 7, 3, 6, 1, 5, 1, 2, 6, 7, 8, 7, 1, 1, 5, 3, 6, 7, 0, 6, 4, 9, 2, 3, 0, 6, 3, 1, 9, 4, 8, 3, 1, 5, 8, 2, 5, 9, 9, 5, 2, 6, 7, 0, 0, 5, 9, 4, 9, 4, 6, 2, 0, 2, 9, 3, 4, 3, 0, 2, 1, 7, 2, 6, 9, 3, 5, 7, 6, 1, 5, 5, 8, 6, 7, 4, 6, 2, 2, 7, 5, 2, 4, 8, 9, 5, 1, 2, 0, 7, 9, 3, 9, 9, 2, 2, 9, 7, 7, 9, 5, 4, 9, 1, 2, 2, 7, 4, 2, 8, 5, 4, 5, 9, 0, 8, 1, 7, 5, 6, 6, 4, 7, 6, 0, 1, 2, 1, 7, 9, 1, 8, 2, 0, 3, 7, 2, 2, 0, 1, 7, 0, 3, 7, 9, 0, 8, 7, 0, 6, 1, 0, 5, 5, 7, 8, 8, 1, 1, 9, 3, 0, 7, 6, 3, 6, 2, 3, 2, 0, 3, 7, 6, 9, 2, 5, 8, 9, 7, 4, 6, 4, 3, 6, 1, 8, 0, 4, 6, 4, 8, 0, 0, 0, 4, 3, 4, 8, 1, 3, 9, 0, 0, 2, 0, 3, 9, 3, 6, 5, 4, 9, 1, 5, 8, 6, 5, 5, 8, 9, 0, 3, 7, 5, 9, 1, 7, 4, 7, 7, 4, 2, 7, 1, 6, 5, 6, 3, 0, 8, 1, 8, 4, 4, 2, 8, 4, 9, 7, 1, 8, 8, 8, 7, 3, 2, 3, 9, 6, 1, 8, 2, 9, 6, 8, 1, 3, 0, 5, 6, 3, 6, 7, 7, 5, 8, 2, 1, 1, 9, 4, 6, 4, 7, 7, 7, 9, 1, 3, 8, 6, 8, 5, 7, 0, 0, 5, 5, 1, 0, 0, 1, 8, 1, 1, 4, 0, 1, 2, 7, 8, 1, 6, 1, 6, 5, 8, 6, 6, 8, 0, 5, 8, 6, 2, 7, 7, 3, 0, 2, 1, 5, 9, 1, 9, 8, 3, 3, 8, 9, 3, 9, 2, 4, 0, 7, 5, 1, 1, 3, 3, 0, 4, 3, 9, 3, 9, 3, 5, 4, 9, 1, 2, 9, 7, 1, 1, 7, 7, 7, 9, 5, 3, 4, 2, 0, 2, 0, 7, 7, 6, 4, 7, 1, 9, 3, 1, 9, 8, 4, 1, 2, 0, 7, 1, 0, 4, 3, 7, 8, 0, 9, 6, 3, 8, 4, 7, 4, 9, 4, 7, 8, 0, 6, 0, 0, 1, 2, 9, 2, 2, 1, 4, 7, 1, 8, 2, 0, 1, 5, 6, 2, 5, 6, 5, 0, 1, 3, 8, 0, 1, 5, 7, 2, 0, 3, 3, 9, 3, 1, 6, 5, 0, 0, 9, 2, 8, 5, 9, 2, 6, 6, 9, 8, 6, 2, 3, 7, 0, 3, 0, 5, 1, 3, 0, 3, 7, 3, 3, 8, 9, 5, 1, 1, 5, 6, 4, 5, 5, 7, 0, 2, 1, 8, 0, 5, 5, 7, 2, 8, 8, 6, 1, 7, 6, 5, 1, 6, 7, 9, 7, 6, 9, 1, 2, 8, 7, 9, 4, 7, 7, 6, 9, 8, 6, 2, 5, 6, 1, 4, 7, 7, 9, 1, 5, 5, 1, 6, 2, 9, 1, 8, 1, 5, 9, 5, 6, 2, 4, 0, 1, 3, 6, 8, 3, 7, 9, 5, 0, 8, 6, 2, 7, 2, 6, 0, 7, 4, 6, 7, 4, 5, 6, 3, 5, 1, 7, 7, 0, 2, 4, 8, 7, 9, 7, 3, 3, 5, 3, 3, 0, 1, 9, 6, 4, 9, 4, 6, 9, 4, 6, 1, 1, 7, 6, 3, 3, 0, 7, 0, 2, 8, 2, 0, 0, 4, 2, 8, 1, 3, 5, 7, 0, 1, 1, 8, 1, 2, 1, 5, 5, 3, 0, 5, 2, 5, 5, 3, 3, 9, 5, 5, 8, 3, 0, 6, 1, 9, 1, 9, 8, 7, 7, 4, 2, 7, 7, 2, 8, 2, 7, 1, 2, 4, 7, 3, 4, 5, 7, 5, 2, 3, 5, 0, 2, 6, 4, 8, 9, 7, 1, 3, 9, 7, 2, 1, 3, 4, 7, 8, 6, 4, 9, 4, 4, 1, 0, 3, 2, 8, 5, 1, 2, 4, 9, 2, 8, 1, 0, 8, 0, 1, 3, 3, 3, 6, 1, 7, 0, 6, 7, 9, 8, 7, 2, 2, 9, 9, 6, 5, 9, 7, 0, 3, 8, 7, 5, 7, 6, 8, 5, 0, 9, 5, 5, 5, 2, 4, 9, 6, 1, 6, 0, 8, 9, 3, 7, 7, 1, 5, 7, 7, 7, 9, 9, 9, 0, 6, 9, 4, 8, 5, 8, 6, 6, 4, 5, 3, 7, 4, 3, 2, 2, 9, 0, 0, 1, 6, 8, 5, 8, 9, 2, 7, 6, 5, 4, 2, 6, 2, 4, 1, 2, 0, 0, 9, 1, 7, 2, 8, 8, 4, 4, 9, 7, 2, 6, 2, 0, 2, 0, 2, 2, 3, 6, 6, 7, 3, 1, 7, 3, 2, 2, 8, 7, 4, 6, 4, 9, 6, 5, 0, 3, 0, 8, 5, 1, 3, 4, 2, 4, 0, 1, 4, 1, 3, 4, 0, 9, 9, 8, 2, 2, 6, 0, 8, 7, 0, 6, 2, 2, 2, 1, 0, 0, 9, 2, 7, 7, 6, 6, 0, 4, 5, 6, 8, 3, 9, 8, 1, 2, 0, 1, 1, 4, 6, 9, 4, 7, 6, 7, 5, 3, 8, 9, 7, 0, 1, 2, 7, 1, 5, 5, 9, 3, 9, 5, 3, 1, 8, 4, 6, 9, 7, 7, 3, 2, 1, 1, 8, 8, 7, 5, 0, 6, 5, 3, 8, 6, 1, 2, 2, 1, 2, 3, 0, 8, 1, 2, 8, 7, 2, 4, 7, 0, 1, 8, 6, 8, 0, 8, 9, 0, 5, 9, 3, 8, 0, 3, 2, 9, 8, 9, 6, 3, 8, 5, 3, 0, 3, 6, 7, 5, 9, 6, 3, 3, 6, 5, 7, 8, 6, 1, 9, 5, 6, 3, 0, 8, 1, 8, 6, 5, 6, 8, 2, 7, 8, 5, 9, 2, 0, 7, 0, 3, 7, 7, 8, 6, 6, 4, 2, 7, 2, 2, 8, 9, 2, 5, 7, 4, 1, 2, 0, 0, 5, 4, 3, 4, 2, 0, 9, 5, 2, 0, 3, 9, 4, 4, 9, 8, 1, 0, 9, 9, 2, 8, 5, 8, 2, 5, 2, 3, 5, 5, 4, 2, 6, 8, 5, 3, 6, 3, 5, 9, 4, 6, 8, 8, 8, 7, 1, 2, 9, 3, 1, 8, 7, 9, 9, 7, 0, 4, 7, 0, 9, 0, 1, 0, 4, 0, 9, 7, 6, 8, 5, 1, 6, 9, 3, 4, 2, 8, 8, 9, 8, 7, 3, 6, 2, 6, 7, 8, 9, 1, 7, 1, 8, 8, 9, 4, 0, 3, 7, 3, 0, 2, 6, 6, 1, 6, 2, 5, 2, 4, 2, 4, 1, 4, 5, 1, 9, 1, 4, 2, 9, 4, 5, 1, 7, 6, 2, 4, 9, 9, 5, 9, 6, 1, 4, 2, 4, 8, 7, 7, 9, 5, 3, 2, 9, 6, 6, 9, 7, 0, 0, 6, 4, 6, 5, 6, 9, 8, 9, 8, 3, 2, 3, 2, 4, 8, 0, 7, 2, 2, 1, 3, 1, 3, 6, 3, 9, 4, 5, 3, 2, 4, 0, 4, 0, 8, 2, 6, 1, 5, 0, 5, 1, 6, 1, 4, 6, 2, 1, 0, 8, 1, 2, 8, 4, 2, 3, 1, 8, 0, 0, 3, 4, 0, 5, 6, 9, 8, 9, 9, 4, 5, 3, 8, 4, 0, 1, 6, 2, 0, 9, 4, 8, 1, 5, 8, 4, 7, 9, 6, 2, 7, 8, 0, 1, 4, 1, 2, 1, 7, 2, 0, 4, 9, 4, 9, 3, 1, 4, 9, 5, 8, 3, 3, 0, 6, 9, 3, 9, 6, 6, 1, 8, 1, 3, 5, 4, 3, 8, 5, 3, 6, 4, 2, 7, 2, 0, 6, 6, 1, 3, 7, 4, 1, 4, 4, 7, 5, 6, 7, 0, 1, 3, 8, 2, 6, 3, 8, 4, 5, 7, 9, 9, 0, 6, 0, 8, 1, 9, 2, 3, 4, 1, 7, 7, 3, 7, 4, 0, 5, 8, 8, 5, 4, 2, 3, 4, 6, 2, 5, 3, 8, 4, 1, 4, 1, 1, 5, 1, 4, 5, 7, 6, 5, 1, 1, 1, 9, 6, 8, 8, 2, 2, 3, 5, 9, 2, 3, 4, 9, 2, 4, 0, 6, 0, 5, 6, 8, 2, 3, 3, 3, 5, 5, 1, 4, 8, 4, 6, 1, 4, 6, 6, 7, 8, 8, 3, 1, 8, 7, 4, 0, 9, 8, 1, 0, 7, 8, 9, 4, 1, 2, 2, 3, 6, 7, 1, 1, 0, 3, 9, 9, 4, 1, 4, 5, 9, 2, 0, 0, 7, 4, 9, 6, 2, 7, 4, 2, 3, 4, 3, 1, 5, 2, 7, 1, 9, 6, 9, 9, 1, 7, 5, 4, 4, 2, 3, 3, 7, 1, 4, 9, 4, 2, 3, 0, 1, 3, 5, 2, 5, 3, 8, 0, 3, 7, 2, 0, 1, 7, 6, 8, 6, 4, 2, 0, 0, 0, 6, 5, 8, 4, 7, 7, 1, 2, 4, 3, 8, 7, 4, 4, 0, 2, 3, 2, 2, 8, 5, 5, 3, 6, 6, 4, 1, 8, 1, 1, 0, 9, 3, 2, 9, 2, 2, 8, 9, 6, 9, 2, 4, 1, 8, 5, 5, 4, 3, 6, 9, 0, 7, 2, 0, 0, 2, 7, 9, 9, 2, 6, 1, 7, 0, 1, 9, 2, 8, 8, 1, 0, 8, 6, 0, 7, 7, 0, 9, 7, 7, 9, 5, 7, 5, 9, 3, 4, 5, 2, 2, 3, 6, 3, 7, 3, 4, 6, 3, 1, 3, 1, 6, 7, 4, 4, 8, 5, 1, 2, 1, 9, 4, 2, 3, 7, 4, 4, 6, 4, 5, 8, 7, 4, 4, 3, 9, 2, 6, 0, 3, 2, 9, 7, 5, 6, 0, 5, 8, 9, 9, 2, 8, 3, 4, 4, 2, 8, 8, 1, 3, 7, 6, 8, 6, 2, 9, 2, 3, 5, 2, 1, 7, 1, 4, 2, 4, 8, 0, 2, 0, 4, 1, 0, 3, 2, 3, 4, 2, 8, 7, 5, 3, 5, 9, 4, 0, 9, 2, 8, 0, 3, 5, 9, 7, 0, 0, 1, 5, 9, 1, 3, 0, 6, 0, 3, 6, 5, 0, 8, 7, 0, 1, 6, 2, 8, 5, 7, 9, 1, 4, 2, 9, 4, 7, 2, 0, 5, 1, 3, 8, 7, 2, 7, 3, 7, 7, 1, 4, 1, 1, 3, 1, 4, 2, 1, 4, 3, 9, 4, 8, 0, 5, 6, 0, 7, 6, 4, 4, 7, 2, 7, 9, 8, 7, 2, 5, 9, 0, 5, 1, 4, 6, 4, 0, 6, 4, 7, 1, 4, 3, 9, 2, 3, 2, 9, 1, 2, 8, 6, 4, 7, 7, 5, 9, 0, 2, 9, 5, 8, 2, 4, 0, 8, 6, 6, 1, 7, 4, 1, 7, 0, 1, 7, 5, 3, 1, 0, 6, 9, 2, 0, 1, 9, 2, 8, 5, 3, 9, 0, 4, 1, 9, 2, 2, 4, 9, 6, 5, 2, 0, 6, 1, 0, 8, 4, 3, 0, 0, 0, 7, 4, 3, 4, 7, 3, 5, 2, 8, 1, 0, 2, 1, 1, 7, 5, 6, 9, 1, 6, 0, 9, 3, 1, 6, 6, 9, 4, 7, 1, 1, 0, 4, 5, 9, 1, 9, 3, 3, 0, 8, 5, 7, 4, 5, 0, 4, 3, 7, 1, 8, 7, 9, 8, 3, 6, 9, 1, 6, 0, 1, 0, 8, 9, 6, 3, 4, 7, 4, 3, 2, 4, 7, 9, 9, 9, 8, 4, 0, 3, 2, 5, 9, 9, 4, 3, 3, 4, 7, 3, 5, 3, 8, 7, 2, 4, 0, 9, 8, 2, 7, 3, 0, 0, 1, 0, 2, 7, 0, 1, 9, 4, 2, 2, 7, 6, 3, 8, 4, 6, 9, 9, 7, 4, 8, 7, 0, 9, 9, 4, 2, 2, 6, 6, 3, 8, 6, 9, 5, 6, 6, 7, 6, 5, 7, 4, 4, 7, 8, 6, 6, 2, 7, 8, 1, 4, 4, 2, 3, 8, 4, 5, 3, 0, 7, 0, 2, 4, 5, 2, 1, 6, 9, 1, 5, 4, 8, 0, 4, 1, 5, 4, 7, 2, 5, 3, 2, 1, 5, 6, 6, 7, 5, 5, 9, 8, 3, 7, 9, 2, 0, 4, 5, 7, 8, 6, 9, 5, 2, 0, 4, 5, 6, 3, 3, 4, 9, 3, 5, 0, 3, 8, 8, 0, 1, 8, 2, 1, 1, 8, 6, 2, 1, 1, 9, 5, 7, 4, 0, 8, 8, 3, 9, 0, 7, 5, 3, 8, 4, 7, 2, 1, 7, 7, 9, 4, 7, 6, 4, 5, 6, 5, 3, 2, 8, 0, 6, 2, 7, 7, 5, 5, 2, 5, 5, 1, 9, 8, 8, 2, 2, 2, 7, 6, 4, 2, 7, 1, 4, 0, 3, 7, 4, 0, 9, 9, 2, 4, 4, 7, 4, 8, 5, 5, 2, 3, 1, 0, 5, 4, 7, 3, 7, 5, 9, 8, 1, 0, 0, 7, 9, 4, 2, 2, 9, 2, 4, 4, 3, 7, 2, 3, 8, 7, 8, 6, 9, 8, 4, 6, 2, 6, 8, 8, 6, 2, 2, 1, 7, 6, 2, 2, 5, 2, 2, 1, 6, 8, 9, 0, 1, 5, 1, 4, 4, 8, 1, 0, 4, 4, 1, 2, 3, 7, 7, 6, 7, 8, 0, 9, 4, 8, 1, 8, 6, 1, 5, 8, 0, 1, 4, 9, 5, 4, 8, 6, 9, 4, 2, 4, 6, 1, 8, 9, 4, 6, 9, 5, 7, 0, 2, 1, 8, 9, 2, 1, 4, 6, 4, 5, 0, 7, 4, 1, 9, 4, 2, 6, 9, 2, 3, 3, 4, 8, 4, 3, 4, 2, 1, 7, 5, 2, 5, 5, 4, 8, 4, 3, 4, 3, 7, 6, 3, 3, 4, 7, 0, 2, 7, 0, 0, 6, 6, 5, 9, 9, 7, 4, 4, 0, 6, 5, 5, 3, 5, 1, 5, 1, 1, 3, 8, 9, 8, 3, 6, 4, 5, 7, 7, 1, 8, 7, 6, 8, 7, 6, 9, 3, 5, 2, 7, 9, 8, 5, 3, 6, 1, 4, 4, 9, 6, 0, 6, 7, 0, 4, 9, 5, 8, 0, 4, 3, 8, 4, 7, 1, 8, 3, 5, 4, 5, 7, 4, 8, 6, 4, 8, 6, 9, 6, 5, 0, 9, 5, 9, 2, 6, 4, 7, 6, 6, 6, 6, 1, 8, 0, 7, 8, 7, 6, 8, 6, 1, 6, 3, 2, 7, 9, 3, 7, 1, 6, 1, 9, 6, 6, 2, 9, 7, 2, 1, 7, 6, 7, 7, 5, 6, 6, 0, 6, 7, 3, 7, 9, 3, 6, 9, 0, 0, 2, 5, 9, 2, 8, 6, 2, 4, 9, 0, 7, 7, 1, 9, 0, 5, 9, 4, 3, 6, 3, 2, 6, 8, 4, 0, 1, 0, 6, 7, 2, 9, 7, 2, 3, 9, 2, 2, 4, 3, 8, 3, 5, 4, 7, 5, 2, 8, 7, 0, 3, 2, 4, 9, 9, 4, 2, 3, 2, 0, 7, 0, 9, 1, 4, 0, 3, 4, 3, 7, 4, 9, 2, 8, 1, 6, 8, 6, 5, 7, 4, 3, 4, 9, 1, 2, 8, 3, 2, 5, 4, 6, 9, 3, 2, 1, 2, 6, 5, 9, 9, 2, 9, 0, 6, 6, 7, 1, 4, 9, 8, 4, 2, 4, 3, 4, 9, 1, 8, 5, 7, 9, 3, 6, 2, 5, 2, 9, 7, 3, 6, 5, 6, 9, 7, 8, 3, 0, 3, 6, 3, 5, 2, 6, 6, 5, 3, 7, 0, 8, 4, 8, 0, 8, 5, 4, 9, 7, 3, 3, 1, 9, 8, 3, 9, 4, 4, 0, 4, 5, 0, 4, 8, 1, 2, 9, 9, 3, 3, 4, 8, 3, 7, 7, 6, 1, 9, 1, 8, 2, 3, 3, 9, 1, 7, 7, 3, 2, 1, 9, 0, 2, 7, 6, 7, 5, 6, 1, 7, 2, 3, 1, 3, 5, 9, 2, 0, 3, 1, 4, 1, 0, 2, 3, 5, 3, 2, 1, 6, 7, 0, 5, 5, 3, 8, 8, 7, 7, 2, 7, 8, 8, 9, 9, 7, 0, 8, 3, 5, 9, 6, 4, 5, 3, 4, 6, 7, 3, 8, 5, 4, 6, 9, 6, 0, 0, 5, 7, 2, 1, 7, 7, 6, 3, 5, 1, 7, 5, 7, 8, 9, 2, 5, 5, 3, 9, 8, 9, 2, 4, 5, 0, 2, 1, 9, 3, 9, 6, 1, 6, 3, 1, 6, 7, 3, 5, 1, 4, 0, 3, 2, 4, 7, 9, 6, 5, 2, 8, 4, 8, 5, 4, 6, 3, 3, 7, 0, 4, 8, 3, 8, 2, 9, 3, 8, 1, 6, 1, 4, 7, 4, 8, 2, 5, 5, 7, 4, 0, 0, 1, 8, 0, 6, 4, 6, 2, 3, 6, 4, 1, 3, 5, 5, 1, 0, 3, 4, 8, 1, 6, 6, 7, 1, 1, 1, 9, 2, 0, 0, 3, 2, 1, 3, 3, 7, 0, 6, 5, 5, 2, 6, 6, 9, 7, 4, 0, 6, 5, 1, 4, 5, 6, 8, 8, 6, 3, 0, 9, 1, 6, 6, 5, 0, 9, 0, 4, 8, 2, 1, 9, 4, 0, 5, 7, 1, 6, 7, 4, 0, 6, 1, 4, 8, 7, 2, 3, 1, 4, 4, 5, 1, 2, 4, 6, 4, 4, 6, 1, 6, 4, 4, 7, 9, 0, 0, 7, 5, 3, 0, 7, 0, 5, 7, 7, 6, 8, 0, 3, 5, 1, 1, 1, 2, 9, 3, 2, 7, 2, 9, 7, 2, 6, 9, 0, 0, 8, 1, 5, 2, 1, 4, 7, 0, 0, 4, 1, 2, 2, 9, 4, 9, 2, 0, 5, 6, 2, 0, 3, 4, 9, 2, 7, 6, 1, 5, 3, 7, 8, 5, 8, 6, 1, 1, 2, 6, 7, 3, 8, 9, 8, 8, 8, 0, 2, 0, 0, 4, 4, 7, 4, 0, 8, 8, 6, 1, 1, 6, 8, 0, 9, 2, 2, 3, 3, 3, 4, 7, 4, 1, 7, 8, 2, 6, 6, 9, 5, 2, 1, 4, 6, 2, 3, 4, 0, 1, 4, 6, 1, 4, 4, 4, 1, 1, 8, 5, 2, 4, 6, 8, 0, 0, 7, 9, 8, 3, 4, 4, 5, 5, 9, 8, 0, 9, 7, 1, 9, 9, 2, 2, 2, 8, 8, 2, 5, 1, 4, 1, 2, 3, 0, 5, 5, 1, 1, 7, 5, 3, 4, 8, 2, 4, 6, 7, 8, 6, 4, 5, 9, 6, 8, 5, 9, 4, 2, 7, 5, 4, 0, 5, 4, 1, 3, 1, 3, 1, 8, 4, 8, 8, 5, 1, 1, 9, 2, 9, 3, 2, 0, 1, 8, 9, 8, 4, 5, 6, 9, 5, 2, 3, 0, 8, 7, 1, 6, 7, 4, 5, 5, 1, 4, 3, 1, 8, 4, 9, 1, 9, 9, 5, 6, 2, 2, 4, 7, 1, 3, 3, 8, 7, 1, 5, 3, 6, 1, 4, 8, 6, 6, 7, 3, 5, 1, 6, 8, 6, 2, 1, 5, 6, 9, 3, 3, 2, 9, 7, 6, 7, 9, 3, 0, 2, 3, 6, 0, 1, 6, 3, 8, 3, 2, 9, 0, 6, 9, 7, 8, 3, 5, 6, 2, 0, 5, 7, 0, 2, 7, 3, 1, 3, 9, 3, 7, 3, 5, 5, 0, 4, 8, 0, 1, 1, 2, 0, 0, 3, 3, 9, 6, 3, 3, 7, 6, 8, 7, 3, 1, 0, 1, 0, 0, 2, 7, 2, 1, 8, 0, 5, 2, 2, 1, 5, 2, 0, 9, 6, 1, 6, 1, 1, 2, 5, 4, 2, 8, 3, 2, 8, 5, 7, 4, 4, 4, 8, 9, 2, 0, 9, 4, 2, 8, 8, 2, 9, 0, 7, 7, 1, 8, 9, 3, 4, 5, 2, 3, 7, 5, 2, 6, 0, 4, 8, 0, 1, 8, 5, 3, 3, 8, 7, 3, 4, 0, 6, 1, 6, 4, 8, 9, 1, 3, 5, 7, 7, 6, 2, 5, 3, 2, 9, 2, 9, 7, 5, 2, 2, 6, 1, 5, 6, 5, 1, 5, 4, 6, 0, 9, 6, 2, 3, 7, 7, 7, 7, 9, 0, 6, 0, 7, 1, 4, 6, 5, 0, 0, 1, 3, 3, 0, 9, 1, 3, 1, 4, 7, 7, 1, 4, 7, 7, 8, 2, 1, 2, 7, 7, 4, 2, 3, 1, 1, 4, 7, 7, 2, 8, 5, 8, 2, 9, 5, 0, 8, 2, 9, 7, 2, 9, 9, 0, 2, 4, 6, 0, 9, 6, 1, 6, 0, 1, 6, 4, 6, 3, 8, 8, 4, 7, 0, 8, 1, 9, 5, 2, 5, 1, 1, 8, 4, 8, 1, 7, 1, 8, 7, 9, 2, 9, 7, 7, 6, 5, 2, 0, 4, 2, 0, 7, 4, 6, 9, 8, 7, 5, 2, 4, 0, 7, 0, 0, 9, 8, 3, 3, 8, 7, 2, 6, 8, 4, 8, 1, 6, 3, 3, 8, 1, 5, 4, 4, 0, 7, 4, 8, 8, 9, 9, 7, 7, 0, 8, 0, 7, 5, 4, 9, 6, 3, 4, 8, 3, 1, 8, 0, 8, 7, 9, 3, 2, 5, 8, 5, 0, 9, 7, 1, 4, 9, 7, 2, 6, 8, 4, 1, 4, 0, 7, 7, 5, 0, 7, 5, 1, 3, 0, 7, 8, 4, 4, 0, 1, 7, 5, 4, 6, 2, 9, 5, 9, 8, 2, 2, 3, 5, 1, 5, 0, 0, 2, 4, 8, 6, 0, 4, 2, 4, 1, 7, 0, 9, 7, 3, 7, 0, 3, 2, 1, 9, 0, 5, 9, 0, 8, 4, 4, 6, 3, 4, 0, 8, 5, 1, 2, 1, 7, 1, 0, 4, 9, 1, 8, 1, 8, 7, 1, 9, 4, 4, 7, 2, 9, 1, 5, 5, 3, 1, 3, 2, 1, 1, 5, 1, 2, 5, 8, 5, 6, 3, 6, 1, 6, 2, 3, 2, 5, 0, 9, 4, 3, 3, 0, 7, 1, 7, 3, 9, 2, 8, 0, 2, 9, 3, 1, 1, 5, 2, 0, 2, 8, 0, 9, 2, 2, 1, 5, 3, 4, 7, 1, 2, 2, 4, 9, 8, 1, 1, 6, 7, 3, 8, 6, 1, 3, 8, 3, 8, 9, 7, 3, 0, 9, 7, 2, 7, 5, 2, 6, 9, 7, 4, 2, 5, 9, 3, 5, 9, 3, 3, 1, 3, 6, 1, 9, 0, 0, 2, 9, 5, 0, 7, 5, 9, 2, 0, 8, 9, 4, 4, 1, 6, 6, 8, 6, 6, 0, 0, 6, 9, 8, 9, 0, 6, 7, 1, 3, 2, 5, 6, 3, 2, 9, 5, 6, 1, 3, 1, 9, 8, 2, 2, 7, 3, 5, 0, 3, 8, 0, 6, 8, 4, 3, 1, 6, 8, 5, 3, 4, 4, 8, 5, 1, 3, 2, 6, 2, 6, 8, 5, 4, 2, 9, 0, 3, 0, 6, 3, 5, 9, 6, 0, 8, 9, 5, 0, 4, 2, 4, 7, 4, 8, 7, 7, 5, 5, 1, 2, 8, 1, 6, 8, 7, 6, 8, 9, 4, 9, 8, 7, 4, 4, 0, 9, 6, 1, 9, 4, 6, 5, 3, 5, 0, 2, 6, 6, 0, 3, 4, 7, 4, 7, 6, 6, 8, 5, 0, 8, 0, 4, 4, 7, 9, 4, 9, 8, 0, 3, 9, 5, 4, 3, 4, 3, 0, 2, 0, 8, 9, 5, 9, 3, 7, 3, 6, 5, 0, 4, 1, 5, 6, 6, 3, 0, 1, 7, 9, 0, 0, 0, 1, 5, 7, 8, 0, 5, 3, 6, 1, 0, 7, 5, 0, 9, 2, 2, 2, 8, 3, 6, 1, 1, 1, 5, 0, 5, 2, 7, 3, 6, 6, 3, 4, 1, 7, 6, 9, 9, 2, 1, 9, 0, 8, 1, 9, 7, 9, 9, 6, 3, 4, 6, 8, 8, 2, 5, 6, 9, 1, 9, 4, 2, 9, 7, 3, 8, 6, 2, 5, 0, 0, 5, 3, 3, 1, 8, 9, 0, 7, 0, 3, 4, 0, 1, 6, 4, 9, 9, 5, 2, 7, 3, 0, 4, 8, 8, 8, 7, 5, 7, 9, 3, 8, 5, 4, 2, 3, 2, 6, 9, 7, 7, 7, 6, 4, 6, 2, 4, 1, 4, 6, 8, 0, 2, 1, 3, 9, 1, 2, 9, 6, 0, 6, 9, 4, 2, 2, 8, 2, 2, 2, 6, 8, 5, 9, 8, 5, 4, 3, 0, 3, 7, 9, 9, 4, 1, 1, 2, 6, 3, 2, 8, 9, 9, 7, 9, 0, 3, 1, 8, 9, 1, 8, 9, 8, 8, 3, 2, 0, 0, 9, 1, 9, 8, 2, 3, 5, 2, 2, 9, 1, 3, 2, 5, 4, 7, 3, 0, 1, 3, 1, 6, 2, 3, 3, 6, 2, 6, 0, 7, 1, 1, 5, 6, 9, 1, 5, 4, 9, 1, 8, 0, 1, 6, 8, 3, 5, 6, 2, 6, 0, 2, 3, 7, 6, 2, 3, 8, 0, 6, 5, 3, 5, 5, 5, 1, 0, 4, 9, 2, 3, 4, 2, 3, 9, 1, 7, 5, 1, 3, 7, 8, 3, 9, 2, 8, 9, 6, 5, 7, 0, 7, 3, 7, 1, 8, 0, 8, 2, 1, 5, 0, 3, 0, 7, 0, 6, 4, 7, 6, 4, 8, 8, 1, 9, 1, 3, 5, 1, 7, 1, 8, 4, 4, 5, 8, 8, 6, 6, 3, 4, 0, 2, 7, 3, 7, 3, 3, 5, 6, 2, 7, 7, 4, 7, 4, 7, 1, 6, 9, 9, 5, 6, 4, 4, 4, 4, 0, 4, 0, 2, 5, 4, 8, 5, 2, 9, 8, 0, 3, 4, 2, 3, 4, 9, 9, 9, 0, 6, 7, 6, 6, 9, 0, 2, 0, 7, 4, 9, 4, 1, 4, 6, 3, 1, 8, 5, 3, 5, 5, 5, 4, 1, 1, 0, 6, 7, 8, 9, 7, 6, 3, 1, 4, 5, 3, 4, 0, 1, 0, 5, 1, 5, 1, 4, 6, 4, 1, 0, 1, 0, 9, 4, 4, 5, 6, 3, 7, 9, 2, 9, 5, 9, 8, 5, 2, 1, 6, 3, 9, 1, 1, 3, 8, 1, 1, 8, 1, 9, 4, 7, 7, 1, 6, 9, 6, 7, 1, 3, 8, 7, 5, 8, 1, 5, 8, 0, 8, 8, 1, 0, 2, 1, 3, 6, 8, 9, 8, 7, 3, 6, 0, 5, 8, 6, 1, 1, 1, 4, 8, 6, 3, 7, 4, 4, 7, 3, 9, 2, 4, 4, 3, 3, 8, 4, 7, 3, 9, 3, 0, 5, 0, 2, 3, 7, 6, 9, 3, 8, 2, 5, 8, 3, 9, 7, 2, 0, 6, 8, 3, 6, 0, 4, 4, 5, 0, 7, 0, 4, 0, 2, 2, 6, 0, 2, 9, 1, 2, 0, 5, 7, 3, 9, 3, 9, 0, 0, 5, 0, 3, 6, 1, 0, 9, 9, 7, 1, 1, 7, 2, 0, 8, 2, 6, 7, 8, 5, 2, 4, 3, 8, 1, 2, 1, 7, 8, 4, 6, 0, 2, 1, 1, 3, 2, 9, 0, 5, 9, 6, 3, 4, 4, 4, 5, 8, 4, 6, 5, 6, 0, 3, 0, 7, 9, 7, 7, 4, 8, 9, 3, 5, 0, 8, 8, 1, 8, 9, 6, 6, 0, 5, 9, 7, 0, 4, 8, 7, 7, 0, 3, 2, 5, 9, 2, 5, 5, 6, 9, 4, 2, 3, 0, 4, 7, 4, 0, 9, 7, 0, 6, 1, 2, 2, 6, 1, 8, 4, 2, 9, 3, 9, 9, 2, 9, 1, 8, 0, 0, 1, 0, 8, 0, 2, 9, 9, 7, 6, 0, 0, 6, 6, 5, 0, 6, 2, 9, 9, 7, 3, 1, 6, 8, 0, 6, 2, 8, 3, 8, 0, 7, 1, 7, 0, 9, 5, 4, 9, 2, 9, 9, 5, 4, 2, 1, 1, 9, 8, 6, 2, 1, 1, 9, 8, 5, 1, 9, 8, 6, 6, 1, 6, 4, 6, 4, 9, 8, 2, 3, 5, 1, 6, 9, 5, 7, 4, 3, 6, 2, 0, 2, 5, 5, 4, 2, 1, 6, 0, 1, 9, 7, 5, 0, 6, 8, 1, 2, 3, 3, 4, 7, 2, 6, 8, 0, 2, 8, 1, 5, 3, 1, 8, 9, 3, 4, 2, 3, 9, 6, 5, 2, 8, 5, 2, 8, 0, 4, 6, 0, 0, 5, 0, 9, 0, 5, 9, 8, 1, 2, 2, 7, 3, 1, 9, 5, 3, 6, 9, 6, 2, 7, 5, 5, 7, 7, 2, 2, 3, 2, 0, 1, 3, 8, 0, 5, 6, 8, 3, 5, 9, 8, 0, 0, 1, 7, 5, 5, 3, 4, 2, 9, 8, 9, 2, 7, 1, 3, 7, 4, 3, 3, 2, 8, 6, 8, 2, 4, 2, 0, 8, 6, 5, 6, 6, 9, 9, 3, 5, 0, 9, 9, 9, 7, 4, 0, 7, 3, 3, 8, 7, 8, 5, 3, 9, 6, 3, 4, 3, 9, 0, 1, 3, 0, 1, 0, 8, 1, 1, 7, 7, 7, 0, 9, 7, 9, 7, 9, 1, 7, 7, 1, 1, 6, 7, 3, 1, 6, 2, 8, 4, 6, 0, 0, 2, 0, 7, 0, 6, 1, 5, 7, 5, 3, 3, 4, 7, 4, 5, 7, 7, 2, 3, 2, 4, 5, 0, 4, 0, 2, 4, 0, 1, 8, 0, 5, 8, 0, 7, 2, 6, 7, 0, 9, 5, 5, 3, 3, 8, 7, 8, 1, 9, 6, 7, 2, 1, 3, 3, 7, 3, 9, 3, 4, 5, 1, 7, 4, 9, 4, 1, 6, 6, 4, 3, 1, 2, 8, 2, 6, 7, 7, 3, 6, 3, 0, 7, 4, 2, 3, 0, 6, 7, 4, 6, 3, 9, 1, 7, 2, 6, 4, 4, 1, 7, 8, 7, 9, 5, 8, 1, 4, 5, 6, 6, 2, 5, 9, 8, 6, 6, 6, 7, 1, 9, 4, 1, 8, 5, 5, 4, 3, 3, 7, 8, 7, 5, 0, 1, 7, 4, 8, 8, 1, 7, 8, 9, 8, 3, 4, 0, 4, 4, 7, 8, 5, 9, 7, 3, 5, 7, 3, 5, 3, 1, 7, 7, 3, 2, 7, 8, 8, 3, 5, 2, 3, 5, 3, 3, 1, 6, 3, 5, 1, 4, 7, 2, 5, 4, 3, 1, 4, 6, 6, 0, 7, 9, 6, 4, 2, 8, 6, 8, 4, 9, 6, 2, 2, 6, 0, 2, 1, 2, 8, 6, 3, 3, 1, 1, 2, 9, 9, 8, 9, 4, 5, 9, 5, 5, 2, 4, 7, 6, 9, 0, 1, 4, 7, 5, 1, 6, 6, 4, 1, 4, 4, 8, 8, 9, 1, 5, 1, 2, 8, 7, 6, 2, 5, 2, 6, 0, 6, 2, 1, 9, 6, 2, 1, 6, 1, 8, 7, 1, 5, 2, 8, 6, 1, 2, 0, 0, 0, 9, 6, 2, 3, 2, 4, 1, 1, 5, 2, 7, 6, 4, 5, 2, 5, 1, 7, 8, 9, 3, 2, 4, 6, 8, 6, 4, 0, 6, 5, 5, 6, 5, 9, 8, 4, 4, 1, 3, 7, 7, 8, 7, 2, 5, 6, 5, 7, 8, 3, 1, 9, 2, 2, 4, 8, 3, 7, 4, 8, 5, 2, 9, 3, 0, 5, 3, 2, 5, 2, 3, 3, 7, 0, 4, 7, 3, 0, 1, 2, 4, 9, 6, 7, 9, 2, 2, 4, 8, 8, 5, 1, 6, 6, 2, 1, 1, 0, 3, 3, 0, 0, 1, 5, 9, 4, 5, 7, 6, 8, 9, 7, 4, 4, 3, 5, 8, 5, 2, 0, 9, 7, 2, 9, 5, 8, 8, 2, 1, 8, 9, 9, 3, 5, 8, 2, 1, 2, 9, 3, 9, 9, 9, 6, 3, 7, 7, 3, 7, 4, 2, 5, 0, 9, 3, 3, 5, 8, 8, 1, 6, 3, 9, 9, 7, 3, 5, 0, 8, 5, 8, 6, 4, 6, 3, 6, 9, 7, 7, 7, 9, 7, 0, 0, 2, 1, 7, 6, 4, 2, 2, 7, 6, 4, 0, 6, 9, 8, 0, 1, 0, 6, 4, 9, 0, 1, 5, 2, 9, 9, 9, 0, 9, 3, 7, 2, 2, 9, 0, 1, 7, 1, 9, 6, 7, 9, 9, 4, 7, 0, 1, 6, 7, 0, 6, 9, 5, 6, 5, 5, 6, 3, 1, 4, 0, 7, 4, 0, 0, 4, 3, 5, 7, 0, 9, 9, 6, 7, 7, 6, 6, 2, 2, 4, 6, 9, 7, 4, 6, 4, 1, 8, 7, 5, 6, 2, 7, 4, 4, 4, 8, 6, 0, 1, 2, 6, 7, 4, 2, 4, 8, 4, 1, 7, 5, 4, 5, 1, 1, 5, 4, 1, 8, 9, 1, 6, 9, 3, 0, 5, 2, 8, 5, 1, 7, 0, 8, 5, 5, 2, 6, 2, 5, 2, 3, 6, 7, 2, 1, 9, 7, 5, 1, 6, 4, 0, 2, 0, 6, 8, 0, 0, 8, 7, 3, 4, 3, 8, 9, 4, 4, 9, 1, 8, 3, 9, 5, 8, 1, 7, 8, 6, 3, 5, 6, 4, 5, 8, 0, 1, 4, 4, 5, 2, 7, 8, 8, 4, 2, 7, 8, 2, 3, 3, 2, 5, 5, 7, 8, 8, 4, 5, 3, 6, 8, 1, 4, 2, 2, 2, 7, 9, 5, 8, 3, 5, 8, 6, 6, 5, 9, 5, 8, 1, 6, 3, 1, 8, 9, 2, 4, 3, 3, 3, 5, 8, 2, 0, 8, 5, 7, 4, 4, 2, 5, 0, 8, 5, 0, 2, 9, 1, 4, 6, 9, 2, 0, 5, 9, 0, 0, 3, 6, 0, 7, 8, 8, 3, 1, 6, 2, 9, 7, 1, 5, 5, 0, 8, 3, 2, 9, 8, 5, 1, 2, 3, 2, 2, 5, 9, 5, 1, 1, 2, 0, 6, 4, 9, 8, 6, 7, 6, 6, 7, 3, 9, 6, 5, 1, 4, 6, 8, 5, 7, 2, 6, 0, 4, 0, 8, 2, 1, 5, 5, 4, 5, 5, 6, 3, 6, 2, 3, 2, 5, 4, 4, 0, 7, 4, 5, 8, 2, 9, 0, 0, 4, 9, 0, 1, 4, 8, 0, 8, 6, 6, 9, 1, 8, 7, 4, 0, 1, 5, 5, 5, 4, 1, 2, 7, 3, 6, 7, 8, 2, 3, 6, 1, 1, 1, 6, 3, 6, 9, 6, 7, 4, 4, 6, 9, 9, 1, 5, 5, 3, 8, 7, 6, 7, 6, 1, 9, 3, 9, 0, 6, 2, 9, 3, 4, 2, 4, 3, 8, 0, 9, 6, 3, 2, 3, 4, 2, 2, 1, 8, 8, 6, 0, 8, 0, 4, 2, 0, 3, 1, 3, 0, 0, 9, 3, 9, 8, 6, 8, 4, 5, 3, 7, 0, 4, 4, 7, 0, 6, 3, 4, 3, 7, 3, 1, 3, 1, 5, 7, 4, 2, 6, 8, 3, 9, 0, 1, 6, 5, 7, 9, 9, 7, 8, 6, 4, 7, 0, 4, 1, 9, 5, 5, 3, 7, 8, 0, 3, 7, 7, 3, 4, 0, 3, 9, 6, 4, 1, 2, 1, 5, 2, 8, 3, 5, 2, 4, 2, 9, 7, 3, 5, 1, 5, 4, 3, 5, 4, 2, 5, 3, 1, 7, 3, 1, 7, 2, 3, 3, 9, 2, 4, 7, 8, 4, 6, 1, 2, 3, 9, 3, 7, 8, 4, 2, 7, 0, 3, 4, 0, 6, 2, 5, 4, 9, 8, 8, 5, 7, 1, 7, 3, 5, 8, 4, 7, 0, 1, 1, 7, 2, 8, 3, 6, 6, 7, 8, 4, 7, 0, 9, 6, 5, 6, 6, 4, 0, 8, 9, 8, 7, 4, 1, 5, 4, 6, 1, 7, 9, 8, 4, 4, 8, 1, 5, 2, 8, 4, 9, 5, 5, 3, 6, 0, 2, 5, 5, 5, 7, 0, 7, 9, 5, 3, 1, 3, 6, 2, 5, 2, 7, 7, 0, 4, 8, 1, 6, 6, 6, 5, 0, 5, 7, 4, 0, 6, 0, 4, 8, 5, 8, 6, 6, 2, 5, 0, 6, 8, 8, 6, 3, 7, 6, 4, 8, 0, 1, 5, 4, 4, 5, 0, 8, 5, 4, 5, 2, 7, 4, 3, 1, 9, 7, 9, 5, 8, 8, 2, 3, 9, 1, 2, 3, 2, 6, 1, 6, 6, 0, 4, 0, 8, 2, 3, 3, 4, 6, 9, 7, 9, 4, 1, 1, 8, 3, 2, 8, 6, 0, 2, 3, 0, 9, 6, 1, 3, 5, 7, 5, 7, 9, 4, 8, 9, 8, 0, 7, 1, 0, 1, 4, 8, 7, 1, 9, 0, 4, 0, 8, 5, 8, 0, 7, 7, 0, 5, 9, 1, 2, 8, 1, 2, 5, 6, 7, 6, 8, 8, 2, 8, 5, 4, 5, 5, 2, 4, 0, 6, 0, 4, 4, 9, 8, 6, 5, 1, 0, 2, 2, 5, 9, 9, 7, 1, 2, 1, 3, 2, 2, 5, 9, 9, 9, 5, 0, 5, 0, 4, 0, 0, 3, 5, 3, 5, 5, 8, 7, 1, 8, 9, 9, 3, 7, 0, 8, 1, 9, 9, 3, 2, 9, 2, 7, 9, 7, 6, 8, 9, 8, 3, 5, 9, 6, 7, 0, 7, 9, 8, 4, 0, 6, 1, 4, 8, 4, 3, 5, 6, 9, 4, 2, 6, 4, 8, 7, 4, 1, 6, 8, 7, 4, 5, 0, 1, 3, 4, 7, 4, 2, 3, 0, 8, 4, 8, 7, 1, 5, 9, 0, 8, 0, 9, 6, 5, 8, 0, 2, 5, 0, 3, 1, 9, 0, 3, 2, 0, 3, 6, 3, 6, 7, 6, 6, 2, 5, 7, 4, 4, 9, 9, 1, 2, 7, 2, 5, 6, 1, 2, 3, 2, 3, 1, 4, 8, 0, 5, 6, 3, 8, 9, 9, 0, 2, 1, 6, 6, 0, 0, 1, 1, 6, 6, 7, 4, 5, 7, 5, 7, 8, 4, 5, 0, 5, 7, 7, 6, 0, 1, 1, 5, 9, 9, 4, 1, 8, 5, 0, 6, 9, 7, 5, 0, 7, 3, 9, 6, 5, 5, 9, 2, 3, 8, 0, 2, 0, 3, 0, 7, 9, 5, 8, 3, 1, 5, 9, 2, 6, 5, 9, 9, 3, 3, 5, 7, 7, 6, 7, 6, 4, 6, 0, 8, 5, 9, 5, 4, 5, 5, 2, 6, 9, 6, 8, 6, 3, 1, 2, 8, 7, 3, 0]\n",
      "[[ 0.  1.  0. ...,  0.  0.  0.]\n",
      " [ 0.  0.  0. ...,  0.  0.  0.]\n",
      " [ 0.  0.  0. ...,  0.  0.  0.]\n",
      " ..., \n",
      " [ 0.  0.  0. ...,  1.  0.  0.]\n",
      " [ 0.  0.  0. ...,  0.  0.  0.]\n",
      " [ 1.  0.  0. ...,  0.  0.  0.]]\n"
     ]
    },
    {
     "name": "stdout",
     "output_type": "stream",
     "text": [
      "[8, 5, 0, 6, 9, 2, 8, 3, 6, 2, 7, 4, 6, 9, 0, 0, 7, 3, 7, 2, 5, 6, 6, 0, 9, 6, 8, 6, 7, 2, 7, 5, 3, 3, 3, 0, 6, 5, 2, 0, 8, 8, 1, 5, 4, 0, 4, 1, 2, 4, 3, 2, 8, 5, 4, 2, 1, 1, 3, 5, 4, 2, 7, 7, 8, 2, 5, 3, 9, 9, 0, 6, 7, 2, 1, 5, 5, 2, 7, 1, 3, 8, 8, 5, 5, 4, 0, 5, 1, 8, 5, 3, 5, 6, 7, 9, 4, 0, 6, 7, 8, 5, 2, 4, 6, 0, 6, 1, 4, 7, 8, 3, 2, 6, 1, 6, 4, 3, 8, 1, 4, 3, 5, 4, 0, 2, 5, 0, 8, 9, 2, 3, 0, 4, 9, 6, 4, 4, 2, 3, 5, 6, 4, 3, 3, 2, 6, 4, 6, 2, 8, 3, 3, 3, 4, 1, 5, 4, 7, 3, 6, 8, 1, 3, 5, 9, 7, 9, 1, 0, 7, 5, 9, 4, 3, 7, 9, 6, 5, 7, 0, 9, 8, 2, 3, 5, 7, 9, 0, 2, 0, 7, 4, 6, 3, 1, 3, 1, 8, 1, 5, 5, 7, 3, 3, 0, 4, 5, 3, 8, 3, 9, 2, 9, 1, 3, 2, 0, 7, 8, 2, 8, 1, 7, 9, 6, 2, 8, 8, 9, 7, 9, 9, 0, 3, 7, 0, 8, 6, 8, 6, 9, 0, 4, 1, 1, 8, 7, 9, 7, 9, 7, 3, 4, 6, 3, 0, 0, 6, 8, 2, 3, 0, 6, 9, 0, 2, 0, 6, 3, 4, 3, 2, 1, 4, 0, 4, 5, 6, 5, 4, 3, 4, 2, 2, 2, 2, 0, 8, 3, 8, 7, 5, 6, 4, 0, 9, 6, 8, 7, 8, 3, 0, 4, 1, 9, 4, 1, 2, 7, 6, 1, 1, 1, 7, 5, 6, 2, 2, 0, 5, 4, 5, 2, 6, 4, 3, 1, 0, 3, 3, 1, 6, 6, 0, 3, 1, 3, 3, 3, 4, 4, 4, 4, 3, 3, 3, 7, 5, 0, 8, 1, 8, 1, 9, 0, 7, 7, 8, 8, 8, 5, 6, 4, 7, 5, 1, 3, 1, 7, 8, 3, 6, 4, 4, 8, 1, 6, 3, 0, 9, 1, 5, 0, 6, 9, 6, 5, 9, 7, 3, 1, 7, 0, 5, 8, 0, 3, 0, 7, 8, 3, 9, 2, 0, 8, 4, 4, 6, 4, 3, 4, 4, 3, 5, 5, 5, 7, 3, 8, 9, 5, 5, 7, 0, 3, 2, 9, 9, 7, 9, 3, 6, 7, 0, 4, 7, 6, 1, 4, 1, 9, 1, 7, 1, 5, 4, 3, 3, 0, 4, 5, 0, 1, 0, 8, 9, 2, 0, 8, 5, 8, 9, 1, 7, 3, 8, 8, 2, 3, 4, 0, 9, 0, 0, 1, 7, 5, 5, 8, 6, 9, 6, 5, 5, 4, 1, 6, 3, 7, 2, 8, 8, 5, 1, 5, 3, 1, 4, 7, 8, 6, 8, 6, 6, 3, 6, 3, 8, 8, 1, 4, 5, 1, 6, 4, 9, 9, 9, 9, 3, 4, 3, 0, 3, 3, 2, 6, 3, 3, 8, 3, 0, 2, 3, 6, 1, 0, 2, 0, 8, 6, 5, 4, 7, 2, 1, 2, 6, 1, 7, 2, 9, 4, 1, 0, 2, 1, 2, 9, 2, 6, 5, 2, 4, 7, 0, 7, 0, 3, 2, 3, 2, 4, 0, 4, 7, 3, 9, 2, 2, 7, 6, 3, 0, 4, 6, 9, 4, 2, 7, 3, 1, 3, 8, 1, 8, 6, 8, 9, 9, 3, 0, 5, 8, 1, 0, 7, 4, 6, 4, 0, 8, 9, 7, 5, 1, 8, 7, 1, 8, 2, 0, 6, 3, 3, 3, 5, 6, 4, 3, 3, 3, 2, 9, 9, 9, 1, 3, 3, 4, 6, 4, 1, 5, 2, 7, 5, 3, 1, 8, 2, 8, 9, 4, 4, 2, 9, 0, 4, 2, 1, 8, 6, 8, 9, 6, 1, 8, 5, 9, 2, 5, 2, 1, 9, 9, 8, 7, 9, 1, 7, 0, 9, 5, 3, 0, 6, 5, 6, 7, 3, 5, 9, 0, 2, 2, 9, 4, 7, 2, 7, 8, 2, 3, 8, 6, 7, 0, 0, 0, 8, 2, 9, 3, 5, 8, 6, 9, 8, 9, 3, 0, 0, 2, 1, 8, 8, 8, 9, 4, 1, 5, 5, 6, 9, 1, 2, 7, 8, 8, 7, 1, 0, 7, 1, 1, 5, 7, 8, 1, 0, 1, 1, 2, 6, 8, 7, 0, 0, 3, 1, 8, 0, 1, 9, 6, 6, 5, 4, 3, 6, 4, 7, 1, 6, 5, 1, 4, 2, 7, 1, 4, 1, 3, 4, 8, 9, 6, 6, 0, 7, 7, 2, 5, 0, 1, 2, 4, 9, 6, 5, 6, 6, 9, 2, 3, 5, 7, 5, 4, 1, 8, 0, 6, 4, 0, 0, 2, 7, 3, 6, 8, 4, 0, 9, 4, 9, 4, 1, 6, 0, 4, 4, 0, 1, 5, 5, 2, 2, 1, 8, 2, 1, 1, 2, 7, 6, 7, 3, 2, 9, 0, 6, 9, 9, 1, 1, 1, 2, 5, 5, 0, 8, 2, 1, 1, 8, 3, 9, 4, 4, 3, 8, 1, 8, 2, 3, 6, 7, 2, 6, 3, 7, 7, 6, 7, 6, 4, 8, 4, 0, 3, 7, 9, 1, 1, 1, 8, 5, 7, 9, 0, 7, 4, 5, 4, 1, 2, 8, 0, 1, 9, 8, 1, 9, 0, 3, 3, 6, 3, 6, 5, 4, 0, 9, 6, 6, 0, 3, 6, 1, 3, 1, 6, 6, 8, 1, 5, 5, 5, 2, 8, 9, 9, 6, 8, 9, 4, 8, 6, 1, 5, 3, 8, 9, 4, 2, 8, 2, 7, 3, 8, 3, 4, 3, 4, 4, 3, 0, 1, 7, 6, 0, 9, 6, 0, 6, 4, 7, 0, 6, 5, 0, 8, 0, 6, 4, 1, 7, 2, 5, 7, 6, 1, 9, 2, 0, 7, 8, 0, 7, 4, 1, 6, 8, 5, 7, 9, 5, 9, 5, 0, 8, 1, 3, 4, 3, 2, 6, 1, 4, 3, 0, 6, 7, 8, 1, 8, 5, 6, 2, 6, 4, 2, 5, 8, 6, 6, 2, 2, 4, 8, 0, 0, 9, 5, 6, 4, 3, 8, 7, 4, 3, 0, 3, 1, 2, 8, 5, 7, 5, 5, 2, 0, 9, 4, 9, 4, 7, 3, 0, 6, 1, 0, 5, 2, 5, 4, 6, 1, 4, 7, 7, 6, 3, 7, 0, 1, 5, 2, 6, 0, 9, 1, 0, 7, 6, 9, 2, 7, 7, 2, 3, 1, 0, 3, 7, 7, 7, 9, 8, 1, 7, 9, 2, 3, 4, 1, 0, 7, 9, 3, 8, 5, 6, 5, 5, 5, 9, 5, 2, 6, 9, 8, 2, 7, 1, 9, 2, 8, 1, 1, 0, 0, 2, 6, 3, 5, 1, 1, 1, 1, 1, 1, 6, 3, 8, 0, 9, 8, 4, 2, 2, 8, 8, 0, 2, 2, 8, 9, 4, 8, 4, 3, 8, 4, 6, 1, 5, 1, 1, 9, 6, 9, 7, 5, 4, 4, 2, 5, 4, 6, 3, 4, 0, 1, 4, 5, 1, 6, 4, 8, 9, 0, 2, 1, 3, 2, 9, 2, 7, 9, 9, 5, 1, 6, 0, 1, 9, 5, 9, 4, 2, 2, 7, 8, 0, 6, 4, 1, 0, 0, 5, 1, 5, 9, 9, 1, 3, 2, 8, 9, 0, 7, 1, 8, 2, 0, 8, 3, 4, 4, 8, 4, 7, 3, 8, 5, 0, 4, 5, 2, 8, 6, 5, 5, 8, 7, 7, 1, 5, 0, 9, 3, 0, 7, 3, 5, 5, 1, 4, 9, 1, 2, 2, 5, 3, 0, 9, 9, 9, 6, 1, 8, 8, 8, 0, 8, 3, 9, 7, 7, 4, 4, 0, 0, 4, 0, 1, 0, 6, 8, 6, 7, 3, 2, 7, 5, 8, 5, 2, 0, 4, 7, 5, 3, 4, 1, 7, 9, 1, 2, 1, 9, 7, 9, 8, 0, 8, 7, 4, 8, 7, 7, 0, 4, 3, 2, 6, 9, 3, 5, 7, 4, 9, 5, 6, 6, 6, 0, 8, 6, 2, 4, 2, 3, 7, 3, 1, 5, 7, 9, 3, 8, 9, 9, 8, 7, 5, 9, 7, 4, 8, 1, 4, 0, 0, 7, 4, 9, 4, 2, 0, 7, 8, 7, 1, 1, 2, 3, 9, 3, 2, 0, 4, 9, 1, 9, 7, 7, 9, 2, 0, 8, 3, 1, 4, 1, 4, 3, 5, 1, 1, 6, 4, 2, 8, 5, 1, 7, 8, 8, 2, 8, 6, 5, 1, 6, 0, 0, 7, 2, 8, 8, 9, 2, 6, 1, 5, 5, 8, 2, 4, 4, 1, 8, 8, 0, 3, 4, 9, 3, 6, 8, 5, 0, 0, 3, 0, 9, 9, 0, 4, 1, 6, 2, 8, 9, 8, 4, 6, 7, 8, 8, 9, 2, 2, 0, 9, 2, 2, 4, 7, 5, 4, 9, 6, 1, 8, 2, 3, 5, 8, 2, 8, 9, 9, 7, 6, 3, 9, 7, 2, 6, 8, 9, 3, 9, 9, 9, 2, 0, 9, 3, 4, 2, 3, 1, 1, 1, 0, 2, 0, 5, 7, 3, 9, 1, 0, 1, 8, 9, 5, 3, 8, 8, 1, 5, 3, 2, 3, 3, 7, 5, 9, 5, 7, 1, 9, 6, 5, 9, 1, 0, 8, 4, 3, 8, 5, 4, 9, 6, 0, 3, 9, 7, 2, 3, 8, 6, 6, 4, 9, 9, 1, 5, 2, 6, 7, 2, 2, 9, 1, 0, 5, 8, 4, 5, 7, 9, 7, 0, 4, 1, 0, 3, 4, 8, 9, 5, 8, 6, 7, 9, 1, 5, 7, 9, 4, 6, 6, 7, 2, 1, 3, 4, 1, 9, 4, 2, 1, 9, 0, 0, 8, 6, 2, 8, 0, 3, 7, 4, 2, 6, 9, 8, 0, 9, 4, 2, 1, 3, 1, 2, 3, 2, 7, 9, 4, 7, 1, 1, 2, 8, 8, 4, 8, 2, 5, 5, 8, 3, 6, 0, 1, 4, 5, 5, 8, 9, 8, 5, 9, 4, 1, 3, 3, 9, 5, 9, 7, 7, 4, 4, 7, 9, 3, 6, 8, 9, 2, 4, 3, 6, 5, 1, 5, 4, 5, 8, 2, 3, 9, 9, 7, 8, 6, 7, 6, 1, 0, 6, 0, 3, 2, 5, 3, 3, 9, 6, 3, 0, 4, 5, 7, 3, 5, 9, 3, 5, 8, 7, 0, 3, 9, 2, 6, 2, 3, 2, 7, 1, 4, 7, 8, 6, 4, 0, 8, 0, 0, 8, 6, 8, 2, 9, 5, 4, 3, 8, 4, 4, 7, 0, 9, 5, 0, 2, 4, 5, 4, 0, 3, 7, 8, 9, 7, 4, 4, 6, 6, 5, 9, 4, 1, 1, 5, 0, 9, 6, 9, 8, 0, 5, 2, 6, 6, 1, 5, 5, 6, 8, 1, 7, 0, 7, 9, 3, 2, 7, 7, 7, 8, 2, 0, 3, 3, 6, 1, 8, 6, 3, 7, 5, 3, 2, 9, 4, 5, 8, 2, 8, 7, 8, 4, 6, 9, 1, 2, 1, 3, 7, 4, 9, 5, 8, 7, 5, 2, 2, 1, 8, 0, 3, 0, 9, 2, 4, 0, 1, 1, 6, 3, 0, 7, 7, 1, 0, 5, 8, 0, 3, 9, 8, 2, 2, 9, 1, 5, 1, 7, 0, 1, 9, 9, 4, 2, 3, 4, 2, 8, 7, 0, 7, 8, 2, 9, 6, 3, 5, 5, 4, 3, 3, 5, 5, 6, 7, 8, 5, 3, 2, 9, 0, 2, 9, 7, 5, 4, 0, 8, 0, 1, 6, 6, 8, 6, 1, 9, 2, 6, 2, 8, 5, 0, 4, 1, 3, 4, 4, 4, 3, 8, 9, 4, 6, 5, 6, 1, 9, 5, 3, 7, 0, 6, 4, 7, 9, 3, 6, 1, 8, 2, 0, 0, 1, 5, 4, 6, 4, 2, 3, 0, 1, 1, 5, 2, 9, 6, 3, 3, 1, 9, 7, 7, 5, 0, 8, 9, 8, 1, 6, 5, 6, 4, 2, 3, 3, 9, 8, 3, 2, 1, 2, 7, 9, 9, 4, 7, 2, 5, 8, 8, 9, 3, 0, 6, 3, 6, 3, 7, 2, 9, 0, 2, 7, 1, 9, 6, 0, 1, 3, 1, 6, 2, 7, 5, 1, 3, 4, 9, 7, 4, 1, 1, 8, 4, 6, 5, 1, 5, 0, 1, 8, 6, 6, 1, 6, 7, 1, 3, 1, 5, 2, 9, 7, 9, 7, 5, 0, 6, 6, 5, 0, 6, 5, 6, 1, 1, 1, 9, 6, 1, 8, 9, 8, 7, 4, 5, 6, 6, 9, 5, 2, 3, 7, 2, 1, 0, 3, 1, 0, 6, 2, 7, 7, 9, 0, 5, 7, 7, 2, 0, 4, 3, 7, 9, 7, 0, 7, 5, 8, 4, 9, 3, 7, 4, 7, 4, 9, 8, 0, 3, 4, 1, 0, 8, 4, 4, 9, 1, 9, 4, 1, 2, 9, 6, 5, 0, 9, 3, 9, 1, 0, 1, 9, 0, 2, 7, 2, 3, 8, 4, 5, 1, 6, 8, 0, 7, 7, 9, 9, 4, 5, 4, 9, 9, 5, 0, 0, 6, 4, 3, 0, 4, 9, 9, 7, 9, 0, 7, 4, 4, 7, 4, 9, 7, 9, 3, 4, 2, 1, 4, 8, 2, 3, 1, 8, 7, 9, 1, 7, 3, 5, 5, 3, 1, 2, 5, 4, 3, 5, 9, 8, 5, 6, 6, 0, 3, 9, 4, 6, 4, 3, 3, 4, 4, 2, 0, 2, 3, 9, 3, 0, 8, 6, 0, 0, 4, 6, 1, 8, 6, 0, 1, 6, 7, 8, 1, 1, 0, 7, 3, 4, 2, 0, 6, 3, 2, 2, 2, 6, 6, 4, 9, 0, 2, 4, 5, 6, 7, 1, 0, 3, 6, 9, 2, 1, 0, 8, 5, 3, 1, 0, 5, 1, 2, 0, 7, 2, 9, 7, 2, 1, 9, 1, 0, 4, 7, 0, 5, 2, 7, 7, 7, 0, 7, 6, 0, 9, 2, 6, 9, 1, 1, 5, 6, 5, 6, 8, 7, 5, 4, 7, 6, 9, 6, 9, 1, 0, 6, 4, 6, 6, 5, 6, 5, 1, 7, 4, 4, 6, 6, 3, 1, 9, 9, 3, 4, 0, 4, 1, 2, 8, 2, 2, 3, 4, 1, 7, 7, 1, 0, 6, 4, 4, 5, 1, 6, 5, 4, 5, 6, 1, 1, 1, 2, 7, 1, 8, 8, 3, 7, 6, 7, 3, 5, 0, 8, 0, 3, 5, 3, 7, 9, 5, 4, 0, 1, 3, 1, 1, 5, 5, 3, 8, 5, 6, 7, 5, 4, 2, 9, 5, 0, 5, 1, 4, 6, 8, 2, 9, 4, 7, 5, 2, 9, 2, 0, 1, 1, 9, 3, 7, 8, 3, 7, 0, 2, 3, 4, 8, 3, 9, 8, 9, 3, 4, 5, 5, 8, 1, 5, 1, 9, 6, 8, 5, 1, 4, 3, 9, 5, 3, 7, 2, 5, 6, 3, 1, 4, 8, 5, 9, 2, 8, 9, 4, 1, 1, 7, 6, 1, 8, 3, 0, 3, 2, 4, 2, 2, 3, 4, 8, 2, 1, 3, 8, 4, 7, 0, 1, 3, 8, 6, 7, 7, 6, 1, 6, 8, 1, 1, 6, 2, 4, 8, 9, 2, 0, 7, 3, 9, 4, 1, 4, 5, 3, 3, 6, 8, 1, 1, 7, 3, 9, 0, 5, 6, 3, 2, 3, 2, 1, 3, 7, 6, 3, 7, 2, 2, 6, 9, 7, 4, 8, 3, 8, 0, 4, 8, 4, 8, 8, 7, 1, 2, 0, 8, 5, 2, 7, 3, 2, 7, 1, 8, 9, 7, 8, 7, 2, 2, 0, 9, 4, 1, 0, 0, 6, 3, 7, 5, 9, 7, 8, 4, 2, 4, 3, 4, 0, 9, 7, 7, 7, 1, 0, 9, 5, 6, 5, 9, 3, 8, 1, 9, 3, 2, 6, 0, 4, 9, 8, 0, 4, 7, 0, 8, 5, 9, 9, 7, 6, 7, 1, 5, 1, 1, 3, 8, 3, 9, 3, 0, 5, 2, 8, 7, 6, 5, 2, 4, 0, 1, 2, 4, 7, 5, 0, 5, 8, 4, 0, 9, 6, 7, 0, 1, 0, 2, 0, 0, 9, 3, 8, 1, 4, 0, 3, 3, 2, 7, 7, 8, 7, 5, 2, 6, 1, 4, 8, 0, 8, 5, 0, 4, 9, 9, 4, 6, 5, 7, 0, 7, 2, 4, 2, 2, 7, 5, 2, 2, 2, 6, 8, 5, 2, 7, 4, 7, 5, 4, 4, 1, 6, 1, 3, 4, 4, 8, 6, 9, 1, 2, 9, 5, 8, 3, 8, 3, 1, 1, 6, 4, 5, 6, 3, 0, 2, 5, 7, 0, 8, 5, 8, 0, 3, 5, 2, 2, 7, 4, 8, 6, 6, 6, 1, 7, 1, 8, 7, 3, 3, 6, 0, 2, 4, 0, 0, 6, 9, 2, 6, 9, 7, 9, 2, 3, 2, 8, 7, 8, 5, 9, 1, 1, 1, 5, 4, 7, 1, 4, 1, 4, 3, 8, 6, 1, 5, 2, 3, 1, 5, 2, 6, 4, 4, 6, 5, 2, 3, 2, 0, 2, 7, 0, 5, 8, 3, 3, 7, 5, 7, 3, 9, 4, 0, 1, 6, 3, 8, 6, 2, 3, 3, 1, 3, 2, 5, 7, 6, 0, 2, 0, 5, 2, 6, 5, 9, 0, 1, 7, 1, 6, 4, 7, 8, 6, 5, 3, 7, 5, 7, 5, 7, 2, 9, 1, 1, 7, 4, 2, 0, 3, 1, 0, 5, 6, 6, 5, 5, 3, 3, 9, 3, 9, 9, 3, 8, 9, 3, 3, 0, 9, 6, 7, 7, 3, 1, 2, 5, 3, 7, 9, 1, 5, 1, 0, 6, 5, 7, 1, 4, 8, 4, 6, 8, 4, 9, 0, 1, 2, 8, 7, 9, 1, 7, 9, 2, 5, 0, 4, 4, 7, 2, 0, 6, 4, 0, 4, 4, 0, 2, 1, 8, 2, 5, 3, 7, 4, 1, 1, 1, 4, 6, 2, 2, 9, 4, 0, 8, 0, 3, 9, 4, 0, 1, 5, 7, 9, 0, 2, 0, 6, 1, 5, 6, 9, 0, 8, 1, 4, 2, 1, 0, 4, 3, 9, 1, 0, 4, 9, 0, 6, 6, 3, 9, 4, 6, 8, 1, 3, 7, 0, 6, 7, 2, 5, 6, 2, 5, 0, 5, 8, 5, 9, 3, 8, 6, 6, 1, 7, 6, 5, 0, 4, 1, 5, 1, 0, 2, 3, 2, 3, 6, 5, 3, 2, 2, 4, 4, 8, 2, 9, 4, 0, 4, 0, 8, 8, 6, 3, 6, 8, 6, 6, 1, 9, 5, 9, 5, 5, 3, 2, 0, 6, 7, 0, 1, 6, 2, 9, 3, 6, 0, 1, 6, 8, 8, 9, 3, 0, 3, 9, 1, 8, 2, 5, 3, 5, 3, 2, 7, 8, 0, 1, 2, 9, 6, 7, 7, 4, 4, 6, 3, 9, 2, 1, 7, 9, 1, 6, 6, 3, 5, 2, 8, 8, 5, 1, 6, 8, 6, 0, 1, 0, 2, 2, 1, 4, 5, 0, 1, 2, 9, 7, 3, 9, 7, 0, 8, 5, 5, 0, 5, 8, 7, 4, 6, 2, 0, 8, 5, 5, 7, 4, 2, 3, 1, 4, 1, 6, 0, 1, 7, 3, 1, 8, 4, 8, 3, 1, 7, 8, 5, 5, 6, 2, 1, 4, 7, 1, 8, 8, 6, 2, 3, 8, 1, 0, 2, 4, 0, 9, 7, 5, 3, 9, 6, 4, 1, 5, 5, 3, 7, 2, 5, 3, 0, 2, 9, 9, 6, 0, 7, 4, 1, 5, 3, 6, 4, 3, 0, 4, 3, 6, 8, 7, 1, 3, 7, 1, 2, 7, 3, 8, 5, 6, 3, 9, 8, 5, 9, 1, 4, 1, 3, 4, 1, 8, 8, 2, 9, 5, 3, 9, 2, 2, 7, 9, 7, 2, 8, 3, 7, 0, 7, 9, 1, 8, 9, 9, 7, 9, 3, 8, 7, 4, 7, 1, 8, 1, 3, 2, 5, 1, 5, 8, 0, 8, 3, 6, 6, 9, 3, 4, 6, 4, 7, 7, 1, 9, 4, 5, 9, 4, 1, 6, 2, 9, 8, 2, 7, 1, 2, 2, 3, 5, 4, 8, 0, 3, 4, 8, 7, 1, 9, 9, 5, 1, 4, 6, 7, 3, 6, 4, 9, 5, 6, 0, 3, 6, 8, 6, 3, 0, 3, 1, 3, 7, 3, 9, 8, 5, 0, 6, 2, 3, 6, 1, 5, 4, 4, 2, 1, 9, 0, 8, 9, 3, 7, 9, 5, 8, 6, 1, 8, 3, 9, 6, 6, 6, 2, 7, 2, 3, 6, 0, 4, 4, 9, 1, 4, 1, 9, 9, 1, 9, 3, 1, 5, 9, 8, 7, 8, 5, 8, 1, 8, 2, 2, 3, 9, 4, 0, 4, 5, 0, 2, 6, 2, 2, 8, 4, 7, 5, 6, 5, 4, 3, 0, 1, 9, 3, 8, 9, 4, 6, 6, 9, 8, 4, 4, 3, 4, 1, 0, 6, 8, 0, 5, 3, 7, 0, 7, 9, 5, 1, 7, 0, 2, 2, 5, 2, 2, 8, 3, 6, 1, 7, 6, 5, 1, 7, 7, 0, 2, 8, 5, 4, 4, 8, 1, 5, 6, 6, 5, 2, 6, 6, 0, 5, 1, 4, 3, 6, 0, 1, 2, 9, 4, 1, 8, 8, 3, 2, 8, 6, 8, 3, 6, 7, 5, 4, 1, 7, 1, 6, 9, 9, 2, 3, 5, 9, 5, 5, 2, 2, 8, 7, 9, 6, 1, 8, 0, 8, 8, 9, 6, 7, 8, 8, 4, 9, 7, 7, 1, 6, 9, 0, 6, 8, 3, 7, 2, 5, 2, 3, 3, 4, 6, 6, 3, 8, 6, 2, 1, 7, 7, 1, 0, 4, 4, 6, 6, 1, 9, 7, 0, 4, 7, 9, 5, 9, 6, 8, 6, 5, 7, 7, 3, 5, 9, 8, 7, 7, 6, 0, 6, 8, 2, 9, 4, 1, 2, 4, 4, 5, 8, 5, 2, 7, 0, 9, 1, 9, 1, 7, 2, 9, 0, 2, 4, 4, 2, 9, 3, 0, 0, 5, 1, 5, 9, 5, 8, 0, 5, 8, 2, 4, 8, 2, 0, 7, 7, 2, 6, 9, 6, 8, 7, 6, 0, 1, 6, 9, 3, 5, 3, 6, 2, 8, 5, 3, 2, 6, 6, 7, 3, 9, 3, 1, 6, 2, 6, 8, 6, 1, 7, 1, 5, 9, 1, 3, 2, 9, 7, 2, 9, 5, 9, 8, 5, 8, 9, 7, 8, 4, 9, 8, 0, 5, 6, 3, 8, 4, 0, 4, 8, 5, 2, 4, 7, 6, 0, 6, 4, 9, 7, 9, 1, 7, 0, 4, 5, 8, 9, 9, 6, 3, 6, 3, 6, 8, 8, 0, 1, 5, 9, 6, 3, 7, 5, 2, 0, 5, 7, 4, 6, 0, 5, 9, 7, 7, 0, 6, 2, 1, 4, 0, 4, 8, 7, 6, 0, 0, 9, 8, 5, 5, 5, 5, 0, 0, 1, 3, 0, 9, 5, 7, 1, 9, 4, 3, 4, 4, 8, 9, 8, 6, 0, 4, 3, 0, 4, 8, 7, 7, 0, 5, 1, 1, 7, 7, 0, 1, 8, 8, 9, 9, 7, 2, 7, 8, 9, 0, 0, 5, 1, 0, 7, 4, 0, 8, 9, 3, 8, 3, 7, 9, 3, 0, 1, 8, 0, 7, 9, 4, 8, 8, 8, 7, 5, 9, 6, 9, 6, 4, 7, 6, 4, 8, 3, 3, 9, 1, 6, 7, 8, 0, 7, 8, 9, 1, 6, 1, 5, 0, 1, 1, 5, 7, 9, 2, 5, 8, 9, 7, 7, 2, 6, 3, 5, 6, 5, 6, 2, 2, 4, 1, 3, 1, 0, 7, 9, 6, 7, 1, 2, 9, 4, 1, 6, 3, 1, 4, 0, 6, 7, 5, 3, 4, 2, 6, 8, 5, 3, 5, 2, 2, 0, 8, 4, 6, 6, 9, 4, 1, 8, 9, 8, 3, 0, 8, 7, 5, 4, 1, 7, 5, 0, 8, 3, 9, 5, 3, 0, 9, 3, 5, 1, 1, 0, 4, 3, 6, 7, 4, 9, 9, 3, 7, 4, 3, 3, 0, 3, 0, 6, 9, 2, 1, 7, 3, 5, 2, 1, 9, 1, 9, 7, 7, 7, 5, 2, 3, 1, 2, 0, 0, 3, 5, 1, 7, 7, 9, 5, 9, 2, 3, 9, 2, 4, 4, 3, 5, 1, 8, 4, 1, 9, 1, 1, 8, 4, 3, 9, 6, 7, 0, 7, 8, 7, 9, 5, 0, 0, 8, 3, 2, 8, 9, 2, 3, 9, 4, 1, 2, 9, 3, 0, 3, 2, 1, 9, 3, 9, 0, 4, 3, 3, 8, 4, 8, 9, 9, 7, 9, 7, 7, 3, 8, 0, 8, 0, 2, 5, 3, 3, 0, 8, 6, 0, 5, 3, 9, 4, 1, 1, 0, 3, 0, 9, 2, 9, 6, 3, 1, 5, 1, 7, 4, 3, 9, 5, 8, 5, 7, 5, 8, 8, 9, 2, 3, 2, 1, 8, 8, 8, 7, 8, 6, 0, 6, 1, 3, 3, 9, 8, 1, 9, 5, 3, 6, 6, 1, 0, 7, 5, 1, 9, 0, 8, 2, 2, 8, 2, 0, 2, 4, 7, 9, 3, 9, 6, 3, 8, 0, 6, 7, 9, 8, 6, 8, 6, 6, 9, 3, 5, 1, 3, 3, 1, 2, 5, 7, 6, 2, 1, 2, 8, 9, 6, 4, 1, 7, 3, 5, 2, 9, 0, 6, 9, 6, 8, 1, 2, 1, 1, 4, 4, 2, 1, 6, 5, 7, 1, 0, 4, 6, 6, 7, 9, 7, 4, 7, 5, 4, 1, 4, 6, 5, 5, 9, 9, 1, 9, 6, 4, 8, 0, 9, 2, 1, 0, 0, 0, 7, 8, 6, 3, 1, 2, 4, 6, 7, 1, 1, 8, 8, 2, 9, 5, 6, 3, 8, 9, 6, 1, 8, 6, 5, 1, 0, 8, 5, 1, 6, 4, 0, 1, 7, 1, 5, 9, 1, 6, 9, 0, 3, 5, 5, 9, 3, 4, 6, 4, 5, 9, 7, 6, 2, 5, 8, 9, 3, 4, 0, 9, 6, 2, 5, 9, 0, 5, 7, 8, 1, 3, 9, 3, 0, 2, 3, 1, 3, 1, 5, 5, 0, 1, 9, 5, 9, 7, 8, 3, 0, 8, 0, 5, 5, 6, 0, 0, 5, 3, 6, 0, 0, 8, 5, 3, 0, 2, 0, 7, 4, 7, 7, 9, 2, 0, 1, 8, 4, 5, 2, 5, 1, 6, 0, 3, 1, 8, 0, 9, 6, 7, 9, 2, 4, 6, 0, 4, 6, 1, 2, 1, 6, 3, 2, 0, 4, 7, 9, 9, 2, 9, 3, 8, 2, 8, 5, 7, 1, 6, 4, 0, 4, 7, 6, 6, 1, 8, 7, 1, 2, 4, 6, 2, 5, 3, 8, 9, 2, 8, 7, 5, 1, 5, 3, 8, 0, 1, 0, 4, 7, 1, 8, 5, 9, 4, 8, 8, 2, 9, 5, 3, 2, 1, 1, 4, 2, 1, 2, 7, 7, 1, 8, 7, 5, 9, 6, 0, 9, 6, 6, 1, 8, 5, 9, 1, 4, 1, 5, 0, 5, 3, 0, 0, 9, 9, 5, 2, 6, 4, 7, 2, 8, 0, 5, 4, 7, 5, 0, 7, 8, 6, 0, 1, 4, 0, 1, 5, 7, 3, 6, 1, 0, 3, 9, 4, 4, 8, 1, 1, 4, 9, 6, 5, 2, 0, 2, 7, 9, 3, 1, 1, 1, 9, 0, 1, 7, 5, 7, 4, 0, 9, 3, 6, 5, 8, 2, 6, 0, 5, 7, 3, 1, 3, 8, 8, 3, 1, 0, 7, 2, 9, 3, 4, 7, 7, 5, 2, 6, 8, 1, 1, 0, 4, 0, 4, 5, 8, 0, 8, 0, 1, 1, 0, 7, 4, 1, 7, 3, 3, 7, 0, 9, 1, 9, 9, 0, 3, 1, 8, 9, 2, 3, 7, 7, 9, 9, 1, 2, 3, 9, 1, 7, 0, 2, 4, 1, 6, 9, 5, 8, 4, 8, 8, 2, 3, 6, 2, 5, 9, 0, 9, 0, 0, 2, 0, 7, 6, 9, 5, 6, 5, 5, 3, 4, 1, 2, 5, 9, 4, 4, 6, 0, 5, 5, 4, 1, 3, 3, 0, 3, 2, 6, 6, 6, 4, 7, 0, 0, 1, 0, 1, 0, 7, 9, 2, 0, 4, 5, 8, 8, 0, 3, 8, 9, 2, 0, 3, 8, 7, 2, 0, 6, 5, 5, 3, 3, 2, 3, 7, 9, 2, 5, 9, 0, 5, 7, 8, 6, 9, 2, 0, 0, 6, 9, 6, 1, 3, 3, 6, 7, 9, 9, 6, 3, 2, 0, 2, 4, 9, 2, 8, 5, 2, 6, 5, 0, 1, 2, 8, 3, 0, 3, 8, 0, 5, 0, 2, 3, 7, 8, 8, 8, 1, 5, 0, 8, 8, 1, 7, 4, 9, 2, 2, 2, 1, 3, 4, 2, 4, 3, 2, 6, 7, 6, 7, 4, 7, 8, 9, 2, 4, 0, 0, 0, 7, 0, 5, 4, 2, 4, 6, 3, 0, 3, 4, 2, 4, 1, 6, 6, 4, 8, 7, 5, 0, 7, 9, 3, 0, 5, 7, 8, 5, 4, 7, 8, 5, 4, 1, 4, 4, 5, 5, 1, 0, 2, 4, 0, 5, 3, 5, 8, 3, 6, 0, 7, 4, 3, 4, 9, 7, 0, 6, 7, 6, 8, 7, 2, 7, 0, 8, 4, 7, 1, 6, 2, 4, 5, 3, 3, 6, 3, 6, 1, 4, 5, 8, 5, 8, 6, 9, 0, 6, 4, 4, 2, 6, 0, 6, 4, 5, 1, 7, 9, 8, 6, 3, 6, 7, 5, 4, 7, 2, 3, 2, 8, 3, 8, 7, 5, 3, 2, 6, 7, 5, 7, 7, 7, 6, 2, 4, 6, 3, 1, 9, 4, 2, 2, 6, 8, 7, 0, 1, 4, 8, 2, 1, 5, 9, 0, 7, 7, 4, 0, 7, 8, 6, 5, 7, 3, 6, 5, 5, 5, 7, 6, 6, 0, 3, 5, 9, 3, 2, 1, 9, 1, 6, 4, 1, 5, 7, 0, 6, 6, 7, 1, 8, 2, 2, 1, 2, 5, 7, 0, 8, 9, 1, 9, 7, 6, 8, 3, 6, 2, 2, 7, 4, 4, 5, 1, 6, 9, 8, 4, 0, 6, 3, 1, 3, 9, 9, 8, 5, 8, 4, 5, 0, 4, 2, 3, 1, 9, 2, 0, 4, 6, 5, 0, 3, 8, 2, 8, 6, 7, 2, 6, 9, 0, 2, 6, 8, 2, 8, 7, 1, 7, 1, 8, 1, 2, 1, 9, 2, 5, 8, 3, 5, 5, 3, 6, 9, 1, 3, 1, 2, 5, 0, 6, 7, 1, 0, 1, 8, 3, 3, 5, 6, 3, 8, 7, 7, 3, 0, 0, 3, 6, 2, 5, 8, 2, 7, 9, 0, 8, 9, 2, 8, 0, 4, 4, 1, 2, 7, 3, 8, 1, 0, 7, 7, 7, 0, 8, 9, 4, 4, 2, 7, 1, 8, 8, 9, 6, 7, 8, 8, 2, 8, 5, 8, 9, 2, 7, 7, 8, 6, 1, 3, 1, 3, 6, 0, 5, 4, 9, 0, 2, 6, 4, 2, 2, 1, 1, 6, 4, 7, 6, 7, 5, 7, 9, 0, 2, 1, 8, 7, 1, 2, 0, 6, 6, 5, 5, 2, 9, 2, 2, 8, 0, 0, 3, 5, 1, 7, 2, 3, 3, 9, 0, 8, 0, 0, 0, 2, 5, 3, 2, 1, 7, 0, 0, 2, 1, 5, 2, 5, 5, 1, 8, 1, 1, 1, 3, 0, 7, 3, 3, 4, 2, 3, 3, 0, 3, 2, 6, 1, 8, 7, 7, 7, 6, 5, 4, 4, 5, 6, 3, 0, 8, 8, 8, 5, 7, 0, 0, 0, 1, 3, 3, 5, 5, 4, 0, 5, 3, 3, 6, 3, 3, 8, 3, 5, 0, 5, 2, 1, 5, 7, 0, 2, 7, 0, 7, 5, 3, 2, 0, 2, 3, 1, 1, 1, 3, 2, 7, 5, 9, 4, 5, 0, 4, 0, 6, 4, 6, 6, 2, 2, 9, 6, 4, 1, 4, 2, 9, 7, 3, 1, 3, 9, 3, 7, 5, 2, 4, 1, 3, 0, 9, 0, 9, 8, 6, 7, 1, 3, 9, 2, 8, 7, 7, 0, 1, 4, 5, 7, 4, 8, 0, 9, 0, 6, 2, 7, 7, 6, 6, 4, 4, 8, 7, 0, 4, 0, 5, 2, 4, 5, 6, 6, 3, 9, 9, 0, 1, 8, 7, 2, 2, 8, 7, 7, 4, 5, 6, 8, 9, 3, 1, 3, 2, 3, 2, 6, 4, 3, 0, 8, 9, 1, 1, 5, 0, 8, 9, 5, 8, 6, 6, 2, 8, 2, 4, 4, 4, 9, 1, 6, 9, 5, 9, 7, 7, 8, 7, 4, 2, 6, 6, 5, 0, 0, 9, 0, 4, 3, 5, 2, 2, 1, 4, 6, 0, 5, 9, 4, 4, 4, 4, 1, 0, 2, 4, 6, 3, 4, 5, 2, 3, 6, 2, 8, 7, 5, 7, 7, 2, 6, 0, 4, 1, 0, 9, 0, 1, 7, 5, 7, 2, 9, 6, 8, 3, 8, 6, 4, 6, 9, 0, 2, 1, 4, 4, 6, 9, 2, 7, 9, 8, 1, 0, 3, 2, 3, 6, 4, 2, 2, 7, 4, 9, 6, 8, 0, 8, 3, 5, 9, 9, 8, 3, 9, 6, 2, 8, 0, 5, 2, 5, 8, 6, 3, 8, 5, 1, 8, 4, 6, 3, 2, 4, 2, 0, 0, 8, 1, 3, 2, 7, 0, 7, 8, 3, 9, 2, 1, 3, 0, 3, 9, 0, 5, 6, 5, 7, 7, 5, 4, 8, 1, 3, 9, 3, 7, 3, 2, 6, 8, 1, 7, 6, 3, 0, 7, 8, 0, 7, 4, 8, 0, 4, 8, 0, 1, 5, 7, 4, 9, 2, 5, 5, 9, 2, 7, 2, 7, 6, 1, 5, 7, 0, 1, 7, 2, 5, 9, 0, 5, 5, 1, 0, 5, 1, 6, 7, 1, 0, 0, 7, 8, 1, 4, 1, 6, 9, 0, 1, 2, 3, 2, 8, 9, 9, 8, 3, 5, 4, 4, 7, 6, 3, 3, 6, 3, 4, 0, 6, 2, 9, 9, 3, 2, 0, 1, 8, 9, 5, 5, 6, 5, 0, 8, 5, 5, 3, 3, 2, 4, 3, 0, 8, 5, 2, 4, 3, 4, 4, 3, 5, 6, 7, 6, 6, 1, 3, 3, 1, 3, 3, 3, 1, 4, 8, 4, 5, 8, 2, 0, 1, 5, 5, 1, 7, 5, 4, 6, 3, 3, 5, 9, 6, 1, 7, 0, 3, 0, 4, 3, 8, 1, 0, 5, 8, 5, 6, 7, 8, 3, 5, 8, 6, 5, 1, 5, 5, 2, 5, 9, 8, 3, 9, 5, 7, 7, 2, 8, 3, 0, 6, 0, 8, 1, 5, 9, 4, 8, 7, 8, 2, 8, 9, 8, 6, 0, 0, 7, 3, 9, 4, 4, 3, 7, 3, 3, 3, 5, 5, 4, 5, 7, 4, 8, 4, 3, 8, 9, 4, 0, 0, 7, 0, 8, 7, 0, 6, 8, 6, 8, 0, 4, 1, 9, 2, 3, 4, 7, 5, 4, 0, 0, 7, 0, 7, 3, 4, 0, 6, 0, 1, 4, 6, 0, 5, 2, 8, 5, 3, 5, 1, 6, 6, 2, 2, 9, 2, 4, 6, 7, 9, 0, 9, 5, 6, 1, 0, 6, 5, 4, 2, 7, 5, 6, 6, 1, 0, 5, 8, 1, 1, 5, 2, 4, 2, 0, 4, 5, 7, 6, 9, 7, 8, 5, 4, 1, 7, 1, 5, 7, 6, 6, 4, 0, 1, 3, 9, 2, 3, 5, 2, 8, 7, 7, 0, 6, 4, 5, 7, 7, 9, 4, 3, 6, 2, 8, 5, 6, 0, 8, 9, 8, 1, 1, 2, 2, 6, 6, 1, 7, 7, 5, 5, 0, 2, 3, 3, 8, 5, 1, 7, 2, 2, 0, 4, 6, 3, 3, 6, 9, 7, 8, 2, 6, 4, 0, 3, 8, 9, 9, 3, 7, 4, 3, 8, 7, 3, 4, 4, 2, 7, 3, 4, 9, 1, 4, 9, 6, 9, 6, 6, 7, 0, 0, 3, 6, 9, 1, 1, 0, 4, 9, 6, 5, 5, 2, 3, 2, 6, 3, 8, 9, 2, 6, 9, 4, 1, 9, 0, 3, 3, 2, 6, 0, 2, 9, 0, 8, 3, 7, 0, 1, 3, 5, 9, 9, 9, 5, 8, 9, 7, 0, 2, 6, 9, 3, 4, 5, 6, 1, 0, 5, 3, 5, 7, 7, 5, 2, 8, 3, 7, 8, 9, 0, 9, 6, 3, 3, 0, 7, 4, 4, 0, 9, 2, 5, 9, 6, 8, 7, 9, 2, 1, 0, 9, 4, 6, 3, 1, 6, 7, 4, 9, 2, 5, 5, 5, 1, 6, 0, 1, 9, 5, 1, 0, 1, 0, 6, 6, 7, 3, 0, 6, 1, 6, 0, 1, 8, 5, 2, 3, 8, 4, 4, 9, 5, 6, 7, 8, 3, 7, 8, 8, 2, 3, 8, 9, 4, 1, 3, 9, 4, 2, 6, 9, 6, 3, 0, 5, 3, 1, 2, 4, 4, 8, 3, 7, 5, 6, 9, 0, 5, 6, 8, 1, 4, 5, 0, 4, 2, 8, 2, 8, 9, 6, 9, 5, 3, 2, 8, 6, 1, 9, 3, 3, 0, 7, 0, 7, 7, 5, 1, 2, 8, 5, 8, 5, 5, 2, 2, 0, 0, 5, 1, 2, 8, 3, 0, 5, 2, 2, 8, 3, 6, 8, 6, 7, 5, 8, 7, 6, 8, 6, 0, 9, 3, 7, 2, 6, 6, 0, 7, 9, 3, 6, 4, 2, 8, 2, 8, 7, 9, 2, 8, 5, 9, 2, 3, 8, 0, 9, 6, 9, 1, 6, 6, 4, 2, 6, 5, 5, 8, 8, 6, 1, 2, 6, 3, 6, 8, 6, 1, 7, 8, 5, 9, 3, 8, 5, 7, 1, 0, 7, 3, 3, 9, 2, 7, 2, 2, 1, 6, 0, 7, 2, 6, 4, 2, 6, 7, 5, 5, 2, 5, 5, 2, 3, 9, 7, 0, 2, 1, 9, 1, 7, 1, 1, 1, 1, 0, 4, 1, 2, 0, 4, 3, 5, 1, 2, 8, 4, 2, 6, 1, 0, 0, 5, 7, 1, 8, 7, 7, 6, 1, 2, 0, 3, 6, 5, 4, 3, 8, 4, 5, 1, 0, 6, 8, 6, 3, 8, 8, 6, 6, 0, 0, 7, 1, 7, 4, 9, 9, 5, 1, 4, 8, 4, 5, 6, 7, 3, 7, 7, 4, 0, 1, 5, 6, 5, 6, 4, 1, 8, 5, 8, 3, 9, 9, 1, 0, 5, 4, 6, 4, 8, 5, 6, 9, 9, 2, 6, 5, 7, 2, 0, 7, 9, 9, 6, 2, 7, 2, 3, 2, 7, 8, 6, 1, 1, 7, 3, 3, 6, 5, 7, 0, 6, 2, 6, 0, 4, 5, 6, 7, 0, 7, 4, 1, 2, 2, 0, 6, 6, 0, 6, 6, 1, 4, 9, 3, 8, 8, 9, 8, 7, 2, 5, 7, 9, 9, 9, 6, 2, 1, 7, 1, 3, 8, 3, 1, 8, 9, 4, 4, 6, 3, 8, 7, 1, 9, 1, 9, 6, 1, 1, 3, 5, 1, 4, 6, 4, 6, 5, 9, 8, 3, 9, 8, 3, 5, 8, 0, 9, 7, 1, 6, 0, 7, 0, 9, 4, 1, 0, 2, 5, 6, 5, 5, 0, 9, 0, 9, 1, 8, 9, 4, 6, 8, 7, 6, 6, 9, 1, 5, 1, 0, 2, 6, 3, 1, 2, 8, 5, 9, 9, 1, 7, 3, 3, 2, 6, 8, 3, 4, 2, 6, 5, 3, 5, 0, 8, 5, 2, 1, 2, 0, 7, 3, 4, 3, 3, 3, 3, 5, 9, 7, 8, 3, 0, 6, 7, 2, 6, 2, 0, 2, 3, 9, 3, 1, 2, 1, 8, 8, 5, 8, 8, 4, 9, 4, 5, 2, 5, 8, 5, 0, 2, 8, 6, 9, 9, 3, 0, 9, 1, 4, 8, 8, 2, 7, 0, 8, 3, 9, 6, 4, 3, 1, 7, 9, 1, 6, 6, 9, 8, 9, 8, 3, 9, 3, 9, 7, 2, 2, 4, 0, 7, 6, 9, 1, 1, 4, 8, 5, 2, 3, 8, 0, 4, 1, 9, 2, 4, 9, 2, 1, 4, 9, 9, 0, 3, 9, 9, 3, 7, 0, 2, 8, 3, 8, 0, 9, 7, 7, 8, 8, 7, 9, 3, 5, 9, 8, 5, 5, 9, 5, 7, 0, 6, 5, 7, 3, 3, 3, 9, 7, 0, 8, 2, 2, 7, 6, 7, 5, 6, 7, 8, 0, 5, 4, 3, 0, 7, 4, 3, 1, 4, 8, 4, 3, 4, 8, 6, 8, 3, 0, 0, 0, 6, 3, 6, 5, 1, 2, 5, 7, 7, 2, 5, 3, 1, 5, 5, 1, 1, 1, 0, 0, 4, 1, 5, 6, 7, 2, 5, 7, 5, 4, 5, 9, 2, 2, 9, 2, 0, 2, 9, 0, 2, 9, 7, 2, 9, 3, 6, 4, 2, 9, 5, 0, 8, 0, 7, 9, 4, 6, 0, 8, 5, 2, 1, 7, 1, 9, 5, 2, 6, 1, 2, 7, 3, 6, 5, 6, 8, 9, 2, 5, 9, 8, 2, 5, 4, 7, 7, 4, 3, 7, 0, 7, 9, 1, 4, 7, 7, 9, 4, 0, 9, 7, 5, 9, 6, 4, 7, 9, 2, 6, 7, 5, 2, 4, 9, 0, 6, 0, 1, 4, 5, 0, 9, 9, 3, 4, 7, 9, 1, 4, 2, 8, 5, 7, 3, 4, 7, 3, 8, 2, 4, 7, 5, 9, 9, 1, 5, 6, 2, 5, 9, 3, 1, 1, 0, 9, 1, 4, 3, 5, 6, 4, 7, 9, 5, 4, 2, 4, 2, 4, 7, 5, 4, 8, 1, 3, 7, 4, 7, 3, 1, 3, 3, 9, 5, 7, 4, 3, 0, 5, 1, 7, 5, 0, 6, 5, 6, 0, 8, 4, 8, 4, 8, 3, 4, 1, 7, 9, 5, 3, 1, 4, 1, 8, 3, 6, 9, 9, 4, 8, 9, 4, 7, 8, 5, 1, 8, 9, 4, 5, 9, 2, 2, 5, 4, 2, 2, 5, 7, 3, 3, 6, 8, 2, 5, 9, 5, 9, 7, 3, 4, 2, 8, 4, 4, 8, 8, 2, 7, 7, 0, 1, 5, 8, 9, 2, 7, 2, 8, 1, 2, 5, 4, 5, 2, 0, 2, 1, 4, 0, 9, 7, 0, 6, 1, 6, 9, 3, 3, 4, 7, 5, 4, 9, 1, 3, 3, 6, 4, 1, 9, 0, 8, 4, 4, 9, 4, 5, 8, 8, 7, 7, 1, 7, 7, 9, 9, 0, 7, 4, 9, 2, 0, 0, 2, 4, 6, 1, 5, 7, 7, 8, 8, 9, 0, 7, 8, 4, 4, 3, 5, 5, 8, 8, 3, 9, 0, 2, 1, 4, 0, 2, 3, 7, 7, 0, 2, 6, 9, 1, 9, 7, 6, 6, 1, 3, 2, 5, 5, 5, 6, 3, 2, 7, 1, 4, 1, 6, 2, 0, 4, 4, 5, 3, 5, 2, 9, 9, 7, 3, 3, 7, 6, 3, 9, 6, 2, 9, 7, 8, 5, 6, 6, 0, 1, 1, 2, 1, 9, 6, 4, 3, 0, 3, 4, 5, 5, 3, 1, 4, 7, 9, 0, 9, 2, 5, 9, 3, 8, 6, 0, 3, 7, 5, 5, 9, 7, 9, 2, 6, 3, 4, 4, 9, 2, 0, 8, 7, 4, 1, 0, 0, 6, 1, 0, 4, 4, 7, 6, 9, 2, 2, 7, 5, 7, 9, 2, 2, 4, 1, 1, 9, 2, 9, 4, 1, 2, 0, 3, 2, 4, 4, 5, 3, 3, 3, 0, 3, 4, 4, 1, 0, 7, 6, 5, 4, 4, 3, 5, 5, 5, 7, 4, 1, 6, 7, 0, 7, 3, 4, 3, 4, 9, 1, 2, 6, 8, 7, 8, 7, 9, 3, 4, 7, 9, 3, 1, 8, 2, 3, 7, 9, 5, 4, 4, 1, 8, 1, 3, 2, 5, 2, 0, 1, 5, 3, 8, 1, 1, 3, 3, 4, 9, 0, 5, 0, 8, 4, 5, 1, 4, 0, 9, 7, 5, 5, 9, 5, 8, 7, 6, 7, 3, 3, 9, 5, 0, 4, 4, 3, 5, 1, 9, 2, 2, 8, 9, 0, 4, 2, 0, 5, 3, 1, 1, 7, 1, 4, 0, 0, 2, 2, 7, 2, 6, 1, 3, 6, 2, 4, 7, 9, 8, 0, 8, 9, 9, 4, 9, 9, 5, 6, 5, 5, 5, 9, 3, 8, 6, 1, 5, 2, 6, 0, 5, 9, 3, 6, 7, 8, 9, 4, 6, 2, 9, 8, 1, 4, 2, 7, 0, 6, 5, 8, 6, 9, 7, 1, 5, 4, 6, 8, 5, 4, 6, 4, 4, 5, 2, 4, 9, 7, 5, 8, 2, 7, 5, 1, 6, 1, 1, 7, 3, 5, 4, 8, 7, 4, 3, 6, 0, 2, 4, 3, 1, 9, 7, 5, 7, 3, 0, 0, 0, 4, 4, 2, 0, 3, 3, 0, 9, 8, 6, 0, 9, 0, 3, 1, 5, 0, 5, 4, 1, 9, 8, 6, 7, 7, 4, 6, 4, 5, 9, 8, 5, 0, 4, 5, 5, 6, 1, 4, 3, 4, 4, 2, 9, 5, 6, 6, 3, 2, 2, 6, 4, 2, 7, 2, 9, 2, 3, 6, 0, 1, 4, 8, 4, 2, 4, 4, 5, 8, 0, 2, 2, 4, 4, 0, 6, 6, 7, 1, 8, 6, 1, 1, 7, 1, 4, 5, 8, 0, 2, 4, 4, 5, 2, 0, 9, 9, 3, 6, 9, 5, 7, 5, 4, 8, 0, 4, 4, 8, 0, 1, 7, 3, 8, 2, 8, 3, 1, 2, 4, 9, 2, 8, 9, 0, 0, 6, 2, 3, 2, 4, 3, 2, 8, 0, 6, 9, 7, 9, 6, 7, 9, 9, 0, 4, 7, 7, 9, 1, 6, 2, 4, 2, 9, 1, 7, 1, 3, 3, 2, 9, 9, 5, 9, 2, 9, 2, 6, 4, 2, 5, 2, 7, 1, 6, 9, 4, 3, 6, 1, 3, 0, 6, 6, 8, 4, 4, 8, 9, 9, 8, 3, 3, 8, 9, 0, 4, 1, 6, 1, 3, 4, 4, 4, 6, 5, 7, 7, 1, 7, 0, 0, 8, 3, 1, 8, 4, 0, 0, 4, 6, 4, 1, 6, 3, 5, 9, 8, 1, 7, 3, 4, 6, 8, 3, 4, 5, 3, 5, 6, 9, 8, 8, 5, 7, 3, 8, 9, 2, 5, 6, 5, 6, 0, 7, 3, 2, 2, 0, 6, 6, 5, 5, 5, 8, 9, 9, 9, 2, 7, 3, 8, 1, 5, 3, 0, 2, 2, 0, 9, 6, 1, 0, 5, 7, 5, 3, 8, 1, 9, 4, 9, 5, 2, 3, 4, 0, 4, 7, 8, 8, 2, 1, 1, 5, 9, 3, 3, 9, 2, 2, 6, 9, 6, 3, 2, 2, 1, 2, 8, 7, 0, 2, 0, 9, 3, 4, 9, 7, 4, 0, 3, 0, 3, 4, 7, 2, 6, 3, 6, 0, 1, 5, 5, 3, 1, 7, 7, 5, 0, 7, 3, 0, 7, 7, 8, 9, 9, 3, 4, 9, 4, 4, 9, 1, 6, 1, 2, 3, 5, 9, 9, 2, 4, 1, 6, 5, 5, 5, 9, 8, 1, 9, 9, 4, 0, 1, 9, 2, 4, 9, 5, 8, 9, 7, 2, 7, 2, 3, 7, 5, 1, 6, 3, 0, 5, 6, 5, 7, 9, 5, 8, 7, 8, 8, 6, 5, 2, 8, 4, 4, 7, 0, 8, 4, 4, 8, 0, 6, 8, 8, 5, 4, 8, 0, 2, 8, 2, 8, 0, 1, 5, 8, 1, 6, 0, 2, 4, 3, 2, 2, 5, 3, 6, 4, 7, 2, 5, 8, 8, 4, 9, 5, 4, 5, 5, 7, 2, 8, 4, 4, 9, 9, 0, 8, 5, 3, 1, 3, 9, 0, 3, 7, 0, 5, 7, 4, 7, 7, 9, 5, 8, 3, 4, 5, 4, 8, 5, 6, 6, 6, 7, 7, 0, 8, 6, 0, 4, 7, 6, 3, 4, 0, 5, 1, 5, 0, 5, 4, 5, 2, 9, 5, 7, 7, 1, 0, 8, 5, 9, 8, 9, 8, 0, 0, 3, 4, 9, 2, 3, 5, 7, 1, 6, 9, 2, 5, 9, 8, 5, 8, 9, 2, 0, 8, 9, 2, 7, 0, 7, 8, 1, 4, 5, 6, 3, 1, 9, 6, 9, 7, 5, 0, 1, 4, 0, 9, 1, 8, 5, 1, 0, 9, 6, 8, 4, 0, 7, 8, 0, 1, 9, 3, 6, 5, 7, 1, 0, 2, 1, 3, 3, 7, 2, 6, 0, 3, 0, 0, 8, 1, 4, 4, 1, 6, 2, 7, 1, 9, 5, 7, 4, 3, 2, 0, 9, 1, 3, 6, 2, 3, 1, 6, 6, 5, 0, 1, 9, 8, 3, 0, 5, 5, 9, 4, 7, 4, 3, 4, 1, 3, 5, 0, 1, 7, 3, 4, 8, 1, 7, 6, 1, 5, 3, 0, 5, 5, 2, 1, 4, 1, 5, 4, 7, 7, 8, 7, 1, 6, 2, 2, 3, 1, 7, 2, 0, 2, 8, 2, 7, 7, 9, 9, 3, 1, 9, 2, 8, 0, 1, 8, 9, 5, 3, 7, 0, 8, 3, 6, 1, 0, 6, 0, 9, 3, 6, 5, 7, 4, 5, 1, 3, 7, 4, 7, 8, 8, 3, 7, 3, 2, 9, 4, 2, 3, 1, 2, 4, 9, 4, 7, 6, 4, 6, 5, 2, 4, 1, 2, 6, 0, 0, 8, 6, 7, 1, 7, 0, 4, 1, 6, 9, 3, 4, 1, 1, 6, 7, 1, 7, 7, 9, 4, 7, 7, 6, 8, 8, 7, 9, 0, 3, 1, 7, 0, 4, 3, 9, 0, 5, 5, 4, 1, 5, 6, 0, 2, 2, 4, 2, 4, 9, 8, 0, 4, 9, 7, 9, 6, 3, 2, 8, 7, 5, 3, 7, 1, 1, 4, 5, 1, 7, 4, 5, 6, 3, 6, 4, 7, 7, 6, 9, 4, 9, 7, 5, 7, 1, 8, 0, 1, 8, 0, 4, 0, 0, 1, 6, 1, 6, 4, 8, 1, 2, 5, 5, 8, 9, 5, 8, 1, 4, 4, 2, 1, 7, 5, 8, 7, 1, 1, 5, 0, 2, 0, 6, 9, 0, 5, 2, 3, 9, 8, 0, 3, 4, 1, 4, 3, 4, 9, 4, 0, 5, 6, 8, 8, 6, 1, 2, 7, 9, 3, 3, 8, 2, 4, 1, 5, 9, 4, 5, 5, 5, 5, 2, 1, 2, 4, 1, 2, 4, 5, 9, 1, 9, 0, 6, 3, 2, 9, 9, 0, 3, 1, 0, 7, 9, 7, 6, 3, 7, 6, 9, 4, 3, 6, 4, 9, 2, 6, 9, 0, 1, 6, 1, 8, 7, 5, 4, 4, 5, 9, 9, 7, 1, 1, 6, 8, 2, 7, 2, 0, 0, 0, 2, 5, 9, 9, 4, 0, 5, 2, 5, 8, 6, 4, 9, 6, 1, 8, 3, 1, 6, 2, 3, 8, 5, 2, 5, 0, 7, 5, 8, 6, 3, 1, 8, 8, 3, 5, 5, 5, 1, 5, 2, 0, 6, 7, 3, 9, 0, 8, 9, 2, 7, 6, 7, 0, 3, 2, 9, 5, 8, 6, 7, 4, 7, 6, 0, 7, 0, 4, 5, 3, 7, 1, 5, 1, 3, 4, 2, 7, 6, 6, 9, 5, 4, 7, 0, 3, 4, 6, 8, 6, 8, 6, 9, 7, 2, 7, 8, 4, 6, 7, 6, 6, 5, 6, 8, 5, 4, 5, 9, 0, 3, 9, 0, 5, 2, 2, 5, 7, 2, 4, 3, 7, 0, 1, 9, 7, 3, 1, 5, 1, 6, 9, 1, 5, 8, 1, 1, 6, 1, 6, 9, 9, 2, 8, 9, 0, 9, 5, 2, 1, 7, 3, 4, 3, 2, 0, 1, 9, 4, 8, 3, 2, 6, 7, 9, 2, 7, 0, 9, 9, 7, 3, 5, 4, 4, 7, 7, 1, 9, 3, 4, 0, 1, 8, 3, 6, 7, 4, 9, 3, 2, 2, 5, 4, 3, 1, 8, 4, 9, 5, 4, 9, 1, 6, 6, 3, 3, 6, 2, 5, 4, 4, 1, 5, 1, 2, 0, 4, 6, 1, 1, 9, 0, 1, 0, 2, 5, 6, 3, 5, 5, 1, 9, 0, 7, 7, 7, 1, 2, 8, 1, 6, 2, 2, 4, 2, 4, 0, 6, 5, 0, 4, 1, 9, 3, 4, 5, 5, 5, 2, 6, 2, 0, 4, 2, 6, 3, 7, 1, 6, 2, 9, 0, 4, 5, 6, 5, 2, 0, 8, 8, 9, 1, 2, 8, 1, 2, 6, 5, 6, 5, 1, 7, 4, 3, 3, 0, 3, 9, 9, 0, 3, 2, 8, 8, 2, 9, 7, 4, 3, 9, 9, 7, 0, 3, 5, 7, 5, 7, 6, 5, 0, 3, 5, 7, 8, 4, 5, 3, 6, 0, 2, 7, 5, 6, 3, 4, 5, 5, 0, 8, 4, 6, 5, 9, 2, 6, 0, 4, 4, 9, 5, 4, 5, 5, 5, 7, 6, 1, 8, 1, 7, 0, 4, 0, 8, 4, 2, 7, 3, 3, 9, 8, 6, 5, 9, 5, 1, 9, 8, 9, 1, 4, 3, 3, 2, 4, 1, 0, 3, 4, 0, 4, 4, 4, 1, 4, 8, 7, 2, 4, 1, 1, 6, 8, 3, 4, 1, 3, 7, 3, 2, 7, 6, 0, 1, 3, 6, 1, 1, 4, 3, 5, 0, 2, 0, 8, 4, 5, 7, 0, 2, 3, 7, 4, 3, 3, 1, 8, 8, 5, 1, 5, 9, 1, 1, 2, 9, 5, 5, 7, 5, 8, 2, 5, 1, 6, 6, 1, 2, 9, 3, 0, 0, 2, 7, 6, 5, 9, 2, 1, 8, 4, 1, 5, 2, 9, 3, 4, 1, 0, 7, 4, 9, 0, 9, 5, 2, 3, 4, 2, 7, 7, 1, 0, 8, 9, 5, 9, 5, 4, 4, 7, 1, 9, 9, 5, 1, 7, 0, 4, 7, 9, 7, 0, 8, 0, 7, 0, 8, 7, 0, 6, 1, 2, 8, 8, 0, 9, 9, 2, 2, 2, 7, 1, 1, 4, 8, 1, 3, 6, 2, 7, 5, 5, 2, 9, 8, 7, 5, 3, 8, 8, 6, 1, 1, 9, 9, 5, 4, 1, 3, 7, 0, 5, 9, 7, 2, 4, 0, 5, 9, 1, 5, 7, 0, 8, 6, 1, 5, 3, 3, 8, 6, 7, 9, 1, 6, 3, 6, 6, 2, 5, 3, 5, 6, 5]\n",
      "[[ 0.  0.  0. ...,  0.  1.  0.]\n",
      " [ 0.  0.  0. ...,  0.  0.  0.]\n",
      " [ 1.  0.  0. ...,  0.  0.  0.]\n",
      " ..., \n",
      " [ 0.  0.  0. ...,  0.  0.  0.]\n",
      " [ 0.  0.  0. ...,  0.  0.  0.]\n",
      " [ 0.  0.  0. ...,  0.  0.  0.]]\n"
     ]
    },
    {
     "name": "stdout",
     "output_type": "stream",
     "text": [
      "[0, 6, 0, 2, 7, 2, 1, 2, 4, 1, 5, 6, 6, 3, 1, 3, 5, 5, 8, 1, 4, 2, 3, 2, 1, 2, 8, 9, 5, 0, 7, 6, 7, 6, 8, 8, 7, 4, 9, 1, 2, 6, 5, 9, 4, 2, 5, 1, 0, 1, 1, 9, 0, 7, 5, 3, 9, 6, 3, 3, 3, 4, 1, 5, 9, 7, 7, 2, 9, 0, 2, 8, 5, 9, 6, 7, 8, 4, 0, 4, 9, 2, 7, 1, 0, 5, 1, 8, 1, 6, 5, 9, 7, 0, 4, 5, 2, 3, 5, 5, 6, 0, 2, 1, 1, 5, 8, 5, 2, 4, 2, 2, 5, 3, 0, 3, 0, 2, 9, 1, 1, 7, 3, 8, 5, 4, 5, 9, 6, 5, 6, 4, 4, 5, 5, 1, 1, 5, 6, 2, 5, 0, 8, 6, 2, 2, 6, 8, 8, 6, 7, 4, 0, 4, 1, 5, 4, 2, 0, 3, 0, 9, 5, 7, 8, 1, 1, 7, 8, 8, 3, 0, 0, 4, 7, 9, 6, 0, 9, 9, 9, 2, 1, 1, 7, 4, 3, 7, 5, 5, 7, 9, 3, 6, 9, 7, 5, 7, 1, 7, 0, 5, 6, 7, 3, 0, 4, 5, 1, 1, 8, 8, 6, 3, 2, 9, 7, 8, 1, 3, 9, 8, 6, 9, 2, 4, 4, 1, 4, 2, 4, 5, 2, 0, 1, 5, 1, 2, 1, 2, 0, 2, 4, 4, 1, 1, 2, 9, 5, 6, 4, 2, 8, 7, 2, 7, 4, 0, 2, 6, 5, 8, 8, 9, 7, 7, 3, 0, 4, 1, 3, 0, 0, 8, 7, 5, 9, 8, 7, 5, 0, 1, 4, 5, 6, 9, 2, 2, 3, 4, 5, 4, 6, 1, 8, 0, 7, 0, 7, 8, 4, 5, 6, 8, 0, 3, 4, 4, 5, 9, 5, 3, 2, 1, 1, 2, 1, 2, 3, 7, 8, 0, 8, 6, 0, 2, 4, 9, 8, 8, 7, 0, 3, 2, 6, 8, 6, 5, 3, 3, 7, 4, 5, 9, 1, 4, 3, 3, 7, 5, 6, 9, 2, 4, 4, 0, 5, 8, 4, 5, 9, 3, 1, 9, 9, 2, 8, 6, 7, 9, 5, 2, 5, 8, 1, 5, 0, 2, 0, 9, 8, 5, 7, 0, 4, 7, 3, 5, 8, 3, 6, 2, 9, 5, 6, 5, 2, 7, 8, 1, 0, 7, 2, 2, 9, 2, 8, 1, 0, 7, 7, 8, 9, 4, 4, 0, 9, 7, 1, 7, 9, 7, 7, 8, 3, 4, 0, 6, 0, 0, 7, 7, 3, 8, 7, 4, 4, 2, 8, 1, 0, 5, 4, 8, 8, 1, 1, 7, 8, 4, 4, 2, 3, 2, 2, 7, 5, 1, 1, 3, 8, 3, 9, 1, 4, 9, 2, 0, 4, 6, 2, 1, 8, 5, 4, 2, 3, 5, 2, 3, 2, 6, 5, 8, 7, 6, 1, 0, 8, 1, 3, 6, 1, 2, 6, 1, 6, 0, 7, 4, 5, 4, 5, 9, 8, 2, 5, 4, 8, 8, 8, 2, 6, 2, 8, 8, 1, 0, 4, 5, 0, 0, 4, 5, 2, 9, 6, 4, 4, 8, 1, 2, 2, 8, 1, 0, 6, 0, 7, 0, 5, 3, 2, 5, 8, 1, 9, 4, 7, 7, 8, 4, 7, 1, 5, 9, 7, 8, 9, 4, 1, 4, 7, 6, 0, 9, 9, 5, 7, 6, 1, 3, 2, 3, 3, 0, 6, 8, 9, 5, 9, 7, 1, 6, 2, 4, 3, 3, 6, 4, 5, 0, 7, 4, 6, 0, 2, 0, 9, 7, 4, 8, 2, 6, 0, 0, 3, 8, 6, 0, 6, 3, 2, 1, 4, 9, 4, 7, 5, 9, 9, 6, 5, 9, 3, 6, 6, 4, 2, 5, 4, 2, 2, 8, 3, 0, 0, 9, 4, 8, 8, 1, 5, 0, 6, 0, 1, 8, 9, 9, 1, 7, 0, 3, 2, 4, 9, 5, 9, 7, 8, 1, 5, 2, 8, 2, 6, 0, 3, 2, 7, 7, 2, 1, 4, 9, 1, 4, 9, 7, 2, 4, 6, 3, 5, 6, 8, 3, 2, 5, 2, 8, 9, 1, 2, 0, 1, 9, 5, 0, 2, 5, 9, 5, 3, 2, 6, 4, 3, 0, 0, 5, 1, 5, 1, 4, 1, 9, 5, 4, 7, 3, 9, 5, 6, 4, 2, 6, 9, 9, 0, 2, 5, 9, 4, 5, 9, 3, 1, 6, 2, 6, 5, 0, 0, 8, 2, 1, 6, 0, 1, 2, 1, 3, 3, 8, 3, 5, 9, 6, 7, 7, 8, 5, 9, 2, 5, 2, 1, 0, 8, 9, 3, 9, 3, 9, 9, 3, 2, 3, 9, 7, 1, 1, 3, 9, 2, 2, 8, 3, 4, 2, 1, 5, 4, 2, 9, 7, 6, 4, 6, 4, 4, 7, 1, 7, 3, 8, 8, 3, 1, 0, 6, 6, 1, 4, 6, 3, 2, 5, 0, 1, 4, 9, 7, 7, 4, 0, 6, 0, 0, 5, 4, 6, 2, 8, 2, 0, 3, 3, 1, 4, 6, 9, 8, 7, 8, 5, 3, 2, 9, 1, 7, 9, 8, 2, 1, 4, 2, 8, 8, 9, 3, 8, 6, 1, 3, 5, 3, 4, 4, 5, 8, 9, 2, 4, 7, 6, 2, 1, 3, 4, 8, 7, 4, 4, 3, 2, 0, 5, 7, 1, 4, 2, 2, 0, 3, 7, 9, 9, 4, 9, 1, 9, 0, 2, 6, 4, 6, 0, 6, 4, 1, 0, 0, 4, 8, 4, 6, 7, 6, 4, 6, 1, 0, 7, 8, 5, 7, 0, 0, 5, 9, 3, 9, 7, 9, 8, 6, 7, 2, 8, 4, 1, 6, 1, 9, 3, 8, 1, 4, 1, 5, 6, 9, 8, 7, 8, 4, 0, 3, 8, 4, 0, 3, 5, 9, 4, 0, 2, 4, 0, 7, 9, 2, 3, 6, 0, 5, 0, 2, 7, 6, 3, 7, 9, 3, 7, 2, 5, 8, 7, 1, 7, 5, 3, 7, 8, 9, 1, 0, 8, 2, 4, 0, 2, 4, 2, 9, 9, 9, 1, 9, 3, 9, 0, 3, 5, 8, 1, 2, 5, 3, 0, 7, 6, 2, 4, 5, 0, 4, 5, 8, 4, 7, 2, 7, 8, 5, 9, 2, 2, 6, 5, 5, 2, 1, 5, 0, 7, 3, 8, 8, 4, 2, 5, 9, 2, 2, 5, 4, 4, 5, 2, 5, 3, 8, 9, 9, 8, 8, 6, 1, 7, 2, 4, 8, 9, 3, 1, 6, 3, 7, 0, 4, 8, 0, 0, 4, 9, 2, 5, 4, 7, 3, 9, 9, 8, 0, 6, 1, 1, 1, 3, 8, 0, 9, 1, 6, 5, 1, 5, 6, 1, 9, 9, 5, 7, 6, 0, 5, 8, 1, 7, 4, 8, 1, 0, 6, 5, 2, 8, 5, 6, 3, 6, 3, 5, 1, 6, 6, 3, 6, 4, 0, 5, 3, 1, 3, 5, 3, 1, 1, 4, 7, 5, 7, 8, 1, 6, 4, 3, 9, 4, 0, 0, 1, 4, 8, 2, 8, 2, 7, 2, 9, 6, 9, 2, 3, 3, 5, 6, 8, 8, 8, 5, 9, 8, 8, 8, 5, 2, 7, 1, 3, 1, 8, 6, 3, 3, 5, 0, 8, 1, 3, 9, 7, 0, 1, 1, 9, 4, 7, 0, 0, 7, 9, 7, 5, 8, 8, 5, 5, 2, 7, 5, 5, 4, 6, 2, 2, 2, 6, 9, 5, 6, 7, 2, 6, 4, 5, 1, 3, 5, 8, 1, 0, 7, 5, 0, 8, 1, 9, 1, 3, 5, 4, 6, 8, 8, 3, 3, 7, 7, 5, 7, 8, 8, 1, 2, 6, 4, 2, 5, 1, 2, 7, 4, 8, 6, 2, 4, 1, 9, 0, 2, 0, 9, 1, 2, 4, 9, 5, 2, 2, 3, 9, 1, 9, 6, 1, 6, 5, 5, 7, 4, 4, 2, 2, 5, 4, 1, 6, 8, 8, 6, 7, 8, 2, 1, 7, 7, 1, 1, 9, 6, 7, 8, 8, 1, 5, 7, 8, 2, 6, 9, 7, 3, 1, 0, 8, 7, 6, 2, 3, 1, 3, 5, 1, 4, 7, 1, 1, 6, 8, 5, 6, 7, 0, 7, 7, 2, 8, 1, 7, 4, 3, 8, 7, 0, 8, 2, 8, 6, 2, 2, 5, 2, 9, 8, 3, 7, 6, 3, 6, 9, 8, 9, 9, 7, 8, 0, 8, 4, 2, 1, 6, 0, 6, 9, 3, 2, 3, 9, 3, 6, 3, 1, 6, 5, 2, 2, 0, 6, 3, 3, 6, 8, 2, 2, 2, 6, 9, 8, 8, 8, 8, 6, 2, 4, 6, 4, 7, 4, 4, 0, 7, 3, 2, 5, 3, 9, 5, 8, 7, 1, 4, 6, 6, 3, 0, 6, 7, 9, 2, 6, 8, 6, 9, 0, 3, 7, 8, 3, 4, 6, 6, 2, 7, 2, 4, 0, 7, 1, 5, 2, 4, 7, 2, 3, 8, 0, 7, 9, 4, 5, 2, 6, 0, 8, 9, 7, 2, 2, 5, 2, 2, 8, 8, 3, 6, 2, 1, 3, 7, 4, 0, 4, 6, 9, 1, 8, 1, 7, 4, 4, 5, 9, 7, 2, 7, 0, 1, 1, 9, 5, 8, 3, 7, 7, 8, 2, 2, 9, 1, 3, 4, 8, 9, 1, 9, 8, 3, 5, 3, 9, 2, 4, 5, 4, 2, 5, 1, 8, 7, 5, 0, 5, 6, 5, 3, 5, 2, 8, 6, 8, 9, 3, 5, 7, 6, 9, 2, 7, 5, 6, 8, 6, 5, 4, 6, 8, 5, 1, 3, 4, 0, 1, 4, 7, 8, 0, 5, 0, 8, 7, 8, 7, 6, 1, 0, 6, 3, 3, 1, 9, 3, 1, 8, 4, 3, 5, 4, 9, 2, 4, 6, 8, 9, 1, 5, 2, 6, 2, 7, 8, 3, 4, 8, 6, 9, 5, 3, 3, 1, 0, 2, 9, 9, 6, 8, 5, 4, 9, 8, 1, 5, 5, 0, 3, 5, 6, 8, 7, 0, 1, 6, 1, 0, 7, 6, 8, 9, 8, 9, 1, 4, 5, 4, 1, 8, 7, 6, 5, 0, 8, 3, 2, 0, 4, 8, 6, 6, 4, 2, 6, 9, 2, 5, 4, 9, 2, 8, 0, 1, 8, 5, 8, 3, 4, 0, 4, 4, 1, 2, 2, 6, 2, 5, 4, 5, 1, 3, 9, 8, 0, 5, 8, 7, 7, 1, 2, 9, 7, 1, 8, 0, 6, 0, 5, 8, 3, 8, 4, 6, 4, 7, 1, 7, 7, 3, 2, 9, 2, 9, 8, 7, 1, 6, 1, 4, 4, 6, 6, 3, 4, 0, 0, 9, 2, 9, 1, 8, 8, 7, 1, 2, 4, 9, 4, 2, 9, 9, 2, 9, 4, 1, 7, 8, 7, 6, 5, 5, 1, 6, 2, 1, 8, 3, 7, 9, 5, 6, 5, 6, 8, 4, 3, 6, 4, 7, 5, 2, 2, 4, 9, 6, 7, 6, 2, 8, 9, 6, 2, 8, 9, 8, 5, 7, 0, 6, 2, 7, 2, 9, 3, 6, 9, 7, 9, 1, 1, 8, 5, 6, 6, 5, 0, 9, 7, 4, 8, 6, 4, 3, 9, 8, 7, 4, 4, 2, 7, 6, 8, 1, 0, 5, 6, 6, 6, 4, 3, 9, 0, 5, 0, 4, 5, 3, 9, 9, 7, 8, 7, 2, 5, 7, 5, 9, 8, 0, 9, 2, 5, 2, 9, 3, 2, 0, 6, 1, 6, 5, 4, 6, 6, 0, 2, 4, 1, 3, 5, 4, 8, 0, 9, 6, 3, 3, 9, 3, 9, 3, 3, 7, 8, 4, 8, 9, 8, 9, 7, 5, 3, 7, 1, 2, 0, 6, 8, 8, 6, 4, 6, 3, 1, 3, 9, 8, 4, 3, 2, 6, 6, 7, 1, 8, 0, 6, 5, 8, 1, 7, 4, 4, 0, 9, 1, 7, 1, 5, 0, 9, 6, 6, 7, 8, 7, 8, 1, 0, 9, 6, 5, 3, 3, 0, 5, 3, 2, 7, 8, 7, 9, 6, 1, 9, 0, 1, 9, 7, 0, 7, 4, 5, 5, 8, 2, 4, 2, 7, 5, 0, 1, 7, 4, 3, 4, 9, 0, 6, 1, 5, 2, 8, 5, 0, 4, 4, 8, 7, 3, 0, 8, 4, 0, 4, 6, 2, 4, 2, 5, 7, 0, 8, 6, 2, 8, 8, 9, 9, 9, 1, 3, 5, 2, 3, 2, 5, 2, 4, 8, 3, 7, 3, 5, 0, 2, 0, 2, 6, 7, 0, 6, 9, 9, 4, 2, 7, 4, 0, 2, 9, 7, 6, 3, 0, 8, 0, 5, 6, 0, 6, 1, 9, 3, 8, 1, 4, 8, 0, 0, 8, 5, 4, 4, 9, 7, 3, 1, 4, 2, 9, 2, 9, 6, 2, 0, 3, 0, 9, 8, 9, 3, 8, 9, 7, 4, 5, 4, 4, 1, 5, 9, 5, 6, 6, 2, 3, 9, 4, 0, 8, 9, 3, 1, 2, 5, 8, 3, 0, 2, 3, 3, 0, 3, 9, 1, 7, 0, 7, 2, 7, 2, 7, 3, 9, 7, 9, 1, 3, 1, 7, 9, 9, 8, 2, 2, 1, 4, 6, 8, 3, 0, 6, 9, 9, 7, 8, 4, 3, 2, 8, 8, 5, 7, 4, 7, 0, 1, 0, 6, 9, 6, 0, 5, 5, 6, 6, 5, 8, 4, 1, 8, 0, 8, 0, 8, 7, 9, 1, 7, 6, 8, 4, 3, 5, 0, 0, 3, 0, 9, 3, 9, 4, 4, 1, 5, 6, 4, 3, 5, 0, 0, 8, 1, 7, 6, 5, 7, 6, 7, 9, 8, 4, 9, 8, 0, 6, 9, 3, 0, 1, 4, 9, 5, 0, 2, 1, 8, 4, 3, 1, 0, 3, 8, 9, 0, 4, 7, 4, 8, 5, 9, 2, 8, 4, 5, 2, 8, 4, 8, 7, 0, 4, 4, 7, 7, 4, 2, 0, 2, 9, 3, 1, 1, 7, 3, 7, 2, 4, 9, 4, 4, 3, 1, 8, 7, 2, 0, 2, 1, 3, 8, 6, 4, 0, 7, 0, 1, 3, 2, 8, 8, 5, 3, 0, 8, 2, 7, 2, 8, 2, 5, 6, 7, 5, 9, 6, 6, 6, 0, 5, 7, 6, 6, 0, 7, 1, 8, 3, 8, 5, 2, 7, 9, 8, 8, 3, 6, 8, 2, 6, 0, 5, 0, 1, 1, 4, 0, 8, 3, 3, 4, 7, 2, 0, 2, 0, 3, 9, 6, 7, 7, 4, 6, 5, 2, 4, 3, 6, 4, 3, 5, 8, 7, 6, 6, 0, 7, 3, 0, 1, 0, 3, 3, 2, 9, 7, 2, 1, 0, 6, 4, 7, 4, 3, 7, 1, 2, 2, 8, 6, 3, 8, 5, 8, 5, 7, 8, 2, 5, 0, 7, 6, 6, 0, 2, 1, 9, 7, 8, 9, 3, 0, 4, 4, 8, 8, 3, 4, 3, 5, 1, 6, 0, 2, 2, 1, 4, 0, 8, 1, 8, 8, 8, 9, 2, 5, 7, 2, 0, 1, 9, 1, 8, 9, 2, 4, 0, 2, 5, 2, 0, 0, 7, 1, 7, 1, 9, 7, 4, 1, 6, 4, 9, 4, 6, 7, 2, 6, 8, 1, 7, 3, 0, 8, 7, 0, 3, 3, 5, 8, 2, 7, 6, 5, 3, 4, 4, 3, 6, 0, 4, 3, 4, 2, 3, 7, 5, 5, 7, 8, 4, 6, 4, 6, 6, 0, 4, 8, 3, 4, 8, 2, 7, 7, 8, 5, 9, 9, 8, 9, 4, 5, 3, 5, 3, 3, 5, 8, 7, 8, 9, 1, 6, 5, 8, 7, 6, 2, 4, 6, 0, 8, 9, 5, 8, 8, 7, 1, 6, 2, 3, 1, 4, 7, 2, 9, 9, 4, 9, 0, 4, 7, 9, 3, 7, 5, 6, 9, 1, 0, 1, 2, 9, 6, 3, 4, 8, 7, 8, 9, 0, 3, 4, 6, 0, 8, 8, 4, 3, 8, 1, 1, 5, 0, 0, 6, 0, 3, 0, 7, 7, 4, 9, 5, 6, 7, 2, 7, 5, 2, 4, 8, 4, 7, 1, 6, 3, 4, 8, 1, 9, 4, 4, 5, 4, 5, 0, 7, 0, 0, 8, 9, 1, 9, 5, 7, 0, 0, 8, 3, 7, 6, 6, 8, 5, 2, 1, 4, 1, 3, 0, 1, 3, 3, 2, 7, 6, 6, 8, 4, 2, 6, 3, 7, 2, 8, 6, 7, 9, 3, 0, 7, 2, 2, 6, 0, 6, 6, 2, 9, 0, 8, 3, 8, 9, 0, 5, 1, 0, 4, 2, 9, 3, 8, 8, 8, 9, 2, 4, 3, 7, 0, 9, 1, 1, 8, 6, 7, 2, 9, 1, 0, 9, 6, 5, 8, 1, 7, 5, 6, 5, 4, 9, 4, 4, 5, 6, 8, 0, 6, 2, 5, 8, 9, 8, 6, 5, 5, 1, 6, 5, 3, 0, 4, 8, 9, 7, 5, 6, 5, 8, 4, 5, 4, 1, 5, 4, 0, 2, 2, 6, 3, 5, 5, 4, 5, 4, 8, 5, 6, 4, 5, 5, 1, 2, 3, 2, 9, 1, 6, 3, 8, 7, 2, 5, 4, 8, 9, 5, 4, 8, 5, 3, 3, 1, 6, 2, 0, 0, 8, 5, 8, 5, 8, 1, 9, 0, 8, 9, 4, 3, 3, 5, 3, 1, 9, 5, 2, 9, 8, 6, 4, 6, 6, 0, 2, 6, 1, 8, 5, 5, 5, 8, 6, 4, 6, 6, 0, 6, 8, 0, 0, 7, 8, 5, 9, 9, 6, 3, 4, 1, 0, 0, 1, 8, 7, 5, 4, 5, 4, 4, 6, 5, 8, 8, 7, 2, 5, 4, 9, 0, 6, 0, 5, 6, 2, 4, 5, 7, 5, 1, 3, 8, 2, 3, 6, 5, 7, 9, 6, 3, 5, 9, 5, 8, 4, 4, 4, 0, 7, 8, 0, 5, 3, 1, 3, 3, 9, 1, 5, 2, 5, 9, 5, 4, 7, 6, 5, 2, 9, 6, 0, 8, 2, 5, 6, 1, 4, 4, 9, 3, 9, 9, 6, 0, 0, 4, 6, 0, 2, 7, 8, 6, 5, 8, 5, 1, 3, 2, 3, 1, 9, 6, 3, 8, 1, 4, 0, 2, 7, 6, 1, 7, 2, 4, 3, 5, 0, 5, 4, 0, 4, 8, 5, 3, 3, 7, 9, 0, 6, 4, 8, 4, 4, 5, 6, 7, 4, 2, 8, 2, 9, 9, 7, 4, 9, 8, 2, 3, 2, 3, 1, 5, 7, 4, 4, 5, 7, 3, 2, 3, 6, 7, 7, 2, 7, 3, 1, 2, 0, 9, 2, 8, 5, 4, 0, 1, 6, 8, 0, 1, 5, 6, 4, 5, 4, 6, 4, 7, 8, 4, 7, 9, 0, 9, 8, 5, 4, 2, 7, 2, 2, 1, 6, 0, 9, 9, 2, 6, 3, 8, 4, 4, 7, 1, 3, 4, 3, 3, 7, 2, 8, 1, 7, 2, 2, 8, 9, 8, 1, 3, 1, 4, 5, 0, 1, 8, 7, 2, 1, 6, 8, 5, 1, 0, 0, 4, 0, 3, 3, 3, 2, 2, 5, 2, 5, 7, 4, 6, 5, 8, 9, 8, 0, 9, 0, 9, 7, 7, 2, 0, 5, 7, 8, 9, 8, 3, 0, 5, 0, 5, 1, 8, 5, 4, 3, 3, 2, 4, 5, 6, 7, 2, 7, 3, 6, 0, 4, 1, 9, 2, 8, 4, 0, 4, 1, 7, 8, 7, 6, 5, 1, 8, 1, 4, 1, 5, 9, 6, 0, 7, 2, 2, 1, 1, 9, 4, 3, 3, 6, 6, 0, 4, 6, 1, 2, 9, 7, 4, 4, 4, 9, 8, 4, 8, 1, 0, 1, 8, 4, 2, 2, 0, 3, 1, 3, 4, 8, 1, 0, 0, 6, 4, 5, 6, 9, 0, 1, 6, 1, 4, 7, 0, 6, 1, 0, 5, 6, 1, 3, 2, 8, 7, 4, 3, 0, 5, 2, 1, 4, 4, 6, 3, 2, 2, 6, 4, 3, 9, 2, 5, 9, 1, 2, 8, 4, 5, 4, 2, 1, 2, 5, 5, 4, 5, 6, 7, 2, 3, 4, 2, 5, 1, 5, 1, 7, 6, 2, 5, 4, 5, 1, 0, 9, 8, 3, 5, 5, 1, 8, 2, 7, 0, 9, 1, 0, 3, 7, 5, 6, 5, 4, 8, 0, 3, 5, 0, 7, 7, 4, 7, 9, 3, 3, 0, 7, 7, 2, 1, 4, 3, 5, 3, 8, 4, 3, 4, 0, 2, 9, 0, 6, 4, 6, 6, 0, 4, 4, 3, 8, 4, 7, 3, 9, 2, 4, 2, 0, 6, 7, 4, 8, 8, 0, 3, 7, 7, 1, 9, 1, 3, 5, 2, 2, 7, 8, 1, 6, 4, 6, 2, 9, 6, 8, 8, 4, 3, 8, 6, 2, 9, 0, 1, 0, 9, 8, 0, 6, 0, 3, 5, 5, 6, 1, 3, 3, 5, 5, 9, 9, 9, 4, 5, 6, 9, 0, 7, 1, 8, 2, 3, 9, 2, 8, 0, 2, 2, 7, 0, 1, 0, 5, 5, 8, 2, 4, 8, 9, 0, 2, 3, 5, 4, 6, 5, 6, 7, 6, 0, 9, 4, 2, 7, 5, 5, 0, 4, 4, 2, 4, 9, 3, 7, 9, 9, 6, 0, 2, 6, 6, 2, 5, 7, 7, 6, 2, 4, 8, 4, 0, 2, 5, 1, 6, 4, 2, 0, 0, 3, 4, 2, 0, 4, 0, 6, 2, 2, 9, 8, 7, 4, 7, 3, 3, 7, 6, 4, 0, 2, 1, 8, 5, 2, 6, 8, 9, 1, 1, 6, 0, 6, 2, 1, 3, 9, 6, 8, 2, 6, 5, 7, 8, 5, 7, 6, 0, 7, 3, 1, 8, 9, 2, 6, 6, 5, 9, 1, 8, 8, 0, 0, 4, 2, 5, 8, 5, 5, 2, 4, 3, 7, 0, 7, 4, 2, 9, 0, 4, 7, 7, 9, 6, 6, 0, 4, 1, 1, 3, 3, 2, 0, 6, 7, 5, 3, 6, 5, 4, 1, 3, 8, 4, 1, 2, 0, 7, 6, 9, 2, 5, 6, 1, 1, 8, 6, 5, 5, 6, 5, 2, 3, 5, 3, 7, 9, 0, 9, 1, 8, 3, 1, 2, 5, 1, 0, 7, 2, 1, 8, 7, 3, 0, 8, 9, 4, 1, 7, 7, 8, 0, 6, 4, 9, 4, 4, 9, 4, 0, 9, 9, 4, 4, 4, 9, 2, 7, 9, 2, 7, 5, 0, 7, 4, 1, 6, 4, 7, 6, 3, 4, 1, 0, 8, 6, 4, 7, 2, 0, 6, 5, 4, 6, 1, 5, 5, 2, 3, 5, 0, 7, 8, 3, 6, 8, 3, 1, 4, 5, 3, 7, 5, 1, 4, 6, 7, 0, 9, 2, 6, 0, 6, 1, 4, 9, 5, 6, 9, 4, 2, 1, 4, 4, 1, 9, 5, 1, 4, 0, 1, 8, 4, 1, 7, 8, 5, 6, 6, 8, 8, 1, 7, 0, 5, 9, 0, 5, 6, 0, 2, 1, 7, 9, 7, 2, 2, 9, 3, 0, 0, 9, 8, 9, 6, 9, 6, 3, 3, 9, 6, 2, 2, 9, 5, 4, 0, 4, 6, 5, 3, 8, 4, 7, 7, 9, 4, 1, 9, 3, 2, 6, 9, 3, 8, 4, 8, 5, 0, 5, 7, 2, 4, 6, 7, 4, 4, 3, 2, 9, 0, 1, 3, 2, 5, 2, 5, 1, 9, 8, 3, 2, 7, 7, 1, 2, 1, 6, 2, 7, 2, 8, 5, 2, 7, 9, 0, 9, 1, 7, 8, 4, 4, 0, 9, 1, 0, 9, 8, 1, 2, 4, 5, 3, 5, 3, 7, 5, 3, 3, 2, 3, 6, 7, 6, 9, 9, 8, 5, 2, 5, 8, 9, 3, 0, 9, 1, 9, 2, 9, 2, 7, 3, 7, 0, 4, 1, 7, 9, 1, 2, 5, 9, 3, 3, 3, 3, 5, 0, 4, 7, 0, 0, 6, 3, 0, 5, 9, 2, 9, 5, 2, 0, 0, 7, 7, 9, 6, 1, 3, 1, 8, 0, 3, 7, 8, 4, 6, 7, 0, 1, 3, 6, 8, 3, 3, 5, 9, 4, 0, 4, 5, 1, 3, 5, 9, 6, 7, 8, 1, 4, 3, 6, 1, 0, 3, 2, 3, 4, 3, 7, 9, 0, 2, 1, 5, 2, 6, 5, 6, 9, 8, 4, 9, 7, 0, 5, 4, 0, 3, 8, 0, 5, 8, 3, 9, 5, 5, 0, 7, 3, 0, 6, 3, 7, 3, 0, 0, 0, 6, 8, 0, 2, 9, 7, 0, 5, 6, 3, 8, 6, 0, 6, 9, 6, 0, 0, 4, 6, 0, 8, 3, 1, 7, 6, 7, 3, 5, 9, 2, 4, 1, 2, 5, 3, 6, 5, 6, 5, 4, 3, 2, 1, 1, 1, 1, 7, 1, 1, 0, 2, 9, 9, 5, 6, 6, 9, 9, 2, 1, 1, 4, 0, 5, 9, 2, 4, 2, 8, 1, 6, 6, 8, 8, 5, 8, 1, 8, 3, 8, 0, 2, 4, 8, 5, 0, 7, 1, 0, 9, 5, 5, 7, 4, 2, 3, 5, 1, 4, 8, 0, 5, 0, 2, 0, 7, 4, 1, 9, 2, 0, 5, 5, 9, 8, 3, 8, 1, 6, 8, 6, 6, 6, 4, 1, 3, 9, 6, 2, 0, 7, 8, 1, 9, 3, 6, 6, 9, 3, 3, 7, 1, 1, 1, 7, 2, 4, 0, 4, 3, 8, 3, 0, 4, 9, 1, 9, 2, 1, 5, 2, 4, 5, 3, 3, 5, 2, 5, 0, 0, 7, 5, 4, 1, 6, 2, 3, 8, 3, 2, 0, 1, 2, 3, 9, 1, 5, 8, 6, 8, 6, 8, 4, 9, 4, 5, 4, 2, 2, 5, 5, 2, 9, 8, 3, 7, 4, 7, 4, 6, 0, 9, 1, 0, 0, 3, 5, 1, 7, 7, 7, 6, 3, 3, 6, 1, 4, 8, 1, 0, 9, 5, 7, 2, 4, 2, 7, 1, 0, 7, 4, 2, 1, 6, 6, 2, 4, 2, 1, 0, 9, 6, 7, 8, 7, 8, 7, 1, 0, 0, 3, 7, 0, 8, 9, 6, 1, 6, 0, 9, 7, 8, 2, 3, 8, 8, 3, 4, 5, 1, 1, 5, 5, 6, 2, 4, 2, 7, 9, 8, 6, 5, 0, 9, 8, 4, 3, 0, 8, 2, 0, 6, 5, 6, 2, 6, 1, 4, 7, 3, 4, 7, 8, 3, 7, 1, 4, 6, 7, 2, 0, 8, 4, 4, 3, 2, 1, 9, 1, 4, 8, 4, 5, 3, 9, 7, 7, 1, 8, 3, 3, 6, 2, 1, 4, 9, 7, 6, 8, 9, 8, 7, 2, 5, 1, 1, 2, 7, 3, 7, 0, 5, 5, 4, 1, 9, 8, 6, 5, 9, 5, 7, 2, 6, 9, 2, 3, 2, 9, 1, 7, 9, 5, 8, 8, 4, 3, 2, 9, 4, 5, 7, 2, 2, 6, 1, 0, 4, 8, 1, 0, 6, 9, 5, 4, 1, 9, 7, 1, 6, 4, 6, 2, 0, 9, 5, 3, 7, 3, 7, 8, 1, 6, 5, 1, 7, 6, 0, 2, 4, 5, 3, 1, 0, 8, 9, 2, 5, 0, 0, 3, 8, 2, 4, 3, 2, 6, 8, 7, 7, 8, 5, 8, 9, 9, 5, 4, 5, 3, 9, 9, 2, 9, 1, 9, 3, 7, 2, 1, 3, 8, 3, 1, 5, 2, 3, 2, 3, 2, 0, 3, 9, 2, 4, 6, 7, 9, 2, 7, 3, 7, 5, 2, 8, 9, 5, 3, 7, 1, 7, 8, 8, 8, 5, 9, 9, 8, 7, 2, 1, 5, 9, 1, 5, 9, 3, 0, 9, 6, 1, 5, 6, 6, 7, 3, 8, 0, 1, 9, 6, 5, 6, 2, 1, 2, 4, 9, 0, 7, 8, 4, 4, 6, 6, 5, 2, 0, 0, 7, 4, 1, 9, 9, 4, 4, 8, 8, 0, 3, 2, 3, 8, 7, 7, 4, 9, 9, 1, 4, 3, 7, 7, 3, 6, 1, 1, 2, 1, 7, 2, 0, 6, 6, 4, 7, 3, 0, 2, 2, 8, 2, 6, 7, 2, 8, 1, 4, 1, 8, 2, 6, 9, 3, 2, 9, 5, 0, 9, 1, 2, 7, 6, 9, 5, 5, 8, 1, 4, 2, 9, 8, 4, 6, 6, 9, 0, 3, 7, 3, 3, 2, 6, 2, 2, 8, 8, 8, 3, 5, 5, 3, 6, 2, 0, 9, 9, 9, 4, 2, 4, 4, 7, 1, 6, 1, 0, 8, 6, 6, 4, 8, 3, 8, 6, 2, 6, 5, 7, 3, 1, 8, 4, 0, 6, 8, 6, 1, 2, 4, 1, 1, 5, 3, 5, 0, 6, 7, 7, 7, 3, 0, 8, 9, 3, 0, 6, 7, 8, 7, 1, 1, 0, 1, 0, 6, 9, 4, 5, 2, 9, 9, 5, 7, 2, 2, 5, 4, 5, 5, 6, 3, 3, 8, 4, 0, 0, 2, 0, 8, 0, 4, 4, 9, 6, 5, 3, 5, 0, 8, 4, 0, 6, 5, 6, 6, 0, 9, 3, 2, 4, 3, 9, 9, 9, 6, 4, 4, 1, 3, 0, 0, 7, 0, 4, 8, 6, 0, 7, 2, 5, 1, 8, 4, 1, 6, 9, 5, 6, 0, 9, 3, 1, 5, 6, 6, 3, 7, 4, 1, 1, 9, 5, 1, 8, 8, 4, 6, 5, 4, 6, 1, 3, 6, 4, 8, 7, 2, 0, 6, 1, 0, 1, 5, 8, 3, 2, 5, 5, 5, 4, 5, 9, 9, 7, 1, 5, 7, 7, 6, 1, 3, 4, 3, 5, 0, 0, 6, 3, 5, 9, 6, 1, 9, 7, 3, 2, 9, 7, 8, 8, 1, 9, 2, 6, 6, 7, 5, 9, 5, 5, 4, 4, 9, 5, 2, 3, 5, 5, 3, 1, 5, 8, 8, 8, 4, 2, 8, 6, 7, 7, 3, 1, 9, 7, 1, 1, 2, 9, 1, 8, 1, 6, 1, 3, 7, 9, 0, 7, 0, 6, 6, 6, 1, 5, 2, 6, 1, 2, 7, 2, 5, 6, 3, 3, 5, 4, 7, 0, 4, 1, 5, 6, 9, 0, 5, 3, 4, 0, 0, 4, 6, 3, 6, 5, 7, 4, 9, 9, 2, 2, 6, 1, 8, 0, 6, 9, 3, 2, 4, 9, 2, 5, 9, 2, 9, 6, 8, 3, 8, 3, 2, 1, 8, 3, 2, 6, 3, 5, 0, 7, 9, 6, 1, 4, 9, 2, 3, 0, 3, 5, 6, 7, 7, 1, 7, 9, 3, 7, 3, 2, 1, 1, 8, 8, 5, 3, 6, 8, 9, 7, 1, 2, 4, 3, 7, 3, 4, 0, 5, 9, 2, 3, 1, 5, 8, 8, 1, 9, 0, 3, 1, 0, 9, 5, 4, 7, 9, 1, 5, 4, 1, 5, 5, 4, 5, 7, 9, 1, 0, 6, 5, 7, 2, 9, 2, 4, 7, 1, 2, 1, 3, 4, 9, 8, 2, 1, 4, 8, 0, 9, 1, 7, 3, 8, 9, 1, 6, 8, 0, 6, 6, 3, 7, 6, 0, 2, 9, 6, 6, 3, 3, 3, 6, 2, 1, 1, 2, 7, 8, 7, 2, 5, 4, 6, 8, 9, 6, 6, 6, 7, 0, 7, 6, 3, 5, 2, 9, 3, 1, 3, 6, 0, 7, 1, 4, 6, 7, 9, 8, 2, 3, 8, 4, 3, 1, 2, 0, 2, 0, 8, 4, 5, 7, 3, 5, 4, 2, 7, 9, 8, 2, 0, 3, 7, 5, 5, 9, 2, 8, 6, 8, 2, 8, 1, 4, 7, 8, 9, 0, 4, 8, 0, 9, 9, 4, 4, 4, 1, 5, 5, 2, 8, 5, 5, 0, 0, 9, 4, 8, 5, 0, 0, 9, 3, 3, 9, 1, 6, 0, 8, 8, 4, 6, 7, 3, 2, 7, 9, 6, 7, 6, 6, 3, 8, 6, 2, 5, 4, 3, 2, 9, 5, 9, 5, 1, 8, 5, 7, 7, 6, 7, 4, 2, 8, 3, 3, 5, 0, 8, 4, 9, 7, 7, 5, 2, 0, 9, 0, 2, 9, 6, 9, 0, 1, 5, 8, 2, 8, 0, 6, 3, 3, 5, 8, 7, 4, 7, 6, 0, 9, 0, 0, 0, 7, 0, 0, 3, 9, 5, 7, 1, 3, 3, 2, 8, 3, 9, 3, 3, 8, 8, 8, 6, 4, 9, 2, 3, 4, 2, 2, 2, 6, 3, 3, 8, 7, 0, 4, 2, 2, 8, 1, 3, 4, 0, 0, 0, 5, 7, 9, 9, 6, 7, 5, 1, 7, 2, 1, 1, 6, 7, 6, 0, 1, 8, 9, 2, 2, 6, 2, 6, 8, 2, 0, 1, 1, 1, 9, 3, 2, 8, 2, 2, 1, 8, 1, 8, 3, 0, 6, 1, 9, 0, 8, 3, 7, 0, 4, 9, 3, 0, 9, 7, 9, 7, 5, 2, 8, 5, 5, 0, 7, 9, 5, 4, 6, 4, 3, 1, 7, 1, 9, 0, 1, 2, 1, 7, 8, 5, 5, 0, 6, 4, 0, 4, 8, 0, 0, 8, 2, 7, 0, 9, 5, 8, 7, 3, 3, 4, 0, 4, 4, 9, 0, 6, 8, 3, 5, 6, 1, 8, 3, 4, 6, 5, 0, 8, 2, 3, 4, 2, 5, 1, 1, 6, 0, 4, 6, 3, 2, 9, 7, 3, 3, 1, 2, 4, 8, 5, 0, 5, 3, 7, 4, 0, 9, 2, 3, 3, 6, 3, 2, 7, 4, 7, 2, 5, 2, 8, 0, 8, 6, 2, 4, 5, 8, 5, 9, 6, 3, 5, 7, 2, 9, 8, 6, 5, 1, 0, 5, 7, 7, 5, 4, 4, 1, 4, 8, 2, 9, 9, 4, 7, 0, 3, 4, 7, 0, 0, 1, 1, 3, 9, 5, 6, 8, 2, 4, 8, 8, 3, 9, 5, 0, 9, 0, 5, 0, 3, 1, 0, 5, 0, 0, 3, 1, 3, 9, 6, 4, 6, 8, 4, 4, 6, 4, 1, 9, 2, 0, 6, 8, 4, 9, 2, 1, 6, 8, 9, 5, 3, 3, 3, 7, 6, 8, 1, 8, 7, 5, 6, 9, 8, 0, 3, 2, 2, 4, 0, 6, 4, 5, 0, 5, 1, 5, 9, 0, 5, 9, 4, 9, 1, 6, 6, 2, 8, 9, 8, 6, 8, 4, 7, 4, 9, 0, 5, 8, 3, 4, 7, 7, 0, 4, 1, 9, 6, 2, 5, 5, 4, 9, 2, 1, 2, 8, 7, 4, 1, 7, 1, 5, 2, 9, 2, 2, 9, 0, 6, 5, 8, 0, 8, 6, 0, 1, 9, 1, 3, 9, 8, 6, 2, 1, 4, 9, 2, 8, 8, 5, 2, 7, 0, 5, 0, 2, 8, 1, 7, 0, 1, 1, 8, 1, 5, 7, 3, 7, 9, 0, 0, 9, 6, 3, 1, 9, 8, 2, 7, 7, 2, 5, 0, 4, 3, 6, 9, 2, 8, 9, 2, 2, 2, 7, 0, 8, 8, 1, 7, 8, 0, 6, 9, 2, 5, 8, 9, 0, 6, 2, 9, 6, 4, 0, 6, 9, 6, 5, 9, 0, 5, 5, 1, 3, 3, 1, 1, 0, 3, 4, 0, 5, 0, 2, 2, 8, 7, 7, 3, 3, 2, 3, 9, 4, 5, 7, 4, 8, 1, 6, 6, 0, 1, 7, 2, 5, 2, 0, 1, 3, 4, 2, 7, 3, 9, 0, 4, 0, 1, 2, 5, 5, 1, 3, 1, 4, 9, 8, 4, 1, 4, 7, 9, 7, 7, 7, 6, 7, 5, 0, 5, 5, 2, 2, 8, 8, 1, 8, 9, 6, 6, 3, 2, 2, 0, 3, 2, 6, 4, 1, 2, 5, 4, 9, 6, 0, 1, 6, 2, 1, 6, 9, 2, 4, 0, 9, 2, 0, 0, 2, 1, 2, 1, 8, 7, 1, 5, 4, 7, 2, 2, 6, 0, 2, 3, 8, 4, 1, 5, 2, 8, 2, 0, 1, 8, 9, 2, 7, 3, 7, 6, 5, 9, 8, 8, 8, 9, 5, 3, 6, 2, 5, 6, 6, 5, 5, 4, 7, 8, 1, 8, 8, 3, 1, 4, 0, 8, 5, 3, 6, 6, 7, 3, 7, 4, 1, 0, 6, 0, 6, 3, 5, 1, 0, 3, 2, 3, 8, 1, 2, 5, 4, 9, 5, 1, 4, 2, 1, 5, 6, 6, 0, 1, 4, 2, 4, 2, 2, 2, 3, 9, 7, 0, 5, 1, 1, 2, 4, 7, 4, 6, 7, 0, 9, 7, 3, 6, 4, 1, 7, 9, 7, 6, 9, 8, 7, 7, 7, 5, 1, 0, 8, 5, 3, 8, 0, 4, 3, 8, 3, 8, 5, 4, 0, 1, 2, 0, 4, 2, 9, 2, 6, 8, 3, 1, 5, 7, 0, 4, 2, 1, 5, 6, 8, 2, 3, 3, 1, 9, 5, 9, 4, 1, 7, 5, 3, 7, 0, 1, 1, 5, 9, 3, 6, 9, 1, 4, 5, 0, 9, 3, 0, 1, 3, 0, 5, 5, 1, 9, 6, 6, 6, 3, 9, 7, 3, 1, 0, 6, 2, 4, 2, 5, 3, 5, 9, 3, 7, 6, 3, 1, 5, 4, 4, 1, 1, 3, 9, 6, 4, 8, 2, 5, 2, 2, 4, 8, 7, 9, 0, 1, 1, 5, 5, 4, 0, 1, 8, 9, 6, 6, 2, 3, 7, 9, 2, 9, 9, 0, 5, 5, 2, 5, 3, 2, 5, 5, 1, 1, 2, 8, 5, 7, 0, 7, 7, 2, 2, 5, 3, 2, 4, 9, 7, 3, 8, 6, 0, 0, 5, 8, 2, 1, 2, 0, 4, 3, 1, 3, 4, 3, 2, 0, 6, 9, 5, 4, 4, 2, 2, 5, 7, 2, 7, 0, 6, 4, 4, 9, 0, 1, 4, 0, 2, 2, 2, 8, 6, 7, 7, 5, 6, 2, 1, 0, 5, 2, 9, 4, 8, 0, 5, 7, 4, 7, 5, 5, 1, 8, 9, 3, 3, 2, 8, 1, 3, 5, 9, 3, 8, 8, 3, 9, 5, 4, 3, 5, 0, 8, 3, 0, 6, 5, 4, 5, 1, 1, 1, 7, 3, 6, 2, 6, 3, 2, 5, 4, 7, 3, 9, 1, 0, 8, 0, 8, 7, 6, 1, 5, 7, 2, 8, 6, 3, 7, 9, 8, 2, 3, 7, 9, 4, 3, 6, 3, 4, 9, 7, 0, 9, 7, 6, 9, 6, 6, 0, 0, 9, 0, 6, 9, 4, 2, 4, 8, 6, 8, 1, 8, 2, 5, 4, 7, 6, 2, 7, 2, 5, 9, 6, 0, 0, 6, 0, 9, 2, 4, 6, 4, 3, 9, 0, 0, 8, 0, 4, 4, 7, 9, 2, 1, 5, 1, 1, 5, 4, 0, 7, 2, 2, 8, 7, 1, 2, 4, 7, 5, 6, 2, 5, 3, 7, 0, 5, 2, 0, 0, 0, 1, 6, 4, 5, 0, 7, 6, 3, 2, 6, 7, 0, 8, 4, 6, 0, 8, 1, 2, 5, 1, 6, 9, 2, 4, 9, 2, 0, 5, 1, 0, 8, 8, 5, 0, 7, 0, 6, 9, 2, 7, 1, 9, 2, 8, 0, 8, 4, 7, 2, 7, 2, 5, 7, 9, 3, 0, 5, 7, 3, 6, 4, 5, 3, 2, 8, 3, 2, 0, 4, 7, 6, 3, 9, 7, 9, 5, 2, 4, 8, 5, 3, 2, 4, 8, 8, 1, 0, 2, 3, 2, 2, 8, 7, 5, 5, 1, 9, 4, 9, 9, 6, 9, 6, 6, 0, 2, 4, 4, 2, 2, 0, 5, 6, 1, 3, 9, 3, 3, 6, 9, 4, 2, 0, 1, 8, 1, 6, 5, 4, 3, 1, 0, 2, 6, 2, 7, 2, 0, 8, 7, 1, 0, 2, 3, 9, 8, 0, 9, 9, 1, 2, 3, 9, 7, 4, 6, 2, 4, 3, 9, 1, 9, 6, 4, 2, 6, 8, 3, 5, 9, 0, 0, 5, 4, 8, 7, 4, 1, 7, 2, 5, 9, 1, 3, 6, 0, 1, 8, 3, 9, 1, 8, 4, 8, 3, 8, 5, 9, 0, 9, 8, 6, 7, 6, 6, 7, 4, 3, 1, 7, 2, 8, 4, 0, 0, 4, 6, 9, 1, 8, 7, 2, 6, 2, 8, 2, 6, 5, 3, 7, 9, 1, 7, 1, 1, 1, 6, 7, 2, 3, 4, 3, 6, 5, 3, 3, 0, 6, 7, 3, 0, 1, 7, 6, 1, 0, 2, 5, 1, 7, 6, 0, 2, 0, 3, 6, 2, 0, 8, 5, 4, 4, 0, 3, 0, 2, 8, 7, 6, 2, 9, 1, 6, 3, 8, 6, 4, 3, 1, 9, 8, 2, 4, 5, 7, 4, 6, 2, 2, 9, 5, 6, 4, 1, 3, 4, 6, 4, 9, 5, 8, 4, 1, 5, 9, 2, 3, 7, 8, 1, 7, 2, 2, 9, 9, 3, 1, 6, 6, 6, 4, 7, 5, 0, 4, 9, 6, 9, 0, 2, 2, 4, 6, 1, 6, 9, 0, 3, 8, 3, 2, 4, 6, 9, 3, 1, 6, 9, 7, 9, 6, 1, 8, 0, 6, 3, 2, 2, 3, 7, 7, 4, 1, 8, 9, 8, 1, 0, 3, 8, 4, 9, 8, 3, 8, 3, 8, 8, 9, 6, 0, 1, 2, 9, 9, 4, 2, 5, 8, 2, 8, 3, 3, 0, 4, 8, 8, 3, 6, 5, 8, 0, 3, 7, 1, 7, 7, 4, 2, 3, 8, 3, 5, 8, 7, 2, 0, 9, 6, 0, 6, 1, 8, 4, 9, 3, 5, 9, 8, 8, 3, 2, 8, 8, 8, 7, 7, 9, 6, 3, 5, 7, 3, 1, 5, 7, 6, 4, 9, 0, 7, 6, 3, 6, 7, 2, 6, 9, 3, 7, 5, 7, 2, 7, 9, 2, 0, 9, 1, 7, 5, 6, 6, 4, 1, 2, 9, 6, 1, 2, 1, 5, 3, 1, 5, 4, 8, 5, 0, 9, 2, 6, 0, 2, 8, 9, 9, 4, 1, 5, 3, 5, 1, 4, 8, 9, 8, 6, 9, 1, 6, 6, 8, 2, 4, 2, 0, 9, 9, 0, 3, 1, 8, 8, 3, 7, 4, 7, 9, 5, 3, 0, 8, 6, 7, 1, 6, 1, 6, 0, 9, 8, 5, 6, 4, 4, 4, 3, 9, 2, 2, 2, 6, 4, 0, 0, 3, 0, 9, 1, 3, 8, 7, 8, 4, 1, 7, 4, 1, 8, 8, 1, 8, 6, 5, 4, 3, 6, 3, 8, 1, 3, 5, 8, 5, 0, 5, 7, 5, 7, 4, 3, 5, 7, 5, 4, 8, 9, 4, 3, 3, 7, 2, 3, 8, 1, 4, 7, 9, 3, 3, 0, 4, 9, 6, 8, 6, 7, 5, 4, 3, 1, 4, 0, 2, 6, 4, 5, 6, 7, 7, 7, 8, 5, 4, 3, 5, 1, 2, 2, 7, 5, 1, 6, 9, 2, 7, 9, 4, 7, 9, 6, 0, 8, 1, 4, 2, 1, 4, 8, 1, 9, 0, 6, 0, 0, 8, 7, 3, 0, 9, 0, 8, 1, 8, 6, 5, 1, 6, 0, 9, 8, 8, 4, 2, 7, 5, 3, 9, 5, 8, 0, 0, 0, 8, 0, 0, 9, 0, 4, 9, 9, 8, 4, 9, 4, 2, 6, 0, 0, 3, 1, 7, 0, 6, 5, 5, 0, 9, 4, 9, 3, 1, 4, 9, 3, 5, 6, 1, 5, 7, 5, 0, 0, 8, 3, 6, 6, 5, 3, 3, 2, 9, 6, 5, 9, 4, 3, 7, 6, 3, 2, 7, 4, 4, 5, 9, 2, 2, 2, 0, 7, 9, 3, 6, 3, 1, 2, 9, 9, 6, 9, 7, 2, 8, 1, 0, 8, 8, 6, 7, 5, 5, 1, 4, 9, 3, 9, 7, 7, 0, 3, 3, 3, 2, 0, 2, 3, 4, 5, 9, 4, 4, 3, 5, 3, 3, 0, 0, 1, 3, 0, 0, 1, 5, 2, 7, 3, 6, 0, 7, 0, 4, 4, 3, 9, 5, 9, 2, 0, 7, 9, 7, 1, 3, 7, 6, 8, 2, 3, 5, 7, 2, 1, 4, 3, 5, 3, 5, 6, 9, 6, 7, 3, 5, 9, 9, 6, 7, 5, 7, 6, 2, 0, 4, 1, 3, 4, 6, 1, 0, 4, 9, 2, 7, 9, 0, 2, 1, 9, 0, 3, 5, 1, 7, 2, 6, 1, 8, 1, 1, 6, 7, 3, 1, 0, 7, 7, 2, 1, 6, 3, 5, 7, 4, 6, 0, 2, 2, 0, 2, 4, 5, 2, 6, 9, 7, 6, 4, 6, 4, 5, 7, 7, 4, 9, 1, 3, 2, 8, 3, 1, 7, 1, 3, 2, 7, 8, 8, 1, 5, 3, 5, 4, 9, 2, 5, 5, 8, 7, 1, 2, 0, 8, 0, 0, 9, 1, 0, 8, 0, 5, 6, 2, 0, 8, 2, 2, 5, 2, 4, 5, 4, 2, 6, 4, 7, 9, 8, 9, 3, 6, 2, 2, 1, 0, 6, 3, 0, 5, 5, 2, 8, 9, 5, 1, 5, 3, 2, 5, 3, 0, 6, 2, 2, 5, 9, 0, 6, 7, 6, 5, 1, 9, 8, 1, 4, 9, 4, 4, 1, 5, 9, 8, 8, 5, 5, 2, 8, 3, 9, 1, 5, 2, 6, 7, 8, 9, 3, 2, 3, 8, 1, 9, 3, 3, 8, 3, 1, 5, 8, 3, 1, 7, 2, 3, 6, 9, 1, 3, 7, 4, 0, 9, 5, 2, 5, 8, 4, 0, 1, 5, 4, 9, 9, 3, 2, 9, 7, 7, 4, 5, 9, 3, 9, 1, 0, 6, 7, 7, 1, 1, 5, 4, 2, 4, 4, 7, 1, 4, 5, 5, 7, 6, 7, 3, 1, 8, 9, 6, 1, 6, 7, 8, 5, 2, 5, 6, 2, 7, 9, 1, 8, 0, 1, 0, 7, 7, 5, 9, 3, 5, 2, 2, 0, 1, 1, 4, 5, 9, 3, 2, 1, 3, 3, 2, 8, 0, 6, 0, 7, 5, 0, 3, 8, 7, 8, 5, 4, 7, 4, 5, 0, 1, 8, 9, 9, 5, 9, 9, 9, 5, 6, 6, 9, 2, 3, 9, 3, 2, 8, 1, 9, 4, 3, 8, 7, 8, 0, 5, 2, 0, 3, 4, 6, 8, 0, 8, 5, 4, 1, 9, 2, 7, 6, 9, 4, 4, 2, 6, 9, 2, 9, 8, 3, 4, 2, 8, 1, 5, 1, 4, 1, 6, 2, 7, 1, 9, 5, 4, 9, 7, 4, 6, 9, 0, 9, 9, 7, 6, 5, 1, 5, 2, 4, 2, 1, 6, 1, 0, 1, 5, 5, 5, 7, 6, 2, 4, 0, 9, 1, 3, 5, 8, 9, 7, 7, 7, 6, 4, 3, 8, 8, 8, 3, 2, 0, 2, 0, 4, 1, 7, 1, 8, 6, 7, 4, 3, 7, 8, 7, 7, 3, 2, 0, 4, 1, 9, 3, 3, 7, 7, 0, 0, 0, 3, 5, 4, 9, 7, 5, 8, 6, 7, 2, 5, 2, 1, 4, 1, 0, 4, 8, 0, 6, 7, 4, 3, 1, 6, 3, 6, 1, 8, 0, 6, 5, 4, 5, 9, 8, 8, 0, 2, 6, 6, 7, 6, 0, 4, 5, 4, 8, 9, 7, 6, 8, 1, 0, 0, 9, 4, 5, 3, 6, 6, 5, 9, 0, 9, 5, 4, 2, 1, 7, 2, 5, 0, 6, 5, 5, 9, 3, 3, 2, 1, 3, 4, 0, 6, 7, 0, 9, 7, 6, 3, 2, 7, 5, 3, 3, 8, 0, 3, 6, 4, 3, 4, 4, 1, 9, 2, 9, 0, 5, 3, 8, 7, 0, 6, 5, 7, 1, 9, 8, 5, 6, 2, 8, 1, 7, 1, 7, 8, 3, 4, 0, 7, 8, 3, 7, 2, 3, 5, 8, 5, 2, 3, 6, 9, 2, 2, 6, 8, 9, 6, 1, 4, 2, 3, 1, 6, 8, 9, 5, 6, 7, 7, 2, 4, 2, 0, 7, 0, 1, 8, 6, 1, 2, 1, 4, 6, 5, 4, 4, 2, 2, 9, 8, 7, 5, 3, 7, 3, 9, 6, 1, 0, 5, 0, 0, 4, 0, 8, 5, 4, 5, 0, 2, 0, 5, 0, 7, 0, 7, 5, 4, 6, 8, 7, 6, 4, 7, 7, 5, 2, 7, 7, 7, 5, 5, 4, 7, 4, 3, 0, 3, 6, 7, 0, 3, 5, 3, 1, 5, 5, 1, 6, 6, 7, 1, 5, 6, 4, 3, 2, 6, 9, 4, 1, 7, 0, 2, 6, 2, 7, 5, 1, 1, 3, 6, 2, 4, 2, 0, 0, 5, 2, 7, 0, 0, 3, 2, 8, 4, 0, 6, 7, 5, 8, 4, 9, 0, 4, 3, 3, 3, 3, 9, 2, 6, 7, 2, 3, 6, 9, 0, 4, 0, 1, 7, 1, 3, 3, 0, 7, 5, 4, 8, 1, 2, 8, 6, 9, 8, 1, 4, 6, 3, 0, 0, 2, 8, 0, 5, 9, 3, 2, 8, 8, 0, 0, 3, 5, 4, 4, 2, 9, 9, 4, 6, 5, 2, 0, 9, 7, 6, 9, 1, 0, 2, 1, 2, 4, 8, 9, 0, 1, 2, 0, 3, 0, 7, 0, 0, 8, 2, 1, 3, 2, 6, 0, 0, 0, 2, 2, 9, 7, 2, 5, 2, 6, 7, 2, 1, 8, 3, 7, 3, 6, 4, 9, 2, 7, 5, 1, 4, 4, 1, 5, 2, 8, 9, 0, 1, 3, 1, 3, 6, 8, 4, 0, 4, 3, 7, 3, 2, 3, 0, 5, 3, 4, 2, 4, 7, 8, 5, 8, 5, 7, 7, 8, 0, 7, 5, 4, 9, 9, 5, 4, 8, 7, 6, 4, 4, 6, 3, 3, 7, 2, 0, 7, 9, 8, 4, 4, 8, 6, 8, 9, 5, 6, 7, 7, 5, 7, 4, 3, 6, 3, 2, 6, 1, 9, 0, 7, 6, 1, 8, 9, 5, 4, 8, 7, 8, 5, 6, 1, 9, 6, 2, 3, 5, 4, 1, 1, 7, 1, 7, 0, 7, 6, 2, 1, 8, 0, 2, 0, 4, 6, 0, 9, 1, 3, 7, 7, 7, 6, 0, 5, 3, 7, 5, 7, 1, 0, 8, 1, 0, 3, 5, 1, 7, 4, 8, 3, 2, 0, 8, 2, 7, 8, 0, 1, 0, 7, 9, 6, 4, 3, 6, 1, 7, 0, 2, 0, 7, 8, 0, 8, 5, 5, 4, 7, 2, 5, 3, 4, 4, 7, 6, 6, 7, 5, 0, 8, 7, 1, 5, 4, 1, 1, 1, 4, 8, 7, 1, 9, 6, 4, 1, 1, 5, 9, 8, 3, 8, 9, 1, 7, 9, 4, 1, 4, 7, 0, 7, 2, 8, 0, 6, 2, 3, 4, 4, 5, 4, 6, 6, 0, 9, 8, 5, 5, 3, 5, 5, 0, 7, 6, 6, 2, 0, 5, 9, 8, 4, 3, 6, 3, 0, 0, 8, 8, 9, 7, 0, 1, 9, 2, 1, 9, 8, 1, 0, 0, 6, 6, 3, 8, 0, 0, 0, 5, 0, 0, 5, 1, 8, 2, 4, 4, 2, 4, 4, 6, 7, 9, 7, 5, 3, 5, 8, 9, 3, 2, 5, 7, 0, 5, 9, 8, 6, 5, 8, 4, 4, 3, 9, 9, 9, 8, 8, 3, 8, 5, 4, 0, 7, 2, 3, 6, 5, 9, 7, 4, 6, 6, 2, 2, 3, 6, 9, 5, 4, 9, 9, 2, 8, 6, 0, 5, 8, 8, 9, 7, 8, 5, 4, 0, 1, 8, 7, 3, 5, 7, 9, 5, 6, 3, 9, 0, 3, 0, 2, 7, 8, 5, 6, 2, 7, 8, 3, 8, 3, 3, 1, 5, 1, 3, 6, 2, 1, 8, 4, 4, 2, 2, 8, 2, 8, 6, 6, 1, 1, 4, 0, 8, 7, 8, 6, 5, 3, 9, 7, 6, 2, 8, 0, 0, 2, 9, 1, 9, 1, 3, 7, 1, 2, 5, 6, 1, 4, 1, 9, 8, 4, 4, 5, 0, 7, 9, 2, 5, 3, 7, 8, 5, 6, 2, 7, 4, 7, 5, 1, 1, 9, 4, 0, 0, 2, 3, 1, 8, 8, 8, 4, 6, 7, 5, 9, 2, 9, 0, 6, 2, 0, 6, 7, 7, 8, 9, 1, 4, 8, 0, 2, 0, 6, 1, 7, 0, 3, 7, 8, 5, 2, 3, 2, 6, 2, 9, 1, 2, 5, 2, 0, 8, 6, 9, 5, 1, 6, 2, 0, 7, 0, 1, 4, 1, 0, 0, 5, 6, 4, 9, 0, 8, 6, 8, 1, 0, 2, 4, 2, 7, 1, 7, 4, 8, 5, 9, 9, 4, 7, 2, 6, 8, 8, 3, 1, 7, 6, 0, 3, 7, 7, 0, 0, 8, 3, 9, 2, 2, 5, 8, 3, 5, 0, 5, 1, 8, 5, 0, 3, 0, 5, 1, 2, 0, 4, 6, 1, 1, 9, 8, 1, 3, 3, 3, 1, 9, 3, 7, 3, 2, 0, 5, 1, 6, 4, 4, 6, 9, 2, 6, 8, 7, 4, 9, 0, 6, 5, 3, 6, 0, 2, 6, 7, 3, 5, 0, 1, 0, 3, 4, 8, 9, 7, 8, 6, 1, 5, 7, 8, 5, 5, 3, 6, 3, 8, 4, 3, 7, 2, 2, 3, 6, 4, 5, 1, 0, 4, 7, 4, 8, 0, 5, 0, 1, 4, 6, 2, 6, 8, 1, 8, 8, 4, 7, 4, 2, 7, 8, 8, 1, 6, 7, 6, 5, 9, 2, 9, 8, 1, 2, 2, 6, 0, 7, 2, 6, 9, 0, 8, 4, 1, 6, 5, 9, 7, 3, 4, 6, 3, 2, 2, 7, 9, 6, 0, 6, 0, 6, 4, 5, 4, 9, 9, 8, 7, 3, 0, 0, 5, 1, 6, 4, 5, 9, 5, 0, 5, 9, 4, 1, 0, 8, 7, 1, 8, 2, 4, 7, 1, 4, 2, 5, 8, 8, 4, 3, 1, 2, 7, 8, 1, 8, 1, 5, 9, 4, 1, 0, 4, 3, 7, 9, 0, 3, 2, 6, 8, 7, 6, 8, 9, 7, 1, 5, 5, 1, 1, 6, 6, 6, 5, 0, 9, 0, 8, 5, 4, 6, 5, 0, 6, 8, 1, 5, 5, 2, 8, 9, 6, 6, 6, 8, 9, 4, 8, 9, 1, 9, 5, 7, 4, 4, 1, 3, 3, 8, 5, 2, 7, 0, 5, 3, 5, 2, 7, 3, 1, 6, 3, 4, 5, 3, 0, 8, 0, 8, 1, 3, 8, 2, 4, 2, 1, 4, 4, 1, 3, 0, 8, 7, 9, 6, 7, 1, 7, 0, 6, 4, 5, 8, 9, 8, 9, 1, 4, 3, 3, 9, 7, 1, 6, 0, 7, 2, 4, 4, 3, 0, 5, 3, 1, 7, 0, 8, 1, 3, 8, 4, 5, 7, 3, 6, 1, 6, 3, 9, 7, 0, 4, 7, 5, 4, 6, 8, 0, 2, 4, 6, 1, 5, 3, 0, 8, 4, 0, 2, 3, 4, 3, 9, 9, 8, 5, 2, 5, 2, 3, 6, 3, 4, 2, 5, 9, 3]\n",
      "[[ 1.  0.  0. ...,  0.  0.  0.]\n",
      " [ 0.  0.  0. ...,  0.  0.  0.]\n",
      " [ 1.  0.  0. ...,  0.  0.  0.]\n",
      " ..., \n",
      " [ 0.  0.  0. ...,  0.  0.  0.]\n",
      " [ 0.  0.  0. ...,  0.  0.  1.]\n",
      " [ 0.  0.  0. ...,  0.  0.  0.]]\n"
     ]
    },
    {
     "name": "stdout",
     "output_type": "stream",
     "text": [
      "[1, 8, 5, 1, 5, 7, 4, 3, 8, 2, 7, 2, 0, 1, 5, 9, 6, 2, 0, 8, 2, 7, 0, 4, 1, 7, 7, 4, 4, 9, 9, 6, 2, 4, 1, 6, 4, 9, 6, 6, 9, 6, 9, 9, 5, 7, 1, 6, 8, 2, 9, 5, 9, 5, 3, 7, 1, 3, 3, 9, 1, 7, 8, 9, 7, 4, 3, 4, 9, 5, 8, 4, 9, 3, 6, 1, 1, 4, 3, 9, 9, 1, 9, 9, 2, 4, 3, 2, 4, 7, 1, 5, 1, 8, 6, 3, 6, 3, 4, 4, 9, 9, 9, 7, 0, 5, 7, 7, 4, 8, 8, 4, 2, 0, 5, 2, 4, 9, 1, 7, 7, 4, 8, 8, 8, 0, 2, 3, 6, 3, 9, 0, 8, 2, 2, 4, 8, 8, 1, 8, 5, 7, 6, 0, 9, 1, 4, 8, 2, 1, 0, 5, 1, 6, 5, 3, 4, 9, 9, 0, 3, 5, 4, 2, 6, 3, 9, 4, 9, 8, 6, 4, 1, 1, 9, 8, 2, 2, 1, 8, 5, 9, 7, 8, 1, 1, 4, 2, 4, 2, 0, 8, 8, 0, 0, 4, 3, 0, 7, 7, 6, 1, 6, 7, 1, 5, 6, 1, 7, 2, 4, 0, 2, 2, 5, 9, 3, 2, 1, 4, 1, 2, 9, 8, 5, 2, 3, 3, 4, 9, 7, 2, 3, 9, 7, 6, 2, 9, 7, 5, 4, 0, 8, 7, 2, 0, 3, 5, 1, 3, 1, 7, 8, 7, 9, 8, 2, 9, 1, 4, 8, 6, 7, 3, 6, 9, 7, 9, 4, 5, 8, 0, 5, 6, 6, 0, 8, 4, 6, 1, 4, 2, 2, 1, 8, 4, 4, 0, 2, 4, 1, 9, 8, 9, 0, 7, 1, 1, 6, 4, 7, 4, 6, 9, 3, 2, 7, 3, 7, 4, 5, 1, 9, 6, 3, 9, 6, 0, 7, 0, 0, 0, 6, 6, 9, 7, 3, 2, 0, 6, 7, 5, 0, 2, 0, 3, 8, 6, 9, 9, 7, 1, 2, 0, 8, 8, 0, 8, 2, 0, 9, 5, 1, 3, 3, 0, 7, 6, 1, 0, 7, 9, 3, 1, 6, 3, 5, 1, 8, 3, 3, 2, 2, 5, 7, 4, 8, 4, 3, 0, 5, 9, 5, 4, 3, 2, 1, 9, 2, 8, 7, 8, 2, 9, 1, 8, 6, 4, 2, 3, 3, 0, 8, 2, 3, 5, 7, 1, 8, 8, 1, 0, 9, 9, 9, 8, 7, 5, 0, 5, 0, 5, 1, 1, 4, 6, 7, 1, 2, 8, 5, 1, 0, 3, 5, 8, 6, 6, 6, 7, 7, 4, 0, 5, 2, 8, 3, 7, 0, 1, 9, 9, 2, 1, 7, 6, 5, 3, 8, 3, 0, 7, 6, 2, 7, 7, 6, 5, 6, 4, 8, 5, 1, 4, 9, 1, 0, 5, 7, 0, 2, 5, 0, 8, 1, 0, 4, 2, 2, 5, 5, 8, 0, 8, 9, 8, 4, 7, 6, 4, 8, 6, 7, 5, 0, 1, 3, 9, 9, 1, 4, 3, 8, 6, 6, 2, 0, 7, 1, 6, 1, 6, 4, 4, 8, 0, 0, 2, 5, 4, 4, 4, 3, 7, 2, 0, 5, 1, 5, 7, 9, 7, 0, 5, 6, 2, 3, 8, 0, 6, 4, 6, 8, 4, 1, 5, 0, 6, 3, 9, 4, 5, 4, 7, 9, 6, 2, 7, 6, 1, 7, 8, 5, 1, 9, 8, 1, 3, 8, 7, 4, 8, 1, 2, 3, 7, 0, 3, 4, 0, 0, 4, 8, 4, 1, 1, 9, 4, 8, 9, 5, 8, 1, 3, 7, 9, 8, 0, 5, 8, 4, 3, 0, 6, 8, 1, 5, 6, 0, 0, 5, 0, 9, 2, 3, 2, 7, 6, 6, 4, 7, 4, 5, 1, 3, 0, 8, 7, 9, 0, 6, 8, 4, 3, 0, 8, 7, 4, 0, 0, 4, 3, 0, 6, 0, 1, 1, 5, 4, 7, 4, 2, 5, 4, 6, 4, 6, 8, 3, 8, 3, 8, 7, 6, 4, 6, 9, 6, 1, 0, 0, 5, 4, 8, 7, 6, 5, 2, 5, 7, 3, 8, 7, 9, 7, 8, 6, 5, 9, 9, 8, 2, 8, 0, 2, 4, 2, 4, 0, 7, 6, 9, 3, 1, 2, 6, 2, 5, 4, 9, 2, 5, 9, 7, 9, 6, 3, 2, 8, 9, 7, 7, 3, 0, 9, 9, 2, 3, 8, 4, 0, 0, 9, 7, 7, 4, 0, 0, 6, 1, 9, 1, 0, 9, 5, 6, 3, 4, 1, 1, 6, 0, 1, 5, 3, 5, 9, 6, 0, 4, 4, 5, 5, 5, 9, 3, 5, 9, 8, 5, 8, 9, 6, 5, 8, 8, 2, 2, 3, 8, 9, 2, 3, 4, 4, 9, 0, 6, 4, 5, 5, 9, 0, 4, 6, 8, 0, 0, 1, 3, 9, 6, 9, 5, 1, 1, 7, 7, 0, 9, 7, 7, 1, 6, 6, 9, 3, 4, 2, 7, 0, 5, 2, 9, 7, 4, 6, 7, 1, 3, 4, 2, 4, 0, 4, 9, 4, 3, 4, 2, 6, 0, 3, 7, 4, 9, 6, 5, 9, 7, 2, 0, 4, 3, 8, 2, 7, 0, 5, 3, 3, 5, 0, 0, 6, 9, 0, 3, 5, 6, 1, 8, 6, 8, 6, 9, 8, 5, 3, 5, 0, 3, 7, 7, 6, 9, 0, 7, 9, 8, 2, 7, 9, 9, 5, 5, 0, 3, 2, 6, 0, 2, 7, 8, 3, 9, 7, 2, 2, 8, 6, 6, 3, 9, 2, 8, 8, 6, 0, 6, 7, 9, 5, 4, 5, 1, 1, 4, 5, 8, 5, 2, 7, 4, 5, 0, 6, 8, 9, 4, 3, 5, 6, 1, 3, 7, 0, 5, 1, 6, 2, 2, 4, 8, 1, 2, 2, 1, 2, 5, 9, 1, 1, 3, 4, 2, 9, 7, 0, 8, 2, 4, 6, 8, 0, 3, 7, 1, 8, 5, 8, 6, 5, 6, 2, 2, 3, 5, 7, 7, 7, 7, 8, 4, 6, 4, 1, 2, 8, 6, 1, 9, 3, 3, 2, 1, 3, 1, 2, 0, 3, 3, 5, 4, 2, 5, 1, 3, 8, 6, 0, 4, 1, 4, 5, 3, 0, 5, 0, 7, 0, 8, 8, 4, 9, 6, 5, 8, 8, 6, 7, 1, 7, 3, 9, 0, 4, 3, 4, 8, 3, 1, 5, 1, 6, 7, 3, 1, 0, 5, 8, 2, 1, 0, 6, 1, 7, 4, 8, 9, 2, 5, 5, 8, 2, 2, 4, 1, 6, 9, 6, 1, 1, 4, 5, 7, 5, 4, 5, 5, 4, 4, 3, 4, 2, 1, 6, 4, 3, 8, 1, 7, 8, 5, 1, 5, 3, 3, 0, 5, 4, 0, 8, 7, 0, 2, 9, 4, 9, 7, 5, 0, 8, 1, 3, 9, 4, 3, 1, 5, 6, 5, 6, 2, 3, 2, 0, 1, 4, 9, 7, 0, 0, 1, 3, 1, 9, 2, 3, 3, 6, 9, 4, 8, 0, 8, 9, 0, 3, 9, 1, 4, 8, 9, 2, 5, 5, 6, 4, 0, 7, 9, 3, 9, 6, 7, 4, 8, 6, 1, 5, 4, 1, 4, 2, 7, 6, 7, 2, 2, 0, 8, 4, 6, 9, 7, 5, 8, 2, 1, 5, 2, 0, 3, 2, 1, 4, 1, 8, 4, 0, 5, 0, 2, 8, 8, 9, 7, 9, 3, 1, 2, 5, 0, 0, 0, 2, 4, 0, 7, 8, 1, 0, 0, 9, 9, 4, 8, 1, 4, 8, 8, 4, 8, 1, 2, 8, 1, 0, 1, 6, 9, 1, 4, 8, 4, 0, 9, 4, 3, 4, 3, 6, 2, 0, 6, 9, 0, 9, 1, 9, 8, 9, 4, 9, 3, 4, 6, 8, 1, 6, 1, 8, 6, 4, 2, 1, 6, 8, 2, 0, 4, 4, 6, 7, 4, 3, 1, 2, 6, 9, 6, 2, 9, 8, 8, 9, 7, 5, 7, 6, 2, 1, 3, 0, 2, 6, 6, 6, 9, 3, 6, 7, 2, 3, 8, 1, 4, 1, 5, 5, 6, 2, 3, 7, 0, 2, 7, 9, 3, 6, 3, 0, 3, 9, 0, 1, 9, 5, 9, 5, 9, 2, 9, 3, 5, 8, 5, 1, 3, 7, 5, 3, 8, 6, 8, 5, 4, 1, 6, 4, 7, 4, 9, 3, 2, 9, 6, 4, 3, 7, 9, 1, 7, 3, 9, 9, 7, 1, 6, 5, 2, 4, 8, 1, 2, 5, 2, 9, 9, 0, 2, 3, 8, 0, 9, 7, 4, 7, 9, 5, 3, 2, 2, 8, 5, 7, 9, 3, 8, 7, 6, 0, 1, 8, 0, 9, 7, 7, 1, 8, 4, 5, 6, 6, 1, 3, 8, 6, 7, 8, 4, 0, 4, 2, 1, 0, 0, 2, 2, 0, 3, 7, 1, 6, 8, 6, 0, 9, 2, 2, 1, 1, 7, 2, 5, 6, 9, 3, 7, 5, 2, 4, 4, 0, 8, 3, 6, 2, 1, 0, 6, 7, 3, 9, 9, 7, 3, 2, 5, 4, 5, 1, 9, 9, 9, 7, 8, 9, 8, 0, 3, 2, 3, 3, 6, 6, 7, 4, 1, 1, 3, 4, 4, 0, 1, 7, 3, 6, 1, 4, 5, 1, 6, 6, 9, 3, 6, 2, 9, 3, 9, 2, 8, 9, 3, 0, 4, 2, 6, 1, 2, 6, 6, 4, 8, 2, 0, 6, 5, 9, 6, 2, 1, 5, 5, 5, 8, 1, 3, 8, 9, 8, 4, 0, 7, 1, 2, 3, 1, 9, 3, 4, 5, 7, 8, 1, 5, 0, 3, 4, 2, 9, 6, 3, 4, 7, 3, 8, 2, 0, 3, 1, 6, 2, 9, 0, 1, 4, 0, 4, 9, 8, 0, 9, 8, 8, 1, 4, 2, 7, 6, 6, 4, 7, 4, 7, 1, 0, 8, 9, 9, 6, 9, 9, 4, 0, 1, 5, 3, 9, 6, 4, 1, 2, 6, 5, 8, 4, 4, 6, 0, 6, 1, 1, 7, 6, 4, 3, 4, 7, 2, 2, 1, 0, 4, 1, 2, 6, 4, 7, 6, 6, 3, 8, 4, 8, 0, 8, 7, 5, 2, 0, 9, 6, 8, 1, 5, 4, 8, 1, 4, 5, 7, 3, 1, 0, 5, 9, 4, 7, 1, 0, 5, 7, 3, 1, 6, 5, 6, 1, 4, 8, 3, 8, 3, 2, 7, 5, 3, 5, 2, 6, 1, 7, 3, 4, 8, 5, 7, 8, 0, 8, 1, 3, 7, 1, 4, 3, 1, 0, 0, 1, 5, 8, 0, 9, 3, 1, 6, 4, 0, 5, 8, 7, 7, 0, 8, 7, 5, 1, 8, 0, 2, 2, 9, 4, 2, 1, 8, 4, 9, 0, 8, 0, 2, 9, 4, 6, 8, 7, 7, 3, 7, 7, 6, 9, 9, 4, 5, 2, 7, 0, 5, 1, 7, 6, 0, 5, 6, 0, 6, 2, 7, 4, 7, 0, 1, 8, 6, 4, 9, 5, 9, 4, 3, 7, 5, 0, 4, 4, 0, 4, 4, 4, 4, 3, 3, 5, 8, 6, 3, 5, 8, 2, 8, 4, 1, 7, 4, 9, 7, 0, 7, 1, 3, 7, 1, 0, 1, 7, 0, 4, 3, 7, 0, 2, 1, 0, 1, 2, 1, 1, 0, 8, 2, 3, 8, 0, 1, 6, 3, 3, 6, 3, 5, 9, 7, 4, 0, 0, 7, 0, 7, 2, 9, 5, 6, 1, 8, 2, 2, 3, 8, 2, 9, 1, 4, 7, 9, 0, 9, 8, 3, 9, 9, 9, 0, 1, 6, 3, 1, 2, 8, 3, 5, 6, 3, 3, 4, 9, 6, 1, 6, 6, 2, 9, 4, 5, 0, 2, 4, 0, 2, 4, 8, 6, 3, 5, 2, 6, 8, 5, 8, 3, 3, 1, 2, 1, 7, 8, 3, 3, 4, 8, 4, 7, 8, 4, 7, 0, 4, 8, 1, 1, 6, 1, 9, 7, 6, 2, 0, 2, 7, 7, 0, 9, 9, 1, 1, 8, 6, 4, 6, 1, 7, 1, 4, 8, 3, 2, 2, 3, 3, 9, 2, 9, 5, 3, 2, 9, 5, 8, 7, 8, 5, 8, 1, 3, 6, 0, 3, 3, 6, 2, 6, 5, 8, 7, 0, 2, 3, 4, 3, 8, 9, 0, 6, 3, 3, 4, 1, 8, 5, 7, 4, 4, 3, 5, 0, 4, 5, 9, 2, 0, 2, 6, 9, 8, 6, 8, 7, 7, 1, 5, 9, 3, 0, 9, 4, 1, 7, 2, 7, 5, 1, 8, 6, 8, 0, 4, 3, 4, 0, 3, 7, 5, 6, 7, 6, 4, 1, 7, 0, 3, 1, 3, 4, 5, 5, 2, 2, 5, 6, 2, 7, 4, 7, 2, 6, 5, 9, 9, 0, 4, 0, 9, 2, 6, 4, 0, 5, 2, 1, 7, 5, 1, 7, 7, 1, 2, 1, 3, 9, 1, 7, 7, 9, 9, 3, 1, 3, 2, 3, 3, 8, 6, 7, 4, 9, 9, 3, 4, 1, 2, 6, 4, 2, 0, 9, 1, 0, 5, 3, 9, 2, 6, 9, 2, 9, 4, 8, 8, 1, 4, 0, 0, 6, 2, 6, 5, 1, 2, 9, 5, 0, 3, 5, 5, 0, 2, 2, 8, 0, 7, 2, 6, 3, 1, 3, 0, 9, 3, 2, 5, 3, 6, 2, 3, 0, 2, 0, 8, 8, 0, 0, 3, 8, 9, 6, 1, 1, 5, 9, 9, 8, 4, 2, 5, 4, 8, 1, 5, 3, 9, 4, 0, 2, 1, 4, 2, 0, 6, 3, 2, 0, 8, 1, 7, 1, 5, 0, 5, 5, 9, 8, 9, 8, 0, 8, 6, 7, 3, 9, 8, 7, 5, 6, 3, 7, 1, 6, 9, 9, 9, 8, 8, 2, 7, 2, 8, 2, 0, 5, 5, 8, 1, 4, 9, 9, 8, 1, 1, 0, 7, 4, 5, 1, 0, 9, 7, 6, 1, 5, 1, 9, 4, 6, 0, 7, 8, 0, 2, 4, 7, 1, 9, 1, 6, 0, 4, 6, 4, 4, 4, 4, 8, 5, 1, 4, 0, 3, 7, 5, 8, 8, 9, 6, 2, 2, 7, 8, 0, 8, 6, 1, 3, 5, 7, 7, 6, 1, 4, 9, 5, 2, 9, 1, 5, 9, 4, 3, 1, 7, 3, 7, 5, 3, 6, 8, 7, 0, 9, 5, 0, 3, 7, 8, 7, 9, 3, 8, 0, 3, 6, 4, 0, 5, 7, 0, 6, 7, 3, 4, 5, 9, 7, 9, 8, 8, 7, 6, 1, 5, 2, 9, 5, 5, 4, 0, 0, 4, 1, 4, 6, 5, 9, 9, 3, 5, 1, 3, 2, 1, 9, 6, 6, 3, 4, 4, 9, 7, 9, 7, 1, 1, 7, 2, 2, 8, 2, 4, 5, 3, 4, 0, 6, 1, 1, 0, 7, 9, 4, 1, 6, 3, 0, 6, 1, 8, 2, 5, 9, 7, 9, 3, 0, 7, 9, 6, 6, 5, 9, 7, 1, 0, 7, 8, 2, 8, 7, 9, 2, 9, 3, 1, 0, 8, 7, 3, 2, 3, 3, 2, 6, 7, 4, 4, 8, 2, 1, 5, 3, 0, 5, 9, 3, 8, 1, 8, 7, 3, 8, 5, 3, 5, 8, 1, 3, 6, 6, 5, 4, 5, 7, 8, 4, 0, 5, 0, 5, 8, 3, 2, 5, 6, 4, 6, 5, 6, 5, 1, 2, 5, 8, 4, 2, 5, 5, 1, 6, 3, 2, 0, 4, 3, 7, 3, 3, 5, 7, 3, 6, 4, 9, 7, 9, 8, 3, 0, 9, 9, 6, 0, 2, 6, 0, 6, 2, 0, 4, 8, 0, 0, 8, 4, 0, 6, 5, 8, 5, 2, 5, 8, 6, 3, 9, 0, 2, 0, 3, 9, 6, 7, 2, 7, 7, 0, 7, 9, 2, 2, 2, 4, 3, 2, 1, 8, 7, 8, 6, 8, 7, 5, 6, 2, 6, 8, 0, 6, 5, 0, 0, 5, 9, 1, 7, 9, 0, 4, 0, 4, 9, 3, 7, 5, 4, 1, 9, 2, 4, 6, 5, 4, 0, 5, 3, 3, 2, 0, 3, 7, 1, 4, 3, 1, 4, 3, 1, 7, 6, 2, 4, 1, 4, 4, 1, 9, 7, 1, 3, 6, 9, 1, 0, 4, 8, 8, 0, 6, 7, 9, 3, 8, 1, 7, 5, 2, 0, 9, 6, 5, 8, 8, 2, 4, 2, 1, 5, 8, 4, 8, 4, 9, 9, 8, 2, 1, 3, 1, 1, 0, 6, 8, 9, 1, 4, 2, 4, 7, 8, 5, 0, 6, 6, 4, 1, 9, 5, 4, 8, 5, 6, 9, 1, 1, 3, 3, 3, 9, 3, 9, 6, 2, 3, 5, 2, 7, 6, 8, 4, 7, 3, 1, 0, 0, 6, 3, 1, 0, 4, 1, 6, 8, 9, 2, 3, 9, 8, 4, 8, 7, 5, 3, 2, 2, 5, 6, 6, 3, 6, 8, 5, 3, 0, 1, 0, 3, 7, 3, 6, 6, 2, 1, 8, 4, 0, 0, 5, 8, 3, 3, 1, 2, 0, 1, 3, 8, 0, 4, 8, 4, 7, 5, 7, 2, 7, 5, 5, 6, 5, 2, 8, 1, 9, 3, 8, 3, 5, 0, 4, 7, 2, 1, 1, 8, 6, 3, 5, 2, 8, 9, 8, 9, 0, 3, 5, 8, 2, 4, 6, 9, 0, 3, 2, 9, 2, 9, 6, 6, 1, 2, 5, 4, 8, 3, 5, 0, 7, 0, 8, 4, 6, 6, 7, 9, 6, 1, 0, 1, 3, 6, 3, 0, 8, 9, 7, 7, 6, 2, 9, 2, 0, 6, 2, 7, 6, 8, 8, 1, 9, 6, 5, 4, 4, 9, 6, 4, 0, 7, 4, 9, 1, 1, 3, 4, 1, 8, 1, 5, 3, 1, 8, 6, 5, 1, 8, 1, 2, 0, 3, 0, 5, 8, 0, 1, 7, 5, 4, 7, 5, 9, 2, 5, 8, 0, 5, 2, 6, 3, 5, 7, 0, 3, 1, 7, 6, 8, 1, 7, 6, 5, 7, 8, 7, 8, 5, 4, 6, 4, 3, 9, 0, 9, 4, 6, 1, 4, 1, 4, 6, 9, 4, 4, 0, 4, 2, 5, 2, 5, 2, 1, 0, 2, 9, 2, 7, 3, 0, 3, 5, 8, 0, 8, 6, 5, 1, 8, 9, 5, 2, 5, 0, 3, 8, 1, 9, 3, 3, 2, 1, 6, 6, 6, 4, 5, 6, 6, 6, 8, 4, 4, 4, 4, 3, 8, 7, 0, 5, 9, 3, 2, 9, 3, 4, 0, 8, 8, 8, 4, 1, 7, 3, 5, 0, 4, 5, 2, 5, 2, 7, 1, 9, 5, 1, 3, 7, 9, 1, 6, 6, 5, 3, 0, 6, 5, 0, 0, 2, 7, 2, 9, 2, 7, 3, 1, 8, 5, 5, 1, 4, 7, 0, 5, 7, 2, 8, 4, 1, 2, 8, 8, 1, 5, 9, 3, 2, 5, 9, 8, 3, 6, 9, 8, 6, 5, 2, 6, 2, 8, 5, 9, 2, 3, 7, 0, 3, 2, 7, 5, 7, 9, 1, 5, 2, 2, 8, 9, 0, 4, 5, 9, 5, 6, 7, 1, 4, 4, 1, 8, 7, 4, 7, 5, 2, 6, 5, 6, 7, 8, 0, 8, 2, 7, 1, 9, 6, 1, 7, 9, 4, 9, 4, 2, 6, 8, 9, 2, 1, 2, 4, 5, 6, 8, 0, 7, 1, 3, 4, 5, 2, 8, 2, 7, 0, 1, 4, 9, 8, 9, 9, 6, 4, 4, 3, 1, 1, 1, 5, 5, 6, 0, 8, 5, 1, 7, 2, 1, 9, 0, 0, 5, 4, 7, 4, 5, 9, 7, 4, 7, 7, 4, 1, 3, 4, 1, 6, 3, 4, 4, 1, 4, 7, 3, 2, 0, 7, 7, 5, 5, 6, 1, 0, 0, 3, 7, 7, 3, 6, 5, 7, 2, 3, 2, 6, 9, 0, 1, 6, 6, 7, 9, 7, 5, 1, 5, 4, 0, 8, 0, 1, 9, 9, 3, 6, 2, 2, 2, 0, 0, 1, 8, 0, 7, 4, 3, 4, 1, 6, 4, 2, 0, 6, 0, 4, 7, 4, 5, 6, 7, 9, 9, 2, 3, 2, 5, 7, 1, 3, 2, 7, 5, 7, 5, 0, 9, 9, 4, 3, 9, 5, 2, 9, 9, 8, 4, 3, 4, 5, 3, 5, 9, 0, 7, 8, 5, 9, 5, 8, 3, 8, 4, 3, 6, 9, 7, 1, 8, 7, 1, 7, 2, 8, 0, 4, 2, 5, 2, 0, 1, 7, 1, 1, 6, 4, 0, 9, 9, 0, 6, 6, 8, 3, 8, 9, 3, 4, 5, 6, 6, 6, 4, 6, 7, 1, 5, 7, 5, 1, 5, 8, 9, 3, 0, 5, 9, 9, 6, 8, 8, 4, 3, 5, 1, 6, 6, 1, 1, 5, 9, 4, 2, 2, 8, 6, 5, 6, 0, 3, 8, 3, 6, 8, 5, 6, 7, 7, 9, 3, 6, 3, 2, 0, 2, 8, 7, 5, 1, 4, 7, 2, 0, 6, 1, 0, 5, 3, 1, 0, 6, 4, 6, 3, 7, 3, 2, 5, 5, 5, 2, 4, 8, 3, 4, 9, 0, 2, 6, 2, 0, 1, 6, 6, 0, 2, 8, 4, 3, 6, 8, 3, 7, 8, 3, 4, 5, 9, 3, 7, 4, 3, 6, 4, 2, 0, 8, 4, 2, 0, 4, 7, 9, 7, 2, 1, 7, 4, 4, 1, 1, 1, 6, 9, 2, 4, 0, 5, 2, 7, 4, 7, 7, 7, 3, 8, 5, 7, 7, 6, 9, 8, 2, 0, 5, 7, 2, 6, 1, 0, 4, 4, 3, 9, 4, 3, 1, 7, 4, 9, 9, 9, 6, 3, 4, 0, 3, 9, 4, 7, 2, 2, 2, 2, 3, 2, 4, 3, 6, 9, 7, 7, 6, 4, 1, 4, 1, 4, 7, 6, 2, 5, 9, 0, 2, 6, 4, 9, 6, 3, 5, 1, 6, 1, 6, 9, 1, 3, 2, 1, 1, 0, 6, 8, 5, 9, 5, 9, 7, 1, 9, 4, 4, 8, 8, 6, 7, 3, 4, 0, 7, 3, 2, 4, 3, 9, 9, 1, 4, 1, 0, 4, 1, 9, 7, 8, 6, 1, 7, 9, 0, 4, 5, 9, 5, 5, 1, 7, 0, 2, 0, 0, 6, 8, 6, 0, 2, 6, 0, 1, 1, 0, 7, 2, 9, 8, 8, 6, 7, 8, 9, 2, 4, 4, 4, 1, 3, 5, 1, 6, 9, 3, 6, 2, 5, 4, 9, 9, 6, 0, 8, 0, 3, 2, 5, 3, 8, 7, 3, 0, 0, 1, 1, 6, 8, 4, 2, 3, 7, 4, 9, 3, 9, 3, 7, 7, 8, 3, 0, 1, 9, 3, 0, 4, 3, 6, 3, 6, 3, 2, 9, 0, 4, 3, 4, 3, 2, 4, 2, 7, 3, 0, 3, 3, 5, 0, 8, 4, 0, 4, 5, 9, 6, 3, 2, 6, 4, 2, 3, 7, 6, 5, 0, 8, 3, 7, 0, 3, 0, 4, 3, 9, 2, 7, 0, 3, 9, 1, 9, 9, 1, 5, 7, 7, 4, 8, 2, 5, 1, 5, 3, 3, 5, 9, 9, 1, 8, 1, 8, 4, 5, 4, 0, 3, 3, 0, 9, 5, 8, 1, 5, 6, 9, 2, 2, 9, 1, 2, 3, 0, 0, 7, 0, 3, 7, 4, 4, 3, 6, 0, 9, 5, 3, 5, 3, 7, 3, 8, 1, 7, 0, 3, 5, 5, 1, 1, 8, 2, 4, 8, 1, 4, 1, 6, 9, 6, 1, 5, 0, 5, 6, 4, 6, 8, 2, 4, 0, 7, 3, 5, 5, 6, 5, 9, 8, 7, 4, 5, 6, 6, 8, 5, 1, 7, 1, 7, 8, 7, 4, 2, 8, 9, 9, 7, 9, 2, 6, 7, 0, 1, 0, 9, 1, 6, 8, 4, 7, 8, 6, 1, 7, 5, 9, 3, 4, 0, 4, 4, 4, 4, 7, 2, 7, 1, 6, 4, 1, 7, 6, 9, 8, 7, 7, 9, 9, 0, 0, 9, 0, 1, 0, 4, 0, 7, 3, 1, 3, 5, 4, 6, 2, 9, 2, 5, 0, 7, 0, 2, 0, 3, 1, 2, 3, 1, 6, 4, 4, 1, 6, 3, 5, 0, 3, 8, 4, 1, 8, 6, 2, 1, 0, 2, 5, 0, 0, 5, 6, 0, 9, 0, 5, 7, 0, 4, 4, 1, 2, 7, 4, 2, 9, 9, 6, 6, 9, 6, 6, 7, 0, 6, 1, 3, 5, 8, 6, 5, 7, 1, 0, 6, 3, 1, 0, 4, 5, 1, 0, 9, 0, 2, 3, 4, 6, 7, 8, 4, 0, 5, 3, 2, 7, 9, 1, 9, 2, 8, 6, 9, 8, 9, 8, 8, 4, 6, 7, 7, 9, 9, 0, 6, 6, 2, 4, 9, 6, 0, 2, 7, 6, 6, 4, 1, 7, 0, 8, 3, 5, 7, 5, 9, 5, 2, 7, 8, 3, 5, 4, 6, 1, 7, 6, 8, 7, 1, 3, 5, 7, 5, 1, 3, 1, 3, 7, 5, 2, 8, 7, 0, 1, 5, 5, 3, 2, 0, 7, 3, 4, 0, 3, 6, 8, 7, 6, 9, 7, 1, 7, 0, 8, 1, 3, 2, 0, 3, 0, 3, 0, 1, 4, 0, 0, 5, 7, 3, 3, 5, 9, 8, 9, 1, 2, 5, 2, 4, 6, 5, 0, 7, 0, 1, 7, 0, 4, 4, 3, 2, 0, 0, 2, 0, 5, 8, 2, 9, 1, 6, 1, 2, 6, 9, 5, 9, 3, 3, 2, 6, 2, 5, 3, 1, 8, 4, 9, 4, 2, 1, 8, 9, 2, 2, 6, 1, 5, 9, 8, 5, 4, 2, 1, 2, 3, 1, 7, 7, 5, 6, 1, 3, 5, 7, 5, 2, 1, 3, 3, 3, 1, 8, 5, 2, 6, 9, 2, 9, 0, 6, 0, 1, 9, 6, 7, 6, 6, 3, 2, 4, 6, 2, 0, 6, 6, 5, 7, 7, 3, 9, 5, 1, 3, 5, 1, 4, 8, 1, 1, 6, 0, 3, 2, 7, 2, 9, 1, 1, 4, 5, 8, 7, 9, 2, 9, 5, 4, 7, 5, 0, 7, 0, 7, 0, 0, 5, 5, 2, 0, 8, 2, 5, 0, 1, 1, 8, 1, 5, 3, 6, 9, 4, 8, 3, 0, 0, 9, 3, 3, 4, 5, 7, 2, 2, 6, 5, 8, 9, 8, 2, 2, 4, 5, 7, 9, 2, 1, 6, 5, 2, 5, 6, 7, 7, 5, 0, 2, 9, 7, 3, 3, 7, 8, 5, 1, 4, 5, 8, 7, 8, 6, 7, 1, 4, 0, 4, 5, 9, 8, 7, 8, 3, 5, 7, 6, 9, 3, 8, 3, 8, 1, 7, 6, 5, 4, 3, 9, 2, 6, 9, 1, 5, 4, 7, 3, 4, 9, 6, 5, 9, 6, 7, 5, 3, 3, 9, 1, 1, 7, 8, 1, 8, 6, 1, 3, 8, 5, 6, 1, 7, 1, 0, 2, 6, 3, 0, 6, 5, 1, 5, 5, 1, 5, 8, 5, 7, 5, 8, 0, 8, 5, 4, 7, 1, 9, 4, 3, 5, 7, 0, 3, 3, 7, 8, 5, 9, 0, 9, 0, 0, 4, 1, 2, 0, 9, 0, 7, 1, 4, 1, 1, 0, 8, 6, 9, 2, 3, 2, 1, 0, 5, 6, 1, 1, 6, 8, 2, 6, 7, 0, 2, 5, 5, 0, 1, 0, 8, 9, 4, 8, 7, 5, 3, 0, 7, 2, 9, 2, 3, 7, 9, 4, 4, 6, 4, 1, 9, 6, 2, 1, 4, 1, 8, 8, 1, 3, 7, 5, 6, 8, 2, 6, 1, 5, 2, 2, 1, 2, 3, 2, 0, 0, 9, 9, 1, 3, 5, 0, 4, 9, 5, 8, 1, 4, 7, 7, 5, 3, 4, 9, 4, 6, 7, 0, 8, 8, 1, 4, 6, 2, 1, 3, 8, 7, 6, 0, 5, 0, 5, 2, 3, 4, 4, 9, 1, 6, 1, 0, 5, 8, 2, 5, 6, 1, 0, 6, 1, 6, 5, 7, 9, 9, 7, 2, 0, 7, 6, 6, 1, 4, 8, 0, 7, 0, 0, 1, 3, 2, 5, 0, 1, 6, 2, 3, 4, 0, 3, 5, 8, 2, 3, 3, 0, 9, 6, 9, 4, 7, 1, 2, 0, 9, 1, 2, 8, 6, 9, 2, 0, 6, 7, 4, 3, 2, 8, 2, 7, 0, 3, 7, 5, 0, 5, 0, 9, 2, 1, 8, 3, 1, 6, 5, 3, 9, 1, 0, 8, 9, 9, 6, 8, 1, 5, 2, 4, 8, 8, 9, 3, 7, 6, 6, 4, 9, 9, 5, 8, 7, 4, 3, 4, 5, 3, 6, 0, 9, 8, 6, 9, 9, 0, 9, 4, 7, 0, 8, 0, 9, 9, 8, 1, 1, 8, 8, 4, 2, 0, 2, 6, 5, 6, 2, 4, 5, 2, 5, 0, 0, 0, 9, 3, 0, 4, 5, 0, 4, 1, 4, 7, 1, 9, 5, 1, 2, 8, 4, 4, 7, 8, 0, 2, 2, 1, 3, 7, 0, 0, 6, 0, 2, 9, 2, 1, 0, 6, 4, 5, 8, 2, 7, 0, 9, 8, 5, 7, 4, 5, 5, 9, 0, 6, 7, 2, 7, 0, 3, 7, 3, 4, 4, 0, 0, 8, 3, 9, 9, 8, 9, 5, 6, 7, 4, 6, 1, 3, 0, 5, 8, 5, 1, 6, 7, 1, 1, 9, 0, 2, 5, 8, 4, 1, 9, 2, 5, 7, 4, 1, 2, 7, 4, 7, 4, 5, 5, 0, 4, 4, 3, 5, 1, 3, 3, 4, 7, 3, 9, 2, 6, 4, 0, 3, 0, 2, 3, 1, 1, 9, 6, 9, 7, 0, 1, 8, 7, 2, 8, 9, 8, 6, 0, 2, 1, 0, 8, 1, 8, 4, 7, 3, 4, 9, 3, 3, 3, 5, 4, 9, 9, 5, 5, 2, 0, 8, 9, 2, 2, 7, 9, 3, 5, 6, 4, 6, 2, 9, 9, 7, 7, 7, 0, 0, 3, 8, 9, 5, 0, 5, 0, 5, 5, 7, 1, 8, 2, 4, 0, 4, 4, 3, 3, 9, 0, 9, 2, 9, 3, 8, 9, 3, 1, 5, 0, 3, 7, 6, 1, 0, 4, 4, 9, 1, 1, 0, 0, 9, 0, 1, 6, 3, 4, 0, 3, 4, 4, 5, 3, 8, 7, 9, 8, 6, 7, 3, 5, 6, 5, 1, 1, 1, 4, 2, 9, 1, 5, 6, 7, 1, 4, 1, 0, 2, 2, 5, 9, 6, 0, 1, 3, 1, 1, 2, 1, 8, 5, 6, 9, 2, 4, 2, 8, 8, 3, 7, 1, 7, 1, 7, 5, 9, 7, 0, 7, 8, 3, 6, 1, 2, 2, 5, 9, 8, 4, 8, 9, 4, 2, 5, 9, 3, 7, 9, 9, 3, 7, 9, 2, 7, 8, 9, 0, 7, 3, 0, 1, 7, 1, 4, 6, 8, 2, 3, 4, 1, 6, 2, 6, 0, 3, 5, 1, 0, 9, 7, 0, 0, 9, 3, 4, 9, 8, 8, 0, 1, 6, 1, 4, 9, 0, 7, 8, 1, 0, 9, 5, 2, 4, 4, 7, 0, 4, 8, 9, 3, 1, 2, 2, 4, 4, 0, 4, 5, 1, 7, 3, 5, 7, 2, 4, 4, 5, 6, 4, 3, 8, 4, 6, 6, 5, 0, 4, 9, 9, 7, 8, 6, 7, 3, 3, 5, 9, 6, 0, 1, 3, 8, 9, 8, 8, 0, 6, 6, 0, 9, 8, 6, 4, 7, 7, 9, 9, 3, 0, 9, 5, 5, 6, 5, 0, 9, 5, 8, 0, 1, 0, 4, 0, 3, 3, 2, 1, 1, 4, 9, 9, 4, 2, 1, 1, 2, 7, 4, 5, 5, 6, 3, 1, 3, 1, 2, 1, 5, 3, 3, 2, 5, 6, 4, 5, 2, 7, 6, 4, 6, 1, 2, 7, 9, 0, 0, 4, 9, 3, 5, 2, 4, 8, 9, 0, 8, 2, 5, 1, 6, 6, 3, 3, 3, 2, 6, 6, 4, 7, 5, 1, 0, 5, 9, 0, 4, 0, 0, 6, 6, 1, 5, 0, 5, 2, 5, 4, 3, 7, 2, 5, 4, 6, 7, 3, 1, 9, 7, 4, 9, 0, 1, 5, 1, 7, 4, 7, 6, 1, 0, 6, 4, 6, 0, 9, 2, 0, 6, 2, 9, 1, 8, 3, 4, 5, 0, 0, 4, 1, 1, 8, 3, 2, 5, 1, 4, 1, 8, 5, 8, 2, 1, 3, 5, 1, 4, 2, 2, 7, 7, 8, 0, 4, 2, 2, 7, 0, 5, 2, 0, 0, 0, 6, 3, 7, 7, 8, 6, 9, 0, 0, 2, 2, 6, 3, 4, 0, 7, 6, 2, 5, 6, 1, 8, 8, 0, 5, 8, 7, 1, 9, 3, 3, 4, 3, 6, 0, 6, 8, 0, 9, 3, 0, 0, 6, 0, 7, 3, 4, 4, 8, 1, 4, 9, 3, 1, 2, 9, 1, 7, 4, 7, 4, 2, 0, 0, 2, 3, 7, 5, 9, 0, 6, 5, 5, 0, 2, 1, 9, 1, 2, 6, 6, 9, 7, 3, 1, 9, 5, 2, 0, 3, 5, 4, 8, 6, 1, 0, 8, 8, 5, 7, 5, 2, 6, 6, 3, 1, 3, 0, 3, 7, 2, 8, 8, 9, 9, 9, 1, 3, 7, 5, 1, 3, 9, 5, 6, 1, 7, 5, 8, 3, 7, 5, 5, 1, 0, 1, 8, 1, 1, 2, 7, 4, 5, 7, 2, 9, 4, 9, 9, 5, 1, 5, 3, 5, 5, 7, 7, 0, 3, 0, 4, 5, 4, 0, 3, 4, 0, 4, 6, 5, 9, 2, 2, 7, 6, 0, 6, 7, 9, 2, 7, 5, 2, 2, 6, 1, 8, 8, 9, 9, 7, 4, 3, 6, 5, 5, 0, 9, 1, 7, 2, 8, 3, 5, 5, 4, 0, 5, 2, 0, 9, 7, 9, 7, 0, 1, 4, 1, 3, 1, 2, 4, 7, 9, 1, 6, 7, 9, 8, 5, 1, 5, 6, 5, 1, 6, 4, 5, 2, 7, 3, 4, 6, 9, 0, 4, 7, 6, 4, 1, 1, 0, 1, 4, 0, 4, 2, 6, 8, 4, 7, 4, 9, 1, 9, 0, 4, 8, 4, 8, 8, 0, 6, 4, 4, 3, 8, 5, 1, 5, 7, 3, 3, 5, 3, 8, 5, 6, 6, 2, 9, 3, 1, 7, 4, 4, 3, 2, 8, 8, 8, 8, 0, 5, 2, 1, 0, 7, 9, 8, 2, 3, 2, 6, 5, 4, 0, 3, 4, 7, 3, 9, 1, 9, 5, 1, 6, 1, 5, 0, 8, 2, 7, 4, 9, 1, 6, 1, 4, 4, 4, 3, 2, 6, 4, 8, 9, 8, 5, 7, 3, 4, 4, 2, 1, 5, 8, 9, 7, 2, 2, 3, 4, 2, 1, 1, 0, 8, 8, 6, 6, 4, 7, 4, 7, 7, 8, 8, 5, 4, 6, 5, 3, 8, 9, 9, 1, 0, 2, 6, 9, 6, 5, 8, 2, 7, 5, 7, 2, 4, 6, 6, 3, 6, 3, 9, 4, 3, 7, 6, 8, 2, 5, 0, 4, 6, 9, 4, 1, 1, 6, 8, 5, 4, 6, 4, 8, 8, 3, 8, 1, 9, 4, 3, 8, 2, 4, 1, 8, 3, 7, 9, 9, 6, 6, 2, 6, 9, 9, 6, 0, 4, 9, 2, 4, 2, 6, 8, 7, 8, 1, 4, 4, 9, 5, 8, 3, 7, 2, 5, 4, 1, 2, 6, 7, 9, 6, 0, 5, 9, 8, 5, 9, 7, 1, 6, 6, 2, 2, 8, 9, 9, 9, 7, 9, 0, 7, 2, 9, 2, 3, 7, 2, 8, 3, 2, 1, 3, 7, 1, 9, 7, 6, 6, 2, 9, 1, 4, 8, 4, 5, 9, 8, 4, 7, 2, 9, 1, 6, 8, 9, 4, 5, 7, 5, 3, 0, 5, 7, 6, 8, 5, 8, 2, 4, 6, 3, 3, 8, 1, 6, 3, 4, 5, 0, 9, 9, 8, 3, 3, 1, 4, 8, 4, 3, 5, 7, 8, 6, 0, 9, 3, 9, 1, 8, 6, 2, 0, 3, 7, 4, 3, 7, 3, 7, 4, 0, 8, 4, 7, 2, 5, 5, 9, 6, 7, 1, 3, 3, 3, 7, 2, 5, 2, 8, 7, 0, 4, 6, 9, 5, 9, 4, 5, 6, 4, 8, 2, 1, 2, 6, 6, 1, 5, 8, 9, 6, 1, 6, 1, 2, 4, 0, 5, 9, 8, 5, 4, 1, 5, 2, 5, 5, 9, 8, 7, 9, 2, 2, 7, 2, 8, 3, 1, 9, 2, 5, 6, 8, 6, 5, 4, 8, 3, 2, 8, 2, 5, 7, 0, 8, 4, 5, 3, 9, 7, 1, 7, 8, 8, 5, 8, 7, 8, 7, 5, 4, 3, 8, 9, 7, 0, 6, 6, 8, 7, 0, 4, 8, 4, 6, 1, 6, 2, 0, 7, 3, 5, 3, 9, 1, 4, 3, 5, 7, 5, 6, 7, 8, 5, 3, 5, 9, 6, 5, 6, 4, 4, 1, 9, 3, 3, 2, 5, 5, 3, 0, 5, 2, 2, 9, 8, 6, 4, 3, 5, 5, 7, 7, 1, 8, 8, 8, 7, 9, 6, 2, 1, 0, 3, 3, 8, 5, 0, 2, 2, 0, 7, 2, 4, 8, 3, 6, 6, 6, 2, 6, 1, 8, 7, 5, 9, 4, 4, 6, 1, 3, 0, 8, 8, 1, 3, 8, 5, 6, 4, 5, 1, 0, 3, 4, 8, 8, 4, 7, 3, 6, 3, 7, 0, 3, 7, 1, 9, 4, 5, 9, 7, 7, 5, 6, 9, 7, 1, 4, 8, 8, 1, 9, 2, 6, 9, 3, 2, 7, 4, 9, 5, 6, 9, 9, 6, 0, 6, 1, 9, 3, 8, 3, 8, 0, 5, 2, 5, 3, 3, 1, 1, 6, 5, 8, 7, 8, 1, 2, 3, 2, 5, 4, 1, 4, 9, 5, 8, 0, 9, 3, 9, 7, 3, 3, 3, 3, 1, 4, 2, 9, 1, 1, 5, 1, 4, 2, 9, 2, 4, 5, 5, 8, 8, 4, 4, 6, 4, 2, 4, 6, 6, 2, 1, 8, 2, 3, 6, 5, 3, 7, 5, 1, 9, 7, 6, 8, 6, 5, 5, 4, 0, 9, 1, 9, 1, 7, 7, 2, 4, 3, 0, 5, 5, 3, 2, 8, 2, 0, 3, 9, 0, 9, 2, 7, 7, 9, 0, 1, 9, 6, 6, 3, 8, 5, 6, 6, 8, 8, 2, 5, 6, 5, 4, 6, 4, 6, 1, 0, 3, 2, 9, 1, 5, 1, 4, 1, 4, 6, 9, 6, 3, 0, 4, 6, 3, 6, 0, 0, 9, 9, 3, 7, 3, 5, 9, 3, 7, 3, 9, 9, 1, 1, 1, 5, 5, 0, 8, 7, 2, 0, 0, 7, 0, 7, 3, 4, 2, 3, 9, 1, 6, 5, 6, 0, 5, 4, 7, 4, 6, 8, 8, 6, 2, 9, 7, 8, 5, 0, 8, 1, 7, 4, 3, 7, 9, 3, 6, 6, 2, 1, 6, 1, 0, 2, 3, 7, 8, 3, 4, 4, 3, 6, 0, 0, 1, 5, 3, 3, 3, 9, 1, 5, 6, 0, 8, 3, 3, 0, 8, 5, 3, 9, 0, 5, 5, 8, 3, 8, 8, 4, 6, 1, 8, 2, 2, 4, 8, 7, 7, 7, 2, 0, 3, 4, 1, 8, 1, 8, 7, 3, 2, 3, 6, 4, 5, 3, 6, 0, 2, 4, 8, 2, 8, 0, 2, 5, 5, 7, 9, 0, 5, 8, 5, 4, 2, 6, 3, 5, 6, 3, 4, 8, 8, 3, 2, 4, 3, 8, 8, 4, 1, 7, 2, 5, 4, 3, 0, 1, 3, 2, 7, 7, 1, 1, 4, 2, 0, 7, 5, 4, 2, 4, 3, 2, 4, 5, 6, 5, 6, 5, 9, 8, 6, 8, 2, 3, 8, 1, 6, 5, 1, 0, 7, 6, 8, 8, 0, 0, 3, 7, 7, 6, 9, 2, 3, 2, 2, 2, 5, 4, 9, 3, 8, 4, 3, 7, 4, 9, 2, 0, 6, 4, 9, 8, 7, 8, 7, 2, 0, 0, 6, 1, 2, 3, 4, 1, 0, 3, 3, 3, 5, 1, 9, 6, 7, 6, 0, 3, 3, 5, 2, 5, 6, 1, 9, 6, 0, 0, 8, 4, 8, 4, 0, 7, 5, 6, 9, 8, 0, 8, 3, 5, 9, 2, 0, 0, 2, 1, 5, 8, 0, 5, 9, 7, 7, 2, 1, 4, 9, 9, 9, 4, 1, 4, 9, 2, 3, 9, 0, 9, 3, 1, 3, 4, 2, 9, 4, 9, 2, 7, 5, 8, 5, 8, 7, 7, 2, 1, 8, 5, 6, 0, 1, 0, 2, 3, 2, 5, 9, 2, 9, 3, 0, 5, 7, 0, 1, 7, 4, 9, 3, 9, 8, 5, 0, 2, 4, 8, 9, 0, 8, 5, 7, 8, 7, 3, 9, 8, 5, 5, 1, 1, 7, 5, 6, 4, 9, 2, 0, 7, 3, 2, 3, 1, 1, 1, 2, 5, 8, 8, 8, 0, 8, 0, 1, 3, 6, 9, 3, 4, 7, 1, 0, 0, 8, 9, 4, 7, 9, 0, 3, 8, 2, 6, 8, 5, 0, 8, 6, 2, 5, 8, 4, 0, 2, 6, 4, 9, 9, 4, 9, 4, 4, 5, 9, 0, 7, 2, 5, 1, 8, 9, 4, 4, 6, 7, 5, 1, 2, 1, 7, 2, 3, 2, 3, 0, 4, 6, 3, 7, 0, 9, 5, 2, 5, 3, 2, 4, 3, 7, 3, 7, 2, 5, 8, 0, 4, 4, 3, 2, 1, 1, 8, 9, 0, 2, 9, 7, 6, 5, 2, 3, 0, 1, 3, 5, 0, 9, 4, 6, 5, 9, 7, 6, 4, 9, 5, 8, 3, 6, 7, 1, 1, 7, 9, 3, 8, 0, 1, 1, 5, 6, 7, 2, 1, 0, 0, 2, 7, 0, 2, 9, 2, 3, 0, 3, 4, 4, 6, 3, 2, 8, 1, 5, 4, 8, 1, 3, 2, 7, 0, 0, 5, 1, 5, 0, 5, 1, 6, 1, 2, 1, 2, 0, 5, 6, 6, 1, 6, 5, 8, 5, 3, 1, 6, 0, 3, 5, 5, 8, 5, 1, 5, 5, 2, 3, 2, 0, 0, 0, 8, 8, 3, 4, 7, 7, 2, 8, 0, 7, 4, 6, 0, 3, 6, 6, 1, 7, 9, 1, 2, 3, 9, 6, 5, 3, 8, 0, 9, 1, 2, 4, 0, 6, 6, 2, 5, 6, 8, 3, 3, 9, 6, 5, 0, 7, 2, 5, 8, 9, 0, 7, 3, 0, 6, 0, 1, 4, 6, 7, 5, 4, 9, 8, 1, 9, 7, 4, 9, 6, 9, 3, 2, 2, 5, 5, 9, 3, 4, 2, 0, 5, 8, 9, 8, 0, 8, 5, 9, 1, 7, 9, 5, 1, 9, 8, 1, 2, 1, 9, 5, 5, 7, 1, 7, 0, 5, 3, 4, 7, 6, 0, 3, 0, 7, 8, 4, 5, 7, 7, 5, 7, 5, 1, 0, 3, 8, 4, 5, 9, 3, 0, 9, 5, 6, 4, 9, 2, 3, 9, 8, 9, 4, 5, 9, 7, 9, 9, 9, 9, 7, 1, 0, 5, 8, 7, 0, 8, 5, 6, 8, 3, 7, 3, 9, 0, 5, 0, 0, 0, 5, 1, 1, 7, 5, 8, 1, 8, 6, 6, 7, 8, 8, 4, 9, 2, 2, 9, 7, 4, 2, 9, 7, 8, 3, 3, 2, 5, 6, 1, 7, 3, 4, 0, 4, 2, 0, 4, 6, 3, 4, 9, 4, 6, 1, 2, 7, 9, 4, 9, 5, 5, 9, 5, 6, 1, 0, 8, 6, 4, 5, 1, 7, 7, 2, 2, 5, 9, 9, 0, 9, 1, 8, 2, 8, 1, 5, 7, 7, 8, 9, 4, 7, 1, 6, 5, 8, 2, 2, 3, 7, 3, 2, 2, 0, 8, 5, 3, 4, 8, 0, 1, 5, 3, 5, 8, 1, 8, 0, 4, 3, 5, 3, 0, 5, 6, 5, 2, 5, 1, 0, 4, 5, 5, 4, 4, 7, 3, 5, 8, 1, 9, 4, 6, 7, 0, 0, 4, 8, 7, 9, 2, 7, 3, 8, 2, 0, 1, 2, 1, 4, 5, 8, 2, 5, 9, 7, 1, 8, 1, 0, 5, 9, 7, 0, 7, 2, 0, 7, 6, 1, 9, 1, 1, 2, 2, 6, 3, 7, 7, 4, 1, 5, 1, 8, 3, 4, 2, 4, 9, 6, 0, 9, 4, 7, 6, 9, 2, 4, 3, 9, 7, 2, 1, 4, 4, 3, 1, 9, 2, 0, 4, 7, 0, 7, 3, 7, 0, 7, 0, 3, 0, 0, 3, 6, 0, 5, 5, 2, 0, 0, 9, 0, 9, 8, 8, 9, 4, 4, 7, 6, 4, 1, 8, 5, 6, 2, 6, 0, 7, 5, 5, 5, 2, 6, 1, 9, 1, 1, 7, 9, 2, 6, 1, 2, 7, 8, 4, 0, 8, 1, 8, 0, 8, 0, 7, 7, 4, 4, 5, 7, 5, 8, 1, 8, 2, 8, 3, 8, 6, 2, 0, 4, 8, 0, 0, 4, 0, 9, 7, 6, 4, 8, 3, 2, 9, 3, 8, 4, 5, 7, 0, 9, 9, 0, 7, 1, 5, 4, 9, 9, 0, 9, 8, 0, 2, 0, 6, 9, 4, 9, 7, 3, 5, 4, 4, 6, 0, 8, 0, 5, 9, 2, 2, 6, 2, 1, 6, 7, 0, 1, 0, 7, 7, 9, 3, 5, 6, 6, 7, 3, 0, 9, 1, 6, 6, 0, 6, 3, 8, 5, 3, 6, 5, 2, 4, 0, 6, 5, 0, 4, 4, 5, 3, 2, 2, 5, 3, 1, 5, 6, 2, 6, 2, 9, 3, 4, 9, 5, 8, 5, 2, 5, 4, 9, 9, 6, 7, 9, 7, 4, 3, 1, 0, 9, 7, 3, 5, 0, 3, 8, 5, 1, 4, 8, 1, 2, 4, 1, 6, 9, 4, 3, 1, 3, 1, 8, 5, 6, 6, 3, 2, 1, 0, 7, 6, 3, 3, 5, 7, 0, 7, 7, 0, 8, 8, 2, 1, 2, 1, 6, 1, 9, 4, 4, 7, 4, 9, 7, 4, 9, 6, 0, 6, 0, 1, 9, 2, 0, 3, 2, 1, 2, 7, 4, 9, 2, 2, 6, 8, 8, 7, 0, 6, 2, 5, 3, 7, 4, 1, 7, 8, 8, 8, 4, 8, 4, 9, 8, 1, 0, 1, 9, 5, 5, 4, 4, 6, 5, 4, 6, 8, 5, 4, 2, 2, 1, 6, 8, 9, 9, 7, 1, 6, 9, 1, 3, 4, 0, 8, 5, 9, 6, 6, 0, 8, 6, 3, 8, 9, 7, 8, 5, 9, 5, 5, 9, 4, 7, 3, 3, 2, 8, 1, 6, 5, 7, 2, 2, 0, 0, 0, 8, 1, 3, 7, 3, 3, 0, 1, 9, 5, 0, 9, 0, 9, 0, 8, 2, 7, 9, 2, 9, 9, 1, 3, 1, 1, 3, 1, 6, 8, 9, 2, 0, 6, 8, 5, 9, 4, 3, 2, 2, 5, 3, 3, 8, 7, 5, 0, 2, 6, 5, 2, 7, 5, 8, 6, 4, 3, 3, 4, 5, 0, 3, 2, 9, 8, 1, 8, 7, 7, 1, 2, 8, 6, 5, 0, 9, 6, 5, 8, 9, 6, 1, 8, 0, 6, 9, 0, 9, 5, 5, 8, 0, 1, 5, 1, 3, 8, 7, 5, 1, 8, 5, 8, 5, 8, 9, 5, 9, 3, 9, 6, 8, 6, 8, 7, 4, 4, 3, 4, 0, 2, 3, 0, 2, 3, 0, 8, 8, 2, 6, 5, 6, 3, 4, 8, 5, 2, 7, 8, 3, 5, 6, 8, 3, 1, 8, 2, 8, 7, 8, 3, 9, 8, 6, 0, 7, 1, 4, 3, 1, 3, 9, 8, 8, 7, 1, 2, 5, 3, 0, 2, 3, 0, 2, 8, 4, 7, 4, 6, 4, 8, 4, 0, 1, 7, 0, 3, 4, 4, 4, 6, 8, 2, 6, 6, 9, 9, 8, 6, 8, 7, 8, 0, 4, 5, 2, 8, 7, 6, 8, 7, 4, 3, 5, 8, 9, 9, 3, 7, 5, 1, 3, 3, 2, 2, 5, 0, 4, 4, 4, 2, 5, 0, 5, 6, 3, 0, 4, 3, 5, 5, 4, 4, 7, 7, 0, 1, 9, 4, 5, 1, 0, 2, 3, 6, 2, 2, 6, 5, 1, 2, 7, 3, 0, 9, 8, 0, 8, 2, 5, 3, 4, 5, 6, 5, 1, 2, 2, 2, 9, 8, 6, 6, 3, 5, 6, 0, 9, 1, 0, 3, 8, 4, 3, 8, 4, 6, 5, 8, 6, 1, 0, 3, 7, 6, 9, 8, 1, 5, 1, 8, 0, 8, 8, 0, 3, 7, 3, 3, 8, 1, 0, 2, 1, 5, 3, 5, 3, 4, 0, 5, 5, 2, 0, 2, 2, 4, 9, 4, 3, 7, 1, 6, 4, 0, 2, 0, 6, 3, 7, 1, 9, 0, 9, 9, 7, 1, 3, 4, 3, 3, 7, 8, 6, 8, 3, 4, 6, 5, 6, 5, 9, 3, 1, 0, 7, 5, 6, 3, 0, 7, 9, 3, 3, 2, 6, 7, 6, 4, 0, 6, 0, 6, 2, 2, 1, 8, 5, 1, 6, 4, 8, 2, 5, 9, 3, 1, 4, 3, 2, 2, 4, 2, 2, 0, 2, 0, 3, 9, 7, 0, 2, 2, 6, 7, 0, 9, 8, 0, 0, 5, 7, 3, 1, 5, 1, 9, 2, 3, 0, 8, 9, 1, 9, 8, 8, 9, 8, 1, 9, 0, 3, 3, 8, 3, 5, 0, 2, 1, 5, 9, 1, 6, 4, 3, 0, 2, 0, 0, 7, 9, 9, 9, 7, 6, 5, 8, 3, 8, 4, 6, 5, 3, 4, 8, 9, 7, 6, 8, 2, 3, 9, 4, 1, 0, 8, 6, 7, 9, 4, 7, 5, 1, 3, 6, 1, 3, 0, 6, 5, 6, 4, 9, 5, 2, 4, 9, 0, 7, 5, 3, 6, 4, 6, 7, 2, 6, 5, 5, 0, 9, 4, 0, 8, 6, 1, 4, 0, 6, 7, 5, 4, 2, 4, 1, 8, 9, 8, 4, 6, 6, 9, 2, 3, 1, 4, 7, 7, 9, 0, 5, 6, 2, 3, 2, 5, 0, 8, 3, 8, 2, 2, 0, 8, 0, 7, 7, 0, 7, 2, 9, 8, 3, 1, 1, 7, 0, 6, 9, 1, 2, 8, 7, 8, 5, 1, 9, 6, 9, 1, 0, 8, 2, 7, 9, 3, 8, 2, 2, 0, 2, 0, 9, 1, 1, 0, 3, 8, 6, 8, 2, 5, 5, 5, 7, 4, 3, 7, 9, 4, 1, 8, 1, 9, 2, 3, 8, 0, 0, 5, 8, 2, 1, 2, 0, 6, 3, 0, 5, 9, 5, 3, 9, 8, 4, 8, 8, 6, 4, 9, 9, 5, 8, 7, 2, 9, 3, 0, 2, 7, 0, 4, 6, 9, 2, 0, 5, 7, 1, 0, 4, 6, 5, 0, 2, 2, 2, 4, 3, 6, 2, 9, 8, 6, 8, 1, 3, 3, 0, 8, 8, 5, 7, 5, 2, 9, 7, 9, 2, 0, 3, 2, 2, 8, 4, 5, 6, 5, 5, 4, 6, 6, 3, 5, 2, 9, 6, 4, 9, 3, 3, 5, 5, 4, 2, 0, 0, 2, 5, 0, 7, 5, 5, 7, 0, 4, 3, 2, 0, 4, 0, 9, 8, 4, 9, 9, 7, 5, 7, 9, 8, 1, 9, 3, 5, 8, 6, 4, 6, 9, 9, 9, 3, 7, 5, 9, 7, 8, 0, 8, 6, 9, 8, 6, 7, 1, 7, 7, 9, 8, 0, 9, 2, 6, 5, 8, 0, 5, 4, 3, 2, 8, 2, 6, 4, 0, 7, 7, 4, 0, 7, 8, 0, 2, 3, 5, 1, 6, 2, 2, 8, 2, 4, 9, 2, 4, 3, 3, 0, 9, 5, 6, 6, 4, 0, 1, 0, 3, 2, 6, 0, 4, 2, 7, 3, 6, 6, 7, 1, 4, 2, 2, 6, 4, 8, 5, 3, 5, 4, 1, 3, 8, 6, 3, 9, 2, 0, 2, 7, 2, 8, 7, 8, 2, 0, 5, 0, 0, 8, 9, 0, 3, 8, 4, 1, 6, 5, 7, 9, 8, 1, 5, 3, 5, 1, 6, 7, 9, 7, 7, 0, 7, 6, 8, 1, 3, 7, 0, 4, 2, 9, 4, 3, 6, 2, 1, 7, 8, 2, 3, 6, 3, 8, 1, 8, 4, 9, 6, 2, 3, 1, 8, 1, 4, 3, 9, 4, 1, 0, 6, 7, 4, 9, 9, 5, 5, 9, 6, 2, 3, 5, 1, 5, 9, 4, 0, 1, 4, 3, 1, 1, 8, 7, 0, 1, 5, 9, 8, 9, 7, 6, 2, 9, 0, 9, 1, 1, 3, 6, 6, 5, 7, 9, 0, 6, 6, 5, 1, 8, 1, 8, 0, 9, 5, 5, 1, 2, 0, 8, 7, 9, 1, 9, 5, 7, 5, 3, 0, 7, 4, 8, 0, 2, 5, 2, 7, 9, 7, 8, 4, 8, 5, 2, 2, 5, 9, 1, 4, 5, 1, 6, 5, 2, 9, 7, 5, 4, 7, 9, 3, 7, 2, 3, 6, 5, 8, 8, 7, 1, 0, 5, 4, 7, 2, 9, 2, 5, 8, 4, 2, 1, 7, 3, 9, 8, 2, 1, 6, 0, 1, 5, 9, 8, 6, 5, 8, 8, 8, 3, 7, 4, 3, 3, 3, 2, 6, 9, 7, 3, 9, 6, 6, 3, 7, 8, 5, 3, 0, 0, 2, 4, 4, 0, 2, 2, 5, 5, 4, 0, 6, 2, 1, 0, 8, 8, 6, 4, 5, 3, 1, 2, 4, 6, 7, 6, 8, 1, 4, 3, 9, 9, 7, 4, 7, 3, 7, 9, 5, 1, 6, 1, 8, 5, 7, 4, 4, 7, 9, 5, 7, 3, 2, 5, 2, 3, 2, 8, 7, 8, 9, 1, 6, 0, 5, 0, 1, 3, 0, 7, 3, 0, 0, 0, 7, 6, 6, 0, 7, 7, 0, 4, 0, 4, 9, 8, 7, 6, 3, 9, 0, 2, 8, 8, 2, 8, 4, 4, 8, 4, 4, 3, 4, 5, 5, 4, 2, 6, 9, 6, 4, 5, 0, 4, 2, 2, 6, 4, 6, 1, 1, 5, 1, 4, 7, 6, 8, 2, 3, 0, 3, 5, 8, 3, 6, 3, 1, 9, 1, 7, 9, 8, 9, 2, 7, 0, 6, 0, 7, 3, 6, 0, 3, 6, 3, 5, 5, 8, 4, 7, 0, 6, 6, 6, 8, 2, 4, 3, 6, 7, 9, 4, 2, 3, 8, 1, 4, 6, 3, 0, 8, 7, 4, 1, 9, 8, 8, 3, 5, 0, 4, 1, 0, 1, 2, 6, 1, 3, 6, 0, 0, 5, 6, 9, 6, 8, 4, 0, 9, 2, 2, 8, 5, 5, 3, 2, 1, 9, 4, 9, 3]\n",
      "[[ 0.  1.  0. ...,  0.  0.  0.]\n",
      " [ 0.  0.  0. ...,  0.  1.  0.]\n",
      " [ 0.  0.  0. ...,  0.  0.  0.]\n",
      " ..., \n",
      " [ 0.  0.  0. ...,  0.  0.  0.]\n",
      " [ 0.  0.  0. ...,  0.  0.  1.]\n",
      " [ 0.  0.  0. ...,  0.  0.  0.]]\n"
     ]
    },
    {
     "name": "stdout",
     "output_type": "stream",
     "text": [
      "[4 2 2 ..., 9 1 1]\n",
      "[[ 0.  0.  0. ...,  0.  0.  0.]\n",
      " [ 0.  0.  1. ...,  0.  0.  0.]\n",
      " [ 0.  0.  1. ...,  0.  0.  0.]\n",
      " ..., \n",
      " [ 0.  0.  0. ...,  0.  0.  1.]\n",
      " [ 0.  1.  0. ...,  0.  0.  0.]\n",
      " [ 0.  1.  0. ...,  0.  0.  0.]]\n",
      "[3 8 8 ..., 5 1 7]\n",
      "[[ 0.  0.  0. ...,  0.  0.  0.]\n",
      " [ 0.  0.  0. ...,  0.  1.  0.]\n",
      " [ 0.  0.  0. ...,  0.  1.  0.]\n",
      " ..., \n",
      " [ 0.  0.  0. ...,  0.  0.  0.]\n",
      " [ 0.  1.  0. ...,  0.  0.  0.]\n",
      " [ 0.  0.  0. ...,  1.  0.  0.]]\n"
     ]
    }
   ],
   "source": [
    "\"\"\"\n",
    "DON'T MODIFY ANYTHING IN THIS CELL\n",
    "\"\"\"\n",
    "# Preprocess Training, Validation, and Testing Data\n",
    "helper.preprocess_and_save_data(cifar10_dataset_folder_path, normalize, one_hot_encode)"
   ]
  },
  {
   "cell_type": "markdown",
   "metadata": {},
   "source": [
    "# Check Point\n",
    "This is your first checkpoint.  If you ever decide to come back to this notebook or have to restart the notebook, you can start from here.  The preprocessed data has been saved to disk."
   ]
  },
  {
   "cell_type": "code",
   "execution_count": 6,
   "metadata": {
    "collapsed": true
   },
   "outputs": [],
   "source": [
    "\"\"\"\n",
    "DON'T MODIFY ANYTHING IN THIS CELL\n",
    "\"\"\"\n",
    "import pickle\n",
    "import problem_unittests as tests\n",
    "import helper\n",
    "\n",
    "# Load the Preprocessed Validation data\n",
    "valid_features, valid_labels = pickle.load(open('preprocess_validation.p', mode='rb'))"
   ]
  },
  {
   "cell_type": "markdown",
   "metadata": {},
   "source": [
    "## Build the network\n",
    "For the neural network, you'll build each layer into a function.  Most of the code you've seen has been outside of functions. To test your code more thoroughly, we require that you put each layer in a function.  This allows us to give you better feedback and test for simple mistakes using our unittests before you submit your project.\n",
    "\n",
    ">**Note:** If you're finding it hard to dedicate enough time for this course each week, we've provided a small shortcut to this part of the project. In the next couple of problems, you'll have the option to use classes from the [TensorFlow Layers](https://www.tensorflow.org/api_docs/python/tf/layers) or [TensorFlow Layers (contrib)](https://www.tensorflow.org/api_guides/python/contrib.layers) packages to build each layer, except the layers you build in the \"Convolutional and Max Pooling Layer\" section.  TF Layers is similar to Keras's and TFLearn's abstraction to layers, so it's easy to pickup.\n",
    "\n",
    ">However, if you would like to get the most out of this course, try to solve all the problems _without_ using anything from the TF Layers packages. You **can** still use classes from other packages that happen to have the same name as ones you find in TF Layers! For example, instead of using the TF Layers version of the `conv2d` class, [tf.layers.conv2d](https://www.tensorflow.org/api_docs/python/tf/layers/conv2d), you would want to use the TF Neural Network version of `conv2d`, [tf.nn.conv2d](https://www.tensorflow.org/api_docs/python/tf/nn/conv2d). \n",
    "\n",
    "Let's begin!\n",
    "\n",
    "### Input\n",
    "The neural network needs to read the image data, one-hot encoded labels, and dropout keep probability. Implement the following functions\n",
    "* Implement `neural_net_image_input`\n",
    " * Return a [TF Placeholder](https://www.tensorflow.org/api_docs/python/tf/placeholder)\n",
    " * Set the shape using `image_shape` with batch size set to `None`.\n",
    " * Name the TensorFlow placeholder \"x\" using the TensorFlow `name` parameter in the [TF Placeholder](https://www.tensorflow.org/api_docs/python/tf/placeholder).\n",
    "* Implement `neural_net_label_input`\n",
    " * Return a [TF Placeholder](https://www.tensorflow.org/api_docs/python/tf/placeholder)\n",
    " * Set the shape using `n_classes` with batch size set to `None`.\n",
    " * Name the TensorFlow placeholder \"y\" using the TensorFlow `name` parameter in the [TF Placeholder](https://www.tensorflow.org/api_docs/python/tf/placeholder).\n",
    "* Implement `neural_net_keep_prob_input`\n",
    " * Return a [TF Placeholder](https://www.tensorflow.org/api_docs/python/tf/placeholder) for dropout keep probability.\n",
    " * Name the TensorFlow placeholder \"keep_prob\" using the TensorFlow `name` parameter in the [TF Placeholder](https://www.tensorflow.org/api_docs/python/tf/placeholder).\n",
    "\n",
    "These names will be used at the end of the project to load your saved model.\n",
    "\n",
    "Note: `None` for shapes in TensorFlow allow for a dynamic size."
   ]
  },
  {
   "cell_type": "code",
   "execution_count": 7,
   "metadata": {},
   "outputs": [
    {
     "name": "stdout",
     "output_type": "stream",
     "text": [
      "Image Input Tests Passed.\n",
      "Label Input Tests Passed.\n",
      "Keep Prob Tests Passed.\n"
     ]
    }
   ],
   "source": [
    "import tensorflow as tf\n",
    "\n",
    "def neural_net_image_input(image_shape):\n",
    "    \"\"\"\n",
    "    Return a Tensor for a batch of image input\n",
    "    : image_shape: Shape of the images\n",
    "    : return: Tensor for image input.\n",
    "    \"\"\"\n",
    "    # TODO: Implement Function\n",
    "    \n",
    "    x = tf.placeholder(dtype=tf.float32, shape=[None, image_shape[0], image_shape[1], image_shape[2]], name=\"x\")\n",
    "    return x\n",
    "\n",
    "\n",
    "def neural_net_label_input(n_classes):\n",
    "    \"\"\"\n",
    "    Return a Tensor for a batch of label input\n",
    "    : n_classes: Number of classes\n",
    "    : return: Tensor for label input.\n",
    "    \"\"\"\n",
    "    # TODO: Implement Function\n",
    "    \n",
    "    y = tf.placeholder(dtype=tf.float32, shape=[None, n_classes], name=\"y\")\n",
    "    return y\n",
    "\n",
    "\n",
    "def neural_net_keep_prob_input():\n",
    "    \"\"\"\n",
    "    Return a Tensor for keep probability\n",
    "    : return: Tensor for keep probability.\n",
    "    \"\"\"\n",
    "    # TODO: Implement Function\n",
    "    keep_prob = tf.placeholder(tf.float32, shape=None, name=\"keep_prob\")\n",
    "    return keep_prob\n",
    "\n",
    "\n",
    "\"\"\"\n",
    "DON'T MODIFY ANYTHING IN THIS CELL THAT IS BELOW THIS LINE\n",
    "\"\"\"\n",
    "tf.reset_default_graph()\n",
    "tests.test_nn_image_inputs(neural_net_image_input)\n",
    "tests.test_nn_label_inputs(neural_net_label_input)\n",
    "tests.test_nn_keep_prob_inputs(neural_net_keep_prob_input)"
   ]
  },
  {
   "cell_type": "markdown",
   "metadata": {},
   "source": [
    "### Convolution and Max Pooling Layer\n",
    "Convolution layers have a lot of success with images. For this code cell, you should implement the function `conv2d_maxpool` to apply convolution then max pooling:\n",
    "* Create the weight and bias using `conv_ksize`, `conv_num_outputs` and the shape of `x_tensor`.\n",
    "* Apply a convolution to `x_tensor` using weight and `conv_strides`.\n",
    " * We recommend you use same padding, but you're welcome to use any padding.\n",
    "* Add bias\n",
    "* Add a nonlinear activation to the convolution.\n",
    "* Apply Max Pooling using `pool_ksize` and `pool_strides`.\n",
    " * We recommend you use same padding, but you're welcome to use any padding.\n",
    "\n",
    "**Note:** You **can't** use [TensorFlow Layers](https://www.tensorflow.org/api_docs/python/tf/layers) or [TensorFlow Layers (contrib)](https://www.tensorflow.org/api_guides/python/contrib.layers) for **this** layer, but you can still use TensorFlow's [Neural Network](https://www.tensorflow.org/api_docs/python/tf/nn) package. You may still use the shortcut option for all the **other** layers."
   ]
  },
  {
   "cell_type": "code",
   "execution_count": 34,
   "metadata": {},
   "outputs": [
    {
     "name": "stdout",
     "output_type": "stream",
     "text": [
      "Tests Passed\n"
     ]
    }
   ],
   "source": [
    "def conv2d_maxpool(x_tensor, conv_num_outputs, conv_ksize, conv_strides, pool_ksize, pool_strides):\n",
    "    \"\"\"\n",
    "    Apply convolution then max pooling to x_tensor\n",
    "    :param x_tensor: TensorFlow Tensor\n",
    "    :param conv_num_outputs: Number of outputs for the convolutional layer\n",
    "    :param conv_ksize: kernal size 2-D Tuple for the convolutional layer\n",
    "    :param conv_strides: Stride 2-D Tuple for convolution\n",
    "    :param pool_ksize: kernal size 2-D Tuple for pool\n",
    "    :param pool_strides: Stride 2-D Tuple for pool\n",
    "    : return: A tensor that represents convolution and max pooling of x_tensor\n",
    "    \"\"\"\n",
    "    # TODO: Implement Function\n",
    "    \n",
    "#     print(type(x_tensor.shape[-1]))\n",
    "#     print(type(x_tensor.get_shape().as_list()[-1]))\n",
    "    \n",
    "    weights = tf.Variable(tf.truncated_normal(shape=[conv_ksize[0],\n",
    "                                                     conv_ksize[1], \n",
    "                                                     x_tensor.get_shape().as_list()[-1], \n",
    "                                                     conv_num_outputs], \n",
    "                                              mean=0.0, \n",
    "                                              stddev=1.0, \n",
    "                                              dtype=tf.float32, \n",
    "                                              seed=None\n",
    "                                             )\n",
    "                         )\n",
    "    bias = tf.Variable(tf.zeros(conv_num_outputs))\n",
    "    \n",
    "    x_tensor = tf.nn.conv2d(x_tensor, \n",
    "                            weights, \n",
    "                            strides=[1, \n",
    "                                     conv_strides[0], \n",
    "                                     conv_strides[1], \n",
    "                                     1], \n",
    "                            padding='SAME' \n",
    "                           )\n",
    "    x_tensor = tf.nn.bias_add(x_tensor, bias)\n",
    "    x_tensor = tf.nn.relu(x_tensor)\n",
    "    \n",
    "    return tf.nn.max_pool(x_tensor, \n",
    "                          ksize=[1, \n",
    "                                 pool_ksize[0], \n",
    "                                 pool_ksize[1], \n",
    "                                 1], \n",
    "                          strides=[1, \n",
    "                                   pool_strides[0], \n",
    "                                   pool_strides[1], \n",
    "                                   1], \n",
    "                          padding='SAME'\n",
    "                         )\n",
    "\n",
    "\n",
    "\"\"\"\n",
    "DON'T MODIFY ANYTHING IN THIS CELL THAT IS BELOW THIS LINE\n",
    "\"\"\"\n",
    "tests.test_con_pool(conv2d_maxpool)"
   ]
  },
  {
   "cell_type": "markdown",
   "metadata": {},
   "source": [
    "### Flatten Layer\n",
    "Implement the `flatten` function to change the dimension of `x_tensor` from a 4-D tensor to a 2-D tensor.  The output should be the shape (*Batch Size*, *Flattened Image Size*). Shortcut option: you can use classes from the [TensorFlow Layers](https://www.tensorflow.org/api_docs/python/tf/layers) or [TensorFlow Layers (contrib)](https://www.tensorflow.org/api_guides/python/contrib.layers) packages for this layer. For more of a challenge, only use other TensorFlow packages."
   ]
  },
  {
   "cell_type": "code",
   "execution_count": 35,
   "metadata": {},
   "outputs": [
    {
     "name": "stdout",
     "output_type": "stream",
     "text": [
      "Tests Passed\n"
     ]
    }
   ],
   "source": [
    "def flatten(x_tensor):\n",
    "    \"\"\"\n",
    "    Flatten x_tensor to (Batch Size, Flattened Image Size)\n",
    "    : x_tensor: A tensor of size (Batch Size, ...), where ... are the image dimensions.\n",
    "    : return: A tensor of size (Batch Size, Flattened Image Size).\n",
    "    \"\"\"\n",
    "    # TODO: Implement Function\n",
    "    return tf.contrib.layers.flatten(x_tensor)\n",
    "\n",
    "\n",
    "\"\"\"\n",
    "DON'T MODIFY ANYTHING IN THIS CELL THAT IS BELOW THIS LINE\n",
    "\"\"\"\n",
    "tests.test_flatten(flatten)"
   ]
  },
  {
   "cell_type": "markdown",
   "metadata": {},
   "source": [
    "### Fully-Connected Layer\n",
    "Implement the `fully_conn` function to apply a fully connected layer to `x_tensor` with the shape (*Batch Size*, *num_outputs*). Shortcut option: you can use classes from the [TensorFlow Layers](https://www.tensorflow.org/api_docs/python/tf/layers) or [TensorFlow Layers (contrib)](https://www.tensorflow.org/api_guides/python/contrib.layers) packages for this layer. For more of a challenge, only use other TensorFlow packages."
   ]
  },
  {
   "cell_type": "code",
   "execution_count": 92,
   "metadata": {},
   "outputs": [
    {
     "name": "stdout",
     "output_type": "stream",
     "text": [
      "Tests Passed\n"
     ]
    }
   ],
   "source": [
    "def fully_conn(x_tensor, num_outputs):\n",
    "    \"\"\"\n",
    "    Apply a fully connected layer to x_tensor **using weight and bias\n",
    "    : x_tensor: A 2-D tensor where the first dimension is batch size.\n",
    "    : num_outputs: The number of output that the new tensor should be.\n",
    "    : return: A 2-D tensor where the second dimension is num_outputs.\n",
    "    \"\"\"\n",
    "    # TODO: Implement Function\n",
    "    weights = tf.Variable(tf.truncated_normal(shape=[x_tensor.get_shape().as_list()[-1], \n",
    "                                                     num_outputs], \n",
    "                                              mean=0.0, \n",
    "                                              stddev=.01, \n",
    "                                              dtype=tf.float32, \n",
    "                                              seed=None\n",
    "                                             )\n",
    "                         )\n",
    "    bias = tf.Variable(tf.zeros(num_outputs))\n",
    "    \n",
    "\n",
    "    return tf.add(tf.matmul(x_tensor,weights), bias)\n",
    "\n",
    "\n",
    "\"\"\"\n",
    "DON'T MODIFY ANYTHING IN THIS CELL THAT IS BELOW THIS LINE\n",
    "\"\"\"\n",
    "tests.test_fully_conn(fully_conn)"
   ]
  },
  {
   "cell_type": "markdown",
   "metadata": {},
   "source": [
    "### Output Layer\n",
    "Implement the `output` function to apply a fully connected layer to `x_tensor` with the shape (*Batch Size*, *num_outputs*). Shortcut option: you can use classes from the [TensorFlow Layers](https://www.tensorflow.org/api_docs/python/tf/layers) or [TensorFlow Layers (contrib)](https://www.tensorflow.org/api_guides/python/contrib.layers) packages for this layer. For more of a challenge, only use other TensorFlow packages.\n",
    "\n",
    "**Note:** Activation, softmax, or cross entropy should **not** be applied to this."
   ]
  },
  {
   "cell_type": "code",
   "execution_count": 93,
   "metadata": {},
   "outputs": [
    {
     "name": "stdout",
     "output_type": "stream",
     "text": [
      "Tests Passed\n"
     ]
    }
   ],
   "source": [
    "def output(x_tensor, num_outputs):\n",
    "    \"\"\"\n",
    "    Apply a output layer to x_tensor **using weight and bias\n",
    "    : x_tensor: A 2-D tensor where the first dimension is batch size.\n",
    "    : num_outputs: The number of output that the new tensor should be.\n",
    "    : return: A 2-D tensor where the second dimension is num_outputs.\n",
    "    \"\"\"\n",
    "    # TODO: Implement Function\n",
    "    weights = tf.Variable(tf.truncated_normal(shape=[x_tensor.get_shape().as_list()[-1], \n",
    "                                                     num_outputs], \n",
    "                                              mean=0.0, \n",
    "                                              stddev=.01, \n",
    "                                              dtype=tf.float32, \n",
    "                                              seed=None\n",
    "                                             )\n",
    "                         )\n",
    "    bias = tf.Variable(tf.zeros(num_outputs))\n",
    "    \n",
    "\n",
    "    return tf.add(tf.matmul(x_tensor,weights), bias)\n",
    "\n",
    "\n",
    "\"\"\"\n",
    "DON'T MODIFY ANYTHING IN THIS CELL THAT IS BELOW THIS LINE\n",
    "\"\"\"\n",
    "tests.test_output(output)"
   ]
  },
  {
   "cell_type": "markdown",
   "metadata": {},
   "source": [
    "### Create Convolutional Model\n",
    "Implement the function `conv_net` to create a convolutional neural network model. The function takes in a batch of images, `x`, and outputs logits.  Use the layers you created above to create this model:\n",
    "\n",
    "* Apply 1, 2, or 3 Convolution and Max Pool layers\n",
    "* Apply a Flatten Layer\n",
    "* Apply 1, 2, or 3 Fully Connected Layers\n",
    "* Apply an Output Layer\n",
    "* Return the output\n",
    "* Apply [TensorFlow's Dropout](https://www.tensorflow.org/api_docs/python/tf/nn/dropout) to one or more layers in the model using `keep_prob`. "
   ]
  },
  {
   "cell_type": "code",
   "execution_count": 94,
   "metadata": {},
   "outputs": [
    {
     "name": "stdout",
     "output_type": "stream",
     "text": [
      "Neural Network Built!\n"
     ]
    }
   ],
   "source": [
    "def conv_net(x, keep_prob):\n",
    "    \"\"\"\n",
    "    Create a convolutional neural network model\n",
    "    : x: Placeholder tensor that holds image data.\n",
    "    : keep_prob: Placeholder tensor that hold dropout keep probability.\n",
    "    : return: Tensor that represents logits\n",
    "    \"\"\"\n",
    "    # TODO: Apply 1, 2, or 3 Convolution and Max Pool layers\n",
    "    #    Play around with different number of outputs, kernel size and stride\n",
    "    # Function Definition from Above:\n",
    "    conv_num_outputs = 64\n",
    "    num_outputs = 10\n",
    "    conv_ksize = (4,4)\n",
    "    conv_strides = (1,1)\n",
    "    pool_ksize = (4,4)\n",
    "    pool_strides = (1,1)\n",
    "    \n",
    "    conv_layer1 = conv2d_maxpool(x, conv_num_outputs, conv_ksize, conv_strides, pool_ksize, pool_strides)\n",
    "    dropout_layer = tf.nn.dropout(conv_layer1, keep_prob)\n",
    "    #conv_layer2 = conv2d_maxpool(dropout_layer, conv_num_outputs, conv_ksize, conv_strides, pool_ksize, pool_strides)\n",
    "    \n",
    "\n",
    "    # TODO: Apply a Flatten Layer\n",
    "    # Function Definition from Above:\n",
    "    flattened_layer = flatten(dropout_layer)\n",
    "    \n",
    "\n",
    "    # TODO: Apply 1, 2, or 3 Fully Connected Layers\n",
    "    #    Play around with different number of outputs\n",
    "    # Function Definition from Above:\n",
    "    full_net_result = fully_conn(flattened_layer,50)\n",
    "    \n",
    "    \n",
    "    # TODO: Apply an Output Layer\n",
    "    #    Set this to the number of classes\n",
    "    # Function Definition from Above:\n",
    "    net_output = output(full_net_result, num_outputs)\n",
    "    \n",
    "    \n",
    "    # TODO: return output\n",
    "    return net_output\n",
    "\n",
    "\n",
    "\"\"\"\n",
    "DON'T MODIFY ANYTHING IN THIS CELL THAT IS BELOW THIS LINE\n",
    "\"\"\"\n",
    "\n",
    "##############################\n",
    "## Build the Neural Network ##\n",
    "##############################\n",
    "\n",
    "# Remove previous weights, bias, inputs, etc..\n",
    "tf.reset_default_graph()\n",
    "\n",
    "# Inputs\n",
    "x = neural_net_image_input((32, 32, 3))\n",
    "y = neural_net_label_input(10)\n",
    "keep_prob = neural_net_keep_prob_input()\n",
    "\n",
    "# Model\n",
    "logits = conv_net(x, keep_prob)\n",
    "\n",
    "# Name logits Tensor, so that is can be loaded from disk after training\n",
    "logits = tf.identity(logits, name='logits')\n",
    "\n",
    "# Loss and Optimizer\n",
    "cost = tf.reduce_mean(tf.nn.softmax_cross_entropy_with_logits(logits=logits, labels=y))\n",
    "optimizer = tf.train.AdamOptimizer().minimize(cost)\n",
    "\n",
    "# Accuracy\n",
    "correct_pred = tf.equal(tf.argmax(logits, 1), tf.argmax(y, 1))\n",
    "accuracy = tf.reduce_mean(tf.cast(correct_pred, tf.float32), name='accuracy')\n",
    "\n",
    "tests.test_conv_net(conv_net)"
   ]
  },
  {
   "cell_type": "markdown",
   "metadata": {},
   "source": [
    "## Train the Neural Network\n",
    "### Single Optimization\n",
    "Implement the function `train_neural_network` to do a single optimization.  The optimization should use `optimizer` to optimize in `session` with a `feed_dict` of the following:\n",
    "* `x` for image input\n",
    "* `y` for labels\n",
    "* `keep_prob` for keep probability for dropout\n",
    "\n",
    "This function will be called for each batch, so `tf.global_variables_initializer()` has already been called.\n",
    "\n",
    "Note: Nothing needs to be returned. This function is only optimizing the neural network."
   ]
  },
  {
   "cell_type": "code",
   "execution_count": 95,
   "metadata": {},
   "outputs": [
    {
     "name": "stdout",
     "output_type": "stream",
     "text": [
      "Tests Passed\n"
     ]
    }
   ],
   "source": [
    "def train_neural_network(session, optimizer, keep_probability, feature_batch, label_batch):\n",
    "    \"\"\"\n",
    "    Optimize the session on a batch of images and labels\n",
    "    : session: Current TensorFlow session\n",
    "    : optimizer: TensorFlow optimizer function\n",
    "    : keep_probability: keep probability\n",
    "    : feature_batch: Batch of Numpy image data\n",
    "    : label_batch: Batch of Numpy label data\n",
    "    \"\"\"\n",
    "    # TODO: Implement Function\n",
    "    session.run(optimizer, feed_dict={x: feature_batch, y: label_batch, keep_prob: keep_probability})\n",
    "\n",
    "\n",
    "\"\"\"\n",
    "DON'T MODIFY ANYTHING IN THIS CELL THAT IS BELOW THIS LINE\n",
    "\"\"\"\n",
    "tests.test_train_nn(train_neural_network)"
   ]
  },
  {
   "cell_type": "markdown",
   "metadata": {},
   "source": [
    "### Show Stats\n",
    "Implement the function `print_stats` to print loss and validation accuracy.  Use the global variables `valid_features` and `valid_labels` to calculate validation accuracy.  Use a keep probability of `1.0` to calculate the loss and validation accuracy."
   ]
  },
  {
   "cell_type": "code",
   "execution_count": 96,
   "metadata": {
    "collapsed": true
   },
   "outputs": [],
   "source": [
    "def print_stats(session, feature_batch, label_batch, cost, accuracy):\n",
    "    \"\"\"\n",
    "    Print information about loss and validation accuracy\n",
    "    : session: Current TensorFlow session\n",
    "    : feature_batch: Batch of Numpy image data\n",
    "    : label_batch: Batch of Numpy label data\n",
    "    : cost: TensorFlow cost function\n",
    "    : accuracy: TensorFlow accuracy function\n",
    "    \"\"\"\n",
    "    # TODO: Implement Function\n",
    "    loss = session.run(cost, feed_dict={x: feature_batch, y: label_batch, keep_prob: 1.})\n",
    "    test_accuracy = session.run(accuracy, feed_dict={x: feature_batch, y: label_batch, keep_prob: 1.})\n",
    "    print('Loss: {:>10.4f} Validation Accuracy: {:.6f}'.format(\n",
    "                loss,\n",
    "                test_accuracy))"
   ]
  },
  {
   "cell_type": "markdown",
   "metadata": {},
   "source": [
    "### Hyperparameters\n",
    "Tune the following parameters:\n",
    "* Set `epochs` to the number of iterations until the network stops learning or start overfitting\n",
    "* Set `batch_size` to the highest number that your machine has memory for.  Most people set them to common sizes of memory:\n",
    " * 64\n",
    " * 128\n",
    " * 256\n",
    " * ...\n",
    "* Set `keep_probability` to the probability of keeping a node using dropout"
   ]
  },
  {
   "cell_type": "code",
   "execution_count": 97,
   "metadata": {
    "collapsed": true
   },
   "outputs": [],
   "source": [
    "# TODO: Tune Parameters\n",
    "epochs = 25\n",
    "batch_size = 256\n",
    "keep_probability = .45"
   ]
  },
  {
   "cell_type": "markdown",
   "metadata": {},
   "source": [
    "### Train on a Single CIFAR-10 Batch\n",
    "Instead of training the neural network on all the CIFAR-10 batches of data, let's use a single batch. This should save time while you iterate on the model to get a better accuracy.  Once the final validation accuracy is 50% or greater, run the model on all the data in the next section."
   ]
  },
  {
   "cell_type": "code",
   "execution_count": 98,
   "metadata": {},
   "outputs": [
    {
     "name": "stdout",
     "output_type": "stream",
     "text": [
      "Checking the Training on a Single Batch...\n",
      "Epoch  1, CIFAR-10 Batch 1:  Loss:     2.3728 Validation Accuracy: 0.150000\n",
      "Epoch  2, CIFAR-10 Batch 1:  Loss:     1.8058 Validation Accuracy: 0.450000\n",
      "Epoch  3, CIFAR-10 Batch 1:  Loss:     1.5223 Validation Accuracy: 0.575000\n",
      "Epoch  4, CIFAR-10 Batch 1:  Loss:     1.3333 Validation Accuracy: 0.650000\n",
      "Epoch  5, CIFAR-10 Batch 1:  Loss:     1.1917 Validation Accuracy: 0.700000\n",
      "Epoch  6, CIFAR-10 Batch 1:  Loss:     1.0527 Validation Accuracy: 0.675000\n",
      "Epoch  7, CIFAR-10 Batch 1:  Loss:     0.9005 Validation Accuracy: 0.750000\n",
      "Epoch  8, CIFAR-10 Batch 1:  Loss:     0.8155 Validation Accuracy: 0.800000\n",
      "Epoch  9, CIFAR-10 Batch 1:  Loss:     0.7469 Validation Accuracy: 0.775000\n",
      "Epoch 10, CIFAR-10 Batch 1:  Loss:     0.6794 Validation Accuracy: 0.800000\n",
      "Epoch 11, CIFAR-10 Batch 1:  Loss:     0.6232 Validation Accuracy: 0.875000\n",
      "Epoch 12, CIFAR-10 Batch 1:  Loss:     0.5518 Validation Accuracy: 0.875000\n",
      "Epoch 13, CIFAR-10 Batch 1:  Loss:     0.5876 Validation Accuracy: 0.850000\n",
      "Epoch 14, CIFAR-10 Batch 1:  Loss:     0.4914 Validation Accuracy: 0.875000\n",
      "Epoch 15, CIFAR-10 Batch 1:  Loss:     0.4961 Validation Accuracy: 0.900000\n",
      "Epoch 16, CIFAR-10 Batch 1:  Loss:     0.4766 Validation Accuracy: 0.850000\n",
      "Epoch 17, CIFAR-10 Batch 1:  Loss:     0.3757 Validation Accuracy: 0.900000\n",
      "Epoch 18, CIFAR-10 Batch 1:  Loss:     0.3352 Validation Accuracy: 0.950000\n",
      "Epoch 19, CIFAR-10 Batch 1:  Loss:     0.3052 Validation Accuracy: 0.950000\n",
      "Epoch 20, CIFAR-10 Batch 1:  Loss:     0.2465 Validation Accuracy: 0.950000\n",
      "Epoch 21, CIFAR-10 Batch 1:  Loss:     0.1905 Validation Accuracy: 1.000000\n",
      "Epoch 22, CIFAR-10 Batch 1:  Loss:     0.1793 Validation Accuracy: 1.000000\n",
      "Epoch 23, CIFAR-10 Batch 1:  Loss:     0.1859 Validation Accuracy: 1.000000\n",
      "Epoch 24, CIFAR-10 Batch 1:  Loss:     0.1488 Validation Accuracy: 1.000000\n",
      "Epoch 25, CIFAR-10 Batch 1:  Loss:     0.1440 Validation Accuracy: 0.975000\n"
     ]
    }
   ],
   "source": [
    "\"\"\"\n",
    "DON'T MODIFY ANYTHING IN THIS CELL\n",
    "\"\"\"\n",
    "print('Checking the Training on a Single Batch...')\n",
    "with tf.Session() as sess:\n",
    "    # Initializing the variables\n",
    "    sess.run(tf.global_variables_initializer())\n",
    "    \n",
    "    # Training cycle\n",
    "    for epoch in range(epochs):\n",
    "        batch_i = 1\n",
    "        for batch_features, batch_labels in helper.load_preprocess_training_batch(batch_i, batch_size):\n",
    "            train_neural_network(sess, optimizer, keep_probability, batch_features, batch_labels)\n",
    "        print('Epoch {:>2}, CIFAR-10 Batch {}:  '.format(epoch + 1, batch_i), end='')\n",
    "        print_stats(sess, batch_features, batch_labels, cost, accuracy)"
   ]
  },
  {
   "cell_type": "markdown",
   "metadata": {},
   "source": [
    "### Fully Train the Model\n",
    "Now that you got a good accuracy with a single CIFAR-10 batch, try it with all five batches."
   ]
  },
  {
   "cell_type": "code",
   "execution_count": 99,
   "metadata": {},
   "outputs": [
    {
     "name": "stdout",
     "output_type": "stream",
     "text": [
      "Training...\n",
      "Epoch  1, CIFAR-10 Batch 1:  Loss:     2.3460 Validation Accuracy: 0.225000\n",
      "Epoch  1, CIFAR-10 Batch 2:  Loss:     1.6732 Validation Accuracy: 0.450000\n",
      "Epoch  1, CIFAR-10 Batch 3:  Loss:     1.4408 Validation Accuracy: 0.475000\n",
      "Epoch  1, CIFAR-10 Batch 4:  Loss:     1.3683 Validation Accuracy: 0.550000\n",
      "Epoch  1, CIFAR-10 Batch 5:  Loss:     1.4530 Validation Accuracy: 0.500000\n",
      "Epoch  2, CIFAR-10 Batch 1:  Loss:     1.4677 Validation Accuracy: 0.525000\n",
      "Epoch  2, CIFAR-10 Batch 2:  Loss:     1.0821 Validation Accuracy: 0.675000\n",
      "Epoch  2, CIFAR-10 Batch 3:  Loss:     1.0095 Validation Accuracy: 0.650000\n",
      "Epoch  2, CIFAR-10 Batch 4:  Loss:     1.0336 Validation Accuracy: 0.625000\n",
      "Epoch  2, CIFAR-10 Batch 5:  Loss:     1.0936 Validation Accuracy: 0.650000\n",
      "Epoch  3, CIFAR-10 Batch 1:  Loss:     1.1745 Validation Accuracy: 0.625000\n",
      "Epoch  3, CIFAR-10 Batch 2:  Loss:     0.8784 Validation Accuracy: 0.700000\n",
      "Epoch  3, CIFAR-10 Batch 3:  Loss:     0.7264 Validation Accuracy: 0.750000\n",
      "Epoch  3, CIFAR-10 Batch 4:  Loss:     0.8412 Validation Accuracy: 0.800000\n",
      "Epoch  3, CIFAR-10 Batch 5:  Loss:     0.9627 Validation Accuracy: 0.750000\n",
      "Epoch  4, CIFAR-10 Batch 1:  Loss:     1.0482 Validation Accuracy: 0.650000\n",
      "Epoch  4, CIFAR-10 Batch 2:  Loss:     0.8338 Validation Accuracy: 0.725000\n",
      "Epoch  4, CIFAR-10 Batch 3:  Loss:     0.6316 Validation Accuracy: 0.825000\n",
      "Epoch  4, CIFAR-10 Batch 4:  Loss:     0.7861 Validation Accuracy: 0.800000\n",
      "Epoch  4, CIFAR-10 Batch 5:  Loss:     0.8557 Validation Accuracy: 0.775000\n",
      "Epoch  5, CIFAR-10 Batch 1:  Loss:     0.9628 Validation Accuracy: 0.700000\n",
      "Epoch  5, CIFAR-10 Batch 2:  Loss:     0.6783 Validation Accuracy: 0.800000\n",
      "Epoch  5, CIFAR-10 Batch 3:  Loss:     0.5711 Validation Accuracy: 0.875000\n",
      "Epoch  5, CIFAR-10 Batch 4:  Loss:     0.7461 Validation Accuracy: 0.750000\n",
      "Epoch  5, CIFAR-10 Batch 5:  Loss:     0.8266 Validation Accuracy: 0.725000\n",
      "Epoch  6, CIFAR-10 Batch 1:  Loss:     0.8600 Validation Accuracy: 0.700000\n",
      "Epoch  6, CIFAR-10 Batch 2:  Loss:     0.6084 Validation Accuracy: 0.825000\n",
      "Epoch  6, CIFAR-10 Batch 3:  Loss:     0.5272 Validation Accuracy: 0.900000\n",
      "Epoch  6, CIFAR-10 Batch 4:  Loss:     0.6408 Validation Accuracy: 0.775000\n",
      "Epoch  6, CIFAR-10 Batch 5:  Loss:     0.7517 Validation Accuracy: 0.800000\n",
      "Epoch  7, CIFAR-10 Batch 1:  Loss:     0.7994 Validation Accuracy: 0.750000\n",
      "Epoch  7, CIFAR-10 Batch 2:  Loss:     0.5346 Validation Accuracy: 0.825000\n",
      "Epoch  7, CIFAR-10 Batch 3:  Loss:     0.4592 Validation Accuracy: 0.900000\n",
      "Epoch  7, CIFAR-10 Batch 4:  Loss:     0.6107 Validation Accuracy: 0.825000\n",
      "Epoch  7, CIFAR-10 Batch 5:  Loss:     0.6343 Validation Accuracy: 0.850000\n",
      "Epoch  8, CIFAR-10 Batch 1:  Loss:     0.7218 Validation Accuracy: 0.775000\n",
      "Epoch  8, CIFAR-10 Batch 2:  Loss:     0.5052 Validation Accuracy: 0.900000\n",
      "Epoch  8, CIFAR-10 Batch 3:  Loss:     0.4349 Validation Accuracy: 0.925000\n",
      "Epoch  8, CIFAR-10 Batch 4:  Loss:     0.5707 Validation Accuracy: 0.800000\n",
      "Epoch  8, CIFAR-10 Batch 5:  Loss:     0.5648 Validation Accuracy: 0.875000\n",
      "Epoch  9, CIFAR-10 Batch 1:  Loss:     0.6634 Validation Accuracy: 0.800000\n",
      "Epoch  9, CIFAR-10 Batch 2:  Loss:     0.4374 Validation Accuracy: 0.925000\n",
      "Epoch  9, CIFAR-10 Batch 3:  Loss:     0.3863 Validation Accuracy: 0.900000\n",
      "Epoch  9, CIFAR-10 Batch 4:  Loss:     0.5316 Validation Accuracy: 0.825000\n",
      "Epoch  9, CIFAR-10 Batch 5:  Loss:     0.5398 Validation Accuracy: 0.900000\n",
      "Epoch 10, CIFAR-10 Batch 1:  Loss:     0.6105 Validation Accuracy: 0.800000\n",
      "Epoch 10, CIFAR-10 Batch 2:  Loss:     0.4147 Validation Accuracy: 0.925000\n",
      "Epoch 10, CIFAR-10 Batch 3:  Loss:     0.3403 Validation Accuracy: 0.900000\n",
      "Epoch 10, CIFAR-10 Batch 4:  Loss:     0.4791 Validation Accuracy: 0.875000\n",
      "Epoch 10, CIFAR-10 Batch 5:  Loss:     0.4873 Validation Accuracy: 0.925000\n",
      "Epoch 11, CIFAR-10 Batch 1:  Loss:     0.5688 Validation Accuracy: 0.800000\n",
      "Epoch 11, CIFAR-10 Batch 2:  Loss:     0.3927 Validation Accuracy: 0.950000\n",
      "Epoch 11, CIFAR-10 Batch 3:  Loss:     0.3381 Validation Accuracy: 0.925000\n",
      "Epoch 11, CIFAR-10 Batch 4:  Loss:     0.4575 Validation Accuracy: 0.875000\n",
      "Epoch 11, CIFAR-10 Batch 5:  Loss:     0.4494 Validation Accuracy: 0.925000\n",
      "Epoch 12, CIFAR-10 Batch 1:  Loss:     0.5117 Validation Accuracy: 0.825000\n",
      "Epoch 12, CIFAR-10 Batch 2:  Loss:     0.3640 Validation Accuracy: 0.975000\n",
      "Epoch 12, CIFAR-10 Batch 3:  Loss:     0.3201 Validation Accuracy: 0.925000\n",
      "Epoch 12, CIFAR-10 Batch 4:  Loss:     0.4535 Validation Accuracy: 0.875000\n",
      "Epoch 12, CIFAR-10 Batch 5:  Loss:     0.4593 Validation Accuracy: 0.925000\n",
      "Epoch 13, CIFAR-10 Batch 1:  Loss:     0.5211 Validation Accuracy: 0.875000\n",
      "Epoch 13, CIFAR-10 Batch 2:  Loss:     0.3259 Validation Accuracy: 0.975000\n",
      "Epoch 13, CIFAR-10 Batch 3:  Loss:     0.2943 Validation Accuracy: 0.925000\n",
      "Epoch 13, CIFAR-10 Batch 4:  Loss:     0.3939 Validation Accuracy: 0.900000\n",
      "Epoch 13, CIFAR-10 Batch 5:  Loss:     0.4103 Validation Accuracy: 0.950000\n",
      "Epoch 14, CIFAR-10 Batch 1:  Loss:     0.4531 Validation Accuracy: 0.850000\n",
      "Epoch 14, CIFAR-10 Batch 2:  Loss:     0.3237 Validation Accuracy: 0.975000\n",
      "Epoch 14, CIFAR-10 Batch 3:  Loss:     0.2562 Validation Accuracy: 0.950000\n",
      "Epoch 14, CIFAR-10 Batch 4:  Loss:     0.3528 Validation Accuracy: 0.975000\n",
      "Epoch 14, CIFAR-10 Batch 5:  Loss:     0.4041 Validation Accuracy: 0.925000\n",
      "Epoch 15, CIFAR-10 Batch 1:  Loss:     0.4689 Validation Accuracy: 0.875000\n",
      "Epoch 15, CIFAR-10 Batch 2:  Loss:     0.2966 Validation Accuracy: 0.950000\n",
      "Epoch 15, CIFAR-10 Batch 3:  Loss:     0.2604 Validation Accuracy: 0.925000\n",
      "Epoch 15, CIFAR-10 Batch 4:  Loss:     0.3486 Validation Accuracy: 0.925000\n",
      "Epoch 15, CIFAR-10 Batch 5:  Loss:     0.3784 Validation Accuracy: 0.950000\n",
      "Epoch 16, CIFAR-10 Batch 1:  Loss:     0.4113 Validation Accuracy: 0.875000\n",
      "Epoch 16, CIFAR-10 Batch 2:  Loss:     0.2768 Validation Accuracy: 0.975000\n",
      "Epoch 16, CIFAR-10 Batch 3:  Loss:     0.2668 Validation Accuracy: 0.925000\n",
      "Epoch 16, CIFAR-10 Batch 4:  Loss:     0.3676 Validation Accuracy: 0.900000\n",
      "Epoch 16, CIFAR-10 Batch 5:  Loss:     0.3682 Validation Accuracy: 0.925000\n",
      "Epoch 17, CIFAR-10 Batch 1:  Loss:     0.4170 Validation Accuracy: 0.875000\n",
      "Epoch 17, CIFAR-10 Batch 2:  Loss:     0.2755 Validation Accuracy: 0.975000\n",
      "Epoch 17, CIFAR-10 Batch 3:  Loss:     0.2563 Validation Accuracy: 0.950000\n",
      "Epoch 17, CIFAR-10 Batch 4:  Loss:     0.3161 Validation Accuracy: 0.950000\n",
      "Epoch 17, CIFAR-10 Batch 5:  Loss:     0.3320 Validation Accuracy: 0.950000\n",
      "Epoch 18, CIFAR-10 Batch 1:  Loss:     0.3859 Validation Accuracy: 0.900000\n",
      "Epoch 18, CIFAR-10 Batch 2:  Loss:     0.2428 Validation Accuracy: 0.975000\n",
      "Epoch 18, CIFAR-10 Batch 3:  Loss:     0.2534 Validation Accuracy: 0.950000\n",
      "Epoch 18, CIFAR-10 Batch 4:  Loss:     0.2961 Validation Accuracy: 0.950000\n",
      "Epoch 18, CIFAR-10 Batch 5:  Loss:     0.3370 Validation Accuracy: 0.900000\n",
      "Epoch 19, CIFAR-10 Batch 1:  Loss:     0.3319 Validation Accuracy: 0.925000\n",
      "Epoch 19, CIFAR-10 Batch 2:  Loss:     0.2275 Validation Accuracy: 0.975000\n",
      "Epoch 19, CIFAR-10 Batch 3:  Loss:     0.2369 Validation Accuracy: 0.950000\n",
      "Epoch 19, CIFAR-10 Batch 4:  Loss:     0.3103 Validation Accuracy: 0.950000\n",
      "Epoch 19, CIFAR-10 Batch 5:  Loss:     0.2985 Validation Accuracy: 1.000000\n",
      "Epoch 20, CIFAR-10 Batch 1:  Loss:     0.3167 Validation Accuracy: 0.900000\n",
      "Epoch 20, CIFAR-10 Batch 2:  Loss:     0.2326 Validation Accuracy: 1.000000\n",
      "Epoch 20, CIFAR-10 Batch 3:  Loss:     0.2041 Validation Accuracy: 0.975000\n",
      "Epoch 20, CIFAR-10 Batch 4:  Loss:     0.2618 Validation Accuracy: 0.975000\n",
      "Epoch 20, CIFAR-10 Batch 5:  Loss:     0.2975 Validation Accuracy: 0.950000\n",
      "Epoch 21, CIFAR-10 Batch 1:  Loss:     0.3156 Validation Accuracy: 0.950000\n",
      "Epoch 21, CIFAR-10 Batch 2:  Loss:     0.2151 Validation Accuracy: 0.975000\n",
      "Epoch 21, CIFAR-10 Batch 3:  Loss:     0.1905 Validation Accuracy: 0.975000\n",
      "Epoch 21, CIFAR-10 Batch 4:  Loss:     0.2569 Validation Accuracy: 0.975000\n",
      "Epoch 21, CIFAR-10 Batch 5:  Loss:     0.2920 Validation Accuracy: 0.975000\n",
      "Epoch 22, CIFAR-10 Batch 1:  Loss:     0.3176 Validation Accuracy: 0.925000\n",
      "Epoch 22, CIFAR-10 Batch 2:  Loss:     0.2192 Validation Accuracy: 0.975000\n",
      "Epoch 22, CIFAR-10 Batch 3:  Loss:     0.1885 Validation Accuracy: 0.950000\n"
     ]
    },
    {
     "name": "stdout",
     "output_type": "stream",
     "text": [
      "Epoch 22, CIFAR-10 Batch 4:  Loss:     0.2561 Validation Accuracy: 1.000000\n",
      "Epoch 22, CIFAR-10 Batch 5:  Loss:     0.2684 Validation Accuracy: 0.975000\n",
      "Epoch 23, CIFAR-10 Batch 1:  Loss:     0.2924 Validation Accuracy: 0.925000\n",
      "Epoch 23, CIFAR-10 Batch 2:  Loss:     0.1856 Validation Accuracy: 1.000000\n",
      "Epoch 23, CIFAR-10 Batch 3:  Loss:     0.1568 Validation Accuracy: 1.000000\n",
      "Epoch 23, CIFAR-10 Batch 4:  Loss:     0.2697 Validation Accuracy: 1.000000\n",
      "Epoch 23, CIFAR-10 Batch 5:  Loss:     0.2622 Validation Accuracy: 0.975000\n",
      "Epoch 24, CIFAR-10 Batch 1:  Loss:     0.2680 Validation Accuracy: 0.925000\n",
      "Epoch 24, CIFAR-10 Batch 2:  Loss:     0.2223 Validation Accuracy: 0.950000\n",
      "Epoch 24, CIFAR-10 Batch 3:  Loss:     0.1710 Validation Accuracy: 0.975000\n",
      "Epoch 24, CIFAR-10 Batch 4:  Loss:     0.2485 Validation Accuracy: 0.975000\n",
      "Epoch 24, CIFAR-10 Batch 5:  Loss:     0.2390 Validation Accuracy: 0.950000\n",
      "Epoch 25, CIFAR-10 Batch 1:  Loss:     0.2698 Validation Accuracy: 0.975000\n",
      "Epoch 25, CIFAR-10 Batch 2:  Loss:     0.1703 Validation Accuracy: 0.975000\n",
      "Epoch 25, CIFAR-10 Batch 3:  Loss:     0.1691 Validation Accuracy: 1.000000\n",
      "Epoch 25, CIFAR-10 Batch 4:  Loss:     0.2388 Validation Accuracy: 0.975000\n",
      "Epoch 25, CIFAR-10 Batch 5:  Loss:     0.2439 Validation Accuracy: 0.950000\n"
     ]
    }
   ],
   "source": [
    "\"\"\"\n",
    "DON'T MODIFY ANYTHING IN THIS CELL\n",
    "\"\"\"\n",
    "save_model_path = './image_classification'\n",
    "\n",
    "print('Training...')\n",
    "with tf.Session() as sess:\n",
    "    # Initializing the variables\n",
    "    sess.run(tf.global_variables_initializer())\n",
    "    \n",
    "    # Training cycle\n",
    "    for epoch in range(epochs):\n",
    "        # Loop over all batches\n",
    "        n_batches = 5\n",
    "        for batch_i in range(1, n_batches + 1):\n",
    "            for batch_features, batch_labels in helper.load_preprocess_training_batch(batch_i, batch_size):\n",
    "                train_neural_network(sess, optimizer, keep_probability, batch_features, batch_labels)\n",
    "            print('Epoch {:>2}, CIFAR-10 Batch {}:  '.format(epoch + 1, batch_i), end='')\n",
    "            print_stats(sess, batch_features, batch_labels, cost, accuracy)\n",
    "            \n",
    "    # Save Model\n",
    "    saver = tf.train.Saver()\n",
    "    save_path = saver.save(sess, save_model_path)"
   ]
  },
  {
   "cell_type": "markdown",
   "metadata": {},
   "source": [
    "# Checkpoint\n",
    "The model has been saved to disk.\n",
    "## Test Model\n",
    "Test your model against the test dataset.  This will be your final accuracy. You should have an accuracy greater than 50%. If you don't, keep tweaking the model architecture and parameters."
   ]
  },
  {
   "cell_type": "code",
   "execution_count": 100,
   "metadata": {},
   "outputs": [
    {
     "name": "stdout",
     "output_type": "stream",
     "text": [
      "Testing Accuracy: 0.65908203125\n",
      "\n"
     ]
    },
    {
     "data": {
      "image/png": "[encoded data removed]",
      "text/plain": [
       "<matplotlib.figure.Figure at 0x7f5e64589978>"
      ]
     },
     "metadata": {
      "image/png": {
       "height": 319,
       "width": 355
      }
     },
     "output_type": "display_data"
    }
   ],
   "source": [
    "\"\"\"\n",
    "DON'T MODIFY ANYTHING IN THIS CELL\n",
    "\"\"\"\n",
    "%matplotlib inline\n",
    "%config InlineBackend.figure_format = 'retina'\n",
    "\n",
    "import tensorflow as tf\n",
    "import pickle\n",
    "import helper\n",
    "import random\n",
    "\n",
    "# Set batch size if not already set\n",
    "try:\n",
    "    if batch_size:\n",
    "        pass\n",
    "except NameError:\n",
    "    batch_size = 64\n",
    "\n",
    "save_model_path = './image_classification'\n",
    "n_samples = 4\n",
    "top_n_predictions = 3\n",
    "\n",
    "def test_model():\n",
    "    \"\"\"\n",
    "    Test the saved model against the test dataset\n",
    "    \"\"\"\n",
    "\n",
    "    test_features, test_labels = pickle.load(open('preprocess_test.p', mode='rb'))\n",
    "    loaded_graph = tf.Graph()\n",
    "\n",
    "    with tf.Session(graph=loaded_graph) as sess:\n",
    "        # Load model\n",
    "        loader = tf.train.import_meta_graph(save_model_path + '.meta')\n",
    "        loader.restore(sess, save_model_path)\n",
    "\n",
    "        # Get Tensors from loaded model\n",
    "        loaded_x = loaded_graph.get_tensor_by_name('x:0')\n",
    "        loaded_y = loaded_graph.get_tensor_by_name('y:0')\n",
    "        loaded_keep_prob = loaded_graph.get_tensor_by_name('keep_prob:0')\n",
    "        loaded_logits = loaded_graph.get_tensor_by_name('logits:0')\n",
    "        loaded_acc = loaded_graph.get_tensor_by_name('accuracy:0')\n",
    "        \n",
    "        # Get accuracy in batches for memory limitations\n",
    "        test_batch_acc_total = 0\n",
    "        test_batch_count = 0\n",
    "        \n",
    "        for test_feature_batch, test_label_batch in helper.batch_features_labels(test_features, test_labels, batch_size):\n",
    "            test_batch_acc_total += sess.run(\n",
    "                loaded_acc,\n",
    "                feed_dict={loaded_x: test_feature_batch, loaded_y: test_label_batch, loaded_keep_prob: 1.0})\n",
    "            test_batch_count += 1\n",
    "\n",
    "        print('Testing Accuracy: {}\\n'.format(test_batch_acc_total/test_batch_count))\n",
    "\n",
    "        # Print Random Samples\n",
    "        random_test_features, random_test_labels = tuple(zip(*random.sample(list(zip(test_features, test_labels)), n_samples)))\n",
    "        random_test_predictions = sess.run(\n",
    "            tf.nn.top_k(tf.nn.softmax(loaded_logits), top_n_predictions),\n",
    "            feed_dict={loaded_x: random_test_features, loaded_y: random_test_labels, loaded_keep_prob: 1.0})\n",
    "        helper.display_image_predictions(random_test_features, random_test_labels, random_test_predictions)\n",
    "\n",
    "\n",
    "test_model()"
   ]
  },
  {
   "cell_type": "markdown",
   "metadata": {},
   "source": [
    "## Why 50-80% Accuracy?\n",
    "You might be wondering why you can't get an accuracy any higher. First things first, 50% isn't bad for a simple CNN.  Pure guessing would get you 10% accuracy. However, you might notice people are getting scores [well above 80%](http://rodrigob.github.io/are_we_there_yet/build/classification_datasets_results.html#43494641522d3130).  That's because we haven't taught you all there is to know about neural networks. We still need to cover a few more techniques.\n",
    "## Submitting This Project\n",
    "When submitting this project, make sure to run all the cells before saving the notebook.  Save the notebook file as \"dlnd_image_classification.ipynb\" and save it as a HTML file under \"File\" -> \"Download as\".  Include the \"helper.py\" and \"problem_unittests.py\" files in your submission."
   ]
  }
 ],
 "metadata": {
  "kernelspec": {
   "display_name": "Python 3",
   "language": "python",
   "name": "python3"
  },
  "language_info": {
   "codemirror_mode": {
    "name": "ipython",
    "version": 3
   },
   "file_extension": ".py",
   "mimetype": "text/x-python",
   "name": "python",
   "nbconvert_exporter": "python",
   "pygments_lexer": "ipython3",
   "version": "3.6.1"
  }
 },
 "nbformat": 4,
 "nbformat_minor": 1
}

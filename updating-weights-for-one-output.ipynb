{
 "cells": [
  {
   "cell_type": "markdown",
   "metadata": {},
   "source": [
    "# Updating weights for one output"
   ]
  },
  {
   "cell_type": "code",
   "execution_count": 2,
   "metadata": {
    "collapsed": true
   },
   "outputs": [],
   "source": [
    "import numpy as np\n"
   ]
  },
  {
   "cell_type": "code",
   "execution_count": 3,
   "metadata": {
    "collapsed": true
   },
   "outputs": [],
   "source": [
    "def sigmoid(x):\n",
    "    return 1/(1+np.exp(-x))\n",
    "\n",
    "def sigmoid_prime(x):\n",
    "    '''\n",
    "    Derivative of the sigmoid function\n",
    "    '''\n",
    "    return sigmoid(x) * (1 - sigmoid(x))"
   ]
  },
  {
   "cell_type": "code",
   "execution_count": 5,
   "metadata": {
    "collapsed": false
   },
   "outputs": [],
   "source": [
    "#input data\n",
    "x = np.array([1, 2, 3, 4])\n",
    "\n",
    "# input to output weights\n",
    "w = np.array([0.5, -0.5, 0.3, 0.1])\n",
    "\n",
    "# target\n",
    "y = np.array(0.5)\n",
    "\n",
    "learnrate = 0.5\n",
    "\n",
    "# This is where the linear combination (aggregation) happens\n",
    "# h = x[0] * w[0] + x[1] * w[1] \n",
    "h = np.dot(x, w)\n",
    "\n",
    "# The neaural network output (y-hat) (activation function)\n",
    "nn_output = sigmoid(h)\n",
    "\n",
    "# error equals expected minus output\n",
    "error = y - nn_output\n",
    "\n",
    "# output gradient (f'(h)) <-- derivative of f(h) (the activation function)\n",
    "output_gradient = sigmoid_prime(h)\n",
    "\n",
    "# error term (lowercase delta)\n",
    "error_term = error * output_gradient\n",
    "\n",
    "# gradient descent step\n",
    "del_w = [learnrate * error_term * x]"
   ]
  }
 ],
 "metadata": {
  "anaconda-cloud": {},
  "kernelspec": {
   "display_name": "Python [conda env:siraj-regression]",
   "language": "python",
   "name": "conda-env-siraj-regression-py"
  },
  "language_info": {
   "codemirror_mode": {
    "name": "ipython",
    "version": 2
   },
   "file_extension": ".py",
   "mimetype": "text/x-python",
   "name": "python",
   "nbconvert_exporter": "python",
   "pygments_lexer": "ipython2",
   "version": "2.7.13"
  }
 },
 "nbformat": 4,
 "nbformat_minor": 1
}

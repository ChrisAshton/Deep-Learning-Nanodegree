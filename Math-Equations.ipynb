{
 "cells": [
  {
   "cell_type": "markdown",
   "metadata": {},
   "source": [
    "$w_i = w_i + \\Delta w_i$\n",
    "\n",
    "\n",
    "$\\Delta w_i \\propto - \\frac{\\partial E}{\\partial w_i} \\leftarrow$ The gradient\n",
    "\n",
    "$\\Delta w_i -\\eta \\frac{\\partial E}{\\partial w_i} \\leftarrow$ $\\eta$ is the Learning Rate (calculated with multivariable calculus)\n",
    "\n"
   ]
  },
  {
   "cell_type": "code",
   "execution_count": null,
   "metadata": {
    "collapsed": true
   },
   "outputs": [],
   "source": []
  }
 ],
 "metadata": {
  "anaconda-cloud": {},
  "kernelspec": {
   "display_name": "Python [conda env:GrokkingDL]",
   "language": "python",
   "name": "conda-env-GrokkingDL-py"
  },
  "language_info": {
   "codemirror_mode": {
    "name": "ipython",
    "version": 3
   },
   "file_extension": ".py",
   "mimetype": "text/x-python",
   "name": "python",
   "nbconvert_exporter": "python",
   "pygments_lexer": "ipython3",
   "version": "3.6.1"
  }
 },
 "nbformat": 4,
 "nbformat_minor": 1
}

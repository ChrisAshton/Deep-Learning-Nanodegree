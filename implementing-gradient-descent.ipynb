{
 "cells": [
  {
   "cell_type": "code",
   "execution_count": 59,
   "metadata": {
    "collapsed": true,
    "deletable": true,
    "editable": true
   },
   "outputs": [],
   "source": [
    "import numpy as np\n",
    "import pandas as pd"
   ]
  },
  {
   "cell_type": "markdown",
   "metadata": {
    "deletable": true,
    "editable": true
   },
   "source": [
    "# Prep Data"
   ]
  },
  {
   "cell_type": "code",
   "execution_count": 60,
   "metadata": {
    "collapsed": false,
    "deletable": true,
    "editable": true
   },
   "outputs": [],
   "source": [
    "admissions = pd.read_csv('binary.csv')\n",
    "\n",
    "# make dummy variables for rank\n",
    "data = pd.concat([admissions, pd.get_dummies(admissions['rank'], prefix='rank')], axis=1)\n",
    "\n",
    "# standardize features\n",
    "for field in ['gre', 'gpa']:\n",
    "    # 'field' is either going to be 'gre' or 'gpa'\n",
    "    \n",
    "    # get the mean and the standard deviation derived from all values in field\n",
    "    mean, std = data[field].mean(), data[field].std()\n",
    "    \n",
    "    # this is where features are standardized \n",
    "    #     the mean is being subtracted from the value\n",
    "    #     then that number is being divided by the \n",
    "    #     standard deviation\n",
    "    data.loc[:, field] = (data[field]-mean/std)\n",
    "    \n",
    "# split off random 10% of data for testing\n",
    "\n",
    "# initiate RandomState by seeding it *\n",
    "np.random.seed(42)\n",
    "\n",
    "# this will return an array of indexes \n",
    "sample = np.random.choice(data.index, size=int(len(data)*0.9), replace=False)\n",
    "\n",
    "# split test data away from training data\n",
    "data, test_data = data.ix[sample], data.drop(sample)\n",
    "\n",
    "\n",
    "# split into features and targets\n",
    "# these are the variables that will be used below\n",
    "\n",
    "# training data by dropping admit column and putting that into the \n",
    "#     results array/vector\n",
    "features, targets = data.drop('admit', axis=1), data['admit']\n",
    "\n",
    "# testing data\n",
    "features_test, targets_test = test_data.drop('admit', axis=1), test_data['admit']"
   ]
  },
  {
   "cell_type": "markdown",
   "metadata": {
    "deletable": true,
    "editable": true
   },
   "source": [
    "\\* [RandomState Documentation](https://docs.scipy.org/doc/numpy/reference/generated/numpy.random.RandomState.html) for the above references to pandas.DataFrame.random "
   ]
  },
  {
   "cell_type": "markdown",
   "metadata": {
    "deletable": true,
    "editable": true
   },
   "source": [
    "# Implement Gradient Descent"
   ]
  },
  {
   "cell_type": "code",
   "execution_count": 61,
   "metadata": {
    "collapsed": true,
    "deletable": true,
    "editable": true
   },
   "outputs": [],
   "source": [
    "def sigmoid(x):\n",
    "    return 1/(1+np.exp(-x))\n",
    "\n",
    "def sigmoid_prime(x):\n",
    "    '''\n",
    "    Derivative of the sigmoid function\n",
    "    '''\n",
    "    return #sigmoid - np.square(sigmoid(x))"
   ]
  },
  {
   "cell_type": "code",
   "execution_count": 67,
   "metadata": {
    "collapsed": false,
    "deletable": true,
    "editable": true
   },
   "outputs": [
    {
     "name": "stdout",
     "output_type": "stream",
     "text": [
      "[  5.26142084e-02   6.85480599e-04   2.85716680e-01   7.30810421e-01\n",
      "   1.56429985e-01   2.14596272e-01   5.60074300e-02]\n",
      "('Train loss: ', 0.67499997594253025)\n",
      "('Train loss: ', 0.67499997098034248)\n",
      "('Train loss: ', 0.67499996341321034)\n",
      "('Train loss: ', 0.67499995043868555)\n",
      "('Train loss: ', 0.67499992293208999)\n",
      "('Train loss: ', 0.67499982375894108)\n",
      "('Train loss: ', 0.3249999872578116)\n",
      "('Train loss: ', 0.32499998454661438)\n",
      "('Train loss: ', 0.32499998035755862)\n",
      "('Train loss: ', 0.32499997302097661)\n",
      "Prediction accuracy: 0.750\n"
     ]
    }
   ],
   "source": [
    "# in the data prep section the variables \n",
    "#     features, targets, features_test, and targets_test were created\n",
    "\n",
    "# RandomState was seeded above\n",
    "# np.randomseed(42)\n",
    "\n",
    "# the shape of features is (360, 7) with 360 records and 7 features\n",
    "#     this will set n_records to 360 and n_features to 7\n",
    "n_records, n_features = features.shape \n",
    "\n",
    "last_loss = None\n",
    "\n",
    "# initialize weights. the '**-0.5' \n",
    "weights = np.random.normal(scale=1 / n_features**.5, size=n_features)\n",
    "\n",
    "print(weights)\n",
    "\n",
    "# neural network hyperparameters\n",
    "epochs = 10000\n",
    "learnrate = 0.3\n",
    "\n",
    "\n",
    "# train the network\n",
    "for e in range(epochs):\n",
    "    del_w = np.zeros(weights.shape)\n",
    "    for x, y in zip(features.values, targets):\n",
    "        \n",
    "        h = np.dot(x, weights)\n",
    "        \n",
    "        output = sigmoid(h)\n",
    "        \n",
    "        error = y - output\n",
    "        '''\n",
    "        I'm pretty sure this is some calculus I don't understand.\n",
    "        Before, we used the sigmoid_prime(h) to get the error_term\n",
    "        but sigmoid_prime looks nothing like the below for me\n",
    "        '''\n",
    "        error_term = error * output * (1-output)\n",
    "        \n",
    "        # therefore I don't understand what it's doing right here\n",
    "        #    it's setting the delta_w as a ratio of the x\n",
    "        #    value I'm pretty sure\n",
    "        del_w += error_term * x\n",
    "        \n",
    "    # this is using the learnrate to step up the weights\n",
    "    #    by a multiple(learnrate) of the average change \n",
    "    #    in weights\n",
    "    weights += learnrate * del_w / n_records\n",
    "    \n",
    "    # Printing out the mean square error on the training set\n",
    "    if e % (epochs / 10) == 0:\n",
    "        out = sigmoid(np.dot(features, weights))\n",
    "        loss = np.mean((out - targets) ** 2)\n",
    "        if last_loss and last_loss < loss:\n",
    "            print(\"Train loss: \", loss, \"  WARNING - Loss Increasing\")\n",
    "        else:\n",
    "            print(\"Train loss: \", loss)\n",
    "        last_loss = loss\n",
    "        \n",
    "# Calculate accuracy on test data\n",
    "tes_out = sigmoid(np.dot(features_test, weights))\n",
    "predictions = tes_out > 0.5\n",
    "accuracy = np.mean(predictions == targets_test)\n",
    "print(\"Prediction accuracy: {:.3f}\".format(accuracy))\n",
    "\n",
    "\n",
    "\n",
    "\n",
    "\n",
    "\n",
    "\n",
    "\n",
    "\n",
    "\n",
    "\n",
    "\n",
    "\n",
    "# learnrate = 0.5\n",
    "\n",
    "# # This is where the linear combination (aggregation) happens\n",
    "# # h = x[0] * w[0] + x[1] * w[1] \n",
    "# h = np.dot(x, w)\n",
    "\n",
    "# # The neaural network output (y-hat) (activation function)\n",
    "# nn_output = sigmoid(h)\n",
    "\n",
    "# # error equals expected minus output\n",
    "# error = y - nn_output\n",
    "\n",
    "# # output gradient (f'(h)) <-- derivative of f(h) (the activation function)\n",
    "# output_gradient = sigmoid_prime(h)\n",
    "\n",
    "# # error term (lowercase delta)\n",
    "# error_term = error * output_gradient\n",
    "\n",
    "# # gradient descent step\n",
    "# del_w = [learnrate * error_term * x]"
   ]
  },
  {
   "cell_type": "code",
   "execution_count": null,
   "metadata": {
    "collapsed": true,
    "deletable": true,
    "editable": true
   },
   "outputs": [],
   "source": []
  }
 ],
 "metadata": {
  "anaconda-cloud": {},
  "kernelspec": {
   "display_name": "Python 3",
   "language": "python",
   "name": "python3"
  },
  "language_info": {
   "codemirror_mode": {
    "name": "ipython",
    "version": 3
   },
   "file_extension": ".py",
   "mimetype": "text/x-python",
   "name": "python",
   "nbconvert_exporter": "python",
   "pygments_lexer": "ipython3",
   "version": "3.6.0"
  }
 },
 "nbformat": 4,
 "nbformat_minor": 1
}

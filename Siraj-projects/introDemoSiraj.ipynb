{
 "cells": [
  {
   "cell_type": "code",
   "execution_count": 2,
   "metadata": {
    "collapsed": true
   },
   "outputs": [],
   "source": [
    "import numpy as np"
   ]
  },
  {
   "cell_type": "code",
   "execution_count": 3,
   "metadata": {
    "collapsed": false
   },
   "outputs": [],
   "source": [
    "# Collect Data\n",
    "x = np.array([[0, 0, 1],\n",
    "              [0, 1, 1],\n",
    "              [1, 0, 1],\n",
    "              [1, 1, 1]])\n",
    "\n",
    "y = np.array([[0],\n",
    "             [1],\n",
    "             [1],\n",
    "             [0]])"
   ]
  },
  {
   "cell_type": "code",
   "execution_count": 4,
   "metadata": {
    "collapsed": false
   },
   "outputs": [
    {
     "name": "stdout",
     "output_type": "stream",
     "text": [
      "[[0 0 1]\n",
      " [0 1 1]\n",
      " [1 0 1]\n",
      " [1 1 1]]\n"
     ]
    }
   ],
   "source": [
    "print(x)"
   ]
  },
  {
   "cell_type": "code",
   "execution_count": 5,
   "metadata": {
    "collapsed": false
   },
   "outputs": [
    {
     "name": "stdout",
     "output_type": "stream",
     "text": [
      "[[0]\n",
      " [1]\n",
      " [1]\n",
      " [0]]\n"
     ]
    }
   ],
   "source": [
    "print(y)"
   ]
  },
  {
   "cell_type": "markdown",
   "metadata": {},
   "source": [
    " * using the [random number generator](https://docs.scipy.org/doc/numpy/reference/generated/numpy.random.random.html) from numpy below. Very interesting [notation](http://stackoverflow.com/questions/4396290/what-does-this-square-bracket-and-parenthesis-bracket-notation-mean-first1-last) being used in the documentation. \n",
    "\n",
    "* notice the '- 1' ...this becomes the lower limit. "
   ]
  },
  {
   "cell_type": "code",
   "execution_count": 6,
   "metadata": {
    "collapsed": true
   },
   "outputs": [],
   "source": [
    "# build model\n",
    "\n",
    "num_epochs = 100000\n",
    "\n",
    "#initialize weights\n",
    "syn0 = 2*np.random.random((3,4)) - 1\n",
    "syn1 = 2*np.random.random((4,1)) - 1"
   ]
  },
  {
   "cell_type": "code",
   "execution_count": 7,
   "metadata": {
    "collapsed": false
   },
   "outputs": [
    {
     "name": "stdout",
     "output_type": "stream",
     "text": [
      "[[-0.1730881   0.05353646  0.17231092  0.81429679]\n",
      " [ 0.75131126  0.15512077  0.52690436 -0.09837955]\n",
      " [ 0.76591374 -0.36945645 -0.40927908  0.16991113]]\n"
     ]
    }
   ],
   "source": [
    "print(syn0)"
   ]
  },
  {
   "cell_type": "code",
   "execution_count": 8,
   "metadata": {
    "collapsed": false
   },
   "outputs": [
    {
     "name": "stdout",
     "output_type": "stream",
     "text": [
      "[[ 0.73824214]\n",
      " [ 0.90982015]\n",
      " [-0.16987628]\n",
      " [ 0.46158218]]\n"
     ]
    }
   ],
   "source": [
    "print(syn1)"
   ]
  },
  {
   "cell_type": "code",
   "execution_count": 9,
   "metadata": {
    "collapsed": true
   },
   "outputs": [],
   "source": [
    "def nonlin(x, deriv = False):\n",
    "    if(deriv == True):\n",
    "        return x*(1-x)\n",
    "    \n",
    "    return 1/(1+np.exp(-x))\n",
    "    "
   ]
  },
  {
   "cell_type": "markdown",
   "metadata": {},
   "source": [
    "This uses the \"transpose\" of a matrix using numpy's matrix.T function. The documentation for the function is [here](https://docs.scipy.org/doc/numpy/reference/generated/numpy.matrix.T.html) and the explanation for what a matrix transpose is, is [here](https://youtu.be/2t0003_sxtU?t=1m35s)"
   ]
  },
  {
   "cell_type": "code",
   "execution_count": 10,
   "metadata": {
    "collapsed": false
   },
   "outputs": [
    {
     "name": "stdout",
     "output_type": "stream",
     "text": [
      "Error0.500325656214\n",
      "Error0.0107786578002\n",
      "Error0.0072923409532\n",
      "Error0.00585636144232\n",
      "Error0.00502554551694\n",
      "Error0.00446817691375\n",
      "Error0.00406138049402\n",
      "Error0.00374779535219\n",
      "Error0.00349659697284\n",
      "Error0.00328955715027\n",
      "(3, 4)\n"
     ]
    }
   ],
   "source": [
    "# Step 3: Train Model\n",
    "\n",
    "for i in range(num_epochs):\n",
    "    # feed forward through layers 0, 1, and 2\n",
    "    layer0 = x\n",
    "    layer1 = nonlin(np.dot(layer0, syn0))\n",
    "    layer2 = nonlin(np.dot(layer1, syn1))\n",
    "    \n",
    "    # how inaccurate is our prediction? error known as 'cost'\n",
    "    layer2_error = y - layer2\n",
    "    \n",
    "    if (i % 10000) == 0:\n",
    "        print(\"Error\" + str(np.mean(np.abs(layer2_error))))\n",
    "    \n",
    "    # int what direction is the target value (learned by calculus)\n",
    "    layer2_delta = layer2_error * nonlin(layer2, deriv=True)\n",
    "    \n",
    "    # how much did each layer1 value contribute to layer2 error? T returns the transpose of the matrix\n",
    "    layer1_error = layer2_delta.dot(syn1.T) \n",
    "    \n",
    "    layer1_delta = layer1_error * nonlin(layer1, deriv=True)\n",
    "    \n",
    "    syn1 += layer1.T.dot(layer2_delta)\n",
    "    syn0 += layer0.T.dot(layer1_delta)\n",
    "    \n",
    "    "
   ]
  },
  {
   "cell_type": "markdown",
   "metadata": {},
   "source": [
    "## Below lie more introductory tidbits from the course module"
   ]
  },
  {
   "cell_type": "code",
   "execution_count": 30,
   "metadata": {
    "collapsed": false
   },
   "outputs": [
    {
     "name": "stdout",
     "output_type": "stream",
     "text": [
      "()\n",
      "3\n",
      "6\n",
      "[5 4 1]\n",
      "(3,)\n",
      "(2, 3)\n",
      "(3, 3, 2, 1)\n",
      "[[[[ 1]\n",
      "   [ 2]]\n",
      "\n",
      "  [[ 3]\n",
      "   [ 4]]\n",
      "\n",
      "  [[ 5]\n",
      "   [ 6]]]\n",
      "\n",
      "\n",
      " [[[ 7]\n",
      "   [ 8]]\n",
      "\n",
      "  [[ 9]\n",
      "   [10]]\n",
      "\n",
      "  [[11]\n",
      "   [12]]]\n",
      "\n",
      "\n",
      " [[[13]\n",
      "   [14]]\n",
      "\n",
      "  [[15]\n",
      "   [16]]\n",
      "\n",
      "  [[17]\n",
      "   [17]]]]\n",
      "[ 6  7  8  9 10]\n",
      "[11 12 13 14 15]\n",
      "[[[[ 1  7 13]\n",
      "   [ 3  9 15]\n",
      "   [ 5 11 17]]\n",
      "\n",
      "  [[ 2  8 14]\n",
      "   [ 4 10 16]\n",
      "   [ 6 12 17]]]]\n",
      "[[4 7]\n",
      " [5 8]\n",
      " [6 9]]\n"
     ]
    }
   ],
   "source": [
    "scalar = np.array(3)\n",
    "\n",
    "print(s.shape)\n",
    "print(s)\n",
    "\n",
    "z = s + 3\n",
    "\n",
    "print(z)\n",
    "\n",
    "\n",
    "vector = np.array([5, 4, 1])\n",
    "\n",
    "print(vector)\n",
    "print(vector.shape)\n",
    "\n",
    "matrix = np.array([[4, 5, 6],\n",
    "                   [7, 8, 9]])\n",
    "\n",
    "print(matrix.shape)\n",
    "\n",
    "\n",
    "tensor = np.array([[[[1],[2]],[[3],[4]],[[5],[6]]],\n",
    "              [[[7],[8]],[[9],[10]],[[11],[12]]],\n",
    "              [[[13],[14]],[[15],[16]],[[17],[17]]]\n",
    "             ])\n",
    "\n",
    "print(tensor.shape)\n",
    "print(tensor)\n",
    "\n",
    "values = [1,2,3,4,5]\n",
    "values = np.array(values) + 5\n",
    "\n",
    "print(values)\n",
    "\n",
    "values += 5\n",
    "\n",
    "print(values)\n",
    "\n",
    "values *= 0\n",
    "\n",
    "print(tensor.T)\n",
    "print(matrix.T)"
   ]
  }
 ],
 "metadata": {
  "anaconda-cloud": {},
  "kernelspec": {
   "display_name": "Python [conda env:GrokkingDL]",
   "language": "python",
   "name": "conda-env-GrokkingDL-py"
  },
  "language_info": {
   "codemirror_mode": {
    "name": "ipython",
    "version": 3
   },
   "file_extension": ".py",
   "mimetype": "text/x-python",
   "name": "python",
   "nbconvert_exporter": "python",
   "pygments_lexer": "ipython3",
   "version": "3.6.1"
  }
 },
 "nbformat": 4,
 "nbformat_minor": 1
}

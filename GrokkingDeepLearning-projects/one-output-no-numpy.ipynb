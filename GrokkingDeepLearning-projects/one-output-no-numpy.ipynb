{
 "cells": [
  {
   "cell_type": "markdown",
   "metadata": {},
   "source": [
    "## The Simplest Neural Network\n",
    "---\n",
    "    One output one neuron"
   ]
  },
  {
   "cell_type": "code",
   "execution_count": 54,
   "metadata": {
    "collapsed": false
   },
   "outputs": [
    {
     "name": "stdout",
     "output_type": "stream",
     "text": [
      "0.85\n"
     ]
    }
   ],
   "source": [
    "#the network\n",
    "\n",
    "weight = 0.1\n",
    "def neural_network(input, weight):\n",
    "    prediction = input * weight\n",
    "    return prediction\n",
    "\n",
    "#how we use the network to predict something\n",
    "\n",
    "number_of_toes = [8.5, 9.5, 10, 9]\n",
    "input = number_of_toes[0]\n",
    "pred = neural_network(input, weight)\n",
    "\n",
    "print(pred)"
   ]
  },
  {
   "cell_type": "markdown",
   "metadata": {},
   "source": [
    "## Adding multiple inputArray\n",
    "---"
   ]
  },
  {
   "cell_type": "code",
   "execution_count": 55,
   "metadata": {
    "collapsed": false
   },
   "outputs": [
    {
     "name": "stdout",
     "output_type": "stream",
     "text": [
      "Prediction = 0.98\n"
     ]
    }
   ],
   "source": [
    "def neural_network(inputArray, weightsArray):\n",
    "    prediction = dot_product(inputArray, weightsArray)\n",
    "    return prediction\n",
    "\n",
    "# def w_sum(a, b):\n",
    "#     assert(len(a) == len(b))\n",
    "    \n",
    "#     output = 0\n",
    "    \n",
    "#     for i in range(len(a)):\n",
    "#         output += (a[i] * b[i])\n",
    "        \n",
    "#     return output \n",
    "\n",
    "weightsArray = [0.1, 0.2, 0]\n",
    "\n",
    "toes = [8.5, 9.5, 9.9, 9.0] # current average number of toes per team\n",
    "wlrec = [0.65, 0.8, 0.8, 0.9] # current games won (percent)\n",
    "nfans = [1.2, 1.3, 0.5, 1.0] # fan count (in millions)\n",
    "\n",
    "inputArray = [toes[0], wlrec[0], nfans[0]]\n",
    "\n",
    "prediction = neural_network(inputArray, weightsArray)\n",
    "\n",
    "print(\"Prediction = \" + str(prediction))"
   ]
  },
  {
   "cell_type": "markdown",
   "metadata": {},
   "source": [
    "## Elementwise Operations\n",
    "---\n",
    "Vector Math Challenge pg 31"
   ]
  },
  {
   "cell_type": "code",
   "execution_count": 59,
   "metadata": {
    "collapsed": false
   },
   "outputs": [],
   "source": [
    "def elementwise_multiplication(vector_a, vector_b):\n",
    "    products = []\n",
    "    \n",
    "    a_isList = isinstance(vector_a, list)\n",
    "    b_isList = isinstance(vector_b, list)\n",
    "    \n",
    "    if(a_isList and b_isList):\n",
    "        \n",
    "        assert(len(vector_a) == len(vector_b))\n",
    "\n",
    "        for i in range(len(vector_a)):\n",
    "            products.append(vector_a[i] * vector_b[i])\n",
    "\n",
    "        return products\n",
    "    \n",
    "    elif(b_isList):\n",
    "        \n",
    "        scalar = vector_a\n",
    "        \n",
    "        for i in range(len(vector_b)):\n",
    "            products.append(scalar * vector_b[i])\n",
    "            \n",
    "        return products\n",
    "    \n",
    "    elif(a_isList):\n",
    "        \n",
    "        scalar = vector_b\n",
    "        \n",
    "        for i in range(len(vector_a)):\n",
    "            products.append(scalar * vector_a[i])\n",
    "            \n",
    "        return products\n",
    "    \n",
    "    else:\n",
    "        products.append(vector_a * vector_b)\n",
    "        \n",
    "        return products\n",
    "\n",
    "def elementwise_addition(vector_a, vector_b):\n",
    "    sums = []\n",
    "    assert(len(vector_a) == len(vector_b))\n",
    "    \n",
    "    for i in range(len(vector_a)):\n",
    "        sums[i] = vector_a[i] + vector_b[i]\n",
    "        \n",
    "    return sums\n",
    "\n",
    "def vector_sum(vector):\n",
    "    sum = 0\n",
    "    \n",
    "    for i in range(len(vector)):\n",
    "        sum += vector[i]\n",
    "        \n",
    "    return sum\n",
    "\n",
    "def vector_average(vector):\n",
    "    sum = vector_sum(vector)\n",
    "    average = sum/len(vector)\n",
    "    \n",
    "    return average\n",
    "\n",
    "\n",
    "def dot_product(vector_a, vector_b):\n",
    "    return sum(elementwise_multiplication(vector_a, vector_b))"
   ]
  },
  {
   "cell_type": "markdown",
   "metadata": {},
   "source": [
    "## Multiple predictions one input\n",
    "--- \n",
    "pg 36"
   ]
  },
  {
   "cell_type": "code",
   "execution_count": 61,
   "metadata": {
    "collapsed": false
   },
   "outputs": [
    {
     "name": "stdout",
     "output_type": "stream",
     "text": [
      "[0.195, 0.13, 0.5850000000000001]\n"
     ]
    }
   ],
   "source": [
    "weightsArray = [0.3, 0.2, 0.9]\n",
    "wlrec = [0.65, 0.8, 0.8, 0.9]\n",
    "input = wlrec[0]\n",
    "\n",
    "def neural_network(input, weightsArray):\n",
    "    prediction = elementwise_multiplication(input, weightsArray)\n",
    "    \n",
    "    return prediction\n",
    "\n",
    "\n",
    "print(neural_network(input, weightsArray))\n"
   ]
  },
  {
   "cell_type": "markdown",
   "metadata": {},
   "source": [
    "## Predicting with multiple inputs and outputs\n",
    "---\n",
    "pg 38"
   ]
  },
  {
   "cell_type": "markdown",
   "metadata": {},
   "source": [
    "###### An empty network with mutiple inputs and outputs"
   ]
  },
  {
   "cell_type": "code",
   "execution_count": null,
   "metadata": {
    "collapsed": true
   },
   "outputs": [],
   "source": [
    "weights = [[0.1, 0.1, -0.3], #hurt?\n",
    "           [0.1, 0.2, 0.0], #win?\n",
    "           [0.0, 1.3, 0.1]] #sad?\n",
    "\n",
    "def neural_network(input, weights):\n",
    "    prediction = vec_mat_mult(input, weights)\n",
    "    \n",
    "    return prediction\n",
    "\n"
   ]
  },
  {
   "cell_type": "markdown",
   "metadata": {},
   "source": [
    "###### Inserting one input datapoint"
   ]
  },
  {
   "cell_type": "code",
   "execution_count": null,
   "metadata": {
    "collapsed": true
   },
   "outputs": [],
   "source": []
  }
 ],
 "metadata": {
  "anaconda-cloud": {},
  "hide_input": false,
  "kernelspec": {
   "display_name": "Python [conda root]",
   "language": "python",
   "name": "conda-root-py"
  },
  "language_info": {
   "codemirror_mode": {
    "name": "ipython",
    "version": 2
   },
   "file_extension": ".py",
   "mimetype": "text/x-python",
   "name": "python",
   "nbconvert_exporter": "python",
   "pygments_lexer": "ipython2",
   "version": "2.7.12"
  }
 },
 "nbformat": 4,
 "nbformat_minor": 1
}
